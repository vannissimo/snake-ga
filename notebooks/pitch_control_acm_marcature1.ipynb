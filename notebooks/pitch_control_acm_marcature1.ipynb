{
  "cells": [
    {
      "cell_type": "markdown",
      "metadata": {
        "id": "T0ZgPNEFFzTm"
      },
      "source": [
        "**PER INSTALLARE PYSPARK**"
      ]
    },
    {
      "cell_type": "code",
      "execution_count": 1,
      "metadata": {
        "id": "hHsAve54FhwQ"
      },
      "outputs": [],
      "source": [
        "!apt-get install openjdk-8-jdk-headless -qq > /dev/null\n",
        "!wget -q https://archive.apache.org/dist/spark/spark-3.0.0/spark-3.0.0-bin-hadoop3.2.tgz\n",
        "!tar xf spark-3.0.0-bin-hadoop3.2.tgz"
      ]
    },
    {
      "cell_type": "code",
      "execution_count": 2,
      "metadata": {
        "id": "8Frfl9BXFy8t"
      },
      "outputs": [],
      "source": [
        "import os\n",
        "os.environ[\"JAVA_HOME\"] = \"/usr/lib/jvm/java-8-openjdk-amd64\"\n",
        "os.environ[\"SPARK_HOME\"] = \"/content/spark-3.0.0-bin-hadoop3.2\"\n",
        "# install findspark using pip\n",
        "!pip install -q findspark"
      ]
    },
    {
      "cell_type": "code",
      "execution_count": 3,
      "metadata": {
        "id": "X4HueJTKXcO8"
      },
      "outputs": [],
      "source": [
        "#!pip install pyspark -q\n",
        "#import pyspark"
      ]
    },
    {
      "cell_type": "code",
      "execution_count": 4,
      "metadata": {
        "id": "Dt6mdttWGDxl"
      },
      "outputs": [],
      "source": [
        "import findspark\n",
        "findspark.init()"
      ]
    },
    {
      "cell_type": "code",
      "execution_count": 5,
      "metadata": {
        "id": "riV_rLRzGEsU"
      },
      "outputs": [],
      "source": [
        "from pyspark.sql import SparkSession\n",
        "\n",
        "spark = SparkSession.builder\\\n",
        "        .master(\"local\")\\\n",
        "        .appName(\"Colab\")\\\n",
        "        .config('spark.ui.port', '4050')\\\n",
        "        .getOrCreate()"
      ]
    },
    {
      "cell_type": "code",
      "execution_count": 6,
      "metadata": {
        "colab": {
          "base_uri": "https://localhost:8080/"
        },
        "id": "rmAWdI4SGm8v",
        "outputId": "656231b4-cc14-4586-cd26-cb176906f713"
      },
      "outputs": [
        {
          "output_type": "stream",
          "name": "stdout",
          "text": [
            "Drive already mounted at /content/drive; to attempt to forcibly remount, call drive.mount(\"/content/drive\", force_remount=True).\n"
          ]
        }
      ],
      "source": [
        "# mount your drive\n",
        "from google.colab import drive\n",
        "drive.mount('/content/drive')"
      ]
    },
    {
      "cell_type": "code",
      "execution_count": 7,
      "metadata": {
        "id": "5tE8nsMnIHZl"
      },
      "outputs": [],
      "source": [
        "from pyspark.sql import functions as func\n",
        "from pyspark.sql.types import IntegerType, DoubleType\n",
        "from pyspark.sql.functions import concat,col,lit,desc, initcap\n",
        "from operator import itemgetter\n",
        "import numpy as np\n",
        "import itertools \n",
        "from bisect import bisect\n",
        "import pandas as pd\n"
      ]
    },
    {
      "cell_type": "code",
      "execution_count": 8,
      "metadata": {
        "id": "9QhkYKefGd7n"
      },
      "outputs": [],
      "source": [
        "# loading data as parquet\n",
        "pre_data_players = spark.read.parquet(\"/content/drive/MyDrive/Colab Notebooks/FootballDataAnalysis/data/Milan-Cagliari/parquet/frames_milan_cagliari.parquet\").drop('index')\n",
        "pre_events = spark.read.parquet(\"/content/drive/MyDrive/Colab Notebooks/FootballDataAnalysis/data/Milan-Cagliari/parquet/f24_opta_milan_cagliari.parquet\").drop('index')"
      ]
    },
    {
      "cell_type": "code",
      "execution_count": 9,
      "metadata": {
        "colab": {
          "base_uri": "https://localhost:8080/"
        },
        "id": "bprQLyHgJUFu",
        "outputId": "5c5df80a-f9f2-4078-e8ff-0fde21423c6b"
      },
      "outputs": [
        {
          "output_type": "stream",
          "name": "stdout",
          "text": [
            "+---------+----------+---------+------+----------+-----------+-------+---------+---------+--------------------+----------+-------------+\n",
            "|      Vel|         x|        y|  Time|    player|       half|team_id|team_name|player_id|        italian_name|  position|real_position|\n",
            "+---------+----------+---------+------+----------+-----------+-------+---------+---------+--------------------+----------+-------------+\n",
            "|      0.0|       0.9|     33.2|5594.5|Castillejo|second half|   t120|    Milan|  p193449|samuel castillejo...|Midfielder|       Winger|\n",
            "| 2.022165|0.83794284|     32.8|5594.7|Castillejo|second half|   t120|    Milan|  p193449|samuel castillejo...|Midfielder|       Winger|\n",
            "|2.2488973|       0.8|32.578335|5594.8|Castillejo|second half|   t120|    Milan|  p193449|samuel castillejo...|Midfielder|       Winger|\n",
            "+---------+----------+---------+------+----------+-----------+-------+---------+---------+--------------------+----------+-------------+\n",
            "only showing top 3 rows\n",
            "\n"
          ]
        }
      ],
      "source": [
        "# visualize frames\n",
        "pre_data_players.show(3)"
      ]
    },
    {
      "cell_type": "code",
      "execution_count": 10,
      "metadata": {
        "id": "MY36xdRoGHqe",
        "colab": {
          "base_uri": "https://localhost:8080/"
        },
        "outputId": "5509a114-4864-44e2-d033-1dfb7b291867"
      },
      "outputs": [
        {
          "output_type": "stream",
          "name": "stdout",
          "text": [
            "+--------+-------+---------+---+---+-------+----------+----+----+---------+-------+--------------------+---------+------+----------+------------------+\n",
            "|event_id|type_id|period_id|min|sec|team_id|   outcome|   x|   y|player_id|keypass|           type_name|team_name|player|  position|     real_position|\n",
            "+--------+-------+---------+---+---+-------+----------+----+----+---------+-------+--------------------+---------+------+----------+------------------+\n",
            "|       1|     34|       16|  0|  0|   t120|Successful| 0.0| 0.0|     None|   null|Team Set Up Succe...|     null|  null|      null|              null|\n",
            "|       1|     34|       16|  0|  0|   t124|Successful| 0.0| 0.0|     None|   null|Team Set Up Succe...|     null|  null|      null|              null|\n",
            "|       2|     32|        1|  0|  0|   t120|Successful| 0.0| 0.0|     None|   null|    Start Successful|     null|  null|      null|              null|\n",
            "|       2|     32|        1|  0|  0|   t124|Successful| 0.0| 0.0|     None|   null|    Start Successful|     null|  null|      null|              null|\n",
            "|       3|      1|        1|  0|  0|   t124|Successful|50.0|50.0|  p163632|   null|     Pass Successful| Cagliari| Marin|Midfielder|Central Midfielder|\n",
            "+--------+-------+---------+---+---+-------+----------+----+----+---------+-------+--------------------+---------+------+----------+------------------+\n",
            "only showing top 5 rows\n",
            "\n"
          ]
        }
      ],
      "source": [
        "# visualize f24\n",
        "pre_events.show(5)"
      ]
    },
    {
      "cell_type": "code",
      "execution_count": 11,
      "metadata": {
        "id": "gXIcSsDREjRC"
      },
      "outputs": [],
      "source": [
        "#create parameters input boxes \n",
        "team = 'milan'\n",
        "opponent = 'cagliari'\n",
        "half = 'first half'\n",
        "dict_half = {'first half':1,'second half':2}\n",
        "half_split = '2'\n",
        "player_in_possess = 'all'\n",
        "offset_giocatori_eventi = {'cagliari':-2}\n",
        "\n",
        "match_name = 'Milan-Cagliari'\n",
        "team_a = match_name.split('-')[0].lower()\n",
        "team_b = match_name.split('-')[1].lower()\n",
        "\n",
        "if opponent == 'milan':\n",
        "  opponent_f = team_b\n",
        "else:\n",
        "  opponent_f = opponent\n",
        "  \n",
        "events_to_consider = ['Ball Recovery Successful','Blocked Pass Successful','Interception Successful','Tackle Successful']"
      ]
    },
    {
      "cell_type": "code",
      "execution_count": 19,
      "metadata": {
        "id": "jL0miPNwEjRJ"
      },
      "outputs": [],
      "source": [
        "# FILTRIAMO IL TEMPO DI GIOCO\n",
        "\n",
        "pre_data_players = pre_data_players.withColumnRenamed('Time','time')\n",
        "pre_data_players = pre_data_players.withColumn('time', (pre_data_players['time']+offset_giocatori_eventi[opponent]).cast(DoubleType()))\n",
        "\n",
        "pre_events_time = pre_events.withColumn('time', 60*pre_events['min']+pre_events['sec'])\n",
        "pre_events_time = pre_events_time[pre_events_time['period_id'] == str(dict_half[half])]\n",
        "max_times = pre_events_time.groupby('period_id').agg(func.min('time'),func.max('time'))\n",
        "\n",
        "min_half_time = max_times.head()['min(time)']\n",
        "max_half_time = max_times.head()['max(time)']\n",
        "\n",
        "if half_split == '1':\n",
        "  data_players = pre_data_players.where((pre_data_players['time'] > min_half_time) & (pre_data_players['time'] <= min_half_time+float((max_half_time-min_half_time)/2.0)))\n",
        "  ppp_events = pre_events_time.where((pre_events_time['time'] > min_half_time) & (pre_events_time['time'] <= min_half_time+float((max_half_time-min_half_time)/2.0)))\n",
        "  \n",
        "elif half_split == '2':\n",
        "  data_players = pre_data_players.where((pre_data_players['time'] > min_half_time+float((max_half_time-min_half_time)/2.0)) & (pre_data_players['time'] < max_half_time))\n",
        "  ppp_events = pre_events_time.where((pre_events_time['time'] > min_half_time+float((max_half_time-min_half_time)/2.0)) & (pre_events_time['time'] < max_half_time))"
      ]
    },
    {
      "cell_type": "code",
      "source": [
        "pre_events_time.show(3), ppp_events.show(3)"
      ],
      "metadata": {
        "id": "3uM5MzO9sKDA",
        "outputId": "b7fcd4d6-55f2-4b41-af52-a04bd500f1b6",
        "colab": {
          "base_uri": "https://localhost:8080/"
        }
      },
      "execution_count": 20,
      "outputs": [
        {
          "output_type": "stream",
          "name": "stdout",
          "text": [
            "+--------+-------+---------+---+---+-------+----------+----+----+---------+-------+----------------+---------+------+----------+------------------+----+\n",
            "|event_id|type_id|period_id|min|sec|team_id|   outcome|   x|   y|player_id|keypass|       type_name|team_name|player|  position|     real_position|time|\n",
            "+--------+-------+---------+---+---+-------+----------+----+----+---------+-------+----------------+---------+------+----------+------------------+----+\n",
            "|       2|     32|        1|  0|  0|   t120|Successful| 0.0| 0.0|     None|   null|Start Successful|     null|  null|      null|              null|   0|\n",
            "|       2|     32|        1|  0|  0|   t124|Successful| 0.0| 0.0|     None|   null|Start Successful|     null|  null|      null|              null|   0|\n",
            "|       3|      1|        1|  0|  0|   t124|Successful|50.0|50.0|  p163632|   null| Pass Successful| Cagliari| Marin|Midfielder|Central Midfielder|   0|\n",
            "+--------+-------+---------+---+---+-------+----------+----+----+---------+-------+----------------+---------+------+----------+------------------+----+\n",
            "only showing top 3 rows\n",
            "\n",
            "+--------+-------+---------+---+---+-------+------------+----+----+---------+-------+--------------------+---------+---------+--------+----------------+----+\n",
            "|event_id|type_id|period_id|min|sec|team_id|     outcome|   x|   y|player_id|keypass|           type_name|team_name|   player|position|   real_position|time|\n",
            "+--------+-------+---------+---+---+-------+------------+----+----+---------+-------+--------------------+---------+---------+--------+----------------+----+\n",
            "|     176|      1|        1| 23| 28|   t124|Unsuccessful|52.8|83.6|  p501395|   null|   Pass Unsuccessful| Cagliari|  Carboni|Defender|Central Defender|1408|\n",
            "|     219|     49|        1| 23| 30|   t120|  Successful|31.6|73.1|  p222784|   null|Ball Recovery Suc...|    Milan|Hernandez|Defender|       Full Back|1410|\n",
            "|     220|      1|        1| 23| 33|   t120|  Successful|44.3|53.4|  p222784|   null|     Pass Successful|    Milan|Hernandez|Defender|       Full Back|1413|\n",
            "+--------+-------+---------+---+---+-------+------------+----+----+---------+-------+--------------------+---------+---------+--------+----------------+----+\n",
            "only showing top 3 rows\n",
            "\n"
          ]
        },
        {
          "output_type": "execute_result",
          "data": {
            "text/plain": [
              "(None, None)"
            ]
          },
          "metadata": {},
          "execution_count": 20
        }
      ]
    },
    {
      "cell_type": "code",
      "execution_count": 13,
      "metadata": {
        "id": "94lTHwcBBRwa"
      },
      "outputs": [],
      "source": [
        "ppp_events = ppp_events.withColumn('x', (ppp_events['x']*(112/100))-56.0).withColumn('y', (ppp_events['y']*(76/100))-38.0)"
      ]
    },
    {
      "cell_type": "code",
      "execution_count": 14,
      "metadata": {
        "colab": {
          "base_uri": "https://localhost:8080/"
        },
        "id": "Yy-B4Q0z_rNc",
        "outputId": "054c9964-dcfe-4799-a317-ced90e7770da"
      },
      "outputs": [
        {
          "output_type": "stream",
          "name": "stdout",
          "text": [
            "+------+------+------+------+------+------+\n",
            "|min(x)|avg(x)|max(x)|min(y)|avg(y)|max(y)|\n",
            "+------+------+------+------+------+------+\n",
            "|  null|  null|  null|  null|  null|  null|\n",
            "+------+------+------+------+------+------+\n",
            "\n"
          ]
        }
      ],
      "source": [
        "ppp_events.agg(func.min('x'),func.avg('x'),func.max('x'),func.min('y'),func.avg('y'),func.max('y')).show(10)"
      ]
    },
    {
      "cell_type": "code",
      "execution_count": 15,
      "metadata": {
        "colab": {
          "base_uri": "https://localhost:8080/"
        },
        "id": "wG293lZIA5s1",
        "outputId": "d73b74ed-998f-4db3-f54d-df848e68e6b3"
      },
      "outputs": [
        {
          "output_type": "stream",
          "name": "stdout",
          "text": [
            "+--------+-------+---------+---+---+-------+-------+---+---+---------+-------+---------+---------+------+--------+-------------+----+\n",
            "|event_id|type_id|period_id|min|sec|team_id|outcome|  x|  y|player_id|keypass|type_name|team_name|player|position|real_position|time|\n",
            "+--------+-------+---------+---+---+-------+-------+---+---+---------+-------+---------+---------+------+--------+-------------+----+\n",
            "+--------+-------+---------+---+---+-------+-------+---+---+---------+-------+---------+---------+------+--------+-------------+----+\n",
            "\n"
          ]
        }
      ],
      "source": [
        "ppp_events.where(ppp_events['x'] < -52).show()"
      ]
    },
    {
      "cell_type": "code",
      "execution_count": 16,
      "metadata": {
        "id": "qIV8uBSF_2mr",
        "colab": {
          "base_uri": "https://localhost:8080/"
        },
        "outputId": "92a62260-69d4-4527-c2e1-49d49d22787a"
      },
      "outputs": [
        {
          "output_type": "stream",
          "name": "stdout",
          "text": [
            "+------+------+------+------+------+------+\n",
            "|min(x)|avg(x)|max(x)|min(y)|avg(y)|max(y)|\n",
            "+------+------+------+------+------+------+\n",
            "|  null|  null|  null|  null|  null|  null|\n",
            "+------+------+------+------+------+------+\n",
            "\n"
          ]
        }
      ],
      "source": [
        "data_players.agg(func.min('x'),func.avg('x'),func.max('x'),func.min('y'),func.avg('y'),func.max('y')).show(10)"
      ]
    },
    {
      "cell_type": "code",
      "execution_count": 69,
      "metadata": {
        "id": "2Q8ygw40EjRL",
        "colab": {
          "base_uri": "https://localhost:8080/",
          "height": 276
        },
        "outputId": "20ee1de2-e71d-49e1-9456-eca67f1c45f4"
      },
      "outputs": [
        {
          "output_type": "error",
          "ename": "TypeError",
          "evalue": "ignored",
          "traceback": [
            "\u001b[0;31m---------------------------------------------------------------------------\u001b[0m",
            "\u001b[0;31mTypeError\u001b[0m                                 Traceback (most recent call last)",
            "\u001b[0;32m<ipython-input-69-396bacdc4a39>\u001b[0m in \u001b[0;36m<module>\u001b[0;34m()\u001b[0m\n\u001b[1;32m      1\u001b[0m team_goalie = data_players.where((data_players['team_name'] == team.title()) & (\n\u001b[1;32m      2\u001b[0m     data_players['position'] == 'Goalkeeper')).groupBy('player').avg('x')\n\u001b[0;32m----> 3\u001b[0;31m \u001b[0mteam_goalie_x\u001b[0m \u001b[0;34m=\u001b[0m \u001b[0mteam_goalie\u001b[0m\u001b[0;34m.\u001b[0m\u001b[0mhead\u001b[0m\u001b[0;34m(\u001b[0m\u001b[0;34m)\u001b[0m\u001b[0;34m[\u001b[0m\u001b[0;34m'avg(x)'\u001b[0m\u001b[0;34m]\u001b[0m\u001b[0;34m\u001b[0m\u001b[0;34m\u001b[0m\u001b[0m\n\u001b[0m\u001b[1;32m      4\u001b[0m \u001b[0;34m\u001b[0m\u001b[0m\n\u001b[1;32m      5\u001b[0m \u001b[0mfloat\u001b[0m\u001b[0;34m(\u001b[0m\u001b[0mteam_goalie_x\u001b[0m\u001b[0;34m)\u001b[0m\u001b[0;34m\u001b[0m\u001b[0;34m\u001b[0m\u001b[0m\n",
            "\u001b[0;31mTypeError\u001b[0m: 'NoneType' object is not subscriptable"
          ]
        }
      ],
      "source": [
        "team_goalie = data_players.where((data_players['team_name'] == team.title()) & (\n",
        "    data_players['position'] == 'Goalkeeper')).groupBy('player').avg('x')\n",
        "team_goalie_x = team_goalie.head()['avg(x)']\n",
        "\n",
        "float(team_goalie_x)"
      ]
    },
    {
      "cell_type": "code",
      "execution_count": null,
      "metadata": {
        "id": "7RjcwgkKEjRL"
      },
      "outputs": [],
      "source": [
        "\n",
        "p_events = ppp_events.withColumn('_event_id',ppp_events['event_id'].cast(IntegerType())).orderBy('time').drop('event_id')\n",
        "\n",
        "#ball_recovery_events = p_events.where(p_events['team_id'] == 't120').where(p_events['type_name'].isin(events_to_consider))\n",
        "\n",
        "if team_goalie_x > 0:\n",
        "  ball_lost_events = p_events.where(p_events['team_name'] != team.title()).where(p_events['type_name'].isin(events_to_consider)).where(p_events['x'] <= 0)\n",
        "  verse = 'right_to_left'\n",
        "  opponent_verse = 'left_to_right'\n",
        "else:\n",
        "  ball_lost_events = p_events.where(p_events['team_name'] != team.title()).where(p_events['type_name'].isin(events_to_consider)).where(p_events['x'] > 0)\n",
        "  opponent_verse = 'right_to_left'\n",
        "  verse = 'left_to_right'\n",
        "  \n"
      ]
    },
    {
      "cell_type": "code",
      "execution_count": null,
      "metadata": {
        "id": "A8hODsj2ffU9"
      },
      "outputs": [],
      "source": [
        "verse"
      ]
    },
    {
      "cell_type": "code",
      "execution_count": null,
      "metadata": {
        "id": "oJ89ftReEjRM"
      },
      "outputs": [],
      "source": [
        "def aaa(x,panda):\n",
        "  \n",
        "  try:\n",
        "    panda_pre = sorted(panda[panda['time'] > x[time_index]-10.0][panda['time'] < x[time_index]][panda['team_name'] != team.title()][['time','team_id','_event_id','player_id','type_name']].values.tolist())[-1]\n",
        "  except:\n",
        "    panda_pre = [0.0,'','','','']\n",
        "    \n",
        "  try:\n",
        "    panda_time = panda[panda['type_name'].isin(events_to_consider)][panda['time'] == int(x[time_index])][panda['team_name'] != team.title()][['time','team_id','_event_id','player_id','type_name']].values.tolist()[0]\n",
        "  except:\n",
        "    panda_time = [0.0,'','','','']\n",
        "    \n",
        "  try:\n",
        "    panda_post = sorted(panda[(panda['type_name'].isin(events_to_consider)) == False][panda['time'] >= x[time_index]][panda['time'] <= x[time_index]+10.0][panda['team_name'] != team.title()][['time','team_id','_event_id','player_id','type_name']].values.tolist())[0]\n",
        "  except:\n",
        "    panda_post = [0.0,'','','','']\n",
        "\n",
        "  return panda_pre,panda_time,panda_post\n",
        "\n",
        "ball_lost_events_rdd = ball_lost_events.rdd\n",
        "panda_events = p_events.toPandas()\n",
        "\n",
        "event_index = ball_lost_events.columns.index('_event_id')\n",
        "time_index = ball_lost_events.columns.index('time')\n",
        "\n",
        "pre_pre_pre_determined_timings = ball_lost_events_rdd.map(lambda g : aaa(g,panda_events))\n",
        "\n",
        "pre_pre_determined_timings = pre_pre_pre_determined_timings.filter(lambda a : (('Successful' in str(a[2][-1])) and (str(a[2][-1]) != 'Ball Touch Successful')) or (str(a[2][-1]) == 'Pass Unsuccessful')).map(lambda a : float(np.round(a[1][0],1))).take(1000)\n",
        "\n",
        "pre_determined_timings = list(dict.fromkeys(pre_pre_determined_timings))\n",
        "\n",
        "for j in pre_determined_timings:\n",
        "  for k in list(np.arange(j+1.0,j+7.0,1.0)):\n",
        "    if k in pre_determined_timings:\n",
        "      pre_determined_timings.remove(k)        \n",
        "      \n",
        "pre_pre_pre_determined_timings.take(1000), pre_determined_timings"
      ]
    },
    {
      "cell_type": "code",
      "execution_count": null,
      "metadata": {
        "id": "jEgkg7MXEjRN"
      },
      "outputs": [],
      "source": [
        "events = ball_lost_events.where(ball_lost_events['time'].isin(pre_determined_timings))\n",
        "#events = events.withColumn('x', (events['x']*(105/100))-52.5).withColumn('y', (events['y']*(68/100)-34.0))\n",
        "events.agg(func.avg('x'),func.avg('y')).show(10)"
      ]
    },
    {
      "cell_type": "code",
      "execution_count": null,
      "metadata": {
        "id": "5jmDS7-eEjRP"
      },
      "outputs": [],
      "source": [
        "team_a_lower = team_a.lower()\n",
        "granularity = 0.5\n",
        "max_ball_distance = 70.0\n",
        "max_meters_distance_player_can_receive_ball = 30.0\n",
        "opponent_lower = opponent.lower()"
      ]
    },
    {
      "cell_type": "code",
      "execution_count": null,
      "metadata": {
        "id": "I-r6KVtxU_7f"
      },
      "outputs": [],
      "source": [
        "team_a_lower, opponent_lower"
      ]
    },
    {
      "cell_type": "code",
      "execution_count": null,
      "metadata": {
        "id": "lZV2hFT5EjRQ"
      },
      "outputs": [],
      "source": [
        "def slopeFuzzyCompare(slope_pre,slope_post):\n",
        "  \n",
        "  try:\n",
        "    if float(np.abs(slope_pre-slope_post))>8.0:\n",
        "      return 16 - float(np.abs(slope_pre-slope_post))\n",
        "    else:\n",
        "      return float(np.abs(slope_pre-slope_post))\n",
        "  except:\n",
        "    return 9.0\n",
        "  \n",
        "def ifHigherThanLimit(a,limit,maxMinFlag,offSideFlag):\n",
        "  \n",
        "  if offSideFlag == 'off-side':\n",
        "    return 0.0\n",
        "  else:\n",
        "    if maxMinFlag == 'max':\n",
        "      return float(np.min([limit,a]))\n",
        "    elif maxMinFlag == 'min':\n",
        "      return float(np.max([limit,a]))\n",
        "\n",
        "def computeTime(current_speed, speed_threshold, acceleration_threshold, slopeCompare, distance):\n",
        "  \n",
        "    #going straight or slightly curving should not have an impact or reaction time\n",
        "    #float(slopeCompare/8.0) means that if the player has to go in the completely opposite direction it will take 1 second longer than going straight (highest slopeCompare value is 8)\n",
        "    reaction_distance = current_speed*0.7*(float(slopeCompare/8.0))\n",
        "    real_distance = distance + reaction_distance\n",
        "    \n",
        "    time = float(real_distance)/float(speed_threshold)\n",
        "    \n",
        "    return time,reaction_distance\n",
        "\n",
        "def verifyIfOffSide(playerData, offSideLine):\n",
        "  \n",
        "  player_team = playerData[2]\n",
        "  try:\n",
        "    offSideLine = list(filter(lambda a : a[1] != player_team, offSideLine))[0]\n",
        "\n",
        "    if offSideLine[-1] == 'left_to_right' and playerData[3] < offSideLine[2]:\n",
        "      return 'off-side'\n",
        "    elif offSideLine[-1] == 'right_to_left' and playerData[3] > offSideLine[2]:\n",
        "      return 'off-side'\n",
        "    else:\n",
        "      return ''\n",
        "  except:\n",
        "    return ''"
      ]
    },
    {
      "cell_type": "code",
      "execution_count": null,
      "metadata": {
        "id": "_UP4hHUGEjRQ"
      },
      "outputs": [],
      "source": [
        "pre_data = data_players.withColumn('speed', data_players['Vel'].cast(DoubleType())).withColumn('x', data_players['x'].cast(DoubleType())).withColumn('y', data_players['y'].cast(DoubleType())).drop('Vel')\n",
        "pre_data = pre_data.where(pre_data['player'] != 'ball').withColumnRenamed('player_a','player_id')\n",
        "\n",
        "pre_players_bis = pre_data.withColumnRenamed('speed','smoothed_speed')\n",
        "\n",
        "pre_players_bis.show(4)"
      ]
    },
    {
      "cell_type": "code",
      "execution_count": null,
      "metadata": {
        "id": "1-AFKV14EjRS"
      },
      "outputs": [],
      "source": [
        "x_loc = list(np.arange(-55.0,55.0,1.0))\n",
        "y_loc = list(np.arange(-37.0,37.0,1.0))"
      ]
    },
    {
      "cell_type": "code",
      "execution_count": null,
      "metadata": {
        "id": "QVteP54GEjRS"
      },
      "outputs": [],
      "source": [
        "df_players_no_out = pre_players_bis.withColumn('smoothed_acceleration', lit(0.0)).select('player','time','team_name','x','y','smoothed_speed','smoothed_acceleration')"
      ]
    },
    {
      "cell_type": "code",
      "execution_count": null,
      "metadata": {
        "id": "BbWavAZaEjRT"
      },
      "outputs": [],
      "source": [
        "pd_locs = df_players_no_out.where(pre_players_bis['time'].isin(pre_determined_timings)).toPandas()"
      ]
    },
    {
      "cell_type": "code",
      "execution_count": null,
      "metadata": {
        "id": "96VUwqXQEjRU"
      },
      "outputs": [],
      "source": [
        "# aggiungere il campo Nome Giocatore e Nome Squadra \n",
        "team_a_passes_pivot = events.select('time','x', 'y', 'team_id', 'player')\n",
        "team_a_passes_pivot = team_a_passes_pivot.withColumnRenamed('x','start_x').withColumnRenamed('y','start_y').withColumnRenamed('player','player_a').withColumnRenamed('team_name','team')\n",
        "\n",
        "team_a_passes_pivot.show(4)"
      ]
    },
    {
      "cell_type": "code",
      "execution_count": null,
      "metadata": {
        "id": "-pvTNOvmEjRU"
      },
      "outputs": [],
      "source": [
        "timings_rdd = spark.sparkContext.parallelize(pre_determined_timings)\n",
        "timings_rdd.take(10)"
      ]
    },
    {
      "cell_type": "code",
      "execution_count": null,
      "metadata": {
        "id": "y0_BPt0UEjRV"
      },
      "outputs": [],
      "source": [
        "panda_out = df_players_no_out.orderBy('time').toPandas()\n",
        "\n",
        "panda_out"
      ]
    },
    {
      "cell_type": "code",
      "execution_count": null,
      "metadata": {
        "id": "8UdGZgZlEjRV"
      },
      "outputs": [],
      "source": [
        "players_list = list(map(lambda d : d[0], df_players_no_out.select('player').distinct().collect()))\n",
        "\n",
        "team_players_list = list(map(lambda d : d[0], df_players_no_out.where(df_players_no_out['team_name'] != team.title()).select('player').distinct().collect()))\n",
        "\n",
        "players_list, team_players_list"
      ]
    },
    {
      "cell_type": "code",
      "execution_count": null,
      "metadata": {
        "id": "q_RK4BKbEjRW"
      },
      "outputs": [],
      "source": [
        "def findIfOffside(opponents_x,team,player_x,verse):\n",
        "  \n",
        "  if str(team) == str(opponent.title()):\n",
        "    if verse == 'left_to_right':\n",
        "      if player_x > opponents_x[-2]:\n",
        "        return 'off-side'\n",
        "      else:\n",
        "        return ''\n",
        "    else:\n",
        "      if player_x < opponents_x[1]:\n",
        "        return 'off-side'\n",
        "      else:\n",
        "        return ''     \n",
        "  else:\n",
        "    return ''\n",
        "  \n",
        "def fillInfos(t,panda):\n",
        "  \n",
        "  obs = []\n",
        "  opponents_x_s = sorted(panda[panda['team_name'] == 'Milan'][panda['time'] == t]['x'].values.tolist())\n",
        "  \n",
        "  for p in players_list:\n",
        "    pt = panda[panda['player'] == p][panda['time'] == t].values.tolist()\n",
        "    pre_pt = panda[panda['player'] == p][panda['time'] < t][['x','y']].values.tolist()\n",
        "    if len(pt) > 0:\n",
        "      try:\n",
        "        pre_pt = panda[panda['player'] == p][panda['time'] < t][['x','y']].values.tolist()[-1]\n",
        "        obs.append(pt[0]+pre_pt+[findIfOffside(opponents_x_s,pt[0][2],pt[0][3],opponent_verse)])\n",
        "      except:\n",
        "        pass\n",
        "    else:\n",
        "      try:\n",
        "        pre_value = panda[panda['player'] == p][panda['time'] < t].values.tolist()[-1]\n",
        "        post_value = panda[panda['player'] == p][panda['time'] > t].values.tolist()[0]\n",
        "        percentage_of_t_wrt_pre_post = float(t-pre_value[1])/float(post_value[1]-pre_value[1])\n",
        "        percentage_of_pre_t_wrt_pre_post = float(t-0.5-pre_value[1])/float(post_value[1]-pre_value[1])\n",
        "        new_x = pre_value[3]+(percentage_of_t_wrt_pre_post*(float(post_value[3]-pre_value[3])))\n",
        "        new_y = pre_value[4]+(percentage_of_t_wrt_pre_post*(float(post_value[4]-pre_value[4])))\n",
        "        new_speed = pre_value[5]+(percentage_of_t_wrt_pre_post*(float(post_value[5]-pre_value[5])))\n",
        "        new_pre_x = pre_value[3]+(percentage_of_pre_t_wrt_pre_post*(float(post_value[3]-pre_value[3])))\n",
        "        new_pre_y = pre_value[4]+(percentage_of_pre_t_wrt_pre_post*(float(post_value[4]-pre_value[4])))\n",
        "        obs.append([p,t,pre_value[2],new_x,new_y,new_speed,0.0,new_pre_x,new_pre_y,findIfOffside(opponents_x_s,pre_value[2],new_x,verse)])\n",
        "      except:\n",
        "        pass\n",
        "      \n",
        "  return obs\n",
        "  \n",
        "case_ = spark.createDataFrame(timings_rdd.flatMap(lambda a : fillInfos(a,panda_out)), df_players_no_out.columns+['pre_x','pre_y','offside_flag'])\n",
        "\n",
        "case_.where(case_['offside_flag'] != '').orderBy('time').show(5)"
      ]
    },
    {
      "cell_type": "code",
      "execution_count": null,
      "metadata": {
        "id": "DHryfkqdEjRX"
      },
      "outputs": [],
      "source": [
        "pd_ball_gapped = team_a_passes_pivot.select('time','player_a','start_x','start_y').withColumnRenamed('start_x','x').withColumnRenamed('start_y','y').toPandas()\n",
        "\n",
        "pd_ball_gapped[pd_ball_gapped['time'].isin(pre_determined_timings)]"
      ]
    },
    {
      "cell_type": "code",
      "execution_count": null,
      "metadata": {
        "id": "34d87rGIEjRY"
      },
      "outputs": [],
      "source": [
        "pre_case = case_.withColumn('slope', (case_['y']-case_['pre_y'])/(case_['x']-case_['pre_x']))\n",
        "pre_case_s = pre_case.withColumn('x_spread', pre_case['x']-pre_case['pre_x'])\n",
        "pre_case_s = pre_case_s.withColumnRenamed('player','player_id').withColumnRenamed('team_name','team')\n",
        "\n",
        "pre_case_ss = pre_case_s.select('player_id','time','team','x','y','smoothed_speed','smoothed_acceleration','pre_x','pre_y','offside_flag','slope','x_spread')"
      ]
    },
    {
      "cell_type": "markdown",
      "metadata": {
        "id": "oR01OQdfdM__"
      },
      "source": [
        ""
      ]
    },
    {
      "cell_type": "code",
      "execution_count": null,
      "metadata": {
        "id": "p0fGgwTIEjRY"
      },
      "outputs": [],
      "source": [
        "bisectList = [-2.4142,-1,-0.4142,0,0.4142,1,2.4142]\n",
        "\n",
        "def slopeFuzzy(slope,x_spread,bisectList):\n",
        "  \n",
        "  try:\n",
        "    slope_index = float(bisect(bisectList,slope))+5.0\n",
        "\n",
        "    if x_spread > 0:\n",
        "      sign = np.sign(8.1-slope_index)\n",
        "      return float(slope_index)+float(sign)*8.0\n",
        "    else:\n",
        "      return slope_index\n",
        "  except:\n",
        "    return 0\n",
        "  \n",
        "slope_index = pre_case_ss.columns.index('slope')\n",
        "x_spread_index = pre_case_ss.columns.index('x_spread')\n",
        "\n",
        "case = spark.createDataFrame(pre_case_ss.rdd.map(lambda a : [str(a[0]).replace('_',' ')]+list(a[1:])+[slopeFuzzy(a[slope_index],a[x_spread_index],bisectList)]),pre_case_ss.columns+['slope_fuzzy']).orderBy('time')"
      ]
    },
    {
      "cell_type": "code",
      "source": [
        "case.head()"
      ],
      "metadata": {
        "id": "L25rKP_V0puW"
      },
      "execution_count": null,
      "outputs": []
    },
    {
      "cell_type": "code",
      "execution_count": null,
      "metadata": {
        "id": "NuGnUx_zEjRY"
      },
      "outputs": [],
      "source": [
        "time_xy_list = [pre_determined_timings,x_loc,y_loc]\n",
        "\n",
        "timings_locs_rdd = spark.sparkContext.parallelize(list(itertools.product(*time_xy_list)))\n",
        "\n",
        "timings_locs_rdd.take(1)[0]"
      ]
    },
    {
      "cell_type": "code",
      "execution_count": null,
      "metadata": {
        "id": "xw971gBPEjRZ"
      },
      "outputs": [],
      "source": [
        "panda_to_use = case.toPandas()"
      ]
    },
    {
      "cell_type": "code",
      "execution_count": null,
      "metadata": {
        "id": "JooFGM8VEjRZ"
      },
      "outputs": [],
      "source": [
        "def addLocs(time,x,y,pandaBall,pandaPlayers):\n",
        "  \n",
        "  try:\n",
        "    x_ball,y_ball = pandaBall[pandaBall['time'] == float(time)][['x','y']].values.tolist()[0]\n",
        "\n",
        "    players_f = pandaPlayers[pandaPlayers['time'] == float(time)][pandaPlayers['offside_flag'] == ''].values.tolist()\n",
        "\n",
        "    out = []\n",
        "\n",
        "    results = []\n",
        "    for a in players_f:\n",
        "      slope_target = float(y-a[4])/float(x-a[3])\n",
        "      distance = float(np.sqrt(float((y-a[4])**2)+float((x-a[3])**2)))\n",
        "      slope_target_fuzzy = slopeFuzzy(slope_target,x-a[3],bisectList)\n",
        "      slope_fuzzy = a[-1]\n",
        "      slope_compare = slopeFuzzyCompare(slope_fuzzy,slope_target_fuzzy)\n",
        "      player_time, reaction_distance = computeTime(a[5],6.0,7.0,slope_compare,distance)\n",
        "      ball_distance = float(np.sqrt((x_ball-x)**2 + (y_ball-y)**2))\n",
        "      ball_time = ball_distance/15.0\n",
        "      results.append([float(x),float(y),x_ball,y_ball,distance,slope_compare,slope_target_fuzzy,slope_compare,ball_distance,ball_time,player_time,reaction_distance,ball_time - player_time,a[-4],slope_fuzzy]+list(a[:6]))  \n",
        "      try:\n",
        "        no_off_side = list(filter(lambda a : a[13] == '', results))\n",
        "        best_time = sorted(results, key = itemgetter(10), reverse = False)[0][10] \n",
        "        results_with_best = list(map(lambda d : list(d)+[best_time, d[10] - best_time], results))\n",
        "        filtered_results_with_best = list(filter(lambda a : (a[4]< max_meters_distance_player_can_receive_ball) and (a[-1]< 0.5) and (a[8] < max_ball_distance),results_with_best))\n",
        "        length = len(filtered_results_with_best)\n",
        "        avg_time_spread = float(np.mean(list(map(lambda d : d[-1], filtered_results_with_best))))\n",
        "        results_with_best_and_length = list(map(lambda d : list(d)+[length,ifHigherThanLimit(ifHigherThanLimit((1+1.4*(-d[-1]+avg_time_spread))*(100.0/float(length)),100,'max',d[12]),0,'min',d[12])], filtered_results_with_best))\n",
        "\n",
        "        #out = list(map(lambda d : [d[0],d[1],d[8],d[5],d[14],d[15],d[16],d[17],d[18],d[9],d[10],d[-4],d[-3],d[-2],d[-1]], results_with_best_and_length))\n",
        "        out = list(map(lambda d : [d[0],d[1],d[8],d[5],d[14],d[15],d[16],d[17],d[18],d[19],d[-1]], results_with_best_and_length))\n",
        "      except:\n",
        "        out = []\n",
        "\n",
        "    return out\n",
        "  except:\n",
        "    return [[0.0,0.0,0.0,0.0,0.0,'',time,'',0.0,0.0,0.0]]\n"
      ]
    },
    {
      "cell_type": "code",
      "execution_count": null,
      "metadata": {
        "id": "L_gCky23EjRa"
      },
      "outputs": [],
      "source": [
        "offside_players = case.where(case['offside_flag'] != '').withColumn('target_y', lit(10000)).withColumn('target_x', lit(10000)).withColumn('probability', lit(0.0)).withColumn('distance_from_target', lit(0.0)).withColumn('ball_distance', lit(0.0)).withColumn('slope_fuzzy_compare', lit(100)).select('target_x','target_y','ball_distance','slope_fuzzy_compare','player_id','time','team','x','y','probability','distance_from_target').distinct()\n",
        "\n",
        "offside_players.show(2)"
      ]
    },
    {
      "cell_type": "code",
      "execution_count": null,
      "metadata": {
        "id": "OTwIfGPeEjRa"
      },
      "outputs": [],
      "source": [
        "timings_players = spark.createDataFrame(timings_locs_rdd.flatMap(lambda d : addLocs(d[0],d[1],d[2],pd_ball_gapped,panda_to_use)), ['target_x','target_y','ball_distance','slope_fuzzy_compare','slope','player_id','time','team','x','y','probability'])\n",
        "\n",
        "timings_players = timings_players.withColumn('distance_from_target', func.sqrt(((timings_players['target_x']-timings_players['x'])**2)+((timings_players['target_y']-timings_players['y'])**2))).drop('slope')\n",
        "\n",
        "timings_players.show()"
      ]
    },
    {
      "cell_type": "code",
      "execution_count": null,
      "metadata": {
        "id": "yD1OoeoEEjRb"
      },
      "outputs": [],
      "source": [
        "possess_out = team_a_passes_pivot.select('time','player_a','start_x','start_y').withColumnRenamed('start_x','x').withColumnRenamed('start_y','y').withColumn('target_x', lit(-999.0)).withColumn('target_y', lit(-999.0)).withColumn('probability', lit(-999.0)).withColumn('distance_from_target', lit(-999.0)).withColumnRenamed('player_a','player_id').withColumn('team', lit(team_a)).withColumn('slope_fuzzy_compare',lit(100)).withColumn('ball_distance',lit(100))"
      ]
    },
    {
      "cell_type": "code",
      "execution_count": null,
      "metadata": {
        "id": "9NJqChE8EjRb"
      },
      "outputs": [],
      "source": [
        "possess_out_selected = possess_out.select(offside_players.columns)\n",
        "possess_out_selected = possess_out_selected.withColumn('team', func.initcap(possess_out_selected['team']))"
      ]
    },
    {
      "cell_type": "code",
      "source": [
        "possess_out_selected.show()"
      ],
      "metadata": {
        "id": "hKyyRFenVi98"
      },
      "execution_count": null,
      "outputs": []
    },
    {
      "cell_type": "code",
      "execution_count": null,
      "metadata": {
        "id": "ZIAGjqxdEjRc"
      },
      "outputs": [],
      "source": [
        "timings_players_out = timings_players.union(possess_out_selected).union(offside_players).distinct()"
      ]
    },
    {
      "cell_type": "code",
      "execution_count": null,
      "metadata": {
        "id": "8GUO-7yIEjRd"
      },
      "outputs": [],
      "source": [
        "new_path = 'pitch_control_'+team +\"_\"+str(opponent)+\"_\"+str(half).replace(' ','_')+\"_\"+str(half_split)+\"_\"+player_in_possess"
      ]
    },
    {
      "cell_type": "code",
      "source": [
        "temp_path = \"/content/drive/MyDrive/Colab Notebooks/FootballDataAnalysis/data/Milan-Cagliari/parquet/__temp\"\n",
        "target_path = \"/content/drive/MyDrive/Colab Notebooks/FootballDataAnalysis/data/Milan-Cagliari/parquet/\"+new_path+\".csv\"\n",
        "\n",
        "timings_players_out.coalesce(1).write.mode(\"overwrite\").option('delimiter',',').option('header','true').csv(temp_path)\n",
        "\n",
        "Path = spark.sparkContext._gateway.jvm.org.apache.hadoop.fs.Path\n",
        "\n",
        "# get the part file generated by spark write\n",
        "fs = Path(temp_path).getFileSystem(spark.sparkContext._jsc.hadoopConfiguration())\n",
        "csv_part_file = fs.globStatus(Path(temp_path + \"/part*\"))[0].getPath()\n",
        "\n",
        "# move and rename the file\n",
        "fs.rename(csv_part_file, Path(target_path))\n",
        "fs.delete(Path(temp_path), True)"
      ],
      "metadata": {
        "id": "YUEt8kVggUqc"
      },
      "execution_count": null,
      "outputs": []
    },
    {
      "cell_type": "code",
      "source": [
        "new_path"
      ],
      "metadata": {
        "id": "YGXJLDX3_NDo"
      },
      "execution_count": null,
      "outputs": []
    },
    {
      "cell_type": "code",
      "execution_count": null,
      "metadata": {
        "id": "UBPM8vGwEjRg"
      },
      "outputs": [],
      "source": [
        "#timings_players_out.write.mode('overwrite').parquet('/content/drive/MyDrive/Colab Notebooks/FootballDataAnalysis/data/Milan-Cagliari/parquet/' + 'pitch_control_' + name_path + '.parquet')"
      ]
    },
    {
      "cell_type": "code",
      "execution_count": null,
      "metadata": {
        "id": "dvWKyqA8m18x"
      },
      "outputs": [],
      "source": [
        "### END ####"
      ]
    }
  ],
  "metadata": {
    "application/vnd.databricks.v1+notebook": {
      "dashboards": [],
      "language": "python",
      "notebookMetadata": {
        "pythonIndentUnit": 2
      },
      "notebookName": "pitch control acm_marcature1",
      "notebookOrigID": 3336132879360611,
      "widgets": {
        "half": {
          "currentValue": "1",
          "nuid": "78ee9e16-2a1a-41cd-ba5e-d8b9e4489b23",
          "widgetInfo": {
            "defaultValue": "",
            "label": "half",
            "name": "half",
            "options": {
              "validationRegex": null,
              "widgetType": "text"
            },
            "widgetType": "text"
          }
        },
        "half_split": {
          "currentValue": "1",
          "nuid": "2f234005-fbf1-4a38-9cbe-8f7106e2eab8",
          "widgetInfo": {
            "defaultValue": "",
            "label": "half_split",
            "name": "half_split",
            "options": {
              "validationRegex": null,
              "widgetType": "text"
            },
            "widgetType": "text"
          }
        },
        "opponent": {
          "currentValue": "milan",
          "nuid": "492b1b7c-ec09-471b-bcbe-2a7d2bc06cc5",
          "widgetInfo": {
            "defaultValue": "",
            "label": "opponent",
            "name": "opponent",
            "options": {
              "validationRegex": null,
              "widgetType": "text"
            },
            "widgetType": "text"
          }
        },
        "player_in_possess": {
          "currentValue": "all",
          "nuid": "4bdb6da9-87f6-4ba4-aab1-ae5b427598f1",
          "widgetInfo": {
            "defaultValue": "",
            "label": "player_in_possess",
            "name": "player_in_possess",
            "options": {
              "validationRegex": null,
              "widgetType": "text"
            },
            "widgetType": "text"
          }
        },
        "team": {
          "currentValue": "cagliari",
          "nuid": "d1bda008-2caa-4419-8bea-1ab3d6373859",
          "widgetInfo": {
            "defaultValue": "team",
            "label": null,
            "name": "team",
            "options": {
              "validationRegex": null,
              "widgetType": "text"
            },
            "widgetType": "text"
          }
        }
      }
    },
    "colab": {
      "collapsed_sections": [],
      "name": "pitch_control_acm_marcature1.ipynb",
      "provenance": []
    },
    "kernelspec": {
      "display_name": "Python 3",
      "language": "python",
      "name": "python3"
    },
    "language_info": {
      "codemirror_mode": {
        "name": "ipython",
        "version": 3
      },
      "file_extension": ".py",
      "mimetype": "text/x-python",
      "name": "python",
      "nbconvert_exporter": "python",
      "pygments_lexer": "ipython3",
      "version": "3.7.6"
    },
    "name": "dati italia pitch_1",
    "notebookId": 4095711113381660
  },
  "nbformat": 4,
  "nbformat_minor": 0
}