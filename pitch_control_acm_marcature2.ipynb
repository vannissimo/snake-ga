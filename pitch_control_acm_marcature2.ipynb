{
  "cells": [
    {
      "cell_type": "markdown",
      "metadata": {
        "id": "view-in-github",
        "colab_type": "text"
      },
      "source": [
        "<a href=\"https://colab.research.google.com/github/vannissimo/snake-ga/blob/master/pitch_control_acm_marcature2.ipynb\" target=\"_parent\"><img src=\"https://colab.research.google.com/assets/colab-badge.svg\" alt=\"Open In Colab\"/></a>"
      ]
    },
    {
      "cell_type": "code",
      "execution_count": 1,
      "metadata": {
        "id": "Lw4VKDKaCnnl"
      },
      "outputs": [],
      "source": [
        " !apt-get install openjdk-8-jdk-headless -qq > /dev/null\n",
        "!wget -q https://archive.apache.org/dist/spark/spark-3.0.0/spark-3.0.0-bin-hadoop3.2.tgz\n",
        "!tar xf spark-3.0.0-bin-hadoop3.2.tgz"
      ]
    },
    {
      "cell_type": "code",
      "execution_count": 2,
      "metadata": {
        "id": "UTeHfSUNCph1"
      },
      "outputs": [],
      "source": [
        "import os\n",
        "os.environ[\"JAVA_HOME\"] = \"/usr/lib/jvm/java-8-openjdk-amd64\"\n",
        "os.environ[\"SPARK_HOME\"] = \"/content/spark-3.0.0-bin-hadoop3.2\"\n",
        "# install findspark using pip\n",
        "!pip install -q findspark"
      ]
    },
    {
      "cell_type": "code",
      "execution_count": 3,
      "metadata": {
        "id": "k2k4Rs0iCq9Z"
      },
      "outputs": [],
      "source": [
        "import findspark\n",
        "findspark.init()"
      ]
    },
    {
      "cell_type": "code",
      "execution_count": 4,
      "metadata": {
        "id": "JWfLHgTiCs2U"
      },
      "outputs": [],
      "source": [
        "from pyspark.sql import SparkSession\n",
        "\n",
        "spark = SparkSession.builder\\\n",
        "        .master(\"local\")\\\n",
        "        .appName(\"Colab\")\\\n",
        "        .config('spark.ui.port', '4050')\\\n",
        "        .getOrCreate()"
      ]
    },
    {
      "cell_type": "code",
      "execution_count": 5,
      "metadata": {
        "id": "x1a3p6LcCjQG"
      },
      "outputs": [],
      "source": [
        "import numpy as np\n",
        "from bisect import bisect\n",
        "from pyspark.sql import functions as func\n",
        "from pyspark.sql.types import IntegerType, DoubleType\n",
        "from pyspark.sql.functions import concat,col,lit,desc\n",
        "from operator import itemgetter\n",
        "import itertools \n",
        "from bisect import bisect\n",
        "import pandas as pd"
      ]
    },
    {
      "cell_type": "code",
      "execution_count": 6,
      "metadata": {
        "colab": {
          "base_uri": "https://localhost:8080/",
          "height": 35
        },
        "id": "QrtWUrK8DM79",
        "outputId": "0cab74bc-383d-4af0-cee5-a98c90c2aefa"
      },
      "outputs": [
        {
          "output_type": "execute_result",
          "data": {
            "text/plain": [
              "'milan_sampdoria_first_half_1_all'"
            ],
            "application/vnd.google.colaboratory.intrinsic+json": {
              "type": "string"
            }
          },
          "metadata": {},
          "execution_count": 6
        }
      ],
      "source": [
        "team = team_a = 'milan'\n",
        "opponent = 'sampdoria'\n",
        "half = 'first half'\n",
        "half_split = '1'\n",
        "player_in_possess = 'all'\n",
        "\n",
        "if opponent == 'cagliari':\n",
        "  match_name = 'Milan-Cagliari'\n",
        "  lower_match_name = 'milan_cagliari'\n",
        "elif opponent == 'sampdoria':\n",
        "  match_name = 'Sampdoria-Milan'\n",
        "  lower_match_name = 'sampdoria_milan'\n",
        "\n",
        "name_path = team +\"_\"+str(opponent)+\"_\"+str(half).replace(' ','_')+\"_\"+str(half_split)+\"_\"+player_in_possess\n",
        "\n",
        "name_path"
      ]
    },
    {
      "cell_type": "code",
      "execution_count": 7,
      "metadata": {
        "colab": {
          "base_uri": "https://localhost:8080/"
        },
        "id": "rNAybDY3Dufi",
        "outputId": "50ba869d-c6f5-4ed5-cb9b-ffdf4838c521"
      },
      "outputs": [
        {
          "output_type": "stream",
          "name": "stdout",
          "text": [
            "Mounted at /content/drive\n"
          ]
        }
      ],
      "source": [
        "# mount your drive\n",
        "from google.colab import drive\n",
        "drive.mount('/content/drive')"
      ]
    },
    {
      "cell_type": "code",
      "execution_count": 8,
      "metadata": {
        "colab": {
          "base_uri": "https://localhost:8080/"
        },
        "id": "3TNJc7Nf-N4O",
        "outputId": "31a6a8d8-9bb2-4c5f-e5a7-c76729ea00fe"
      },
      "outputs": [
        {
          "output_type": "stream",
          "name": "stdout",
          "text": [
            "+---------+----------+---------+------+----------+-----------+-------+---------+---------+--------------------+----------+-------------+\n",
            "|      Vel|         x|        y|  Time|    player|       half|team_id|team_name|player_id|        italian_name|  position|real_position|\n",
            "+---------+----------+---------+------+----------+-----------+-------+---------+---------+--------------------+----------+-------------+\n",
            "|      0.0|       0.9|     33.2|5594.5|Castillejo|second half|   t120|    Milan|  p193449|samuel castillejo...|Midfielder|       Winger|\n",
            "| 2.022165|0.83794284|     32.8|5594.7|Castillejo|second half|   t120|    Milan|  p193449|samuel castillejo...|Midfielder|       Winger|\n",
            "|2.2488973|       0.8|32.578335|5594.8|Castillejo|second half|   t120|    Milan|  p193449|samuel castillejo...|Midfielder|       Winger|\n",
            "|2.2148995| 0.7668897|32.359333|5594.9|Castillejo|second half|   t120|    Milan|  p193449|samuel castillejo...|Midfielder|       Winger|\n",
            "|2.2495675| 0.7331103| 32.13693|5595.0|Castillejo|second half|   t120|    Milan|  p193449|samuel castillejo...|Midfielder|       Winger|\n",
            "|2.2686756|       0.7|31.912489|5595.1|Castillejo|second half|   t120|    Milan|  p193449|samuel castillejo...|Midfielder|       Winger|\n",
            "|2.3059509| 0.6706298|31.683771|5595.2|Castillejo|second half|   t120|    Milan|  p193449|samuel castillejo...|Midfielder|       Winger|\n",
            "|2.4134245|0.64066696|31.444296|5595.3|Castillejo|second half|   t120|    Milan|  p193449|samuel castillejo...|Midfielder|       Winger|\n",
            "| 2.553079| 0.6124885|31.190548|5595.4|Castillejo|second half|   t120|    Milan|  p193449|samuel castillejo...|Midfielder|       Winger|\n",
            "|2.7491424|0.58751154| 30.91677|5595.5|Castillejo|second half|   t120|    Milan|  p193449|samuel castillejo...|Midfielder|       Winger|\n",
            "+---------+----------+---------+------+----------+-----------+-------+---------+---------+--------------------+----------+-------------+\n",
            "only showing top 10 rows\n",
            "\n"
          ]
        }
      ],
      "source": [
        "# loading data as parquet\n",
        "pre_data_players = spark.read.parquet(\"/content/drive/MyDrive/Colab Notebooks/FootballDataAnalysis/data/Milan-Cagliari/parquet/frames_milan_cagliari.parquet\").drop('index')\n",
        "pre_data_players.show(10)"
      ]
    },
    {
      "cell_type": "code",
      "execution_count": 9,
      "metadata": {
        "colab": {
          "base_uri": "https://localhost:8080/",
          "height": 371
        },
        "id": "62TEo9I-C4fN",
        "outputId": "8459d3bb-20df-4b74-bc6f-fd3596e1f464"
      },
      "outputs": [
        {
          "output_type": "error",
          "ename": "AnalysisException",
          "evalue": "ignored",
          "traceback": [
            "\u001b[0;31m---------------------------------------------------------------------------\u001b[0m",
            "\u001b[0;31mAnalysisException\u001b[0m                         Traceback (most recent call last)",
            "\u001b[0;32m<ipython-input-9-87fdaff07e05>\u001b[0m in \u001b[0;36m<module>\u001b[0;34m()\u001b[0m\n\u001b[0;32m----> 1\u001b[0;31m \u001b[0mpre_pre_df\u001b[0m \u001b[0;34m=\u001b[0m \u001b[0mspark\u001b[0m\u001b[0;34m.\u001b[0m\u001b[0mread\u001b[0m\u001b[0;34m.\u001b[0m\u001b[0mcsv\u001b[0m\u001b[0;34m(\u001b[0m\u001b[0;34m'/content/drive/MyDrive/Colab Notebooks/FootballDataAnalysis/data/Milan-Cagliari/parquet/'\u001b[0m \u001b[0;34m+\u001b[0m \u001b[0;34m'pitch_control_'\u001b[0m \u001b[0;34m+\u001b[0m \u001b[0mname_path\u001b[0m \u001b[0;34m+\u001b[0m \u001b[0;34m'.csv'\u001b[0m\u001b[0;34m,\u001b[0m\u001b[0mheader\u001b[0m\u001b[0;34m=\u001b[0m\u001b[0;34m'True'\u001b[0m\u001b[0;34m)\u001b[0m\u001b[0;34m\u001b[0m\u001b[0;34m\u001b[0m\u001b[0m\n\u001b[0m\u001b[1;32m      2\u001b[0m \u001b[0mpre_pre_df\u001b[0m \u001b[0;34m=\u001b[0m \u001b[0mpre_pre_df\u001b[0m\u001b[0;34m.\u001b[0m\u001b[0mwithColumn\u001b[0m\u001b[0;34m(\u001b[0m\u001b[0;34m'x'\u001b[0m\u001b[0;34m,\u001b[0m \u001b[0mpre_pre_df\u001b[0m\u001b[0;34m[\u001b[0m\u001b[0;34m'x'\u001b[0m\u001b[0;34m]\u001b[0m\u001b[0;34m.\u001b[0m\u001b[0mcast\u001b[0m\u001b[0;34m(\u001b[0m\u001b[0mDoubleType\u001b[0m\u001b[0;34m(\u001b[0m\u001b[0;34m)\u001b[0m\u001b[0;34m)\u001b[0m\u001b[0;34m)\u001b[0m\u001b[0;34m.\u001b[0m\u001b[0mwithColumn\u001b[0m\u001b[0;34m(\u001b[0m\u001b[0;34m'y'\u001b[0m\u001b[0;34m,\u001b[0m \u001b[0mpre_pre_df\u001b[0m\u001b[0;34m[\u001b[0m\u001b[0;34m'y'\u001b[0m\u001b[0;34m]\u001b[0m\u001b[0;34m.\u001b[0m\u001b[0mcast\u001b[0m\u001b[0;34m(\u001b[0m\u001b[0mDoubleType\u001b[0m\u001b[0;34m(\u001b[0m\u001b[0;34m)\u001b[0m\u001b[0;34m)\u001b[0m\u001b[0;34m)\u001b[0m\u001b[0;34m.\u001b[0m\u001b[0mwithColumn\u001b[0m\u001b[0;34m(\u001b[0m\u001b[0;34m'target_y'\u001b[0m\u001b[0;34m,\u001b[0m \u001b[0mpre_pre_df\u001b[0m\u001b[0;34m[\u001b[0m\u001b[0;34m'target_y'\u001b[0m\u001b[0;34m]\u001b[0m\u001b[0;34m.\u001b[0m\u001b[0mcast\u001b[0m\u001b[0;34m(\u001b[0m\u001b[0mDoubleType\u001b[0m\u001b[0;34m(\u001b[0m\u001b[0;34m)\u001b[0m\u001b[0;34m)\u001b[0m\u001b[0;34m)\u001b[0m\u001b[0;34m.\u001b[0m\u001b[0mwithColumn\u001b[0m\u001b[0;34m(\u001b[0m\u001b[0;34m'target_x'\u001b[0m\u001b[0;34m,\u001b[0m \u001b[0mpre_pre_df\u001b[0m\u001b[0;34m[\u001b[0m\u001b[0;34m'target_x'\u001b[0m\u001b[0;34m]\u001b[0m\u001b[0;34m.\u001b[0m\u001b[0mcast\u001b[0m\u001b[0;34m(\u001b[0m\u001b[0mDoubleType\u001b[0m\u001b[0;34m(\u001b[0m\u001b[0;34m)\u001b[0m\u001b[0;34m)\u001b[0m\u001b[0;34m)\u001b[0m\u001b[0;34m\u001b[0m\u001b[0;34m\u001b[0m\u001b[0m\n\u001b[1;32m      3\u001b[0m \u001b[0;34m\u001b[0m\u001b[0m\n\u001b[1;32m      4\u001b[0m \u001b[0mpre_pre_df\u001b[0m\u001b[0;34m.\u001b[0m\u001b[0mwhere\u001b[0m\u001b[0;34m(\u001b[0m\u001b[0mpre_pre_df\u001b[0m\u001b[0;34m[\u001b[0m\u001b[0;34m'target_x'\u001b[0m\u001b[0;34m]\u001b[0m \u001b[0;34m>\u001b[0m \u001b[0;34m-\u001b[0m\u001b[0;36m999\u001b[0m\u001b[0;34m)\u001b[0m\u001b[0;34m.\u001b[0m\u001b[0mwhere\u001b[0m\u001b[0;34m(\u001b[0m\u001b[0mpre_pre_df\u001b[0m\u001b[0;34m[\u001b[0m\u001b[0;34m'target_y'\u001b[0m\u001b[0;34m]\u001b[0m \u001b[0;34m<\u001b[0m \u001b[0;36m9999\u001b[0m\u001b[0;34m)\u001b[0m\u001b[0;34m.\u001b[0m\u001b[0mgroupBy\u001b[0m\u001b[0;34m(\u001b[0m\u001b[0;34m'time'\u001b[0m\u001b[0;34m)\u001b[0m\u001b[0;34m.\u001b[0m\u001b[0magg\u001b[0m\u001b[0;34m(\u001b[0m\u001b[0mfunc\u001b[0m\u001b[0;34m.\u001b[0m\u001b[0mmin\u001b[0m\u001b[0;34m(\u001b[0m\u001b[0;34m'target_x'\u001b[0m\u001b[0;34m)\u001b[0m\u001b[0;34m,\u001b[0m\u001b[0mfunc\u001b[0m\u001b[0;34m.\u001b[0m\u001b[0mmax\u001b[0m\u001b[0;34m(\u001b[0m\u001b[0;34m'target_x'\u001b[0m\u001b[0;34m)\u001b[0m\u001b[0;34m,\u001b[0m\u001b[0mfunc\u001b[0m\u001b[0;34m.\u001b[0m\u001b[0mmin\u001b[0m\u001b[0;34m(\u001b[0m\u001b[0;34m'target_y'\u001b[0m\u001b[0;34m)\u001b[0m\u001b[0;34m,\u001b[0m\u001b[0mfunc\u001b[0m\u001b[0;34m.\u001b[0m\u001b[0mmax\u001b[0m\u001b[0;34m(\u001b[0m\u001b[0;34m'target_y'\u001b[0m\u001b[0;34m)\u001b[0m\u001b[0;34m)\u001b[0m\u001b[0;34m.\u001b[0m\u001b[0mshow\u001b[0m\u001b[0;34m(\u001b[0m\u001b[0;34m)\u001b[0m\u001b[0;34m\u001b[0m\u001b[0;34m\u001b[0m\u001b[0m\n",
            "\u001b[0;32m/content/spark-3.0.0-bin-hadoop3.2/python/pyspark/sql/readwriter.py\u001b[0m in \u001b[0;36mcsv\u001b[0;34m(self, path, schema, sep, encoding, quote, escape, comment, header, inferSchema, ignoreLeadingWhiteSpace, ignoreTrailingWhiteSpace, nullValue, nanValue, positiveInf, negativeInf, dateFormat, timestampFormat, maxColumns, maxCharsPerColumn, maxMalformedLogPerPartition, mode, columnNameOfCorruptRecord, multiLine, charToEscapeQuoteEscaping, samplingRatio, enforceSchema, emptyValue, locale, lineSep, pathGlobFilter, recursiveFileLookup)\u001b[0m\n\u001b[1;32m    533\u001b[0m             \u001b[0mpath\u001b[0m \u001b[0;34m=\u001b[0m \u001b[0;34m[\u001b[0m\u001b[0mpath\u001b[0m\u001b[0;34m]\u001b[0m\u001b[0;34m\u001b[0m\u001b[0;34m\u001b[0m\u001b[0m\n\u001b[1;32m    534\u001b[0m         \u001b[0;32mif\u001b[0m \u001b[0mtype\u001b[0m\u001b[0;34m(\u001b[0m\u001b[0mpath\u001b[0m\u001b[0;34m)\u001b[0m \u001b[0;34m==\u001b[0m \u001b[0mlist\u001b[0m\u001b[0;34m:\u001b[0m\u001b[0;34m\u001b[0m\u001b[0;34m\u001b[0m\u001b[0m\n\u001b[0;32m--> 535\u001b[0;31m             \u001b[0;32mreturn\u001b[0m \u001b[0mself\u001b[0m\u001b[0;34m.\u001b[0m\u001b[0m_df\u001b[0m\u001b[0;34m(\u001b[0m\u001b[0mself\u001b[0m\u001b[0;34m.\u001b[0m\u001b[0m_jreader\u001b[0m\u001b[0;34m.\u001b[0m\u001b[0mcsv\u001b[0m\u001b[0;34m(\u001b[0m\u001b[0mself\u001b[0m\u001b[0;34m.\u001b[0m\u001b[0m_spark\u001b[0m\u001b[0;34m.\u001b[0m\u001b[0m_sc\u001b[0m\u001b[0;34m.\u001b[0m\u001b[0m_jvm\u001b[0m\u001b[0;34m.\u001b[0m\u001b[0mPythonUtils\u001b[0m\u001b[0;34m.\u001b[0m\u001b[0mtoSeq\u001b[0m\u001b[0;34m(\u001b[0m\u001b[0mpath\u001b[0m\u001b[0;34m)\u001b[0m\u001b[0;34m)\u001b[0m\u001b[0;34m)\u001b[0m\u001b[0;34m\u001b[0m\u001b[0;34m\u001b[0m\u001b[0m\n\u001b[0m\u001b[1;32m    536\u001b[0m         \u001b[0;32melif\u001b[0m \u001b[0misinstance\u001b[0m\u001b[0;34m(\u001b[0m\u001b[0mpath\u001b[0m\u001b[0;34m,\u001b[0m \u001b[0mRDD\u001b[0m\u001b[0;34m)\u001b[0m\u001b[0;34m:\u001b[0m\u001b[0;34m\u001b[0m\u001b[0;34m\u001b[0m\u001b[0m\n\u001b[1;32m    537\u001b[0m             \u001b[0;32mdef\u001b[0m \u001b[0mfunc\u001b[0m\u001b[0;34m(\u001b[0m\u001b[0miterator\u001b[0m\u001b[0;34m)\u001b[0m\u001b[0;34m:\u001b[0m\u001b[0;34m\u001b[0m\u001b[0;34m\u001b[0m\u001b[0m\n",
            "\u001b[0;32m/content/spark-3.0.0-bin-hadoop3.2/python/lib/py4j-0.10.9-src.zip/py4j/java_gateway.py\u001b[0m in \u001b[0;36m__call__\u001b[0;34m(self, *args)\u001b[0m\n\u001b[1;32m   1303\u001b[0m         \u001b[0manswer\u001b[0m \u001b[0;34m=\u001b[0m \u001b[0mself\u001b[0m\u001b[0;34m.\u001b[0m\u001b[0mgateway_client\u001b[0m\u001b[0;34m.\u001b[0m\u001b[0msend_command\u001b[0m\u001b[0;34m(\u001b[0m\u001b[0mcommand\u001b[0m\u001b[0;34m)\u001b[0m\u001b[0;34m\u001b[0m\u001b[0;34m\u001b[0m\u001b[0m\n\u001b[1;32m   1304\u001b[0m         return_value = get_return_value(\n\u001b[0;32m-> 1305\u001b[0;31m             answer, self.gateway_client, self.target_id, self.name)\n\u001b[0m\u001b[1;32m   1306\u001b[0m \u001b[0;34m\u001b[0m\u001b[0m\n\u001b[1;32m   1307\u001b[0m         \u001b[0;32mfor\u001b[0m \u001b[0mtemp_arg\u001b[0m \u001b[0;32min\u001b[0m \u001b[0mtemp_args\u001b[0m\u001b[0;34m:\u001b[0m\u001b[0;34m\u001b[0m\u001b[0;34m\u001b[0m\u001b[0m\n",
            "\u001b[0;32m/content/spark-3.0.0-bin-hadoop3.2/python/pyspark/sql/utils.py\u001b[0m in \u001b[0;36mdeco\u001b[0;34m(*a, **kw)\u001b[0m\n\u001b[1;32m    135\u001b[0m                 \u001b[0;31m# Hide where the exception came from that shows a non-Pythonic\u001b[0m\u001b[0;34m\u001b[0m\u001b[0;34m\u001b[0m\u001b[0;34m\u001b[0m\u001b[0m\n\u001b[1;32m    136\u001b[0m                 \u001b[0;31m# JVM exception message.\u001b[0m\u001b[0;34m\u001b[0m\u001b[0;34m\u001b[0m\u001b[0;34m\u001b[0m\u001b[0m\n\u001b[0;32m--> 137\u001b[0;31m                 \u001b[0mraise_from\u001b[0m\u001b[0;34m(\u001b[0m\u001b[0mconverted\u001b[0m\u001b[0;34m)\u001b[0m\u001b[0;34m\u001b[0m\u001b[0;34m\u001b[0m\u001b[0m\n\u001b[0m\u001b[1;32m    138\u001b[0m             \u001b[0;32melse\u001b[0m\u001b[0;34m:\u001b[0m\u001b[0;34m\u001b[0m\u001b[0;34m\u001b[0m\u001b[0m\n\u001b[1;32m    139\u001b[0m                 \u001b[0;32mraise\u001b[0m\u001b[0;34m\u001b[0m\u001b[0;34m\u001b[0m\u001b[0m\n",
            "\u001b[0;32m/content/spark-3.0.0-bin-hadoop3.2/python/pyspark/sql/utils.py\u001b[0m in \u001b[0;36mraise_from\u001b[0;34m(e)\u001b[0m\n",
            "\u001b[0;31mAnalysisException\u001b[0m: Path does not exist: file:/content/drive/MyDrive/Colab Notebooks/FootballDataAnalysis/data/Milan-Cagliari/parquet/pitch_control_milan_sampdoria_first_half_1_all.csv;"
          ]
        }
      ],
      "source": [
        "pre_pre_df = spark.read.csv('/content/drive/MyDrive/Colab Notebooks/FootballDataAnalysis/data/Milan-Cagliari/parquet/' + 'pitch_control_' + name_path + '.csv',header='True')\n",
        "pre_pre_df = pre_pre_df.withColumn('x', pre_pre_df['x'].cast(DoubleType())).withColumn('y', pre_pre_df['y'].cast(DoubleType())).withColumn('target_y', pre_pre_df['target_y'].cast(DoubleType())).withColumn('target_x', pre_pre_df['target_x'].cast(DoubleType()))\n",
        "\n",
        "pre_pre_df.where(pre_pre_df['target_x'] > -999).where(pre_pre_df['target_y'] < 9999).groupBy('time').agg(func.min('target_x'),func.max('target_x'),func.min('target_y'),func.max('target_y')).show()"
      ]
    },
    {
      "cell_type": "code",
      "execution_count": null,
      "metadata": {
        "id": "fY8iLNseCjQJ"
      },
      "outputs": [],
      "source": [
        "#create parameters input boxes (Databricks)\n",
        "\n",
        "if opponent == 'milan':\n",
        "  opponent_f = team_a\n",
        "else:\n",
        "  opponent_f = opponent"
      ]
    },
    {
      "cell_type": "code",
      "execution_count": null,
      "metadata": {
        "id": "5NJz5il_CjQK"
      },
      "outputs": [],
      "source": [
        "# FILTRIAMO IL TEMPO DI GIOCO\n",
        "\n",
        "half_dict = {'first half':'1', 'second half':'2'}\n",
        "\n",
        "pre_data_players = pre_data_players.withColumnRenamed('Time','time').withColumnRenamed('team_name','team').withColumnRenamed('position','role')\n",
        "\n",
        "pre_events = spark.read.parquet(\"/content/drive/MyDrive/Colab Notebooks/FootballDataAnalysis/data/Milan-Cagliari/parquet/f24_opta_milan_cagliari.parquet\").drop('index')\n",
        "pre_events_time = pre_events.withColumn('time', 60*pre_events['min']+pre_events['sec'])\n",
        "\n",
        "max_times = pre_events_time[pre_events_time['period_id'] == half_dict[str(half)]].groupby('period_id').max('time')\n",
        "min_times = pre_events_time[pre_events_time['period_id'] == half_dict[str(half)]].groupby('period_id').min('time')\n",
        "\n",
        "min_half_time = min_times.filter(max_times['period_id'] == half_dict[str(half)]).head()['min(time)']\n",
        "max_half_time = max_times.filter(max_times['period_id'] == half_dict[str(half)]).head()['max(time)']\n",
        "\n",
        "if half_split == '1':\n",
        "  data_players = pre_data_players.where((pre_data_players['time'] > min_half_time) & (pre_data_players['time'] <= min_half_time+float((max_half_time-min_half_time)/2.0)))\n",
        "  \n",
        "elif half_split == '2':\n",
        "  data_players = pre_data_players.where((pre_data_players['time'] > min_half_time+float((max_half_time-min_half_time)/2.0)) & (pre_data_players['time'] < max_half_time))\n"
      ]
    },
    {
      "cell_type": "code",
      "execution_count": null,
      "metadata": {
        "id": "eovICDbyCjQL"
      },
      "outputs": [],
      "source": [
        "from operator import itemgetter\n",
        "from pyspark.sql import functions as func\n",
        "from pyspark.sql.functions import lit\n",
        "\n",
        "import itertools \n",
        "import bisect\n",
        "import numpy as np\n",
        "from pyspark.sql.types import DoubleType\n",
        "import pandas as pd\n",
        "\n",
        "granularity = 0.5\n",
        "max_ball_distance = 70.0\n",
        "max_meters_distance_player_can_receive_ball = 30.0\n",
        "opponent_lower = opponent.lower()\n",
        "\n",
        "team_a_goalies = data_players.where(data_players['team'] == team_a.title()).where(data_players['role'] == 'Goalkeeper').select('player').distinct().collect()[0]['player']\n",
        "opponent_goalies = data_players.where(data_players['team'] == opponent.title()).where(data_players['role'] == 'Goalkeeper').select('player').distinct().collect()[0]['player']\n",
        "\n",
        "goalie_x = data_players.where(data_players['team'] == team_a.title()).where(data_players['role'] == 'Goalkeeper').groupBy('role').avg('x').rdd.max()[1]\n",
        "\n",
        "team_a_goalies,opponent_goalies,goalie_x"
      ]
    },
    {
      "cell_type": "code",
      "execution_count": null,
      "metadata": {
        "id": "29gYo_oACjQM"
      },
      "outputs": [],
      "source": [
        "min_x = data_players.select('x').rdd.min()[0]\n",
        "max_x = data_players.select('x').rdd.max()[0]\n",
        "min_y = data_players.select('y').rdd.min()[0]\n",
        "max_y = data_players.select('y').rdd.max()[0]\n",
        "\n",
        "x_lines = list(np.arange(int(min_x)-1,int(max_x)+1,float(max_x-min_x)/6.0))\n",
        "y_lines = list(np.arange(int(min_y)-1,int(max_y)+1,float(max_y-min_y)/4.0))\n",
        "\n",
        "mid_x, mid_y = x_lines[3], float(y_lines[2])\n",
        "\n",
        "if float(np.abs(goalie_x - max_x)) < float(np.abs(goalie_x - min_x)):\n",
        "  verse = 'right_to_left'\n",
        "  opponent_verse = 'left_to_right'\n",
        "else:\n",
        "  verse = 'left_to_right'\n",
        "  opponent_verse = 'right_to_left'\n",
        "\n",
        "team_a_goalies,verse"
      ]
    },
    {
      "cell_type": "code",
      "execution_count": null,
      "metadata": {
        "id": "YjorMQkpCjQN"
      },
      "outputs": [],
      "source": [
        "pre_pre_df = pre_pre_df.withColumn('time', pre_pre_df['time'].cast(DoubleType()))"
      ]
    },
    {
      "cell_type": "code",
      "execution_count": null,
      "metadata": {
        "id": "fu8YGBYmOp6t"
      },
      "outputs": [],
      "source": [
        "timings = sorted(pre_pre_df.select('time').distinct().rdd.map(lambda a : a[0]).collect())\n",
        "timings"
      ]
    },
    {
      "cell_type": "code",
      "execution_count": null,
      "metadata": {
        "id": "lB0UbT9QRY6M"
      },
      "outputs": [],
      "source": [
        "pre_events = spark.read.parquet(\"/content/drive/MyDrive/Colab Notebooks/FootballDataAnalysis/data/Milan-Cagliari/parquet/f24_opta_milan_cagliari.parquet\").drop('index')\n",
        "pre_events_time = pre_events.withColumn('time', 60*pre_events['min']+pre_events['sec'])\n",
        "pre_events_time = pre_events_time.where(pre_events_time['time'].isin(timings))\n",
        "\n",
        "pre_events_time.show()"
      ]
    },
    {
      "cell_type": "code",
      "execution_count": null,
      "metadata": {
        "id": "iuFSMaetQPrh"
      },
      "outputs": [],
      "source": [
        "name_in_possess = pre_events_time.select('time','player').distinct()\n",
        "pre_pre_df_2 = pre_pre_df.where(pre_pre_df['target_x'] > -950).select('time','player_id','x','y','team').distinct()\n",
        "possess = pre_pre_df_2.join(name_in_possess.withColumnRenamed('player','player_id'),['time','player_id']).select('player_id','team','time','x','y').distinct().withColumnRenamed('player_id','player_in_possess').withColumnRenamed('team','team_in_possess')\n",
        "possess.show()"
      ]
    },
    {
      "cell_type": "code",
      "execution_count": null,
      "metadata": {
        "id": "7Ej-AX39CjQO"
      },
      "outputs": [],
      "source": [
        "df = pre_pre_df.where(pre_pre_df['target_x'] > -999).distinct()\n",
        "\n",
        "df.show(10)"
      ]
    },
    {
      "cell_type": "code",
      "execution_count": null,
      "metadata": {
        "id": "ON6rkzu8CjQP"
      },
      "outputs": [],
      "source": [
        "#offside_players = pre_df.where(pre_df['team'] == team_a.capitalize()).select('player_id','time','offside_flag').distinct()"
      ]
    },
    {
      "cell_type": "code",
      "execution_count": null,
      "metadata": {
        "id": "sY__v4U0CjQP"
      },
      "outputs": [],
      "source": [
        "verse"
      ]
    },
    {
      "cell_type": "code",
      "execution_count": null,
      "metadata": {
        "id": "tZtdedLoCjQQ"
      },
      "outputs": [],
      "source": [
        "df_locs = df.select('player_id','time','team','x','y').distinct()\n",
        "\n",
        "if verse == 'right_to_left':\n",
        "  opponent_goal_line = [min_x+5.0, 0.0]  \n",
        "  team_a_goal_line = [max_x-5.0, 0.0]\n",
        "else:\n",
        "  opponent_goal_line = [max_x-5.0, 0.0]\n",
        "  team_a_goal_line = [min_x+5.0, 0.0]\n",
        "  \n",
        "df_locs = df_locs.withColumn('distance_from_opponent_goal_line', 0.25*func.sqrt((df_locs['x'] - opponent_goal_line[0])**2 + (df_locs['y'] - opponent_goal_line[1])**2) + 0.75*func.sqrt((df_locs['x'] - opponent_goal_line[0])**2))\n",
        "df_locs = df_locs.withColumn('distance_from_team_goal_line', 0.25*func.sqrt((df_locs['x'] - team_a_goal_line[0])**2 + (df_locs['y'] - team_a_goal_line[1])**2) + 0.75*func.sqrt((df_locs['x'] - team_a_goal_line[0])**2))\n",
        "\n",
        "panda_locs = df_locs.toPandas()\n",
        "\n",
        "verse,opponent_goal_line"
      ]
    },
    {
      "cell_type": "code",
      "execution_count": null,
      "metadata": {
        "id": "IeSfIMV1CjQQ"
      },
      "outputs": [],
      "source": [
        "x_ranges = list(np.arange(min_x,max_x,3.0))\n",
        "y_ranges = list(np.arange(min_y,max_y,3.0))"
      ]
    },
    {
      "cell_type": "code",
      "execution_count": null,
      "metadata": {
        "id": "_BOBeC8SCjQR"
      },
      "outputs": [],
      "source": [
        "def x_area_handling(x):\n",
        "  \n",
        "  if x >= 30:\n",
        "    return x\n",
        "  elif x < 30 and x >= 10:\n",
        "    return int(0.8*float(x))\n",
        "  elif x < 10 and x >= -20:\n",
        "    return int(0.5*float(x))\n",
        "  elif x < -20:\n",
        "    return 10\n",
        "\n",
        "x_single_area_prob = 100.0/float(len(x_ranges))\n",
        "y_single_area_prob = 100.0/float(len(y_ranges))\n",
        "\n",
        "x_ranges_value_right_to_left = list(map(lambda d : x_area_handling(float(x_single_area_prob)*(len(x_ranges)-x_ranges.index(d))), x_ranges))\n",
        "x_ranges_value_left_to_right = list(map(lambda d : x_area_handling(float(x_single_area_prob)*(x_ranges.index(d))), x_ranges))\n",
        "y_ranges_value = list(map(lambda d : 100-1.75*(float(y_single_area_prob)*float(np.abs((mid_y-y_ranges.index(d))))), y_ranges))\n",
        "                      \n",
        "if verse == 'left_to_right':\n",
        "  x_ranges_value = x_ranges_value_left_to_right\n",
        "  opp_x_ranges_value = x_ranges_value_right_to_left\n",
        "elif verse == 'right_to_left':\n",
        "  x_ranges_value = x_ranges_value_right_to_left\n",
        "  opp_x_ranges_value = x_ranges_value_left_to_right\n",
        "  "
      ]
    },
    {
      "cell_type": "code",
      "execution_count": null,
      "metadata": {
        "id": "ROktgYr_CjQR"
      },
      "outputs": [],
      "source": [
        "def probabilityPlusMinus(x):\n",
        "  \n",
        "  if x[6] == team_a.title():\n",
        "    return list(x)+[opponent_verse]\n",
        "  else:\n",
        "    return list(x)+[verse]\n",
        "  \n",
        "def opponentCount(x):\n",
        "  \n",
        "  try:\n",
        "    team_1 = float(x[3])\n",
        "  except:\n",
        "    team_1 = 0.0\n",
        "\n",
        "  try:\n",
        "    team_2 = float(x[5])\n",
        "  except:\n",
        "    team_2 = 0.0\n",
        "\n",
        "  try:\n",
        "    opp_1 = int(x[4])\n",
        "  except:\n",
        "    opp_1 = 0\n",
        "\n",
        "  try:\n",
        "    opp_2 = int(x[6])\n",
        "  except:\n",
        "    opp_2 = 0\n",
        "\n",
        "  if team_1 > team_2:\n",
        "    return [x[0],x[1],x[2],x[3],-opp_2]\n",
        "  else:\n",
        "    return [x[0],x[1],x[2],x[5],-opp_1]\n",
        "\n",
        "df = df.withColumn('probability', df['probability'].cast(DoubleType()))\n",
        "\n",
        "pre_max_pitch_pivot_gr = df.where(df['team'] != '').groupBy('target_x','target_y','time').pivot('team').agg(func.max('probability'),func.count('player_id'))\n",
        "\n",
        "max_pitch_pivot = spark.createDataFrame(pre_max_pitch_pivot_gr.rdd.map(lambda a : opponentCount(a)),['target_x','target_y','time','probability','opponents_count'])\n",
        "\n",
        "max_pitch_pivot.show()"
      ]
    },
    {
      "cell_type": "code",
      "execution_count": null,
      "metadata": {
        "id": "9Cq2jv1-CjQR"
      },
      "outputs": [],
      "source": [
        "max_player = df.select('target_x','target_y','time','player_id','team','probability','distance_from_target','x','y','slope_fuzzy_compare','ball_distance')"
      ]
    },
    {
      "cell_type": "code",
      "execution_count": null,
      "metadata": {
        "id": "qRNemCvyCjQS"
      },
      "outputs": [],
      "source": [
        "max_pitch_pivot_j = max_pitch_pivot.join(max_player, ['target_x','target_y','time','probability'])\n",
        "\n",
        "max_pitch_pivot_jj = spark.createDataFrame(max_pitch_pivot_j.rdd.map(lambda f : probabilityPlusMinus(f)),max_pitch_pivot_j.columns+['verse'])\n",
        "\n",
        "pre_max_pitch_pivot_jjj = max_pitch_pivot_jj.where(max_pitch_pivot_jj['team'] == opponent.capitalize())\n",
        "\n",
        "pre_max_pitch_pivot_jjj.show()"
      ]
    },
    {
      "cell_type": "code",
      "execution_count": null,
      "metadata": {
        "id": "_FultEdHCjQS"
      },
      "outputs": [],
      "source": [
        "max_pitch_pivot_jj.groupBy('player_id','team').avg('probability').show()"
      ]
    },
    {
      "cell_type": "code",
      "execution_count": null,
      "metadata": {
        "id": "wkw-O-duCjQS"
      },
      "outputs": [],
      "source": [
        "pd_probs = pre_max_pitch_pivot_jjj.toPandas()"
      ]
    },
    {
      "cell_type": "code",
      "execution_count": null,
      "metadata": {
        "id": "-xCfuM9dCjQS"
      },
      "outputs": [],
      "source": [
        "def findBestMaxObs(x,panda,max_obs):\n",
        "  \n",
        "  probs = panda[panda['player_id'] == x[0]][panda['time'] == x[1]][['probability','distance_from_target']].values.tolist()\n",
        "  \n",
        "  try:\n",
        "    first_twenty_probs = sorted(list(map(lambda a : a[0],probs)), reverse = True)[:max_obs]\n",
        "    prob_twentieth = first_twenty_probs[-1]\n",
        "    distance_twentieth = 100.0\n",
        "\n",
        "    if float(prob_twentieth) == 100.0:\n",
        "      first_twenty_distances = sorted(list(map(lambda g : g[1], list(filter(lambda a : a[0] == 100.0,probs)))))[:max_obs]\n",
        "      distance_twentieth = first_twenty_distances[-1]\n",
        "\n",
        "    return [prob_twentieth,distance_twentieth]\n",
        "  except:\n",
        "    return [0.0,0.0]\n",
        "\n",
        "players_times_values = spark.createDataFrame(df.where(df['team'] == opponent.title()).select('player_id','time').distinct().rdd.map(lambda a : list(a)+findBestMaxObs(a,pd_probs,60)),['player_id','time','probability_twentieth','distance_twentieth'])\n",
        "\n",
        "players_times_values.show()"
      ]
    },
    {
      "cell_type": "code",
      "execution_count": null,
      "metadata": {
        "id": "PFvXlvMKCjQT"
      },
      "outputs": [],
      "source": [
        "pd_to_filter = players_times_values.toPandas()"
      ]
    },
    {
      "cell_type": "code",
      "execution_count": null,
      "metadata": {
        "id": "AJKxOnNkCjQT"
      },
      "outputs": [],
      "source": [
        "def obsToFilter(x, panda):\n",
        "  \n",
        "  prob_filter, distance_filter = panda[panda['player_id'] == x[5]][panda['time'] == x[2]][['probability_twentieth','distance_twentieth']].values.tolist()[0]\n",
        "  \n",
        "  flag = ''\n",
        "  \n",
        "  if (float(x[3]) < prob_filter) or (float(x[7]) > distance_filter):\n",
        "    flag = 'out'\n",
        "  \n",
        "  return flag\n",
        "  \n",
        "max_pitch_pivot_jjj_pre_filt = spark.createDataFrame(pre_max_pitch_pivot_jjj.rdd.map(lambda a : list(a)+[obsToFilter(a, pd_to_filter)]), pre_max_pitch_pivot_jjj.columns+['obs_flag'])\n",
        "\n",
        "max_pitch_pivot_jjj = max_pitch_pivot_jjj_pre_filt.where(max_pitch_pivot_jjj_pre_filt['obs_flag'] == '').where(max_pitch_pivot_jjj_pre_filt['probability'] > 0).drop('obs_flag')"
      ]
    },
    {
      "cell_type": "code",
      "execution_count": null,
      "metadata": {
        "id": "r4bbo3PxFgfr"
      },
      "outputs": [],
      "source": [
        "max_pitch_pivot_jjj.show()"
      ]
    },
    {
      "cell_type": "code",
      "execution_count": null,
      "metadata": {
        "id": "0D9bVk4sCjQT"
      },
      "outputs": [],
      "source": [
        "#display(max_pitch_pivot_jjj.where(max_pitch_pivot_jjj['target_x'] == 42.0).where(max_pitch_pivot_jjj['target_y'] == 5.0).where(max_pitch_pivot_jjj['time'] == 1135.0))"
      ]
    },
    {
      "cell_type": "code",
      "execution_count": null,
      "metadata": {
        "id": "4FkbduxKCjQT"
      },
      "outputs": [],
      "source": [
        "from pyspark.sql.functions import lit\n",
        "\n",
        "def ifHigherThanLimit(a,limit,maxMinFlag): \n",
        "  if maxMinFlag == 'max':\n",
        "    return float(np.min([limit,a]))\n",
        "  elif maxMinFlag == 'min':\n",
        "    return float(np.max([limit,a]))\n",
        "\n",
        "def addFakeProb(team):\n",
        "  \n",
        "  if team == opponent.title():\n",
        "    return 150.0\n",
        "  else:\n",
        "    return -150.0\n",
        "\n",
        "  \n",
        "### PITCH ###\n",
        "pitch_pivot = max_pitch_pivot_jj.select('target_x','target_y','time','probability','player_id','team')\n",
        "pitch_pivot = pitch_pivot.withColumn('type',lit('pitch'))\n",
        "pitch_pivot = pitch_pivot.withColumnRenamed('target_x','x').withColumnRenamed('target_y','y')\n",
        "\n",
        "### PLAYERS ###\n",
        "players_locs = spark.createDataFrame(data_players.select('player_id','team','time','x','y').withColumn('type',lit('player')).distinct().rdd.map(lambda a : list(a)+[addFakeProb(a[1])]), ['player_id','team','time','x','y','type','probability'])\n",
        "players_locs = players_locs.where(players_locs['time'].isin(timings))\n",
        "\n",
        "### BALL ###\n",
        "ball = players_locs.where(players_locs['player_id'] == 'ball').orderBy('time')\n",
        "ball_locs = ball.withColumn('probability',lit(200.0)).withColumn('type',lit('ball')).select('x','y','time','probability','player_id','team','type')\n",
        "pd_ball = ball.toPandas()"
      ]
    },
    {
      "cell_type": "code",
      "execution_count": null,
      "metadata": {
        "id": "ji-tS24hB_-d"
      },
      "outputs": [],
      "source": [
        "players_ids = spark.read.csv(\"/content/drive/MyDrive/Colab Notebooks/FootballDataAnalysis/data/OPTA/opta_seriea_players.csv\", header='True')\n",
        "players_ids.show()"
      ]
    },
    {
      "cell_type": "code",
      "execution_count": null,
      "metadata": {
        "id": "_PTnZWt4kuI9"
      },
      "outputs": [],
      "source": [
        "player_idddsss = spark.read.parquet(\"/content/drive/MyDrive/Colab Notebooks/FootballDataAnalysis/data/Milan-Cagliari/parquet/frames_milan_cagliari.parquet\").drop('index')\n",
        "\n",
        "pre_player_zones = players_locs.join(player_idddsss.select('player_id','player').distinct(), ['player_id']).drop('player_id')\n",
        "pre_player_zones = pre_player_zones.withColumnRenamed('player','player_id').withColumn('verse', lit(verse))\n",
        "pd_zones = pre_player_zones.toPandas()\n",
        "\n",
        "pre_player_zones.show(66)"
      ]
    },
    {
      "cell_type": "code",
      "execution_count": null,
      "metadata": {
        "id": "bD7gGyvWz9zy"
      },
      "outputs": [],
      "source": [
        "def defineLato(x):\n",
        "  \n",
        "  y_value = x[3]\n",
        "\n",
        "  if verse == 'left_to_right':\n",
        "\n",
        "    if y_value > 16:\n",
        "      side = 'Destra'\n",
        "    elif y_value < -16:\n",
        "      side = 'Sinistra'\n",
        "    else:\n",
        "      side = 'Centrale'\n",
        "  \n",
        "  else:\n",
        "    if y_value < -16:\n",
        "      side = 'Destra'\n",
        "    elif y_value > 16:\n",
        "      side = 'Sinistra'\n",
        "    else:\n",
        "      side = 'Centrale'\n",
        "\n",
        "  return side\n",
        "\n",
        "player_zones = spark.createDataFrame(pre_player_zones.rdd.map(lambda a : list(a)+[defineLato(a)]), pre_player_zones.columns+['lato'])\n",
        "\n",
        "player_zones.show(50)"
      ]
    },
    {
      "cell_type": "code",
      "execution_count": null,
      "metadata": {
        "id": "2ugVSPwiaT-v"
      },
      "outputs": [],
      "source": [
        "timings_list = timings#list(map(lambda a : a[0], possess.select('time').distinct().collect()))\n",
        "timings_list"
      ]
    },
    {
      "cell_type": "code",
      "execution_count": null,
      "metadata": {
        "id": "AUd0IhQBblDQ"
      },
      "outputs": [],
      "source": [
        "player_zones.where(player_zones['team'] == team_a.title()).show(60)"
      ]
    },
    {
      "cell_type": "code",
      "execution_count": null,
      "metadata": {
        "id": "EmzqfJci9due"
      },
      "outputs": [],
      "source": [
        "from pyspark.ml.feature import VectorAssembler\n",
        "from pyspark.ml.clustering import KMeans\n",
        "\n",
        "def findTimeRoles(time_,player_zones_df,var):\n",
        "  \n",
        "  player_zones_t = player_zones_df.where(player_zones_df['time'] == time_).where((player_zones_df['player_id'].isin(['Maignan','Radunovic','Audero']))==False)\n",
        "  vecAssembler = VectorAssembler(inputCols=[var], outputCol=\"features\")\n",
        "  new_df_t = vecAssembler.transform(player_zones_t)\n",
        "\n",
        "  kmeans_t = KMeans(k=3, seed=1)  # 3 clusters here\n",
        "  model_t = kmeans_t.fit(new_df_t.select('features'))\n",
        "  \n",
        "  transformed_t = model_t.transform(new_df_t)\n",
        "\n",
        "  return transformed_t\n",
        "\n",
        "player_zones_f_team = findTimeRoles(timings_list[0],player_zones.where(player_zones['team'] == team_a.title()),'x').drop('features').withColumnRenamed('prediction','prediction_x')\n",
        "player_zones_ff_team = findTimeRoles(timings_list[0],player_zones_f_team.where(player_zones_f_team['team'] == team_a.title()),'y').drop('features').withColumnRenamed('prediction','prediction_y')\n",
        "\n",
        "#player_zones_f_opp = findTimeRoles(timings_list[0],player_zones.where(player_zones['team'] == opponent.title()),'x').drop('features').withColumnRenamed('prediction','prediction_x')\n",
        "#player_zones_ff_opp = findTimeRoles(timings_list[0],player_zones_f_opp.where(player_zones_f_opp['team'] == opponent.title()),'y').drop('features').withColumnRenamed('prediction','prediction_y')\n",
        "\n",
        "for j in timings_list[1:]:\n",
        "  player_zones_fff_team = findTimeRoles(j,player_zones.where(player_zones['team'] == team_a.title()),'x').drop('features').withColumnRenamed('prediction','prediction_x')\n",
        "  player_zones_fff_team_2 = findTimeRoles(j,player_zones_fff_team.where(player_zones_fff_team['team'] == team_a.title()),'y').drop('features').withColumnRenamed('prediction','prediction_y')\n",
        "  player_zones_ff_team = player_zones_ff_team.union(player_zones_fff_team_2)\n",
        "  #player_zones_fff_opp = findTimeRoles(j,player_zones.where(player_zones['team'] == opponent.title()),'x').drop('features').withColumnRenamed('prediction','prediction_x')\n",
        "  #player_zones_fff_opp_2 = findTimeRoles(j,player_zones_fff_opp.where(player_zones_fff_opp['team'] == opponent.title()),'y').drop('features').withColumnRenamed('prediction','prediction_y')\n",
        "  #player_zones_ff_opp = player_zones_ff_opp.union(player_zones_fff_opp_2)"
      ]
    },
    {
      "cell_type": "code",
      "execution_count": null,
      "metadata": {
        "id": "iVp27dkZfv_O"
      },
      "outputs": [],
      "source": [
        "player_zones_f = player_zones_ff_team#.union(player_zones_ff_opp)"
      ]
    },
    {
      "cell_type": "code",
      "execution_count": null,
      "metadata": {
        "id": "XwoZVuEuDw9o"
      },
      "outputs": [],
      "source": [
        "player_zones_f.where(player_zones_f['team'] == team_a.title()).where(player_zones_f['time'] == 289).orderBy('time','prediction_x','prediction_y').show(70)"
      ]
    },
    {
      "cell_type": "code",
      "execution_count": null,
      "metadata": {
        "id": "IXaFy7ZKnIWD"
      },
      "outputs": [],
      "source": [
        "player_zones_team = player_zones_f.where(player_zones_f['team'] == team_a.title())"
      ]
    },
    {
      "cell_type": "code",
      "execution_count": null,
      "metadata": {
        "id": "BMzYI1vRKbMV"
      },
      "outputs": [],
      "source": [
        "avg_lines_side_team = player_zones_team.groupBy('time','prediction_x','prediction_y','verse').agg(func.avg('x'),func.avg('y'))\n",
        "\n",
        "pd_avg_lines_side_team = avg_lines_side_team.toPandas()"
      ]
    },
    {
      "cell_type": "code",
      "execution_count": null,
      "metadata": {
        "id": "xpz2l7c1NHLL"
      },
      "outputs": [],
      "source": [
        "import itertools\n",
        "\n",
        "def defineLinesFromAvg(time_comp,pd_avg_lines_side_team):\n",
        "\n",
        "  lines_per_time = []\n",
        "\n",
        "  panda_gr_x = pd_avg_lines_side_team[pd_avg_lines_side_team['time']== time_comp].groupby(by='prediction_x').mean('avg(x)').sort_values(by = 'avg(x)')\n",
        "  lines_x = list(panda_gr_x.index)\n",
        "  avg_x = panda_gr_x['avg(x)'].values.tolist()\n",
        "  panda_gr_y = pd_avg_lines_side_team[pd_avg_lines_side_team['time']== time_comp].groupby(by='prediction_y').mean('avg(y)').sort_values(by = 'avg(y)')\n",
        "  lines_y = list(panda_gr_y.index)\n",
        "  avg_y = panda_gr_y['avg(y)'].values.tolist()\n",
        "\n",
        "  if verse == 'left_to_right':\n",
        "    translate_x = {'0':'Linea Difensiva','1':'Seconda Linea','2':'Terza Linea'}\n",
        "    translate_y = {'0':'Sinistra','1':'Centrale','2':'Destra'}\n",
        "  else:\n",
        "    translate_x = {'2':'Linea Difensiva','1':'Seconda Linea','0':'Terza Linea'}\n",
        "    translate_y = {'0':'Destra','1':'Centrale','2':'Sinistra'}\n",
        "\n",
        "  for k in lines_y:\n",
        "    for j in lines_x: \n",
        "      lines_per_time.append([time_comp, j, k, avg_x[lines_x.index(j)], translate_x[str(lines_x.index(j))],avg_y[lines_y.index(k)], translate_y[str(lines_y.index(k))]])\n",
        "    \n",
        "  return lines_per_time"
      ]
    },
    {
      "cell_type": "code",
      "execution_count": null,
      "metadata": {
        "id": "u2jRLsXJey3X"
      },
      "outputs": [],
      "source": [
        "sparkContext=spark.sparkContext\n",
        "timings_rdd = sparkContext.parallelize(timings)"
      ]
    },
    {
      "cell_type": "code",
      "execution_count": null,
      "metadata": {
        "id": "K7PSCqFtVrhh"
      },
      "outputs": [],
      "source": [
        "lines_definition_per_time = spark.createDataFrame(timings_rdd.flatMap(lambda c : defineLinesFromAvg(c,pd_avg_lines_side_team)), ['time','prediction_x','prediction_y','avg_x','linea','avg_y','lato_new'])"
      ]
    },
    {
      "cell_type": "code",
      "execution_count": null,
      "metadata": {
        "id": "vfRgUl6cWwqy"
      },
      "outputs": [],
      "source": [
        "pre_player_zones_team_final = player_zones_team.drop('lato').join(lines_definition_per_time,['time','prediction_x','prediction_y'])\n",
        "pre_player_zones_team_final = pre_player_zones_team_final.withColumnRenamed('linea','linea_di_pressione')\n",
        "player_zones_team_final = pre_player_zones_team_final.withColumnRenamed('lato_new','lato').select('time','linea_di_pressione','lato','avg_x','avg_y').distinct()"
      ]
    },
    {
      "cell_type": "code",
      "execution_count": null,
      "metadata": {
        "id": "wDwl98wmw9uw"
      },
      "outputs": [],
      "source": [
        "pre_player_zones_team_final.show()"
      ]
    },
    {
      "cell_type": "code",
      "execution_count": null,
      "metadata": {
        "id": "ah09cl-jkkYP"
      },
      "outputs": [],
      "source": [
        "all_team_lines_and_side = pre_player_zones_team_final.toPandas()"
      ]
    },
    {
      "cell_type": "code",
      "execution_count": null,
      "metadata": {
        "id": "rq2z6nkILpal"
      },
      "outputs": [],
      "source": [
        "pd_avg_lines_pivot = player_zones_team_final.toPandas()"
      ]
    },
    {
      "cell_type": "code",
      "execution_count": null,
      "metadata": {
        "id": "VPBhrR7roV7A"
      },
      "outputs": [],
      "source": [
        "'''\n",
        "def func_y_value(y):\n",
        "  \n",
        "  if y > 11:\n",
        "    return 'Sinistra'\n",
        "  elif y < -11:\n",
        "    return 'Destra'\n",
        "  else:\n",
        "    return 'Centrale'\n",
        "  \n",
        "def defineLine(t,pre_panda,verse_t,translate_dict,asse,index):\n",
        "  \n",
        "  if asse == 'x':\n",
        "    var = 'prediction_y'\n",
        "  else:\n",
        "    var = 'prediction_x'\n",
        "\n",
        "  out = []\n",
        "\n",
        "  for i in [0,1,2]:\n",
        "    try:\n",
        "      pre_panda_f = pre_panda[pre_panda['time'] == t][pre_panda[var] == i].values.tolist()\n",
        "      \n",
        "      if verse_t == 'right_to_left':\n",
        "        pre_panda_f_sort = sorted(pre_panda_f, key = itemgetter(index), reverse = True)\n",
        "      else:\n",
        "        pre_panda_f_sort = sorted(pre_panda_f, key = itemgetter(index))\n",
        "      \n",
        "      if asse == 'x':\n",
        "        pre_panda_f_sort_defined = list(map(lambda c : list(c)+[translate_dict[str(pre_panda_f_sort.index(c))]],pre_panda_f_sort))\n",
        "      else:\n",
        "        pre_panda_f_sort_defined = list(map(lambda c : list(c)+[func_y_value(c[index])],pre_panda_f_sort))\n",
        "\n",
        "      out = out + pre_panda_f_sort_defined\n",
        "    except:\n",
        "      pass\n",
        "\n",
        "  \n",
        "  return out\n",
        "\n",
        "translate_x = {'0':'Linea Difensiva','1':'Seconda Linea', '2': 'Terza Linea'}\n",
        "translate_y = {'0':'Sinistra','1':'Centrale', '2': 'Destra'}\n",
        "\n",
        "x_index = avg_lines_side_team.columns.index('avg(x)')\n",
        "y_index = avg_lines_side_team.columns.index('avg(y)')\n",
        "\n",
        "df_avg_lines_x = spark.createDataFrame(timings_rdd.flatMap(lambda a : defineLine(a,pd_avg_lines_side_team,verse,translate_x,'x',x_index)),['time','cluster_x','cluster_y','verse','avg_x','avg_y','linea_di_pressione'])\n",
        "df_avg_lines_y = spark.createDataFrame(timings_rdd.flatMap(lambda b : defineLine(b,pd_avg_lines_side_team,verse,translate_y,'y',y_index)),['time','cluster_x','cluster_y','verse','avg_x','avg_y','lato'])\n",
        "\n",
        "df_avg_lines = df_avg_lines_x.join(df_avg_lines_y.drop('avg_x').drop('avg_y').drop('verse'), ['time','cluster_x','cluster_y'])\n",
        "\n",
        "df_avg_lines = df_avg_lines.withColumn('avg_y',df_avg_lines['avg_y'].cast(DoubleType())).withColumn('avg_x',df_avg_lines['avg_x'].cast(DoubleType())).orderBy('time','linea_di_pressione','lato')\n",
        "df_avg_lines = df_avg_lines.withColumn('linea_lato', concat(col('linea_di_pressione'),lit(' '),col('lato')))\n",
        "df_avg_lines_pivot = df_avg_lines.groupBy('time','verse','lato','linea_di_pressione').agg(func.avg('avg_x'),func.avg('avg_y')).withColumnRenamed('avg(avg_x)','avg_x').withColumnRenamed('avg(avg_y)','avg_y')\n",
        "\n",
        "df_avg_lines_pivot.show()\n",
        "\n",
        "pd_avg_lines_pivot = df_avg_lines_pivot.toPandas()\n",
        "'''"
      ]
    },
    {
      "cell_type": "code",
      "execution_count": null,
      "metadata": {
        "id": "b0LEdGc9pPrU"
      },
      "outputs": [],
      "source": [
        "pd_player_zones = player_zones.toPandas()\n",
        "pd_player_zones"
      ]
    },
    {
      "cell_type": "code",
      "execution_count": null,
      "metadata": {
        "id": "tpqHMrcgGXwM"
      },
      "outputs": [],
      "source": [
        "player_index = player_zones.columns.index('player_id')\n",
        "x_index = player_zones.columns.index('x')\n",
        "y_index = player_zones.columns.index('y')\n",
        "team_index = player_zones.columns.index('team')\n",
        "verse_index = player_zones.columns.index('verse') \n",
        "time_index = player_zones.columns.index('time') \n",
        "\n",
        "player_zones.columns, team_index"
      ]
    },
    {
      "cell_type": "code",
      "execution_count": null,
      "metadata": {
        "id": "6HDbVrJxtDZ1"
      },
      "outputs": [],
      "source": [
        "from numpy.core.function_base import geomspace\n",
        "def definePositionBetweenLines(x):\n",
        "  \n",
        "  player = x[player_index]\n",
        "  x_value = x[x_index]\n",
        "  y_value = x[y_index]\n",
        "  team = x[team_index]\n",
        "  verse = x[verse_index]\n",
        "  time = x[time_index]\n",
        "\n",
        "  pd_time = pd_avg_lines_pivot[pd_avg_lines_pivot['time'] == time]\n",
        "  pd_player_time = pd_player_zones[pd_player_zones['time'] == time][pd_player_zones['team'] == team_a.title()][pd_player_zones['player_id'] != 'Maignan']\n",
        "\n",
        "  #terza_linea = float(x[-1])\n",
        "  \n",
        "  if verse == 'right_to_left': \n",
        "    destra = -33.0\n",
        "    sinistra = 33.0\n",
        "    terza_linea = -52.0\n",
        "  else:\n",
        "    destra = 33.0\n",
        "    sinistra = -33.0\n",
        "    terza_linea = 52.0\n",
        "\n",
        "  centrale = float(np.mean(pd_time[pd_time['lato'] == 'Centrale']['avg_y'].values.tolist()))\n",
        "  if len(pd_time[pd_time['lato'] == 'Destra']) > 0:\n",
        "    destra = float(np.mean(pd_time[pd_time['lato'] == 'Destra']['avg_y'].values.tolist()))\n",
        "  if len(pd_time[pd_time['lato'] == 'Sinistra']) > 0:\n",
        "    sinistra = float(np.mean(pd_time[pd_time['lato'] == 'Sinistra']['avg_y'].values.tolist()))\n",
        "  \n",
        "  linea_difensiva = float(np.mean(pd_time[pd_time['linea_di_pressione'] == 'Linea Difensiva']['avg_x'].values.tolist()))\n",
        "  seconda_linea = float(np.mean(pd_time[pd_time['linea_di_pressione'] == 'Seconda Linea']['avg_x'].values.tolist()))\n",
        "  if len(pd_time[pd_time['linea_di_pressione'] == 'Terza Linea']) > 0:\n",
        "    terza_linea = float(np.mean(pd_time[pd_time['linea_di_pressione'] == 'Terza Linea']['avg_x'].values.tolist()))\n",
        "  else:\n",
        "    if verse == 'right_to_left':\n",
        "      most_advanced_player_x = float(np.min(pd_player_time['x'].values.tolist()))\n",
        "    else:\n",
        "      most_advanced_player_x = float(np.max(pd_player_time['x'].values.tolist()))\n",
        "    \n",
        "    terza_linea = most_advanced_player_x\n",
        "  \n",
        "  list_lines = list(map(lambda a : float(np.round(a,1)), [linea_difensiva, seconda_linea,terza_linea]))\n",
        "  list_lines_lato = list(map(lambda a : float(np.round(a,1)), [centrale,destra,sinistra]))\n",
        " \n",
        "  if team == opponent.title():\n",
        "\n",
        "    if verse == 'right_to_left':\n",
        "      \n",
        "      if x_value >= seconda_linea and x_value <= linea_difensiva:\n",
        "        destro = float(np.mean(pd_time[pd_time['linea_di_pressione'].isin(['Linea Difensiva','Seconda Linea'])][pd_time['lato'] == 'Destra']['avg_y'].values.tolist()))\n",
        "        sinistro = float(np.mean(pd_time[pd_time['linea_di_pressione'].isin(['Linea Difensiva','Seconda Linea'])][pd_time['lato'] == 'Sinistra']['avg_y'].values.tolist()))\n",
        "        centrale = float(np.mean(pd_time[pd_time['linea_di_pressione'].isin(['Linea Difensiva','Seconda Linea'])][pd_time['lato'] == 'Centrale']['avg_y'].values.tolist()))\n",
        "\n",
        "        posizione = 'Tra le linee'\n",
        "\n",
        "      elif x_value > linea_difensiva:\n",
        "        destro = float(np.mean(pd_time[pd_time['linea_di_pressione'].isin(['Linea Difensiva'])][pd_time['lato'] == 'Destra']['avg_y'].values.tolist()))\n",
        "        sinistro = float(np.mean(pd_time[pd_time['linea_di_pressione'].isin(['Linea Difensiva'])][pd_time['lato'] == 'Sinistra']['avg_y'].values.tolist()))\n",
        "        centrale = float(np.mean(pd_time[pd_time['linea_di_pressione'].isin(['Linea Difensiva'])][pd_time['lato'] == 'Centrale']['avg_y'].values.tolist()))\n",
        "       \n",
        "        posizione = 'Profondità'\n",
        "      \n",
        "      elif x_value > seconda_linea-6.0 and x_value < seconda_linea:\n",
        "        destro = float(np.mean(pd_time[pd_time['linea_di_pressione'].isin(['Linea Difensiva','Seconda Linea'])][pd_time['lato'] == 'Destra']['avg_y'].values.tolist()))\n",
        "        sinistro = float(np.mean(pd_time[pd_time['linea_di_pressione'].isin(['Linea Difensiva','Seconda Linea'])][pd_time['lato'] == 'Sinistra']['avg_y'].values.tolist()))\n",
        "        centrale = float(np.mean(pd_time[pd_time['linea_di_pressione'].isin(['Linea Difensiva','Seconda Linea'])][pd_time['lato'] == 'Centrale']['avg_y'].values.tolist()))\n",
        "\n",
        "        posizione = 'Possibile Inserimento'\n",
        "\n",
        "      else:\n",
        "        posizione = ''\n",
        "      \n",
        "      try:\n",
        "        if y_value < destro:\n",
        "          lato = 'Ampiezza Destra'\n",
        "        elif y_value > sinistro:\n",
        "          lato =  'Ampiezza Sinistra'\n",
        "        elif y_value <= sinistro and y_value > centrale:\n",
        "          lato =  'Centro-Sinistra'\n",
        "        elif y_value >= destro and y_value <= centrale:\n",
        "          lato =  'Centro-Destra'\n",
        "        else:\n",
        "          lato = ''\n",
        "      except:\n",
        "        lato = ''\n",
        "        \n",
        "    else:\n",
        "        \n",
        "      if x_value < seconda_linea and x_value > linea_difensiva:\n",
        "        destro = float(np.mean(pd_time[pd_time['linea_di_pressione'].isin(['Linea Difensiva','Seconda Linea'])][pd_time['lato'] == 'Destra']['avg_y'].values.tolist()))\n",
        "        sinistro = float(np.mean(pd_time[pd_time['linea_di_pressione'].isin(['Linea Difensiva','Seconda Linea'])][pd_time['lato'] == 'Sinistra']['avg_y'].values.tolist()))\n",
        "        centrale = float(np.mean(pd_time[pd_time['linea_di_pressione'].isin(['Linea Difensiva','Seconda Linea'])][pd_time['lato'] == 'Centrale']['avg_y'].values.tolist()))\n",
        "\n",
        "        posizione = 'Tra le Linee'\n",
        "      elif x_value < linea_difensiva:\n",
        "        destro = float(np.mean(pd_time[pd_time['linea_di_pressione'].isin(['Linea Difensiva'])][pd_time['lato'] == 'Destra']['avg_y'].values.tolist()))\n",
        "        sinistro = float(np.mean(pd_time[pd_time['linea_di_pressione'].isin(['Linea Difensiva'])][pd_time['lato'] == 'Sinistra']['avg_y'].values.tolist()))\n",
        "        centrale = float(np.mean(pd_time[pd_time['linea_di_pressione'].isin(['Linea Difensiva'])][pd_time['lato'] == 'Centrale']['avg_y'].values.tolist()))\n",
        "       \n",
        "        posizione = 'Profondità'\n",
        "\n",
        "      elif x_value < seconda_linea+6.0 and x_value > seconda_linea:\n",
        "        destro = float(np.mean(pd_time[pd_time['linea_di_pressione'].isin(['Linea Difensiva','Seconda Linea'])][pd_time['lato'] == 'Destra']['avg_y'].values.tolist()))\n",
        "        sinistro = float(np.mean(pd_time[pd_time['linea_di_pressione'].isin(['Linea Difensiva','Seconda Linea'])][pd_time['lato'] == 'Sinistra']['avg_y'].values.tolist()))\n",
        "        centrale = float(np.mean(pd_time[pd_time['linea_di_pressione'].isin(['Linea Difensiva','Seconda Linea'])][pd_time['lato'] == 'Centrale']['avg_y'].values.tolist()))\n",
        "\n",
        "        posizione = 'Possibile Inserimento'\n",
        "\n",
        "      else:\n",
        "        posizione = ''\n",
        "\n",
        "      try:\n",
        "        if y_value > destro:\n",
        "          lato = 'Ampiezza Destra'\n",
        "        elif y_value < sinistro:\n",
        "          lato =  'Ampiezza Sinistra'\n",
        "        elif y_value >= sinistro and y_value < centrale:\n",
        "          lato =  'Centro-Sinistra'\n",
        "        elif y_value <= destro and y_value >= centrale:\n",
        "          lato =  'Centro-Destra'\n",
        "        else:\n",
        "          lato = ''\n",
        "      except:\n",
        "        lato = ''\n",
        "\n",
        "  else:\n",
        "    if player != 'Maignan':\n",
        "      posizione,lato = all_team_lines_and_side[all_team_lines_and_side['player_id'] == player][all_team_lines_and_side['time'] == time][['linea_di_pressione','lato_new']].values.tolist()[0]\n",
        "      if verse == 'right_to_left':\n",
        "        if (x_value >= linea_difensiva-6.0 and x_value < linea_difensiva-1.0) and posizione == \"Seconda Linea\":\n",
        "          posizione = 'Seconda Linea - Schermo'\n",
        "      else:\n",
        "        if (x_value <= linea_difensiva+6.0 and x_value > linea_difensiva+1.0) and posizione == \"Seconda Linea\":\n",
        "          posizione = 'Seconda Linea - Schermo'\n",
        "  \n",
        "    else:\n",
        "      posizione = ''\n",
        "      lato = ''\n",
        "  \n",
        "\n",
        "  out = list(x)+[posizione,lato,list_lines,list_lines_lato]\n",
        "  return out\n",
        "  \n",
        "positioned_players_ = spark.createDataFrame(player_zones.rdd.map(lambda a : definePositionBetweenLines(a)), player_zones.columns+['posizione_x','lato_new','values_x','values_y'])\n",
        "positioned_players_.where(positioned_players_['time'].isin([4315])).orderBy(['time','team','posizione_x','lato']).show(50)"
      ]
    },
    {
      "cell_type": "code",
      "execution_count": null,
      "metadata": {
        "id": "SM3BNUiJvxCJ"
      },
      "outputs": [],
      "source": [
        "positioned_players_r = positioned_players_.drop('lato_new').drop('values_x').drop('values_y')\n",
        "positioned_players_rr = positioned_players_r#.withColumnRenamed('lato_new','lato')"
      ]
    },
    {
      "cell_type": "code",
      "execution_count": null,
      "metadata": {
        "id": "DUHmv4r9U7yN"
      },
      "outputs": [],
      "source": [
        "positioned_players_out = positioned_players_rr.drop('type')"
      ]
    },
    {
      "cell_type": "code",
      "execution_count": null,
      "metadata": {
        "id": "FIGnXqE14xiY"
      },
      "outputs": [],
      "source": [
        "positioned_players_out.orderBy('time','team','posizione_x','lato').show(22)"
      ]
    },
    {
      "cell_type": "code",
      "execution_count": null,
      "metadata": {
        "id": "q909SEBccdgC"
      },
      "outputs": [],
      "source": [
        "def addNegativeProb(x):\n",
        "\n",
        "  team = x[team_index] \n",
        "  probability = x[prob_index]\n",
        "\n",
        "  if team == team_a.title(): \n",
        "    new_prob = -float(probability) \n",
        "  else: \n",
        "    new_prob = float(probability)\n",
        "\n",
        "  y = list(x[:prob_index])+[new_prob]+list(x[1+prob_index:])\n",
        "\n",
        "  return y\n",
        "\n",
        "pitch_pivot_union = pitch_pivot.distinct()\n",
        "\n",
        "team_index, prob_index = pitch_pivot_union.columns.index('team'), pitch_pivot_union.columns.index('probability')\n",
        "\n",
        "pitch_pivot_union = spark.createDataFrame(pitch_pivot_union.rdd.map(lambda y : addNegativeProb(y)), pitch_pivot_union.columns)\n",
        "\n",
        "for i in players_locs.columns: \n",
        "  if 'class' in str(i): \n",
        "    pitch_pivot_union = pitch_pivot_union.withColumn(str(i), lit(''))\n",
        "\n",
        "out = pitch_pivot_union.union(players_locs.select(pitch_pivot_union.columns)).union(ball_locs.select(pitch_pivot_union.columns)).withColumnRenamed('player_id','player')  "
      ]
    },
    {
      "cell_type": "code",
      "execution_count": null,
      "metadata": {
        "id": "V_TccW8BCjQU"
      },
      "outputs": [],
      "source": [
        "pd_pitch = max_pitch_pivot_jj.toPandas()"
      ]
    },
    {
      "cell_type": "code",
      "execution_count": null,
      "metadata": {
        "id": "BK11EmyUwBEj"
      },
      "outputs": [],
      "source": [
        "panda_possess = possess.toPandas()\n",
        "panda_possess_x_y = out.where(out.team != team_a.title()).where(out.team != opponent.title()).toPandas()"
      ]
    },
    {
      "cell_type": "code",
      "execution_count": null,
      "metadata": {
        "id": "2DW1BSf2CjQU"
      },
      "outputs": [],
      "source": [
        "from bisect import bisect\n",
        "from pyspark.sql.window import Window\n",
        "\n",
        "def areaDanger(d,x_ranges,y_ranges):\n",
        "  \n",
        "  if d[verse_index] == 'left_to_right':\n",
        "    x_values = x_ranges_value_right_to_left\n",
        "  else:\n",
        "    x_values = x_ranges_value_left_to_right\n",
        "  \n",
        "  try:\n",
        "    x_value = x_values[bisect(x_ranges,d[x_index])]\n",
        "  except:\n",
        "    try:\n",
        "      x_value = x_values[bisect(x_ranges,d[x_index])-1]\n",
        "    except:\n",
        "      x_value = x_values[bisect(x_ranges,d[x_index])+1]\n",
        "      \n",
        "  try:\n",
        "    y_value = y_ranges_value[bisect(y_ranges,d[y_index])]\n",
        "  except:\n",
        "    try:\n",
        "      y_value = y_ranges_value[bisect(y_ranges,d[y_index])-1]\n",
        "    except:\n",
        "      y_value = y_ranges_value[bisect(y_ranges,d[y_index])+1]\n",
        "  \n",
        "  if x_value < 50:\n",
        "    y_value = 10\n",
        "  \n",
        "  return [bisect(x_ranges,d[x_index]),bisect(y_ranges,d[y_index]),float(np.round(x_value,0)),float(np.round(y_value,0)),float(np.round(x_value+y_value,0))]\n",
        " \n",
        "def findOpponentsOvercomeByThePass(x,panda,panda_possess,pd_pitch):\n",
        "  \n",
        "  player_x = x[x_index]\n",
        "  player_y = x[y_index]\n",
        "  verse = x[verse_index]\n",
        "  time_ = x[time_index]\n",
        "  \n",
        "  player_possess = panda_possess[panda_possess['time'] == time_]['player_in_possess'].values.tolist()[0]\n",
        "  possess_x,possess_y = panda_possess[panda_possess['time'] == time_][['x','y']].values.tolist()[0]\n",
        "  \n",
        "  sit_x = player_x\n",
        "  sit_y = player_y\n",
        "\n",
        "  x_advancement_flag = float(np.sign(team_a_goal_line[0] - player_x))\n",
        "\n",
        "  values_x = [sit_x-(x_advancement_flag*10),sit_x+(x_advancement_flag*10)]\n",
        "\n",
        "  back_min_x,ahead_max_x = float(np.min(values_x)),float(np.max(values_x))\n",
        "\n",
        "  up_y = sit_y+10\n",
        "  down_y = sit_y-10\n",
        "\n",
        "  quarters_control_percentages = []\n",
        "\n",
        "  close_opponents_panda = panda[panda['team'] == team_a.title()][panda['time'] == time_][panda['x'] > player_x-4.0][panda['x'] < player_x+4.0][panda['y'] > player_y-4.0][panda['x'] < player_y+4.0]\n",
        "  close_opponents = len(close_opponents_panda)\n",
        "  opponents_x_y = panda[panda['team'] == team_a.title()][panda['time'] == time_][panda['player_id'] != team_a_goalies][['x','y']].values.tolist()\n",
        "  \n",
        "  #player_distance_from_goal_line = float(np.sqrt((player_x - team_a_goal_line[0])**2 + (player_y - team_a_goal_line[1])**2))\n",
        "  #possess_distance_from_goal_line = float(np.sqrt((possess_x - team_a_goal_line[0])**2 + (possess_y - team_a_goal_line[1])**2))\n",
        "\n",
        "  if verse == 'left_to_right':\n",
        "    player_x_distance_from_goal_line = float(player_x - team_a_goal_line[0])\n",
        "    possess_x_distance_from_goal_line = float(possess_x - team_a_goal_line[0])\n",
        "  else:\n",
        "    player_x_distance_from_goal_line = -float(player_x - team_a_goal_line[0])\n",
        "    possess_x_distance_from_goal_line = -float(possess_x - team_a_goal_line[0])\n",
        "  \n",
        "  team_advancement_x = possess_x_distance_from_goal_line - player_x_distance_from_goal_line\n",
        "  ball_distance = float(np.sqrt((player_x-possess_x)**2+(player_y-possess_y)**2))\n",
        "\n",
        "  #opponents_distances_to_goal_line = []\n",
        "  opponents_distances_to_goal_line_x = []\n",
        "\n",
        "  for j in opponents_x_y:\n",
        "    if verse == 'left_to_right':\n",
        "      dist = -float(team_a_goal_line[0]-j[0])\n",
        "    else:\n",
        "      dist = float(team_a_goal_line[0]-j[0])\n",
        "\n",
        "    #opponents_distances_to_goal_line.append(float(np.sqrt((team_a_goal_line[0]-j[0])**2+(team_a_goal_line[1]-j[1])**2)))\n",
        "    opponents_distances_to_goal_line_x.append(dist)\n",
        "    \n",
        "  #opponents_from_goal_line = len(list(filter(lambda a : a < player_distance_from_goal_line-1.0, opponents_distances_to_goal_line)))\n",
        "  #opponents_from_possess_to_goal_line = len(list(filter(lambda a : a < possess_distance_from_goal_line-1.0, opponents_distances_to_goal_line)))\n",
        "\n",
        "  opponents_from_goal_line_x = len(list(filter(lambda a : a < player_x_distance_from_goal_line-4.0, opponents_distances_to_goal_line_x)))\n",
        "  opponents_from_possess_to_goal_line_x = len(list(filter(lambda a : a < possess_x_distance_from_goal_line-1.0, opponents_distances_to_goal_line_x)))\n",
        "\n",
        "  #opponents_cut = opponents_from_possess_to_goal_line-opponents_from_goal_line\n",
        "  opponents_cut_x = opponents_from_possess_to_goal_line_x-opponents_from_goal_line_x\n",
        "\n",
        "  #return [closest_opponent_distance,opponents_from_goal_line,close_opponents,player_distance_from_goal_line,opponents_cut]\n",
        "  return [opponents_from_possess_to_goal_line_x,close_opponents,player_x_distance_from_goal_line,opponents_cut_x,team_advancement_x,ball_distance]\n",
        "  \n",
        "pre_kpis = max_pitch_pivot_jjj.where((max_pitch_pivot_jjj['player_id'].isin([team_a_goalies])) == False).select('player_id','team','verse','time','x','y').distinct()\n",
        "\n",
        "verse_index = pre_kpis.columns.index('verse')\n",
        "time_index = pre_kpis.columns.index('time')\n",
        "y_index = pre_kpis.columns.index('y')\n",
        "x_index = pre_kpis.columns.index('x')\n",
        "\n",
        "pre_kpis = pre_kpis.withColumn('x', pre_kpis['x'].cast(DoubleType())).withColumn('y', pre_kpis['y'].cast(DoubleType()))\n",
        "\n",
        "ppp_area_targets = spark.createDataFrame(pre_kpis.rdd.map(lambda g : list(g)+areaDanger(g,x_ranges,y_ranges)+findOpponentsOvercomeByThePass(g,panda_locs,panda_possess,pd_pitch)), pre_kpis.columns+['x_area','y_area','x_value','y_value','area_value','possess_opponents_from_goal_line','close_opponents','player_distance_from_goal_line','opponents_cut','team_advancement','ball_distance'])\n"
      ]
    },
    {
      "cell_type": "code",
      "execution_count": null,
      "metadata": {
        "id": "ooJCkCrwytZL"
      },
      "outputs": [],
      "source": [
        "area_targets_advance_pre_final = ppp_area_targets.select('player_id','time','team','area_value','ball_distance','possess_opponents_from_goal_line','x','y','close_opponents','player_distance_from_goal_line','opponents_cut','team_advancement','verse').distinct()\n",
        "\n",
        "area_targets_advance_pre_final.show()"
      ]
    },
    {
      "cell_type": "code",
      "execution_count": null,
      "metadata": {
        "id": "GoOqhXPyFCzU"
      },
      "outputs": [],
      "source": [
        "def singlePointOpponents(x,y,panda_locs,opponent,time_,meters_to_intercept,possess_x,possess_y,fromPossessOrToGoal):\n",
        "  \n",
        "  distance = distance = float(np.sqrt(((x-possess_x)**2)+((y-possess_y)**2)))\n",
        "  opps =  panda_locs[panda_locs['team'] == team_a.title()][panda_locs['player_id'] != 'Maignan'] #automatizzare -> team_a_goalies è in codice (p123...)\n",
        "\n",
        "  if fromPossessOrToGoal == 'possess':\n",
        "    opponent_meters_run = 3.0*(float(distance)/20.0)\n",
        "    on_trajectory = opps[opps['time'] == time_][opps['x'] > x-meters_to_intercept-opponent_meters_run][opps['x'] < x+meters_to_intercept+opponent_meters_run][opps['y'] > y-meters_to_intercept-opponent_meters_run][opps['y'] < y+meters_to_intercept+opponent_meters_run]['player_id'].values.tolist()\n",
        " \n",
        "  else:\n",
        "    players_opps = opps['player_id'].values.tolist()\n",
        "    \n",
        "    on_trajectory = []\n",
        "\n",
        "    for p in players_opps:\n",
        "      player_x,player_y = opps[opps['player_id'] == p][['x','y']].values.tolist()[0]\n",
        "      player_distance = float(np.sqrt(((x-player_x)**2)+((y-player_y)**2)))\n",
        "      if distance > 30:\n",
        "        if player_distance < distance-4.0:\n",
        "          on_trajectory.append(p)\n",
        "      else:\n",
        "        if player_distance < distance-0.5:\n",
        "          on_trajectory.append(p)\n",
        "\n",
        "\n",
        "  return on_trajectory\n",
        "\n",
        "def interceptionOpponentsFix(player,time_,target_x,target_y,verse,panda,panda_possess,fromPossessOrToGoal):\n",
        "  \n",
        "  if fromPossessOrToGoal == 'possess':\n",
        "    player_possess = panda_possess[panda_possess['time'] == time_]['player_in_possess'].values.tolist()[0]\n",
        "    possess_x,possess_y = panda_possess[panda_possess['time'] == time_][['x','y']].values.tolist()[0]\n",
        "  else:\n",
        "    player_possess = panda_possess[panda_possess['time'] == time_]['player_in_possess'].values.tolist()[0][0]\n",
        "    possess_x,possess_y = team_a_goal_line[0], team_a_goal_line[1]\n",
        "  \n",
        "  if player == player_possess:\n",
        "    possess_y = possess_y+0.3\n",
        "    possess_x = possess_x+0.3\n",
        "\n",
        "  distance = float(np.sqrt(((target_x-possess_x)**2)+((target_y-possess_y)**2)))\n",
        "  m = (possess_y-target_y)/(possess_x-target_x)\n",
        "  b = (possess_x*target_y - target_x*possess_y)/(possess_x-target_x)\n",
        "\n",
        "  if possess_x > target_x:\n",
        "    xs = sorted(list(np.arange(target_x,possess_x,float(possess_x-target_x)/distance)), reverse = True)\n",
        "  else:\n",
        "    xs = list(np.arange(possess_x,target_x,float(target_x-possess_x)/distance))\n",
        "\n",
        "  pre_trajectory = list(map(lambda xx: [float(xx),float((m*xx)+b)], xs))\n",
        "\n",
        "  if fromPossessOrToGoal == 'possess':\n",
        "    if distance > 30:\n",
        "      trajectory = pre_trajectory[1:11]\n",
        "      interception_opponents = list(itertools.chain.from_iterable(list(map(lambda d : singlePointOpponents(d[0],d[1],panda,opponent,time_,2.0,possess_x,possess_y,fromPossessOrToGoal), trajectory))))\n",
        "      interception_opponents_no_duplicates = len(list(dict.fromkeys(interception_opponents)))\n",
        "    else:\n",
        "      trajectory = pre_trajectory#+[pre_trajectory[-5],pre_trajectory[-4],pre_trajectory[-3],pre_trajectory[-2],pre_trajectory[-1]]\n",
        "      interception_opponents = list(itertools.chain.from_iterable(list(map(lambda d : singlePointOpponents(d[0],d[1],panda,opponent,time_,2.0,possess_x,possess_y,fromPossessOrToGoal), trajectory))))\n",
        "      interception_opponents_no_duplicates = len(list(dict.fromkeys(interception_opponents)))\n",
        "  else:\n",
        "    trajectory = pre_trajectory[1:-10]\n",
        "    interception_opponents = list(itertools.chain.from_iterable(list(map(lambda d : singlePointOpponents(d[0],d[1],panda,opponent,time_,2.0,target_x,target_y,fromPossessOrToGoal), trajectory))))\n",
        "    interception_opponents_no_duplicates = len(list(dict.fromkeys(interception_opponents)))\n",
        "\n",
        "  if str(player) == str(player_possess):\n",
        "    possessFlag = \"Sul portatore\"\n",
        "  else:\n",
        "    possessFlag = \"\"\n",
        "  \n",
        "  pre_interception_opponents = [interception_opponents_no_duplicates]\n",
        "  \n",
        "  if fromPossessOrToGoal == 'possess':\n",
        "    close_opponents_distances = []\n",
        "    if verse == 'right_to_left':\n",
        "      opps_data = panda[panda['time'] == time_][panda['team'] == team_a.title()][panda['x'] > target_x-2.0][['player_id','x','y']].values.tolist()\n",
        "    else:\n",
        "      opps_data = panda[panda['time'] == time_][panda['team'] == team_a.title()][panda['x'] < target_x+2.0][['player_id','x','y']].values.tolist()\n",
        "  \n",
        "    for j in opps_data:\n",
        "     close_opponents_distances.append([j[0],float(np.sqrt((j[1]-target_x)**2+(j[2]-target_y)**2))])\n",
        "    \n",
        "    closest_opponent_player, closest_opponent_distance = sorted(close_opponents_distances, key=itemgetter(1))[0]\n",
        "  \n",
        "    aa_interception_opponents = pre_interception_opponents+[possess_x,possess_y,possessFlag,closest_opponent_distance,closest_opponent_player,' '.join(list(dict.fromkeys(interception_opponents)))]\n",
        "  else:\n",
        "    aa_interception_opponents = pre_interception_opponents+[' '.join(list(dict.fromkeys(list(map(lambda a : str(a[:3]),interception_opponents)))))]\n",
        "  \n",
        "  return aa_interception_opponents"
      ]
    },
    {
      "cell_type": "code",
      "execution_count": null,
      "metadata": {
        "id": "F3QwhgGuqMAN"
      },
      "outputs": [],
      "source": [
        "interception_opps = spark.createDataFrame(area_targets_advance_pre_final.select('player_id','time','x','y','verse').distinct().rdd.map(lambda g : list(g)+list(interceptionOpponentsFix(g[0],g[1],g[2],g[3],g[4],panda_locs,panda_possess,'possess'))+list(interceptionOpponentsFix(g[0],g[1],g[2],g[3],g[4],panda_locs,panda_possess,'goal'))), ['player_id','time','x','y','verse','interception_opponents','possess_goal_x','possess_goal_y','tipo_di_marcatura','closest_opponent_distance','closest_opponent_player','interception_players','opponents_to_goal_line','to_goal_line_players'])"
      ]
    },
    {
      "cell_type": "code",
      "execution_count": null,
      "metadata": {
        "id": "s-2TEzt6vNK0"
      },
      "outputs": [],
      "source": [
        "interception_opps.show()"
      ]
    },
    {
      "cell_type": "code",
      "execution_count": null,
      "metadata": {
        "id": "ruIEEpk7t2Xz"
      },
      "outputs": [],
      "source": [
        "#count e probability\n",
        "\n",
        "count_and_probs = pitch_pivot_union.groupBy('time','player_id').agg(func.count('time'),func.avg('probability')).withColumnRenamed('count(time)','Area (Mq)').withColumnRenamed('avg(probability)','Probabilità di Ricezione')\n",
        "count_and_probs.where(count_and_probs['time'].isin([4315])).orderBy('time').show(50)"
      ]
    },
    {
      "cell_type": "code",
      "execution_count": null,
      "metadata": {
        "id": "vooIQzZAYVI5"
      },
      "outputs": [],
      "source": [
        "duelli = positioned_players_out.join(count_and_probs,['time','player_id'])"
      ]
    },
    {
      "cell_type": "code",
      "execution_count": null,
      "metadata": {
        "id": "HnN-gmte1V23"
      },
      "outputs": [],
      "source": [
        "duelli.where(duelli['time'] == 4315).orderBy('team','posizione_x','lato').show()"
      ]
    },
    {
      "cell_type": "code",
      "execution_count": null,
      "metadata": {
        "id": "1afmVO_iYa2-"
      },
      "outputs": [],
      "source": [
        "kpis = interception_opps.join(count_and_probs, ['time','player_id'])\n",
        "kpis.show()"
      ]
    },
    {
      "cell_type": "code",
      "execution_count": null,
      "metadata": {
        "id": "jD9fROBcaEhf"
      },
      "outputs": [],
      "source": [
        "kpis_out = area_targets_advance_pre_final.drop('x').drop('y').join(kpis.drop('verse'),['time','player_id'])\n",
        "kpis_outtt = kpis_out.drop('_18')#.join(timed_roles, ['time','player_id'])\n",
        "\n",
        "kpis_outtt.show()"
      ]
    },
    {
      "cell_type": "code",
      "execution_count": null,
      "metadata": {
        "id": "QoB-CE_04-Ge"
      },
      "outputs": [],
      "source": [
        "ids = players_ids.select('player_id','last_name').withColumnRenamed('player_id','player').distinct()\n",
        "pd_ids = ids.toPandas()"
      ]
    },
    {
      "cell_type": "code",
      "execution_count": null,
      "metadata": {
        "id": "ogUWyEnv1_us"
      },
      "outputs": [],
      "source": [
        "def addingPlayerName(x,panda):\n",
        "  \n",
        "  try:\n",
        "    last_name = panda[panda['player'] == x[new_player_index]]['last_name'].values.tolist()[0]\n",
        "    return last_name\n",
        "  except:\n",
        "    return x[new_player_index]\n",
        "\n",
        "new_player_index = out.columns.index('player')\n",
        "\n",
        "out_player = spark.createDataFrame(out.where(out['team'] != 'ball').where(out['type'] == 'player').distinct().rdd.map(lambda a : list(a)+[addingPlayerName(a,pd_ids)]), out.columns+['last_name'])\n",
        "out_player_f = out_player.withColumnRenamed('player','player_code')\n",
        "out_player_f1 = out_player_f.withColumnRenamed('last_name','player')\n",
        "out_player_ids = out_player_f1.select(out.columns)\n",
        "\n",
        "out_pitch = out.where(out['type'] == 'pitch')\n",
        "\n",
        "out_player_ff_pre_ball = out_player_ids.union(out_pitch)"
      ]
    },
    {
      "cell_type": "code",
      "execution_count": null,
      "metadata": {
        "id": "XcMFUDga-IvQ"
      },
      "outputs": [],
      "source": [
        "pre_ball_out = spark.createDataFrame(panda_possess)\n",
        "pre_ball_out2 = pre_ball_out.withColumnRenamed('team_in_possess','team').withColumnRenamed('player_in_possess','player').withColumn('type',lit('ball')).withColumn('probability',lit(-150.0))\n",
        "ball_out = pre_ball_out2.select(out_player_ff_pre_ball.columns)\n",
        "\n",
        "pitch_out = out_player_ff_pre_ball.union(ball_out)"
      ]
    },
    {
      "cell_type": "code",
      "execution_count": null,
      "metadata": {
        "id": "WXJOIm-wdABI"
      },
      "outputs": [],
      "source": [
        "pitch_out.groupBy('time','type','team').count().orderBy('time').show(100)"
      ]
    },
    {
      "cell_type": "code",
      "execution_count": null,
      "metadata": {
        "id": "e9nx2-hqCjQW"
      },
      "outputs": [],
      "source": [
        "'''\n",
        "# area_value\n",
        "area_targets_advance_pre_final_area_value = area_targets_advance_pre_final.groupBy('player_id','time').agg(func.avg('area_value'),func.max('area_value')).withColumnRenamed('avg(area_value)','avg_area_value').withColumnRenamed('max(area_value)','max').withColumn('kpi', lit('area_value')).fillna(0.0)\n",
        "area_targets_advance_pre_final_area_value = area_targets_advance_pre_final_area_value.withColumn('area_value_index', (0.45*area_targets_advance_pre_final_area_value['avg_area_value']+0.55*area_targets_advance_pre_final_area_value['max'])).select('player_id','time','avg_area_value','area_value_index')\n",
        "# opponents_cut\n",
        "area_targets_advance_pre_final_opponents_cut = area_targets_advance_pre_final.groupBy('player_id','time').agg(func.avg('opponents_cut'),func.max('opponents_cut')).withColumnRenamed('avg(opponents_cut)','avg_opponents_cut').withColumnRenamed('max(opponents_cut)','max').withColumn('kpi', lit('opponents_cut')).fillna(0.0)\n",
        "area_targets_advance_pre_final_opponents_cut = area_targets_advance_pre_final_opponents_cut.withColumn('opponents_cut_index', (0.45*area_targets_advance_pre_final_opponents_cut['avg_opponents_cut']+0.55*area_targets_advance_pre_final_opponents_cut['max'])).select('player_id','time','avg_opponents_cut','opponents_cut_index')\n",
        "\n",
        "# percentage_zone_in_control\n",
        "#area_targets_advance_pre_final_percentage_zone_in_control = area_targets_advance_pre_final.groupBy('player_id','time').agg(func.avg('percentage_zone_in_control'),func.max('percentage_zone_in_control')).withColumnRenamed('avg(percentage_zone_in_control)','avg').withColumnRenamed('max(percentage_zone_in_control)','max').withColumn('kpi', lit('percentage_zone_in_control'))\n",
        "#area_targets_advance_pre_final_percentage_zone_in_control = area_targets_advance_pre_final_percentage_zone_in_control.withColumn('percentage_zone_in_control_index', func.log((1+(0.45*area_targets_advance_pre_final_percentage_zone_in_control['avg']+0.55*area_targets_advance_pre_final_percentage_zone_in_control['max']))/area_targets_advance_pre_final_percentage_zone_in_control['avg'])).select('player_id','time','percentage_zone_in_control_index')\n",
        "\n",
        "# team_advancement\n",
        "area_targets_advance_pre_final_team_advancement = area_targets_advance_pre_final.groupBy('player_id','time').agg(func.avg('team_advancement'),func.max('team_advancement')).withColumnRenamed('avg(team_advancement)','avg_team_advancement').withColumnRenamed('max(team_advancement)','max').withColumn('kpi', lit('team_advancement')).fillna(0.0)\n",
        "area_targets_advance_pre_final_team_advancement = area_targets_advance_pre_final_team_advancement.withColumn('team_advancement_index', (0.45*area_targets_advance_pre_final_team_advancement['avg_team_advancement']+0.55*area_targets_advance_pre_final_team_advancement['max'])).select('player_id','time','avg_team_advancement','team_advancement_index')\n",
        "# distance_from_target\n",
        "area_targets_advance_pre_final_distance_from_target = area_targets_advance_pre_final.groupBy('player_id','time').agg(func.avg('distance_from_target'),func.max('distance_from_target')).withColumnRenamed('avg(distance_from_target)','avg_distance_from_target').withColumnRenamed('max(distance_from_target)','max').withColumn('kpi', lit('distance_from_target')).fillna(0.0)\n",
        "area_targets_advance_pre_final_distance_from_target = area_targets_advance_pre_final_distance_from_target.withColumn('distance_from_target_index', (0.45*area_targets_advance_pre_final_distance_from_target['avg_distance_from_target']+0.55*area_targets_advance_pre_final_distance_from_target['max'])).select('player_id','time','distance_from_target_index')\n",
        "# probability\n",
        "area_targets_advance_pre_final_probability = area_targets_advance_pre_final.groupBy('player_id','time').agg(func.avg('probability'),func.max('probability')).withColumnRenamed('avg(probability)','avg_probability').withColumnRenamed('max(probability)','max').withColumn('kpi', lit('probability')).fillna(0.0)\n",
        "area_targets_advance_pre_final_probability = area_targets_advance_pre_final_probability.withColumn('probability_index', (0.45*area_targets_advance_pre_final_probability['avg_probability']+0.55*area_targets_advance_pre_final_probability['max'])).select('player_id','time','avg_probability','probability_index')\n",
        "# ball_distance\n",
        "area_targets_advance_pre_final_ball_distance = area_targets_advance_pre_final.groupBy('player_id','time').agg(func.avg('ball_distance'),func.max('ball_distance')).withColumnRenamed('avg(ball_distance)','avg_ball_distance').withColumnRenamed('max(ball_distance)','max').withColumn('kpi', lit('ball_distance')).fillna(0.0)\n",
        "area_targets_advance_pre_final_ball_distance = area_targets_advance_pre_final_ball_distance.withColumn('ball_distance_index', (0.45*area_targets_advance_pre_final_ball_distance['avg_ball_distance']+0.55*area_targets_advance_pre_final_ball_distance['max'])).select('player_id','time','avg_ball_distance','ball_distance_index')\n",
        "\n",
        "count = area_targets_advance_pre_final.groupBy('player_id','time').count()\n",
        "\n",
        "kpis = area_targets_advance_pre_final_area_value.join(count,['player_id','time']).join(area_targets_advance_pre_final_opponents_cut, ['player_id','time']).join(area_targets_advance_pre_final_team_advancement, ['player_id','time']).join(area_targets_advance_pre_final_distance_from_target, ['player_id','time']).join(area_targets_advance_pre_final_probability, ['player_id','time']).join(area_targets_advance_pre_final_ball_distance, ['player_id','time'])\n",
        "'''"
      ]
    },
    {
      "cell_type": "code",
      "execution_count": null,
      "metadata": {
        "id": "t_z1YlJXYpCC"
      },
      "outputs": [],
      "source": [
        "duelli_path = 'duelli_'+name_path\n",
        "duelli_path"
      ]
    },
    {
      "cell_type": "code",
      "execution_count": null,
      "metadata": {
        "id": "9OXu9xXfYtyK"
      },
      "outputs": [],
      "source": [
        "temp_path = \"/content/drive/MyDrive/Colab Notebooks/FootballDataAnalysis/data/Milan-Cagliari/parquet/__temp\"\n",
        "target_path = \"/content/drive/MyDrive/Colab Notebooks/FootballDataAnalysis/data/Milan-Cagliari/parquet/\"+duelli_path+\".csv\"\n",
        "\n",
        "duelli.coalesce(1).write.mode(\"overwrite\").option('delimiter',',').option('header','true').csv(temp_path)\n",
        "\n",
        "Path = spark.sparkContext._gateway.jvm.org.apache.hadoop.fs.Path\n",
        "\n",
        "# get the part file generated by spark write\n",
        "fs = Path(temp_path).getFileSystem(spark.sparkContext._jsc.hadoopConfiguration())\n",
        "csv_part_file = fs.globStatus(Path(temp_path + \"/part*\"))[0].getPath()\n",
        "\n",
        "# move and rename the file\n",
        "fs.rename(csv_part_file, Path(target_path))\n",
        "fs.delete(Path(temp_path), True)"
      ]
    },
    {
      "cell_type": "code",
      "execution_count": null,
      "metadata": {
        "id": "ooozrx1deQv9"
      },
      "outputs": [],
      "source": [
        "new_path = 'pitch_control_2_'+name_path\n",
        "new_path"
      ]
    },
    {
      "cell_type": "code",
      "execution_count": null,
      "metadata": {
        "id": "Ch0NDnUUeQEv"
      },
      "outputs": [],
      "source": [
        "temp_path = \"/content/drive/MyDrive/Colab Notebooks/FootballDataAnalysis/data/Milan-Cagliari/parquet/__temp\"\n",
        "target_path = \"/content/drive/MyDrive/Colab Notebooks/FootballDataAnalysis/data/Milan-Cagliari/parquet/\"+new_path+\".csv\"\n",
        "\n",
        "pitch_out.coalesce(1).write.mode(\"overwrite\").option('delimiter',',').option('header','true').csv(temp_path)\n",
        "\n",
        "Path = spark.sparkContext._gateway.jvm.org.apache.hadoop.fs.Path\n",
        "\n",
        "# get the part file generated by spark write\n",
        "fs = Path(temp_path).getFileSystem(spark.sparkContext._jsc.hadoopConfiguration())\n",
        "csv_part_file = fs.globStatus(Path(temp_path + \"/part*\"))[0].getPath()\n",
        "\n",
        "# move and rename the file\n",
        "fs.rename(csv_part_file, Path(target_path))\n",
        "fs.delete(Path(temp_path), True)"
      ]
    },
    {
      "cell_type": "code",
      "execution_count": null,
      "metadata": {
        "id": "aWGo6qN7vpto"
      },
      "outputs": [],
      "source": [
        "new_path_k = 'kpis_new_'+name_path\n",
        "new_path_k"
      ]
    },
    {
      "cell_type": "code",
      "execution_count": null,
      "metadata": {
        "id": "fFFPRFUEvkuI"
      },
      "outputs": [],
      "source": [
        "temp_path = \"/content/drive/MyDrive/Colab Notebooks/FootballDataAnalysis/data/Milan-Cagliari/parquet/__temp_k\"\n",
        "target_path = \"/content/drive/MyDrive/Colab Notebooks/FootballDataAnalysis/data/Milan-Cagliari/parquet/\"+new_path_k+\".csv\"\n",
        "\n",
        "kpis_out.coalesce(1).write.mode(\"overwrite\").option('delimiter',',').option('header','true').csv(temp_path)\n",
        "\n",
        "Path = spark.sparkContext._gateway.jvm.org.apache.hadoop.fs.Path\n",
        "\n",
        "# get the part file generated by spark write\n",
        "fs = Path(temp_path).getFileSystem(spark.sparkContext._jsc.hadoopConfiguration())\n",
        "csv_part_file = fs.globStatus(Path(temp_path + \"/part*\"))[0].getPath()\n",
        "\n",
        "# move and rename the file\n",
        "fs.rename(csv_part_file, Path(target_path))\n",
        "fs.delete(Path(temp_path), True)"
      ]
    }
  ],
  "metadata": {
    "application/vnd.databricks.v1+notebook": {
      "dashboards": [],
      "language": "python",
      "notebookMetadata": {
        "pythonIndentUnit": 2
      },
      "notebookName": "pitch control acm_marcature2",
      "notebookOrigID": 2181076884138504,
      "widgets": {
        "half": {
          "currentValue": "second half",
          "nuid": "9100d9ab-5d86-465a-b50c-ec6757f5f609",
          "widgetInfo": {
            "defaultValue": "",
            "label": "half",
            "name": "half",
            "options": {
              "validationRegex": null,
              "widgetType": "text"
            },
            "widgetType": "text"
          }
        },
        "half_split": {
          "currentValue": "2",
          "nuid": "11e656a7-c134-42c7-b645-826188b251ec",
          "widgetInfo": {
            "defaultValue": "",
            "label": "half_split",
            "name": "half_split",
            "options": {
              "validationRegex": null,
              "widgetType": "text"
            },
            "widgetType": "text"
          }
        },
        "opponent": {
          "currentValue": "milan",
          "nuid": "15d4b4b6-3324-49c0-b37c-a3371f3ba3af",
          "widgetInfo": {
            "defaultValue": "",
            "label": "opponent",
            "name": "opponent",
            "options": {
              "validationRegex": null,
              "widgetType": "text"
            },
            "widgetType": "text"
          }
        },
        "player_in_possess": {
          "currentValue": "all",
          "nuid": "df09226f-9c1e-4c8d-b251-952429737c66",
          "widgetInfo": {
            "defaultValue": "",
            "label": "player_in_possess",
            "name": "player_in_possess",
            "options": {
              "validationRegex": null,
              "widgetType": "text"
            },
            "widgetType": "text"
          }
        },
        "team": {
          "currentValue": "cagliari",
          "nuid": "152ca9c4-2757-43d1-8484-46be149a2b90",
          "widgetInfo": {
            "defaultValue": "team",
            "label": null,
            "name": "team",
            "options": {
              "validationRegex": null,
              "widgetType": "text"
            },
            "widgetType": "text"
          }
        }
      }
    },
    "colab": {
      "collapsed_sections": [],
      "name": "pitch control acm_marcature2.ipynb",
      "provenance": [],
      "include_colab_link": true
    },
    "kernelspec": {
      "display_name": "Python 3",
      "language": "python",
      "name": "python3"
    },
    "language_info": {
      "codemirror_mode": {
        "name": "ipython",
        "version": 3
      },
      "file_extension": ".py",
      "mimetype": "text/x-python",
      "name": "python",
      "nbconvert_exporter": "python",
      "pygments_lexer": "ipython3",
      "version": "3.7.6"
    },
    "name": "test_competitive_prob",
    "notebookId": 4095711113381694
  },
  "nbformat": 4,
  "nbformat_minor": 0
}