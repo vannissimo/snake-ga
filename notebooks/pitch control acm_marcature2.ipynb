{
  "cells": [
    {
      "cell_type": "code",
      "execution_count": 215,
      "metadata": {
        "id": "Lw4VKDKaCnnl"
      },
      "outputs": [],
      "source": [
        "!apt-get install openjdk-8-jdk-headless -qq > /dev/null\n",
        "!wget -q https://archive.apache.org/dist/spark/spark-3.0.0/spark-3.0.0-bin-hadoop3.2.tgz\n",
        "!tar xf spark-3.0.0-bin-hadoop3.2.tgz"
      ]
    },
    {
      "cell_type": "code",
      "execution_count": 216,
      "metadata": {
        "id": "UTeHfSUNCph1"
      },
      "outputs": [],
      "source": [
        "import os\n",
        "os.environ[\"JAVA_HOME\"] = \"/usr/lib/jvm/java-8-openjdk-amd64\"\n",
        "os.environ[\"SPARK_HOME\"] = \"/content/spark-3.0.0-bin-hadoop3.2\"\n",
        "# install findspark using pip\n",
        "!pip install -q findspark"
      ]
    },
    {
      "cell_type": "code",
      "execution_count": 217,
      "metadata": {
        "id": "k2k4Rs0iCq9Z"
      },
      "outputs": [],
      "source": [
        "import findspark\n",
        "findspark.init()"
      ]
    },
    {
      "cell_type": "code",
      "execution_count": 218,
      "metadata": {
        "id": "JWfLHgTiCs2U"
      },
      "outputs": [],
      "source": [
        "from pyspark.sql import SparkSession\n",
        "\n",
        "spark = SparkSession.builder\\\n",
        "        .master(\"local\")\\\n",
        "        .appName(\"Colab\")\\\n",
        "        .config('spark.ui.port', '4050')\\\n",
        "        .getOrCreate()"
      ]
    },
    {
      "cell_type": "code",
      "execution_count": 219,
      "metadata": {
        "id": "x1a3p6LcCjQG"
      },
      "outputs": [],
      "source": [
        "import numpy as np\n",
        "from bisect import bisect\n",
        "from pyspark.sql import functions as func\n",
        "from pyspark.sql.types import IntegerType, DoubleType\n",
        "from pyspark.sql.functions import concat,col,lit,desc\n",
        "from operator import itemgetter\n",
        "import itertools \n",
        "from bisect import bisect\n",
        "import pandas as pd"
      ]
    },
    {
      "cell_type": "code",
      "execution_count": 220,
      "metadata": {
        "colab": {
          "base_uri": "https://localhost:8080/",
          "height": 35
        },
        "id": "QrtWUrK8DM79",
        "outputId": "5579e288-5104-446b-91df-989b13147610"
      },
      "outputs": [
        {
          "output_type": "execute_result",
          "data": {
            "text/plain": [
              "'milan_cagliari_first_half_2_all'"
            ],
            "application/vnd.google.colaboratory.intrinsic+json": {
              "type": "string"
            }
          },
          "metadata": {},
          "execution_count": 220
        }
      ],
      "source": [
        "team = team_a = 'milan'\n",
        "opponent = 'cagliari'\n",
        "half = 'first half'\n",
        "half_split = '2'\n",
        "player_in_possess = 'all'\n",
        "\n",
        "name_path = team +\"_\"+str(opponent)+\"_\"+str(half).replace(' ','_')+\"_\"+str(half_split)+\"_\"+player_in_possess\n",
        "\n",
        "name_path"
      ]
    },
    {
      "cell_type": "code",
      "execution_count": 221,
      "metadata": {
        "colab": {
          "base_uri": "https://localhost:8080/"
        },
        "id": "rNAybDY3Dufi",
        "outputId": "3106dc43-4ca9-43d1-d620-2eb506100b3b"
      },
      "outputs": [
        {
          "output_type": "stream",
          "name": "stdout",
          "text": [
            "Drive already mounted at /content/drive; to attempt to forcibly remount, call drive.mount(\"/content/drive\", force_remount=True).\n"
          ]
        }
      ],
      "source": [
        "# mount your drive\n",
        "from google.colab import drive\n",
        "drive.mount('/content/drive')"
      ]
    },
    {
      "cell_type": "code",
      "execution_count": 222,
      "metadata": {
        "colab": {
          "base_uri": "https://localhost:8080/"
        },
        "id": "62TEo9I-C4fN",
        "outputId": "0fb7afa1-6bff-427d-f107-e69f2f5378a7"
      },
      "outputs": [
        {
          "output_type": "stream",
          "name": "stdout",
          "text": [
            "+--------+-----+\n",
            "|target_x|count|\n",
            "+--------+-----+\n",
            "|     1.0|  293|\n",
            "|    -7.0|  273|\n",
            "|   -18.0|  262|\n",
            "|    50.0|  230|\n",
            "|    22.0|  428|\n",
            "|    38.0|  335|\n",
            "|    20.0|  405|\n",
            "|    -4.0|  284|\n",
            "|    15.0|  383|\n",
            "|   -11.0|  304|\n",
            "|    45.0|  250|\n",
            "|   -31.0|   84|\n",
            "|    47.0|  238|\n",
            "|   -21.0|  173|\n",
            "|   -17.0|  273|\n",
            "|   -10.0|  300|\n",
            "|    44.0|  257|\n",
            "|    25.0|  404|\n",
            "|   -44.0|   16|\n",
            "|    26.0|  395|\n",
            "|   -27.0|  104|\n",
            "|    17.0|  374|\n",
            "|   -47.0|    7|\n",
            "|    41.0|  304|\n",
            "|    51.0|  229|\n",
            "|     0.0|  296|\n",
            "|    52.0|  226|\n",
            "|    -5.0|  279|\n",
            "|     9.0|  425|\n",
            "|    12.0|  421|\n",
            "|   -45.0|   13|\n",
            "|    18.0|  392|\n",
            "|    48.0|  231|\n",
            "|    10.0|  436|\n",
            "|   -23.0|  138|\n",
            "|   -24.0|  125|\n",
            "|    -3.0|  284|\n",
            "|    29.0|  415|\n",
            "|   -37.0|   40|\n",
            "|    14.0|  384|\n",
            "|   -19.0|  230|\n",
            "|    37.0|  326|\n",
            "|   -48.0|    2|\n",
            "|   -38.0|   31|\n",
            "|   -34.0|   72|\n",
            "|    46.0|  243|\n",
            "| 10000.0|    6|\n",
            "|    19.0|  400|\n",
            "|  -999.0|    3|\n",
            "|    23.0|  425|\n",
            "|   -43.0|   19|\n",
            "|   -20.0|  199|\n",
            "|    -2.0|  296|\n",
            "|     5.0|  328|\n",
            "|   -41.0|   25|\n",
            "|     6.0|  343|\n",
            "|   -15.0|  269|\n",
            "|    34.0|  357|\n",
            "|    35.0|  334|\n",
            "|    32.0|  386|\n",
            "|   -12.0|  304|\n",
            "|   -46.0|   10|\n",
            "|   -22.0|  153|\n",
            "|    -8.0|  284|\n",
            "|     4.0|  315|\n",
            "|   -36.0|   56|\n",
            "|     7.0|  361|\n",
            "|   -28.0|   94|\n",
            "|    27.0|  396|\n",
            "|   -30.0|   87|\n",
            "|    24.0|  417|\n",
            "|    21.0|  415|\n",
            "|    28.0|  418|\n",
            "|   -33.0|   77|\n",
            "|    53.0|  227|\n",
            "|   -42.0|   22|\n",
            "|    31.0|  393|\n",
            "|    -1.0|  297|\n",
            "|    11.0|  441|\n",
            "|     2.0|  295|\n",
            "|   -35.0|   68|\n",
            "|    30.0|  401|\n",
            "|   -26.0|  112|\n",
            "|    33.0|  385|\n",
            "|    39.0|  328|\n",
            "|    49.0|  231|\n",
            "|   -39.0|   30|\n",
            "|   -14.0|  274|\n",
            "|     8.0|  389|\n",
            "|    54.0|  227|\n",
            "|    -6.0|  168|\n",
            "|   -32.0|   81|\n",
            "|   -13.0|  283|\n",
            "|   -25.0|  120|\n",
            "|   -29.0|   91|\n",
            "|     3.0|  307|\n",
            "|    43.0|  271|\n",
            "|   -16.0|  270|\n",
            "|    36.0|  332|\n",
            "|    -9.0|  289|\n",
            "+--------+-----+\n",
            "only showing top 100 rows\n",
            "\n"
          ]
        }
      ],
      "source": [
        "# loading data as parquet\n",
        "pre_data_players = spark.read.parquet(\"/content/drive/MyDrive/Colab Notebooks/FootballDataAnalysis/data/Milan-Cagliari/parquet/frames_milan_cagliari.parquet\").drop('index')\n",
        "pre_pre_df = spark.read.csv('/content/drive/MyDrive/Colab Notebooks/FootballDataAnalysis/data/Milan-Cagliari/parquet/' + 'pitch_control_' + name_path + '.csv', header = True)\n",
        "\n",
        "pre_pre_df.groupBy('target_x').count().show(100)"
      ]
    },
    {
      "cell_type": "code",
      "execution_count": 223,
      "metadata": {
        "id": "fY8iLNseCjQJ"
      },
      "outputs": [],
      "source": [
        "#create parameters input boxes (Databricks)\n",
        "\n",
        "if opponent == 'milan':\n",
        "  opponent_f = team_a\n",
        "else:\n",
        "  opponent_f = opponent"
      ]
    },
    {
      "cell_type": "code",
      "source": [
        "pre_pre_df = pre_pre_df.withColumnRenamed('player_id','player')"
      ],
      "metadata": {
        "id": "gAFmJY7VT8H1"
      },
      "execution_count": 224,
      "outputs": []
    },
    {
      "cell_type": "code",
      "source": [
        "pre_pre_df.where(pre_pre_df['player'].isNull()).show()"
      ],
      "metadata": {
        "id": "XTQXm3cASg7R",
        "outputId": "a1e3c9ca-58ce-4e8c-dd29-f211ed3314d4",
        "colab": {
          "base_uri": "https://localhost:8080/"
        }
      },
      "execution_count": 225,
      "outputs": [
        {
          "output_type": "stream",
          "name": "stdout",
          "text": [
            "+--------+--------+-------------+-------------------+------+------+----+---+---+-----------+--------------------+\n",
            "|target_x|target_y|ball_distance|slope_fuzzy_compare|player|  time|team|  x|  y|probability|distance_from_target|\n",
            "+--------+--------+-------------+-------------------+------+------+----+---+---+-----------+--------------------+\n",
            "|     0.0|     0.0|          0.0|                0.0|  null|3291.0|null|0.0|0.0|        0.0|                 0.0|\n",
            "+--------+--------+-------------+-------------------+------+------+----+---+---+-----------+--------------------+\n",
            "\n"
          ]
        }
      ]
    },
    {
      "cell_type": "code",
      "execution_count": 226,
      "metadata": {
        "id": "5NJz5il_CjQK"
      },
      "outputs": [],
      "source": [
        "from pyspark.sql import functions as func\n",
        "\n",
        "#avoidPositionOutliers = list(pre_data_players.agg(func.expr('percentile(x, array(0.01))')[0],func.expr('percentile(y, array(0.01))')[0],func.expr('percentile(x, array(0.99))')[0],func.expr('percentile(y, array(0.99))')[0]).collect()[0])\n",
        "#pre_data_players = pre_data_players.where(((pre_data_players['x'] > avoidPositionOutliers[0])&(pre_data_players['x'] < avoidPositionOutliers[2]))&((pre_data_players['y'] > avoidPositionOutliers[1])&(pre_data_players['y'] < avoidPositionOutliers[3])))\n",
        "\n",
        "pre_data_players = pre_data_players.withColumnRenamed('team_name','team').withColumnRenamed('position','role')\n",
        "\n",
        "min_half_time, max_half_time = pre_data_players.where(pre_data_players['half'] == half).groupBy('half').agg(func.min('time'),func.max('time')).collect()[0][1:]\n",
        "\n",
        "if half_split == '1':\n",
        "  data_players = pre_data_players.where((pre_data_players['time'] > min_half_time) & (pre_data_players['time'] <= min_half_time+float((max_half_time-min_half_time)/2.0)))\n",
        "  \n",
        "elif half_split == '2':\n",
        "  data_players = pre_data_players.where((pre_data_players['time'] > min_half_time+float((max_half_time-min_half_time)/2.0)) & (pre_data_players['time'] < max_half_time))\n"
      ]
    },
    {
      "cell_type": "code",
      "execution_count": 227,
      "metadata": {
        "colab": {
          "base_uri": "https://localhost:8080/"
        },
        "id": "eovICDbyCjQL",
        "outputId": "028b46c5-d62d-4e67-f81a-77f3a8af6b04"
      },
      "outputs": [
        {
          "output_type": "execute_result",
          "data": {
            "text/plain": [
              "('Maignan', 'Radunovic', 30.176983485692936)"
            ]
          },
          "metadata": {},
          "execution_count": 227
        }
      ],
      "source": [
        "from operator import itemgetter\n",
        "from pyspark.sql import functions as func\n",
        "from pyspark.sql.functions import lit\n",
        "\n",
        "import itertools \n",
        "import bisect\n",
        "import numpy as np\n",
        "from pyspark.sql.types import DoubleType\n",
        "import pandas as pd\n",
        "\n",
        "team_a_lower = team_a.lower()\n",
        "granularity = 0.5\n",
        "max_ball_distance = 70.0\n",
        "max_meters_distance_player_can_receive_ball = 30.0\n",
        "opponent_lower = opponent.lower()\n",
        "\n",
        "team_a_goalies = data_players.where(data_players['team'] == team_a.title()).where(data_players['role'] == 'Goalkeeper').select('player').distinct().collect()[0]['player']\n",
        "opponent_goalies = data_players.where(data_players['team'] == opponent.title()).where(data_players['role'] == 'Goalkeeper').select('player').distinct().collect()[0]['player']\n",
        "\n",
        "goalie_x = data_players.where(data_players['team'] == team_a.title()).where(data_players['role'] == 'Goalkeeper').groupBy('role').avg('x').rdd.max()[1]\n",
        "\n",
        "team_a_goalies,opponent_goalies,goalie_x"
      ]
    },
    {
      "cell_type": "code",
      "execution_count": 228,
      "metadata": {
        "colab": {
          "base_uri": "https://localhost:8080/"
        },
        "id": "29gYo_oACjQM",
        "outputId": "0226a2bd-3247-4c9f-f6f5-69bb7c27354a"
      },
      "outputs": [
        {
          "output_type": "execute_result",
          "data": {
            "text/plain": [
              "('Maignan', 'right_to_left')"
            ]
          },
          "metadata": {},
          "execution_count": 228
        }
      ],
      "source": [
        "min_x = data_players.select('x').rdd.min()[0]\n",
        "max_x = data_players.select('x').rdd.max()[0]\n",
        "min_y = data_players.select('y').rdd.min()[0]\n",
        "max_y = data_players.select('y').rdd.max()[0]\n",
        "\n",
        "x_lines = list(np.arange(int(min_x)-1,int(max_x)+1,float(max_x-min_x)/6.0))\n",
        "y_lines = list(np.arange(int(min_y)-1,int(max_y)+1,float(max_y-min_y)/4.0))\n",
        "\n",
        "mid_x, mid_y = x_lines[3], float(y_lines[2])\n",
        "\n",
        "if float(np.abs(goalie_x - max_x)) < float(np.abs(goalie_x - min_x)):\n",
        "  verse = 'right_to_left'\n",
        "  opponent_verse = 'left_to_right'\n",
        "else:\n",
        "  verse = 'left_to_right'\n",
        "  opponent_verse = 'right_to_left'\n",
        "\n",
        "team_a_goalies,verse"
      ]
    },
    {
      "cell_type": "code",
      "execution_count": 229,
      "metadata": {
        "id": "YjorMQkpCjQN"
      },
      "outputs": [],
      "source": [
        "pre_pre_df = pre_pre_df.withColumn('time', pre_pre_df['time'].cast(DoubleType()))"
      ]
    },
    {
      "cell_type": "code",
      "execution_count": 230,
      "metadata": {
        "colab": {
          "base_uri": "https://localhost:8080/"
        },
        "id": "ByKtT31eCjQO",
        "outputId": "7ff62e1f-085a-4649-eb04-7f480d7d8e40"
      },
      "outputs": [
        {
          "output_type": "execute_result",
          "data": {
            "text/plain": [
              "[2763.0, 3291.0, 4315.0]"
            ]
          },
          "metadata": {},
          "execution_count": 230
        }
      ],
      "source": [
        "possess = pre_pre_df.where(pre_pre_df['target_x'] < -950).select('player','team','time','x','y').distinct().withColumnRenamed('player','player_in_possess').withColumnRenamed('team','team_in_possess')\n",
        "\n",
        "timings = sorted(possess.select('time').rdd.map(lambda a : a[0]).collect())\n",
        "timings"
      ]
    },
    {
      "cell_type": "code",
      "execution_count": 231,
      "metadata": {
        "id": "7Ej-AX39CjQO"
      },
      "outputs": [],
      "source": [
        "df = pre_pre_df.where(pre_pre_df['target_x'] > -999)\n",
        "df = df.distinct()"
      ]
    },
    {
      "cell_type": "code",
      "source": [
        "pre_pre_df.groupBy('team').count().show()"
      ],
      "metadata": {
        "colab": {
          "base_uri": "https://localhost:8080/"
        },
        "id": "H8cxNhaNamBc",
        "outputId": "dcc186f5-7ed3-4fd8-dbb3-da58e9c8de0d"
      },
      "execution_count": 232,
      "outputs": [
        {
          "output_type": "stream",
          "name": "stdout",
          "text": [
            "+--------+-----+\n",
            "|    team|count|\n",
            "+--------+-----+\n",
            "|    null|    1|\n",
            "|   Milan|14295|\n",
            "|Cagliari|11843|\n",
            "+--------+-----+\n",
            "\n"
          ]
        }
      ]
    },
    {
      "cell_type": "code",
      "execution_count": 233,
      "metadata": {
        "colab": {
          "base_uri": "https://localhost:8080/",
          "height": 35
        },
        "id": "sY__v4U0CjQP",
        "outputId": "12fb5f05-6e69-4cd7-a266-d0e26f12138c"
      },
      "outputs": [
        {
          "output_type": "execute_result",
          "data": {
            "text/plain": [
              "'right_to_left'"
            ],
            "application/vnd.google.colaboratory.intrinsic+json": {
              "type": "string"
            }
          },
          "metadata": {},
          "execution_count": 233
        }
      ],
      "source": [
        "verse"
      ]
    },
    {
      "cell_type": "code",
      "execution_count": 234,
      "metadata": {
        "colab": {
          "base_uri": "https://localhost:8080/"
        },
        "id": "tZtdedLoCjQQ",
        "outputId": "01350650-c3c6-4a4b-fa0f-090c59152722"
      },
      "outputs": [
        {
          "output_type": "execute_result",
          "data": {
            "text/plain": [
              "('right_to_left', [-62.30000305175781, -4.549999237060547])"
            ]
          },
          "metadata": {},
          "execution_count": 234
        }
      ],
      "source": [
        "df_locs = df.select('player','time','team','x','y').distinct()\n",
        "\n",
        "if verse == 'right_to_left':\n",
        "  opponent_goal_line = [min_x+5.0, float(max_y+min_y)/2.0]   \n",
        "else:\n",
        "  opponent_goal_line = [max_x-5.0, float(max_y+min_y)/2.0]\n",
        "\n",
        "df_locs = df_locs.withColumn('distance_from_opponent_goal_line', 0.25*func.sqrt((df_locs['x'] - opponent_goal_line[0])**2 + (df_locs['y'] - opponent_goal_line[1])**2) + 0.75*func.sqrt((df_locs['x'] - opponent_goal_line[0])**2))\n",
        "panda_locs = df_locs.toPandas()\n",
        "\n",
        "verse,opponent_goal_line"
      ]
    },
    {
      "cell_type": "code",
      "execution_count": 235,
      "metadata": {
        "id": "NI_mwxGTCjQQ"
      },
      "outputs": [],
      "source": [
        "panda_possess = possess.toPandas()"
      ]
    },
    {
      "cell_type": "code",
      "execution_count": 236,
      "metadata": {
        "id": "IeSfIMV1CjQQ"
      },
      "outputs": [],
      "source": [
        "x_ranges = list(np.arange(min_x,max_x,3.0))\n",
        "y_ranges = list(np.arange(min_y,max_y,3.0))"
      ]
    },
    {
      "cell_type": "code",
      "execution_count": 237,
      "metadata": {
        "colab": {
          "base_uri": "https://localhost:8080/"
        },
        "id": "kdSTFNcoCjQQ",
        "outputId": "094acbc2-8c48-4062-ceca-871a4acadbfe"
      },
      "outputs": [
        {
          "output_type": "execute_result",
          "data": {
            "text/plain": [
              "([-67.30000305175781,\n",
              "  -64.30000305175781,\n",
              "  -61.30000305175781,\n",
              "  -58.30000305175781,\n",
              "  -55.30000305175781,\n",
              "  -52.30000305175781,\n",
              "  -49.30000305175781,\n",
              "  -46.30000305175781,\n",
              "  -43.30000305175781,\n",
              "  -40.30000305175781,\n",
              "  -37.30000305175781,\n",
              "  -34.30000305175781,\n",
              "  -31.300003051757812,\n",
              "  -28.300003051757812,\n",
              "  -25.300003051757812,\n",
              "  -22.300003051757812,\n",
              "  -19.300003051757812,\n",
              "  -16.300003051757812,\n",
              "  -13.300003051757812,\n",
              "  -10.300003051757812,\n",
              "  -7.3000030517578125,\n",
              "  -4.3000030517578125,\n",
              "  -1.3000030517578125,\n",
              "  1.6999969482421875,\n",
              "  4.6999969482421875,\n",
              "  7.6999969482421875,\n",
              "  10.699996948242188,\n",
              "  13.699996948242188,\n",
              "  16.699996948242188,\n",
              "  19.699996948242188,\n",
              "  22.699996948242188,\n",
              "  25.699996948242188,\n",
              "  28.699996948242188,\n",
              "  31.699996948242188,\n",
              "  34.69999694824219,\n",
              "  37.69999694824219,\n",
              "  40.69999694824219,\n",
              "  43.69999694824219,\n",
              "  46.69999694824219,\n",
              "  49.69999694824219,\n",
              "  52.69999694824219,\n",
              "  55.69999694824219],\n",
              " [-44.5,\n",
              "  -41.5,\n",
              "  -38.5,\n",
              "  -35.5,\n",
              "  -32.5,\n",
              "  -29.5,\n",
              "  -26.5,\n",
              "  -23.5,\n",
              "  -20.5,\n",
              "  -17.5,\n",
              "  -14.5,\n",
              "  -11.5,\n",
              "  -8.5,\n",
              "  -5.5,\n",
              "  -2.5,\n",
              "  0.5,\n",
              "  3.5,\n",
              "  6.5,\n",
              "  9.5,\n",
              "  12.5,\n",
              "  15.5,\n",
              "  18.5,\n",
              "  21.5,\n",
              "  24.5,\n",
              "  27.5,\n",
              "  30.5,\n",
              "  33.5])"
            ]
          },
          "metadata": {},
          "execution_count": 237
        }
      ],
      "source": [
        "x_ranges, y_ranges"
      ]
    },
    {
      "cell_type": "code",
      "execution_count": 238,
      "metadata": {
        "colab": {
          "base_uri": "https://localhost:8080/"
        },
        "id": "_BOBeC8SCjQR",
        "outputId": "326e5fa6-e20d-4d51-965a-e36a27e46d82"
      },
      "outputs": [
        {
          "output_type": "execute_result",
          "data": {
            "text/plain": [
              "([100.0,\n",
              "  97.61904761904762,\n",
              "  95.23809523809524,\n",
              "  92.85714285714286,\n",
              "  90.47619047619048,\n",
              "  88.09523809523809,\n",
              "  85.71428571428571,\n",
              "  83.33333333333333,\n",
              "  80.95238095238095,\n",
              "  78.57142857142857,\n",
              "  76.19047619047619,\n",
              "  73.80952380952381,\n",
              "  71.42857142857143,\n",
              "  69.04761904761905,\n",
              "  66.66666666666667,\n",
              "  64.28571428571429,\n",
              "  61.904761904761905,\n",
              "  59.523809523809526,\n",
              "  57.14285714285714,\n",
              "  54.76190476190476,\n",
              "  52.38095238095238,\n",
              "  50.0,\n",
              "  47.61904761904762,\n",
              "  45.23809523809524,\n",
              "  42.857142857142854,\n",
              "  40.476190476190474,\n",
              "  38.095238095238095,\n",
              "  35.714285714285715,\n",
              "  33.333333333333336,\n",
              "  30.952380952380953,\n",
              "  22,\n",
              "  20,\n",
              "  19,\n",
              "  17,\n",
              "  15,\n",
              "  13,\n",
              "  11,\n",
              "  9,\n",
              "  4,\n",
              "  3,\n",
              "  2,\n",
              "  1],\n",
              " [67.26852346349645,\n",
              "  60.78704198201497,\n",
              "  54.305560500533495,\n",
              "  47.824079019052014,\n",
              "  41.342597537570526,\n",
              "  34.861116056089045,\n",
              "  28.379634574607564,\n",
              "  21.898153093126098,\n",
              "  15.416671611644603,\n",
              "  8.935190130163122,\n",
              "  2.4537086486816406,\n",
              "  -4.02777283279984,\n",
              "  -10.509254314281321,\n",
              "  -16.990735795762816,\n",
              "  -23.472217277244283,\n",
              "  -29.95369875872578,\n",
              "  -36.43518024020727,\n",
              "  -42.91666172168874,\n",
              "  -49.39814320317021,\n",
              "  -55.879624684651674,\n",
              "  -62.36110616613317,\n",
              "  -68.84258764761466,\n",
              "  -75.32406912909613,\n",
              "  -81.80555061057763,\n",
              "  -88.28703209205909,\n",
              "  -94.76851357354059,\n",
              "  -101.24999505502208])"
            ]
          },
          "metadata": {},
          "execution_count": 238
        }
      ],
      "source": [
        "def x_area_handling(x):\n",
        "  \n",
        "  if x >= 30:\n",
        "    return x\n",
        "  elif x < 30 and x >= 10:\n",
        "    return int(0.8*float(x))\n",
        "  elif x < 10 and x >= -20:\n",
        "    return int(0.5*float(x))\n",
        "  elif x < -20:\n",
        "    return 10\n",
        "\n",
        "x_single_area_prob = 100.0/float(len(x_ranges))\n",
        "y_single_area_prob = 100.0/float(len(y_ranges))\n",
        "\n",
        "x_ranges_value_right_to_left = list(map(lambda d : x_area_handling(float(x_single_area_prob)*(len(x_ranges)-x_ranges.index(d))), x_ranges))\n",
        "x_ranges_value_left_to_right = list(map(lambda d : x_area_handling(float(x_single_area_prob)*(x_ranges.index(d))), x_ranges))\n",
        "y_ranges_value = list(map(lambda d : 100-1.75*(float(y_single_area_prob)*float(np.abs((mid_y-y_ranges.index(d))))), y_ranges))\n",
        "                      \n",
        "if verse == 'left_to_right':\n",
        "  x_ranges_value = x_ranges_value_left_to_right\n",
        "elif verse == 'right_to_left':\n",
        "  x_ranges_value = x_ranges_value_right_to_left\n",
        "\n",
        "x_ranges_value,y_ranges_value"
      ]
    },
    {
      "cell_type": "code",
      "execution_count": 239,
      "metadata": {
        "colab": {
          "base_uri": "https://localhost:8080/"
        },
        "id": "ROktgYr_CjQR",
        "outputId": "d0f72d12-b243-45ac-b71c-9bf63354f65b"
      },
      "outputs": [
        {
          "output_type": "stream",
          "name": "stdout",
          "text": [
            "+--------+--------+------+------------------+---------------+\n",
            "|target_x|target_y|  time|       probability|opponents_count|\n",
            "+--------+--------+------+------------------+---------------+\n",
            "|   -10.0|    11.0|4315.0| 67.47384920630097|              0|\n",
            "|   -13.0|   -34.0|2763.0|             100.0|              0|\n",
            "|   -13.0|     8.0|2763.0|61.408083447399186|              0|\n",
            "|   -14.0|    12.0|4315.0|54.914148146508566|              0|\n",
            "|   -15.0|    -3.0|3291.0| 57.64168914438462|             -1|\n",
            "|   -15.0|     7.0|2763.0| 67.16457808313513|              0|\n",
            "|   -16.0|   -31.0|2763.0|             100.0|              0|\n",
            "|   -16.0|     3.0|3291.0| 28.83203022313935|             -2|\n",
            "|   -17.0|     8.0|4315.0|             100.0|              0|\n",
            "|    -2.0|    12.0|2763.0|             100.0|              0|\n",
            "|   -21.0|   -19.0|4315.0|             100.0|              0|\n",
            "|   -22.0|   -30.0|2763.0|             100.0|              0|\n",
            "|   -23.0|   -23.0|2763.0|             100.0|              0|\n",
            "|   -24.0|   -17.0|2763.0|             100.0|              0|\n",
            "|   -24.0|   -18.0|2763.0|             100.0|              0|\n",
            "|   -28.0|   -12.0|3291.0|             100.0|              0|\n",
            "|   -29.0|     6.0|4315.0|             100.0|              0|\n",
            "|    -3.0|   -24.0|4315.0| 66.34592958071761|             -1|\n",
            "|   -30.0|   -33.0|3291.0|             100.0|              0|\n",
            "|   -30.0|     2.0|4315.0|             100.0|              0|\n",
            "+--------+--------+------+------------------+---------------+\n",
            "only showing top 20 rows\n",
            "\n"
          ]
        }
      ],
      "source": [
        "def probabilityPlusMinus(x):\n",
        "  \n",
        "  if x[-1] == opponent.title():\n",
        "    return list(x[:3])+[-float(x[3])]+list(x[4:])+[opponent_verse]\n",
        "  else:\n",
        "    return list(x)+[verse]\n",
        "  \n",
        "def opponentCount(x):\n",
        "  \n",
        "  try:\n",
        "    team_1_prob = float(x[3]) \n",
        "  except:\n",
        "    team_1_prob = 0.0\n",
        "\n",
        "  try:\n",
        "    team_2_prob = float(x[5]) \n",
        "  except:\n",
        "    team_2_prob = 0.0\n",
        "\n",
        "  if team_1_prob > team_2_prob:\n",
        "    return [x[0],x[1],x[2],x[3],-x[6]]\n",
        "  else:\n",
        "    return [x[0],x[1],x[2],x[5],-x[4]]\n",
        "\n",
        "pre_max_pitch_pivot_gr = df.where(df['team'] != '').groupBy('target_x','target_y','time').pivot('team').agg(func.max('probability'),func.count('player')).fillna(0.0)\n",
        "\n",
        "max_pitch_pivot = spark.createDataFrame(pre_max_pitch_pivot_gr.rdd.map(lambda a : opponentCount(a)),['target_x','target_y','time','probability','opponents_count'])\n",
        "\n",
        "max_pitch_pivot.show()"
      ]
    },
    {
      "cell_type": "code",
      "execution_count": 240,
      "metadata": {
        "id": "9Cq2jv1-CjQR"
      },
      "outputs": [],
      "source": [
        "max_player = df.select('target_x','target_y','time','player','team','probability','distance_from_target','x','y','slope_fuzzy_compare','ball_distance')"
      ]
    },
    {
      "cell_type": "code",
      "execution_count": 241,
      "metadata": {
        "id": "qRNemCvyCjQS"
      },
      "outputs": [],
      "source": [
        "max_pitch_pivot_j = max_pitch_pivot.join(max_player, ['target_x','target_y','time','probability'])\n",
        "\n",
        "max_pitch_pivot_jj = spark.createDataFrame(max_pitch_pivot_j.rdd.map(lambda f : probabilityPlusMinus(f)),max_pitch_pivot_j.columns+['verse'])\n",
        "max_pitch_pivot_jj = max_pitch_pivot_jj.withColumn('probability', max_pitch_pivot_jj['probability'].cast(DoubleType())).fillna(0)\n",
        "pre_max_pitch_pivot_jjj = max_pitch_pivot_jj.where(max_pitch_pivot_jj['team'] == team_a.capitalize())"
      ]
    },
    {
      "cell_type": "code",
      "execution_count": 242,
      "metadata": {
        "colab": {
          "base_uri": "https://localhost:8080/"
        },
        "id": "_FultEdHCjQS",
        "outputId": "42e395f9-d57e-4860-9906-af287f195830"
      },
      "outputs": [
        {
          "output_type": "stream",
          "name": "stdout",
          "text": [
            "+------------+--------+------------------+\n",
            "|      player|    team|  avg(probability)|\n",
            "+------------+--------+------------------+\n",
            "|    Florenzi|   Milan| 53.90035435104492|\n",
            "|      Deiola|Cagliari|60.156671762349184|\n",
            "|       Kjaer|   Milan| 69.93511694176463|\n",
            "|    Calabria|   Milan| 87.00750199844386|\n",
            "|       Marin|Cagliari| 70.76216223138441|\n",
            "|   Strootman|Cagliari| 57.62370212904159|\n",
            "|      Giroud|   Milan| 75.39965015086739|\n",
            "|       Zappa|Cagliari| 55.02397863127716|\n",
            "|        Diaz|   Milan| 67.87182504408166|\n",
            "|       Rebic|   Milan| 70.23229383205116|\n",
            "|    Bennacer|   Milan| 72.97034582147238|\n",
            "|        Leao|   Milan| 71.15637130251879|\n",
            "|   Pavoletti|Cagliari| 64.23935597390783|\n",
            "|     Carboni|Cagliari| 81.79938713940078|\n",
            "|      Krunic|   Milan| 71.21380154027291|\n",
            "|      Tonali|   Milan| 67.83545491927318|\n",
            "|       Godin|Cagliari| 89.57181554591442|\n",
            "|      Tomori|   Milan|48.391163369783236|\n",
            "|  Joao Pedro|Cagliari|48.342833147920864|\n",
            "|Saelemaekers|   Milan|  76.0394848092751|\n",
            "+------------+--------+------------------+\n",
            "only showing top 20 rows\n",
            "\n"
          ]
        }
      ],
      "source": [
        "max_pitch_pivot_jj.groupBy('player','team').avg('probability').show()"
      ]
    },
    {
      "cell_type": "code",
      "execution_count": 243,
      "metadata": {
        "id": "wkw-O-duCjQS"
      },
      "outputs": [],
      "source": [
        "pd_probs = pre_max_pitch_pivot_jjj.toPandas()"
      ]
    },
    {
      "cell_type": "code",
      "execution_count": 244,
      "metadata": {
        "colab": {
          "base_uri": "https://localhost:8080/"
        },
        "id": "-xCfuM9dCjQS",
        "outputId": "7551574d-eeec-4682-b81f-d2581347120f"
      },
      "outputs": [
        {
          "output_type": "stream",
          "name": "stdout",
          "text": [
            "+------------+------+---------------------+------------------+\n",
            "|      player|  time|probability_twentieth|distance_twentieth|\n",
            "+------------+------+---------------------+------------------+\n",
            "|      Tomori|3291.0|    55.87081289098867|             100.0|\n",
            "|        Diaz|4315.0|   21.296459907529368|             100.0|\n",
            "|      Giroud|3291.0|                100.0|              null|\n",
            "|    Bennacer|4315.0|                100.0|              null|\n",
            "|    Calabria|4315.0|                100.0|              null|\n",
            "|       Rebic|4315.0|                100.0|              null|\n",
            "|   Hernandez|2763.0|   42.116505130145725|             100.0|\n",
            "|     Maignan|4315.0|                100.0|              null|\n",
            "|      Krunic|3291.0|                100.0|              null|\n",
            "|   Hernandez|4315.0|    42.19503016000804|             100.0|\n",
            "|      Tonali|3291.0|                100.0|              null|\n",
            "|      Tomori|2763.0|   53.372267225712235|             100.0|\n",
            "|      Krunic|2763.0|                  0.0|               0.0|\n",
            "|      Krunic|4315.0|    66.03708191048645|             100.0|\n",
            "|        Leao|3291.0|                100.0|              null|\n",
            "|Saelemaekers|3291.0|                100.0|              null|\n",
            "|Saelemaekers|2763.0|                100.0|              null|\n",
            "|     Maignan|3291.0|                100.0|              null|\n",
            "|       Kjaer|3291.0|    61.83300030347165|             100.0|\n",
            "|     Maignan|2763.0|                100.0|              null|\n",
            "+------------+------+---------------------+------------------+\n",
            "only showing top 20 rows\n",
            "\n"
          ]
        }
      ],
      "source": [
        "def findBestMaxObs(x,panda,max_obs):\n",
        "  \n",
        "  probs = panda[panda['player'] == x[0]][panda['time'] == x[1]][['probability','distance_from_target']].values.tolist()\n",
        "  \n",
        "  try:\n",
        "    first_twenty_probs = sorted(list(map(lambda a : a[0],probs)), reverse = True)[:max_obs]\n",
        "    prob_twentieth = first_twenty_probs[-1]\n",
        "    distance_twentieth = 100.0\n",
        "\n",
        "    if float(prob_twentieth) == 100.0:\n",
        "      first_twenty_distances = sorted(list(map(lambda g : g[1], list(filter(lambda a : a[0] == 100.0,probs)))))[:max_obs]\n",
        "      distance_twentieth = first_twenty_distances[-1]\n",
        "\n",
        "    return [prob_twentieth,distance_twentieth]\n",
        "  except:\n",
        "    return [0.0,0.0]\n",
        "\n",
        "players_times_values = spark.createDataFrame(df.where(df['team'] == team_a.title()).select('player','time').distinct().rdd.map(lambda a : list(a)+findBestMaxObs(a,pd_probs,60)),['player','time','probability_twentieth','distance_twentieth'])\n",
        "\n",
        "players_times_values.show()"
      ]
    },
    {
      "cell_type": "code",
      "execution_count": 245,
      "metadata": {
        "id": "PFvXlvMKCjQT"
      },
      "outputs": [],
      "source": [
        "pd_to_filter = players_times_values.toPandas()"
      ]
    },
    {
      "cell_type": "code",
      "execution_count": 246,
      "metadata": {
        "id": "AJKxOnNkCjQT"
      },
      "outputs": [],
      "source": [
        "def obsToFilter(x, panda):\n",
        "  \n",
        "  prob_filter, distance_filter = panda[panda['player'] == x[5]][panda['time'] == x[2]][['probability_twentieth','distance_twentieth']].values.tolist()[0]\n",
        "  \n",
        "  flag = ''\n",
        "  \n",
        "  if (x[3] < prob_filter) or (x[7] > distance_filter):\n",
        "    flag = 'out'\n",
        "  \n",
        "  return flag\n",
        "  \n",
        "max_pitch_pivot_jjj_pre_filt = spark.createDataFrame(pre_max_pitch_pivot_jjj.rdd.map(lambda a : list(a)+[obsToFilter(a, pd_to_filter)]), pre_max_pitch_pivot_jjj.columns+['obs_flag'])\n",
        "\n",
        "max_pitch_pivot_jjj = max_pitch_pivot_jjj_pre_filt.where(max_pitch_pivot_jjj_pre_filt['obs_flag'] == '').where(max_pitch_pivot_jjj_pre_filt['probability'] > 0).drop('obs_flag')"
      ]
    },
    {
      "cell_type": "code",
      "execution_count": 247,
      "metadata": {
        "id": "0D9bVk4sCjQT"
      },
      "outputs": [],
      "source": [
        "#display(max_pitch_pivot_jjj.where(max_pitch_pivot_jjj['target_x'] == 42.0).where(max_pitch_pivot_jjj['target_y'] == 5.0).where(max_pitch_pivot_jjj['time'] == 1135.0))"
      ]
    },
    {
      "cell_type": "code",
      "execution_count": 248,
      "metadata": {
        "id": "4FkbduxKCjQT"
      },
      "outputs": [],
      "source": [
        "from pyspark.sql.functions import lit\n",
        "\n",
        "def ifHigherThanLimit(a,limit,maxMinFlag): \n",
        "  if maxMinFlag == 'max':\n",
        "    return float(np.min([limit,a]))\n",
        "  elif maxMinFlag == 'min':\n",
        "    return float(np.max([limit,a]))\n",
        "\n",
        "def addFakeProb(team):\n",
        "  \n",
        "  if team == team_a.title():\n",
        "    return 150.0\n",
        "  else:\n",
        "    return -150.0\n",
        "\n",
        "  \n",
        "### PITCH ###\n",
        "pitch_pivot = max_pitch_pivot_jj.select('target_x','target_y','time','probability','player','team')\n",
        "pitch_pivot = pitch_pivot.withColumn('type',lit('pitch'))\n",
        "pitch_pivot = pitch_pivot.withColumnRenamed('target_x','x').withColumnRenamed('target_y','y')\n",
        "\n",
        "### PLAYERS ###\n",
        "players_locs = spark.createDataFrame(data_players.select('player','team','time','x','y').withColumn('type',lit('player')).distinct().rdd.map(lambda a : list(a)+[addFakeProb(a[1])]), ['player','team','time','x','y','type','probability'])\n",
        "players_locs = players_locs.where(players_locs['time'].isin(timings))\n",
        "\n",
        "### BALL ###\n",
        "ball = pre_pre_df.where(pre_pre_df['target_x'] == -999.0).orderBy('time')\n",
        "ball_locs = ball.withColumn('probability',lit(200.0)).withColumn('type',lit('ball')).select('x','y','time','probability','player','team','type')\n",
        "pd_ball = ball.toPandas()"
      ]
    },
    {
      "cell_type": "code",
      "source": [
        "extra_ball_locs = ball_locs.select('time','x','y').distinct().withColumnRenamed('x','x_ball').withColumnRenamed('y','y_ball')\n",
        "extra_ball_locs = extra_ball_locs.withColumn('verse', lit(verse))"
      ],
      "metadata": {
        "id": "uD8vQbw5EGId"
      },
      "execution_count": 249,
      "outputs": []
    },
    {
      "cell_type": "code",
      "execution_count": 250,
      "metadata": {
        "id": "jeFOMNH1CjQU"
      },
      "outputs": [],
      "source": [
        "def addNegativeProb(x):\n",
        "  \n",
        "  team = x[team_index]\n",
        "  probability = x[prob_index]\n",
        "  \n",
        "  if team == opponent.title():\n",
        "    new_prob = -float(probability)\n",
        "  else:\n",
        "    new_prob = float(probability)\n",
        "    \n",
        "  y = list(x[:prob_index])+[new_prob]+list(x[1+prob_index:])\n",
        "  \n",
        "  return y\n",
        "  \n",
        "pitch_pivot_union = pitch_pivot.distinct()\n",
        "\n",
        "team_index, prob_index = pitch_pivot_union.columns.index('team'),pitch_pivot_union.columns.index('probability')\n",
        "\n",
        "pitch_pivot_union = spark.createDataFrame(pitch_pivot_union.rdd.map(lambda y : addNegativeProb(y)), pitch_pivot_union.columns)\n",
        "\n",
        "for i in players_locs.columns:\n",
        "  if 'class' in str(i):\n",
        "    pitch_pivot_union = pitch_pivot_union.withColumn(str(i), lit(''))\n",
        "    \n",
        "out = pitch_pivot_union.union(players_locs.select(pitch_pivot_union.columns)).union(ball_locs.select(pitch_pivot_union.columns))"
      ]
    },
    {
      "cell_type": "code",
      "execution_count": 251,
      "metadata": {
        "id": "xpGZYNBlSFK4"
      },
      "outputs": [],
      "source": [
        "out_with_extra_ball = out.join(extra_ball_locs, ['time'])"
      ]
    },
    {
      "cell_type": "code",
      "execution_count": 252,
      "metadata": {
        "colab": {
          "base_uri": "https://localhost:8080/",
          "height": 35
        },
        "id": "USgNuMmXMZ_-",
        "outputId": "2b363ecc-9576-40f6-e18f-17ed6e2b0ae3"
      },
      "outputs": [
        {
          "output_type": "execute_result",
          "data": {
            "text/plain": [
              "'pitch_control_2_milan_cagliari_first_half_2_all'"
            ],
            "application/vnd.google.colaboratory.intrinsic+json": {
              "type": "string"
            }
          },
          "metadata": {},
          "execution_count": 252
        }
      ],
      "source": [
        "new_path = 'pitch_control_2_'+name_path\n",
        "new_path"
      ]
    },
    {
      "cell_type": "code",
      "source": [
        "temp_path = \"/content/drive/MyDrive/Colab Notebooks/FootballDataAnalysis/data/Milan-Cagliari/parquet/__temp\"\n",
        "target_path = \"/content/drive/MyDrive/Colab Notebooks/FootballDataAnalysis/data/Milan-Cagliari/parquet/\"+new_path+\".csv\"\n",
        "\n",
        "out.coalesce(1).write.mode(\"overwrite\").option('delimiter',',').option('header','true').csv(temp_path)\n",
        "\n",
        "Path = spark.sparkContext._gateway.jvm.org.apache.hadoop.fs.Path\n",
        "\n",
        "# get the part file generated by spark write\n",
        "fs = Path(temp_path).getFileSystem(spark.sparkContext._jsc.hadoopConfiguration())\n",
        "csv_part_file = fs.globStatus(Path(temp_path + \"/part*\"))[0].getPath()\n",
        "\n",
        "# move and rename the file\n",
        "fs.rename(csv_part_file, Path(target_path))\n",
        "fs.delete(Path(temp_path), True)"
      ],
      "metadata": {
        "id": "VhEeqqgvdvQg",
        "outputId": "0fcbb5b0-ccef-4dfe-9d39-8809edf106c6",
        "colab": {
          "base_uri": "https://localhost:8080/"
        }
      },
      "execution_count": 253,
      "outputs": [
        {
          "output_type": "execute_result",
          "data": {
            "text/plain": [
              "True"
            ]
          },
          "metadata": {},
          "execution_count": 253
        }
      ]
    },
    {
      "cell_type": "code",
      "execution_count": 254,
      "metadata": {
        "id": "VWwokJs3CjQU"
      },
      "outputs": [],
      "source": [
        "out_with_extra_ball.coalesce(1).write.option('delimiter',',').option('header','true').csv('/content/drive/MyDrive/Colab Notebooks/FootballDataAnalysis/data/Milan-Cagliari/parquet/'+new_path+'.csv', mode='overwrite')"
      ]
    },
    {
      "cell_type": "code",
      "execution_count": 255,
      "metadata": {
        "id": "V_TccW8BCjQU"
      },
      "outputs": [],
      "source": [
        "#pd_pitch = max_pitch_pivot_jj.toPandas()"
      ]
    },
    {
      "cell_type": "code",
      "execution_count": 256,
      "metadata": {
        "id": "2DW1BSf2CjQU",
        "outputId": "5cba7cb6-1abe-467a-9085-7acc83e4cb68",
        "colab": {
          "base_uri": "https://localhost:8080/",
          "height": 142
        }
      },
      "outputs": [
        {
          "output_type": "execute_result",
          "data": {
            "text/plain": [
              "\"\\nfrom bisect import bisect\\nfrom pyspark.sql.window import Window\\n\\ndef areaDanger(d,x_ranges,y_ranges):\\n  \\n  if d[-1] == 'right_to_left':\\n    x_values = x_ranges_value_right_to_left\\n  else:\\n    x_values = x_ranges_value_left_to_right\\n  \\n  try:\\n    x_value = x_values[bisect(x_ranges,d[0])]\\n  except:\\n    try:\\n      x_value = x_values[bisect(x_ranges,d[0])-1]\\n    except:\\n      x_value = x_values[bisect(x_ranges,d[0])+1]\\n      \\n  try:\\n    y_value = y_ranges_value[bisect(y_ranges,d[1])]\\n  except:\\n    try:\\n      y_value = y_ranges_value[bisect(y_ranges,d[1])-1]\\n    except:\\n      y_value = y_ranges_value[bisect(y_ranges,d[1])+1]\\n  \\n  if x_value < 50:\\n    y_value = 10\\n  \\n  return [bisect(x_ranges,d[0]),bisect(y_ranges,d[1]),float(np.round(x_value,0)),float(np.round(y_value,0)),float(np.round(x_value+y_value,0))]\\n \\ndef findOpponentsOvercomeByThePass(x,panda,panda_possess,pd_pitch):\\n  \\n  player_x = x[x_index]\\n  player_y = x[y_index]\\n  verse = x[verse_index]\\n  time_ = x[time_index]\\n  target_x = x[target_x_index]\\n  target_y = x[target_y_index]\\n  \\n  player_possess,possess_x,possess_y = panda_possess[panda_possess['time'] == time_][['player_in_possess','x','y']].values.tolist()[0]\\n  \\n  sit_x = 0.25*player_x+0.75*target_x\\n  sit_y = 0.25*player_y+0.75*target_y\\n\\n  x_advancement_flag = float(np.sign(opponent_goal_line[0] - target_x))\\n\\n  values_x = [sit_x-(x_advancement_flag*10),sit_x+(x_advancement_flag*10)]\\n\\n  back_min_x,ahead_max_x = float(np.min(values_x)),float(np.max(values_x))\\n\\n  up_y = sit_y+10\\n  down_y = sit_y-10\\n\\n  quarters_control_percentages = []\\n\\n  close_opponents_panda = panda[panda['team'] == opponent.title()][panda['time'] == time_][panda['x'] > player_x-4.0][panda['x'] < player_x+4.0][panda['y'] > player_y-4.0][panda['x'] < player_y+4.0]\\n  close_opponents = len(close_opponents_panda)\\n  opponents_x_y = panda[panda['team'] == opponent.title()][panda['time'] == time_][panda['player'] != opponent_goalies][['x','y']].values.tolist()\\n  \\n  close_opponents_distances = []\\n  for j in opponents_x_y:\\n    close_opponents_distances.append(float(np.sqrt((player_x-j[0])**2+(player_y-j[1])**2)))\\n     \\n  closest_opponent_distance = sorted(close_opponents_distances)[0]\\n  player_distance_from_goal_line = float(np.sqrt((player_x - opponent_goal_line[0])**2 + (player_y - opponent_goal_line[1])**2))\\n  \\n  opponents_distances_to_goal_line = []\\n  for j in opponents_x_y:\\n    opponents_distances_to_goal_line.append(float(np.sqrt((opponent_goal_line[0]-j[0])**2+(opponent_goal_line[1]-j[1])**2)))\\n    \\n  opponents_from_goal_line = len(list(filter(lambda a : a < player_distance_from_goal_line-1.0, opponents_distances_to_goal_line)))\\n    \\n  return [closest_opponent_distance,opponents_from_goal_line,close_opponents,player_distance_from_goal_line]\\n  \\nverse_index = max_pitch_pivot_jjj.columns.index('verse')\\ntime_index = max_pitch_pivot_jjj.columns.index('time')\\ntarget_x_index = max_pitch_pivot_jjj.columns.index('target_x')\\ntarget_y_index = max_pitch_pivot_jjj.columns.index('target_y')\\ny_index = max_pitch_pivot_jjj.columns.index('y')\\nx_index = max_pitch_pivot_jjj.columns.index('x')\\n\\nppp_area_targets = sqlContext.createDataFrame(max_pitch_pivot_jjj.where((max_pitch_pivot_jjj['player'].isin([team_a_goalies])) == False).rdd.map(lambda g : list(g)+areaDanger(g,x_ranges,y_ranges)+findOpponentsOvercomeByThePass(g,panda_locs,panda_possess,pd_pitch)), max_pitch_pivot_jjj.columns+['x_area','y_area','x_value','y_value','area_value','closest_opponent_distance','opponents_from_goal_line','close_opponents','player_distance_from_goal_line'])\\n\\narea_targets_advance_pre_final = ppp_area_targets.select('target_x','target_y','player','time','area_value','ball_distance','closest_opponent_distance','opponents_from_goal_line','distance_from_target','x','y','probability','close_opponents','player_distance_from_goal_line','slope_fuzzy_compare').distinct()\\n\""
            ],
            "application/vnd.google.colaboratory.intrinsic+json": {
              "type": "string"
            }
          },
          "metadata": {},
          "execution_count": 256
        }
      ],
      "source": [
        "'''\n",
        "from bisect import bisect\n",
        "from pyspark.sql.window import Window\n",
        "\n",
        "def areaDanger(d,x_ranges,y_ranges):\n",
        "  \n",
        "  if d[-1] == 'right_to_left':\n",
        "    x_values = x_ranges_value_right_to_left\n",
        "  else:\n",
        "    x_values = x_ranges_value_left_to_right\n",
        "  \n",
        "  try:\n",
        "    x_value = x_values[bisect(x_ranges,d[0])]\n",
        "  except:\n",
        "    try:\n",
        "      x_value = x_values[bisect(x_ranges,d[0])-1]\n",
        "    except:\n",
        "      x_value = x_values[bisect(x_ranges,d[0])+1]\n",
        "      \n",
        "  try:\n",
        "    y_value = y_ranges_value[bisect(y_ranges,d[1])]\n",
        "  except:\n",
        "    try:\n",
        "      y_value = y_ranges_value[bisect(y_ranges,d[1])-1]\n",
        "    except:\n",
        "      y_value = y_ranges_value[bisect(y_ranges,d[1])+1]\n",
        "  \n",
        "  if x_value < 50:\n",
        "    y_value = 10\n",
        "  \n",
        "  return [bisect(x_ranges,d[0]),bisect(y_ranges,d[1]),float(np.round(x_value,0)),float(np.round(y_value,0)),float(np.round(x_value+y_value,0))]\n",
        " \n",
        "def findOpponentsOvercomeByThePass(x,panda,panda_possess,pd_pitch):\n",
        "  \n",
        "  player_x = x[x_index]\n",
        "  player_y = x[y_index]\n",
        "  verse = x[verse_index]\n",
        "  time_ = x[time_index]\n",
        "  target_x = x[target_x_index]\n",
        "  target_y = x[target_y_index]\n",
        "  \n",
        "  player_possess,possess_x,possess_y = panda_possess[panda_possess['time'] == time_][['player_in_possess','x','y']].values.tolist()[0]\n",
        "  \n",
        "  sit_x = 0.25*player_x+0.75*target_x\n",
        "  sit_y = 0.25*player_y+0.75*target_y\n",
        "\n",
        "  x_advancement_flag = float(np.sign(opponent_goal_line[0] - target_x))\n",
        "\n",
        "  values_x = [sit_x-(x_advancement_flag*10),sit_x+(x_advancement_flag*10)]\n",
        "\n",
        "  back_min_x,ahead_max_x = float(np.min(values_x)),float(np.max(values_x))\n",
        "\n",
        "  up_y = sit_y+10\n",
        "  down_y = sit_y-10\n",
        "\n",
        "  quarters_control_percentages = []\n",
        "\n",
        "  close_opponents_panda = panda[panda['team'] == opponent.title()][panda['time'] == time_][panda['x'] > player_x-4.0][panda['x'] < player_x+4.0][panda['y'] > player_y-4.0][panda['x'] < player_y+4.0]\n",
        "  close_opponents = len(close_opponents_panda)\n",
        "  opponents_x_y = panda[panda['team'] == opponent.title()][panda['time'] == time_][panda['player'] != opponent_goalies][['x','y']].values.tolist()\n",
        "  \n",
        "  close_opponents_distances = []\n",
        "  for j in opponents_x_y:\n",
        "    close_opponents_distances.append(float(np.sqrt((player_x-j[0])**2+(player_y-j[1])**2)))\n",
        "     \n",
        "  closest_opponent_distance = sorted(close_opponents_distances)[0]\n",
        "  player_distance_from_goal_line = float(np.sqrt((player_x - opponent_goal_line[0])**2 + (player_y - opponent_goal_line[1])**2))\n",
        "  \n",
        "  opponents_distances_to_goal_line = []\n",
        "  for j in opponents_x_y:\n",
        "    opponents_distances_to_goal_line.append(float(np.sqrt((opponent_goal_line[0]-j[0])**2+(opponent_goal_line[1]-j[1])**2)))\n",
        "    \n",
        "  opponents_from_goal_line = len(list(filter(lambda a : a < player_distance_from_goal_line-1.0, opponents_distances_to_goal_line)))\n",
        "    \n",
        "  return [closest_opponent_distance,opponents_from_goal_line,close_opponents,player_distance_from_goal_line]\n",
        "  \n",
        "verse_index = max_pitch_pivot_jjj.columns.index('verse')\n",
        "time_index = max_pitch_pivot_jjj.columns.index('time')\n",
        "target_x_index = max_pitch_pivot_jjj.columns.index('target_x')\n",
        "target_y_index = max_pitch_pivot_jjj.columns.index('target_y')\n",
        "y_index = max_pitch_pivot_jjj.columns.index('y')\n",
        "x_index = max_pitch_pivot_jjj.columns.index('x')\n",
        "\n",
        "ppp_area_targets = sqlContext.createDataFrame(max_pitch_pivot_jjj.where((max_pitch_pivot_jjj['player'].isin([team_a_goalies])) == False).rdd.map(lambda g : list(g)+areaDanger(g,x_ranges,y_ranges)+findOpponentsOvercomeByThePass(g,panda_locs,panda_possess,pd_pitch)), max_pitch_pivot_jjj.columns+['x_area','y_area','x_value','y_value','area_value','closest_opponent_distance','opponents_from_goal_line','close_opponents','player_distance_from_goal_line'])\n",
        "\n",
        "area_targets_advance_pre_final = ppp_area_targets.select('target_x','target_y','player','time','area_value','ball_distance','closest_opponent_distance','opponents_from_goal_line','distance_from_target','x','y','probability','close_opponents','player_distance_from_goal_line','slope_fuzzy_compare').distinct()\n",
        "'''"
      ]
    },
    {
      "cell_type": "code",
      "execution_count": 257,
      "metadata": {
        "id": "OUBVgLSpCjQV"
      },
      "outputs": [],
      "source": [
        "#display(area_targets_advance_pre_final.where(area_targets_advance_pre_final['time'] == 3981))"
      ]
    },
    {
      "cell_type": "code",
      "execution_count": 258,
      "metadata": {
        "id": "tuslijapCjQV",
        "outputId": "8670d92f-fa9e-477d-b088-25eefbc93d55",
        "colab": {
          "base_uri": "https://localhost:8080/",
          "height": 142
        }
      },
      "outputs": [
        {
          "output_type": "execute_result",
          "data": {
            "text/plain": [
              "\"\\ndef singlePointOpponents(x,y,panda_locs,opponent,time_,meters_to_intercept,possess_x,possess_y):\\n  \\n  distance = distance = float(np.sqrt(((x-possess_x)**2)+((y-possess_y)**2)))\\n  \\n  opponent_meters_run = 3*(float(distance)/18.0)\\n  opps =  panda_locs[panda_locs['team'] == opponent.title()][panda_locs['time'] == time_][panda_locs['x'] > x-meters_to_intercept-opponent_meters_run][panda_locs['x'] < x+meters_to_intercept+opponent_meters_run][panda_locs['y'] > y-meters_to_intercept-opponent_meters_run][panda_locs['y'] < y+meters_to_intercept+opponent_meters_run]['player_id'].values.tolist()\\n  \\n  try:\\n    return opps[0]\\n  except:\\n    return []\\n  \\ndef interceptionOpponents(player,time_,target_x,target_y,x,y,panda,panda_possess):\\n  \\n  player_possess,possess_x,possess_y = panda_possess[panda_possess['time'] == time_][['player_in_possess','x','y']].values.tolist()[0]\\n\\n  interception_opponents = []\\n  interception_opponents_count = len(interception_opponents)\\n  \\n  if str(player) == str(player_possess):\\n    pass\\n    \\n  else:\\n    distance = float(np.sqrt(((target_x-possess_x)**2)+((target_y-possess_y)**2)))\\n\\n    m = (possess_y-target_y)/(possess_x-target_x)\\n\\n    b = (possess_x*target_y - target_x*possess_y)/(possess_x-target_x)\\n\\n    if possess_x > target_x:\\n      xs = sorted(list(np.arange(target_x,possess_x,float(possess_x-target_x)/distance)), reverse = True)\\n    else:\\n      xs = list(np.arange(possess_x,target_x,float(target_x-possess_x)/distance))\\n\\n    pre_trajectory = list(map(lambda xx: [float(xx),float((m*xx)+b)], xs))\\n\\n    if distance > 25:\\n      trajectory = [pre_trajectory[2],pre_trajectory[3],pre_trajectory[4],pre_trajectory[5],pre_trajectory[6],pre_trajectory[-6],pre_trajectory[-5],pre_trajectory[-4],pre_trajectory[-3],pre_trajectory[-2],pre_trajectory[-1]]\\n    else:\\n      trajectory = pre_trajectory[2:]\\n\\n    interception_opponents = list(filter(lambda a : a!= [], list(map(lambda d : singlePointOpponents(d[0],d[1],panda,opponent,time_,1.0,possess_x,possess_y), trajectory))))\\n    interception_opponents_count = len(list(dict.fromkeys(interception_opponents)))\\n    \\n  return [interception_opponents_count]\\n\\n\\nplayer_index = area_targets_advance_pre_final.columns.index('player')\\ntime_index = area_targets_advance_pre_final.columns.index('time')\\ntarget_x_index = area_targets_advance_pre_final.columns.index('target_x')\\ntarget_y_index = area_targets_advance_pre_final.columns.index('target_y')\\nx_index = area_targets_advance_pre_final.columns.index('x')\\ny_index = area_targets_advance_pre_final.columns.index('y')\\n\\narea_targets_advance_pre_final_intercept = sqlContext.createDataFrame(area_targets_advance_pre_final.rdd.map(lambda g : list(g)+interceptionOpponents(g[player_index],g[time_index],g[target_x_index],g[target_y_index],g[x_index],g[y_index],panda_locs,panda_possess)), area_targets_advance_pre_final.columns+['interception_opponents'])\\n\""
            ],
            "application/vnd.google.colaboratory.intrinsic+json": {
              "type": "string"
            }
          },
          "metadata": {},
          "execution_count": 258
        }
      ],
      "source": [
        "'''\n",
        "def singlePointOpponents(x,y,panda_locs,opponent,time_,meters_to_intercept,possess_x,possess_y):\n",
        "  \n",
        "  distance = distance = float(np.sqrt(((x-possess_x)**2)+((y-possess_y)**2)))\n",
        "  \n",
        "  opponent_meters_run = 3*(float(distance)/18.0)\n",
        "  opps =  panda_locs[panda_locs['team'] == opponent.title()][panda_locs['time'] == time_][panda_locs['x'] > x-meters_to_intercept-opponent_meters_run][panda_locs['x'] < x+meters_to_intercept+opponent_meters_run][panda_locs['y'] > y-meters_to_intercept-opponent_meters_run][panda_locs['y'] < y+meters_to_intercept+opponent_meters_run]['player_id'].values.tolist()\n",
        "  \n",
        "  try:\n",
        "    return opps[0]\n",
        "  except:\n",
        "    return []\n",
        "  \n",
        "def interceptionOpponents(player,time_,target_x,target_y,x,y,panda,panda_possess):\n",
        "  \n",
        "  player_possess,possess_x,possess_y = panda_possess[panda_possess['time'] == time_][['player_in_possess','x','y']].values.tolist()[0]\n",
        "\n",
        "  interception_opponents = []\n",
        "  interception_opponents_count = len(interception_opponents)\n",
        "  \n",
        "  if str(player) == str(player_possess):\n",
        "    pass\n",
        "    \n",
        "  else:\n",
        "    distance = float(np.sqrt(((target_x-possess_x)**2)+((target_y-possess_y)**2)))\n",
        "\n",
        "    m = (possess_y-target_y)/(possess_x-target_x)\n",
        "\n",
        "    b = (possess_x*target_y - target_x*possess_y)/(possess_x-target_x)\n",
        "\n",
        "    if possess_x > target_x:\n",
        "      xs = sorted(list(np.arange(target_x,possess_x,float(possess_x-target_x)/distance)), reverse = True)\n",
        "    else:\n",
        "      xs = list(np.arange(possess_x,target_x,float(target_x-possess_x)/distance))\n",
        "\n",
        "    pre_trajectory = list(map(lambda xx: [float(xx),float((m*xx)+b)], xs))\n",
        "\n",
        "    if distance > 25:\n",
        "      trajectory = [pre_trajectory[2],pre_trajectory[3],pre_trajectory[4],pre_trajectory[5],pre_trajectory[6],pre_trajectory[-6],pre_trajectory[-5],pre_trajectory[-4],pre_trajectory[-3],pre_trajectory[-2],pre_trajectory[-1]]\n",
        "    else:\n",
        "      trajectory = pre_trajectory[2:]\n",
        "\n",
        "    interception_opponents = list(filter(lambda a : a!= [], list(map(lambda d : singlePointOpponents(d[0],d[1],panda,opponent,time_,1.0,possess_x,possess_y), trajectory))))\n",
        "    interception_opponents_count = len(list(dict.fromkeys(interception_opponents)))\n",
        "    \n",
        "  return [interception_opponents_count]\n",
        "\n",
        "\n",
        "player_index = area_targets_advance_pre_final.columns.index('player')\n",
        "time_index = area_targets_advance_pre_final.columns.index('time')\n",
        "target_x_index = area_targets_advance_pre_final.columns.index('target_x')\n",
        "target_y_index = area_targets_advance_pre_final.columns.index('target_y')\n",
        "x_index = area_targets_advance_pre_final.columns.index('x')\n",
        "y_index = area_targets_advance_pre_final.columns.index('y')\n",
        "\n",
        "area_targets_advance_pre_final_intercept = sqlContext.createDataFrame(area_targets_advance_pre_final.rdd.map(lambda g : list(g)+interceptionOpponents(g[player_index],g[time_index],g[target_x_index],g[target_y_index],g[x_index],g[y_index],panda_locs,panda_possess)), area_targets_advance_pre_final.columns+['interception_opponents'])\n",
        "'''\n"
      ]
    },
    {
      "cell_type": "code",
      "execution_count": 259,
      "metadata": {
        "id": "TrZn5SU-CjQW",
        "outputId": "acad1524-9d3a-4c90-9384-22834f2c6e5e",
        "colab": {
          "base_uri": "https://localhost:8080/",
          "height": 53
        }
      },
      "outputs": [
        {
          "output_type": "execute_result",
          "data": {
            "text/plain": [
              "'\\nspark.conf.set(\"spark.sql.legacy.allowCreatingManagedTableUsingNonemptyLocation\",\"true\")\\nout.write.saveAsTable(\"pitch_control_2_\"+str(team_a_lower)+\"_\"+str(opponent_lower)+\"_\"+str(half).replace(\\' \\',\\'_\\')+str(half_split)+\"_\"+str(player_in_possess), mode = \\'overwrite\\') \\n'"
            ],
            "application/vnd.google.colaboratory.intrinsic+json": {
              "type": "string"
            }
          },
          "metadata": {},
          "execution_count": 259
        }
      ],
      "source": [
        "'''\n",
        "spark.conf.set(\"spark.sql.legacy.allowCreatingManagedTableUsingNonemptyLocation\",\"true\")\n",
        "out.write.saveAsTable(\"pitch_control_2_\"+str(team_a_lower)+\"_\"+str(opponent_lower)+\"_\"+str(half).replace(' ','_')+str(half_split)+\"_\"+str(player_in_possess), mode = 'overwrite') \n",
        "'''"
      ]
    },
    {
      "cell_type": "code",
      "execution_count": 260,
      "metadata": {
        "id": "-IIbL8YXCjQW",
        "outputId": "b128a55b-6107-4ddb-ee4d-0463e7d40732",
        "colab": {
          "base_uri": "https://localhost:8080/",
          "height": 71
        }
      },
      "outputs": [
        {
          "output_type": "execute_result",
          "data": {
            "text/plain": [
              "'\\nspark.conf.set(\"spark.sql.legacy.allowCreatingManagedTableUsingNonemptyLocation\",\"true\")\\narea_targets_advance_pre_final_intercept.write.saveAsTable(\"pitch_control_2_kpis_marcature_\"+str(team_a_lower)+\"_\"+str(opponent_lower)+\"_\"+str(half).replace(\\' \\',\\'_\\')+str(half_split)+\"_\"+str(player_in_possess), mode = \\'overwrite\\')\\n'"
            ],
            "application/vnd.google.colaboratory.intrinsic+json": {
              "type": "string"
            }
          },
          "metadata": {},
          "execution_count": 260
        }
      ],
      "source": [
        "'''\n",
        "spark.conf.set(\"spark.sql.legacy.allowCreatingManagedTableUsingNonemptyLocation\",\"true\")\n",
        "area_targets_advance_pre_final_intercept.write.saveAsTable(\"pitch_control_2_kpis_marcature_\"+str(team_a_lower)+\"_\"+str(opponent_lower)+\"_\"+str(half).replace(' ','_')+str(half_split)+\"_\"+str(player_in_possess), mode = 'overwrite')\n",
        "''' "
      ]
    },
    {
      "cell_type": "code",
      "execution_count": 261,
      "metadata": {
        "id": "xgMFQsoOCjQW"
      },
      "outputs": [],
      "source": [
        "#str(half).replace(' ','_')+str(half_split)"
      ]
    },
    {
      "cell_type": "code",
      "execution_count": 262,
      "metadata": {
        "id": "e9nx2-hqCjQW",
        "outputId": "6d5285ae-41a8-4981-c40e-57b3ab257d1f",
        "colab": {
          "base_uri": "https://localhost:8080/",
          "height": 142
        }
      },
      "outputs": [
        {
          "output_type": "execute_result",
          "data": {
            "text/plain": [
              "\"\\n# area_value\\narea_targets_advance_pre_final_area_value = area_targets_advance_pre_final.groupBy('player_id','time').agg(func.avg('area_value'),func.max('area_value')).withColumnRenamed('avg(area_value)','avg').withColumnRenamed('max(area_value)','max').withColumn('kpi', lit('area_value'))\\narea_targets_advance_pre_final_area_value = area_targets_advance_pre_final_area_value.withColumn('area_value_index', func.log((1+(0.45*area_targets_advance_pre_final_area_value['avg']+0.55*area_targets_advance_pre_final_area_value['max']))/area_targets_advance_pre_final_area_value['avg'])).select('player_id','time','area_value_index')\\n# opponents_cut\\narea_targets_advance_pre_final_opponents_cut = area_targets_advance_pre_final.groupBy('player_id','time').agg(func.avg('opponents_cut'),func.max('opponents_cut')).withColumnRenamed('avg(opponents_cut)','avg').withColumnRenamed('max(opponents_cut)','max').withColumn('kpi', lit('opponents_cut'))\\narea_targets_advance_pre_final_opponents_cut = area_targets_advance_pre_final_opponents_cut.withColumn('opponents_cut_index', func.log((1+(0.45*area_targets_advance_pre_final_opponents_cut['avg']+0.55*area_targets_advance_pre_final_opponents_cut['max']))/area_targets_advance_pre_final_opponents_cut['avg'])).select('player_id','time','opponents_cut_index')\\n# percentage_zone_in_control\\narea_targets_advance_pre_final_percentage_zone_in_control = area_targets_advance_pre_final.groupBy('player_id','time').agg(func.avg('percentage_zone_in_control'),func.max('percentage_zone_in_control')).withColumnRenamed('avg(percentage_zone_in_control)','avg').withColumnRenamed('max(percentage_zone_in_control)','max').withColumn('kpi', lit('percentage_zone_in_control'))\\narea_targets_advance_pre_final_percentage_zone_in_control = area_targets_advance_pre_final_percentage_zone_in_control.withColumn('percentage_zone_in_control_index', func.log((1+(0.45*area_targets_advance_pre_final_percentage_zone_in_control['avg']+0.55*area_targets_advance_pre_final_percentage_zone_in_control['max']))/area_targets_advance_pre_final_percentage_zone_in_control['avg'])).select('player_id','time','percentage_zone_in_control_index')\\n# team_advancement\\narea_targets_advance_pre_final_team_advancement = area_targets_advance_pre_final.groupBy('player_id','time').agg(func.avg('team_advancement'),func.max('team_advancement')).withColumnRenamed('avg(team_advancement)','avg').withColumnRenamed('max(team_advancement)','max').withColumn('kpi', lit('team_advancement'))\\narea_targets_advance_pre_final_team_advancement = area_targets_advance_pre_final_team_advancement.withColumn('team_advancement_index', func.log((1+(0.45*area_targets_advance_pre_final_team_advancement['avg']+0.55*area_targets_advance_pre_final_team_advancement['max']))/area_targets_advance_pre_final_team_advancement['avg'])).select('player_id','time','team_advancement_index')\\n# distance_from_target\\narea_targets_advance_pre_final_distance_from_target = area_targets_advance_pre_final.groupBy('player_id','time').agg(func.avg('distance_from_target'),func.max('distance_from_target')).withColumnRenamed('avg(distance_from_target)','avg').withColumnRenamed('max(distance_from_target)','max').withColumn('kpi', lit('distance_from_target'))\\narea_targets_advance_pre_final_distance_from_target = area_targets_advance_pre_final_distance_from_target.withColumn('distance_from_target_index', func.log((1+(0.45*area_targets_advance_pre_final_distance_from_target['avg']+0.55*area_targets_advance_pre_final_distance_from_target['max']))/area_targets_advance_pre_final_distance_from_target['avg'])).select('player_id','time','distance_from_target_index')\\n# probability\\narea_targets_advance_pre_final_probability = area_targets_advance_pre_final.groupBy('player_id','time').agg(func.avg('probability'),func.max('probability')).withColumnRenamed('avg(probability)','avg').withColumnRenamed('max(probability)','max').withColumn('kpi', lit('probability'))\\narea_targets_advance_pre_final_probability = area_targets_advance_pre_final_probability.withColumn('probability_index', func.log((1+(0.45*area_targets_advance_pre_final_probability['avg']+0.55*area_targets_advance_pre_final_probability['max']))/area_targets_advance_pre_final_probability['avg'])).select('player_id','time','probability_index')\\n# ball_distance\\narea_targets_advance_pre_final_ball_distance = area_targets_advance_pre_final.groupBy('player_id','time').agg(func.avg('ball_distance'),func.max('ball_distance')).withColumnRenamed('avg(ball_distance)','avg').withColumnRenamed('max(ball_distance)','max').withColumn('kpi', lit('ball_distance'))\\narea_targets_advance_pre_final_ball_distance = area_targets_advance_pre_final_ball_distance.withColumn('ball_distance_index', func.log((1+(0.45*area_targets_advance_pre_final_ball_distance['avg']+0.55*area_targets_advance_pre_final_ball_distance['max']))/area_targets_advance_pre_final_ball_distance['avg'])).select('player_id','time','ball_distance_index')\\n\\nkpis = area_targets_advance_pre_final_area_value.join(area_targets_advance_pre_final_opponents_cut, ['player_id','time']).join(area_targets_advance_pre_final_percentage_zone_in_control, ['player_id','time']).join(area_targets_advance_pre_final_team_advancement, ['player_id','time']).join(area_targets_advance_pre_final_distance_from_target, ['player_id','time']).join(area_targets_advance_pre_final_probability, ['player_id','time']).join(area_targets_advance_pre_final_ball_distance, ['player_id','time'])\\n\""
            ],
            "application/vnd.google.colaboratory.intrinsic+json": {
              "type": "string"
            }
          },
          "metadata": {},
          "execution_count": 262
        }
      ],
      "source": [
        "'''\n",
        "# area_value\n",
        "area_targets_advance_pre_final_area_value = area_targets_advance_pre_final.groupBy('player_id','time').agg(func.avg('area_value'),func.max('area_value')).withColumnRenamed('avg(area_value)','avg').withColumnRenamed('max(area_value)','max').withColumn('kpi', lit('area_value'))\n",
        "area_targets_advance_pre_final_area_value = area_targets_advance_pre_final_area_value.withColumn('area_value_index', func.log((1+(0.45*area_targets_advance_pre_final_area_value['avg']+0.55*area_targets_advance_pre_final_area_value['max']))/area_targets_advance_pre_final_area_value['avg'])).select('player_id','time','area_value_index')\n",
        "# opponents_cut\n",
        "area_targets_advance_pre_final_opponents_cut = area_targets_advance_pre_final.groupBy('player_id','time').agg(func.avg('opponents_cut'),func.max('opponents_cut')).withColumnRenamed('avg(opponents_cut)','avg').withColumnRenamed('max(opponents_cut)','max').withColumn('kpi', lit('opponents_cut'))\n",
        "area_targets_advance_pre_final_opponents_cut = area_targets_advance_pre_final_opponents_cut.withColumn('opponents_cut_index', func.log((1+(0.45*area_targets_advance_pre_final_opponents_cut['avg']+0.55*area_targets_advance_pre_final_opponents_cut['max']))/area_targets_advance_pre_final_opponents_cut['avg'])).select('player_id','time','opponents_cut_index')\n",
        "# percentage_zone_in_control\n",
        "area_targets_advance_pre_final_percentage_zone_in_control = area_targets_advance_pre_final.groupBy('player_id','time').agg(func.avg('percentage_zone_in_control'),func.max('percentage_zone_in_control')).withColumnRenamed('avg(percentage_zone_in_control)','avg').withColumnRenamed('max(percentage_zone_in_control)','max').withColumn('kpi', lit('percentage_zone_in_control'))\n",
        "area_targets_advance_pre_final_percentage_zone_in_control = area_targets_advance_pre_final_percentage_zone_in_control.withColumn('percentage_zone_in_control_index', func.log((1+(0.45*area_targets_advance_pre_final_percentage_zone_in_control['avg']+0.55*area_targets_advance_pre_final_percentage_zone_in_control['max']))/area_targets_advance_pre_final_percentage_zone_in_control['avg'])).select('player_id','time','percentage_zone_in_control_index')\n",
        "# team_advancement\n",
        "area_targets_advance_pre_final_team_advancement = area_targets_advance_pre_final.groupBy('player_id','time').agg(func.avg('team_advancement'),func.max('team_advancement')).withColumnRenamed('avg(team_advancement)','avg').withColumnRenamed('max(team_advancement)','max').withColumn('kpi', lit('team_advancement'))\n",
        "area_targets_advance_pre_final_team_advancement = area_targets_advance_pre_final_team_advancement.withColumn('team_advancement_index', func.log((1+(0.45*area_targets_advance_pre_final_team_advancement['avg']+0.55*area_targets_advance_pre_final_team_advancement['max']))/area_targets_advance_pre_final_team_advancement['avg'])).select('player_id','time','team_advancement_index')\n",
        "# distance_from_target\n",
        "area_targets_advance_pre_final_distance_from_target = area_targets_advance_pre_final.groupBy('player_id','time').agg(func.avg('distance_from_target'),func.max('distance_from_target')).withColumnRenamed('avg(distance_from_target)','avg').withColumnRenamed('max(distance_from_target)','max').withColumn('kpi', lit('distance_from_target'))\n",
        "area_targets_advance_pre_final_distance_from_target = area_targets_advance_pre_final_distance_from_target.withColumn('distance_from_target_index', func.log((1+(0.45*area_targets_advance_pre_final_distance_from_target['avg']+0.55*area_targets_advance_pre_final_distance_from_target['max']))/area_targets_advance_pre_final_distance_from_target['avg'])).select('player_id','time','distance_from_target_index')\n",
        "# probability\n",
        "area_targets_advance_pre_final_probability = area_targets_advance_pre_final.groupBy('player_id','time').agg(func.avg('probability'),func.max('probability')).withColumnRenamed('avg(probability)','avg').withColumnRenamed('max(probability)','max').withColumn('kpi', lit('probability'))\n",
        "area_targets_advance_pre_final_probability = area_targets_advance_pre_final_probability.withColumn('probability_index', func.log((1+(0.45*area_targets_advance_pre_final_probability['avg']+0.55*area_targets_advance_pre_final_probability['max']))/area_targets_advance_pre_final_probability['avg'])).select('player_id','time','probability_index')\n",
        "# ball_distance\n",
        "area_targets_advance_pre_final_ball_distance = area_targets_advance_pre_final.groupBy('player_id','time').agg(func.avg('ball_distance'),func.max('ball_distance')).withColumnRenamed('avg(ball_distance)','avg').withColumnRenamed('max(ball_distance)','max').withColumn('kpi', lit('ball_distance'))\n",
        "area_targets_advance_pre_final_ball_distance = area_targets_advance_pre_final_ball_distance.withColumn('ball_distance_index', func.log((1+(0.45*area_targets_advance_pre_final_ball_distance['avg']+0.55*area_targets_advance_pre_final_ball_distance['max']))/area_targets_advance_pre_final_ball_distance['avg'])).select('player_id','time','ball_distance_index')\n",
        "\n",
        "kpis = area_targets_advance_pre_final_area_value.join(area_targets_advance_pre_final_opponents_cut, ['player_id','time']).join(area_targets_advance_pre_final_percentage_zone_in_control, ['player_id','time']).join(area_targets_advance_pre_final_team_advancement, ['player_id','time']).join(area_targets_advance_pre_final_distance_from_target, ['player_id','time']).join(area_targets_advance_pre_final_probability, ['player_id','time']).join(area_targets_advance_pre_final_ball_distance, ['player_id','time'])\n",
        "'''"
      ]
    }
  ],
  "metadata": {
    "application/vnd.databricks.v1+notebook": {
      "dashboards": [],
      "language": "python",
      "notebookMetadata": {
        "pythonIndentUnit": 2
      },
      "notebookName": "pitch control acm_marcature2",
      "notebookOrigID": 2181076884138504,
      "widgets": {
        "half": {
          "currentValue": "second half",
          "nuid": "9100d9ab-5d86-465a-b50c-ec6757f5f609",
          "widgetInfo": {
            "defaultValue": "",
            "label": "half",
            "name": "half",
            "options": {
              "validationRegex": null,
              "widgetType": "text"
            },
            "widgetType": "text"
          }
        },
        "half_split": {
          "currentValue": "2",
          "nuid": "11e656a7-c134-42c7-b645-826188b251ec",
          "widgetInfo": {
            "defaultValue": "",
            "label": "half_split",
            "name": "half_split",
            "options": {
              "validationRegex": null,
              "widgetType": "text"
            },
            "widgetType": "text"
          }
        },
        "opponent": {
          "currentValue": "milan",
          "nuid": "15d4b4b6-3324-49c0-b37c-a3371f3ba3af",
          "widgetInfo": {
            "defaultValue": "",
            "label": "opponent",
            "name": "opponent",
            "options": {
              "validationRegex": null,
              "widgetType": "text"
            },
            "widgetType": "text"
          }
        },
        "player_in_possess": {
          "currentValue": "all",
          "nuid": "df09226f-9c1e-4c8d-b251-952429737c66",
          "widgetInfo": {
            "defaultValue": "",
            "label": "player_in_possess",
            "name": "player_in_possess",
            "options": {
              "validationRegex": null,
              "widgetType": "text"
            },
            "widgetType": "text"
          }
        },
        "team": {
          "currentValue": "cagliari",
          "nuid": "152ca9c4-2757-43d1-8484-46be149a2b90",
          "widgetInfo": {
            "defaultValue": "team",
            "label": null,
            "name": "team",
            "options": {
              "validationRegex": null,
              "widgetType": "text"
            },
            "widgetType": "text"
          }
        }
      }
    },
    "colab": {
      "name": "pitch control acm_marcature2.ipynb",
      "provenance": [],
      "collapsed_sections": []
    },
    "kernelspec": {
      "display_name": "Python 3",
      "language": "python",
      "name": "python3"
    },
    "language_info": {
      "codemirror_mode": {
        "name": "ipython",
        "version": 3
      },
      "file_extension": ".py",
      "mimetype": "text/x-python",
      "name": "python",
      "nbconvert_exporter": "python",
      "pygments_lexer": "ipython3",
      "version": "3.7.6"
    },
    "name": "test_competitive_prob",
    "notebookId": 4095711113381694
  },
  "nbformat": 4,
  "nbformat_minor": 0
}