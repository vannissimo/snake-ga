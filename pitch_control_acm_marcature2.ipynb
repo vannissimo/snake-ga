{
  "cells": [
    {
      "cell_type": "markdown",
      "metadata": {
        "id": "view-in-github",
        "colab_type": "text"
      },
      "source": [
        "<a href=\"https://colab.research.google.com/github/vannissimo/snake-ga/blob/master/pitch_control_acm_marcature2.ipynb\" target=\"_parent\"><img src=\"https://colab.research.google.com/assets/colab-badge.svg\" alt=\"Open In Colab\"/></a>"
      ]
    },
    {
      "cell_type": "code",
      "execution_count": null,
      "metadata": {
        "id": "Lw4VKDKaCnnl"
      },
      "outputs": [],
      "source": [
        " !apt-get install openjdk-8-jdk-headless -qq > /dev/null\n",
        "!wget -q https://archive.apache.org/dist/spark/spark-3.0.0/spark-3.0.0-bin-hadoop3.2.tgz\n",
        "!tar xf spark-3.0.0-bin-hadoop3.2.tgz"
      ]
    },
    {
      "cell_type": "code",
      "execution_count": null,
      "metadata": {
        "id": "UTeHfSUNCph1"
      },
      "outputs": [],
      "source": [
        "import os\n",
        "os.environ[\"JAVA_HOME\"] = \"/usr/lib/jvm/java-8-openjdk-amd64\"\n",
        "os.environ[\"SPARK_HOME\"] = \"/content/spark-3.0.0-bin-hadoop3.2\"\n",
        "# install findspark using pip\n",
        "!pip install -q findspark"
      ]
    },
    {
      "cell_type": "code",
      "execution_count": null,
      "metadata": {
        "id": "k2k4Rs0iCq9Z"
      },
      "outputs": [],
      "source": [
        "import findspark\n",
        "findspark.init()"
      ]
    },
    {
      "cell_type": "code",
      "execution_count": null,
      "metadata": {
        "id": "JWfLHgTiCs2U"
      },
      "outputs": [],
      "source": [
        "from pyspark.sql import SparkSession\n",
        "\n",
        "spark = SparkSession.builder\\\n",
        "        .master(\"local\")\\\n",
        "        .appName(\"Colab\")\\\n",
        "        .config('spark.ui.port', '4050')\\\n",
        "        .getOrCreate()"
      ]
    },
    {
      "cell_type": "code",
      "execution_count": null,
      "metadata": {
        "id": "x1a3p6LcCjQG"
      },
      "outputs": [],
      "source": [
        "import numpy as np\n",
        "from bisect import bisect\n",
        "from pyspark.sql import functions as func\n",
        "from pyspark.sql.types import IntegerType, DoubleType\n",
        "from pyspark.sql.functions import concat,col,lit,desc\n",
        "from operator import itemgetter\n",
        "import itertools \n",
        "from bisect import bisect\n",
        "import pandas as pd"
      ]
    },
    {
      "cell_type": "code",
      "execution_count": null,
      "metadata": {
        "colab": {
          "base_uri": "https://localhost:8080/",
          "height": 35
        },
        "id": "QrtWUrK8DM79",
        "outputId": "7d1140d5-1f94-4f64-9709-0d25552255d9"
      },
      "outputs": [
        {
          "output_type": "execute_result",
          "data": {
            "text/plain": [
              "'milan_cagliari_second_half_2_all'"
            ],
            "application/vnd.google.colaboratory.intrinsic+json": {
              "type": "string"
            }
          },
          "metadata": {},
          "execution_count": 430
        }
      ],
      "source": [
        "team = team_a = 'milan'\n",
        "opponent = 'cagliari'\n",
        "half = 'second half'\n",
        "half_split = '2'\n",
        "player_in_possess = 'all'\n",
        "secondi_di_differenza_giocatori_eventi = {'cagliari': -2}\n",
        "\n",
        "name_path = team +\"_\"+str(opponent)+\"_\"+str(half).replace(' ','_')+\"_\"+str(half_split)+\"_\"+player_in_possess\n",
        "\n",
        "name_path"
      ]
    },
    {
      "cell_type": "code",
      "execution_count": null,
      "metadata": {
        "colab": {
          "base_uri": "https://localhost:8080/"
        },
        "id": "rNAybDY3Dufi",
        "outputId": "be3ac42f-35b3-46cd-e0bd-2f65331d1766"
      },
      "outputs": [
        {
          "output_type": "stream",
          "name": "stdout",
          "text": [
            "Drive already mounted at /content/drive; to attempt to forcibly remount, call drive.mount(\"/content/drive\", force_remount=True).\n"
          ]
        }
      ],
      "source": [
        "# mount your drive\n",
        "from google.colab import drive\n",
        "drive.mount('/content/drive')"
      ]
    },
    {
      "cell_type": "code",
      "execution_count": null,
      "metadata": {
        "id": "62TEo9I-C4fN",
        "colab": {
          "base_uri": "https://localhost:8080/"
        },
        "outputId": "3a0e8f12-dd24-4ce2-c39f-39ae5bf8be39"
      },
      "outputs": [
        {
          "output_type": "stream",
          "name": "stdout",
          "text": [
            "+------+-------------+-------------+-------------+-------------+\n",
            "|  time|min(target_x)|max(target_x)|min(target_y)|max(target_y)|\n",
            "+------+-------------+-------------+-------------+-------------+\n",
            "|4315.0|        -48.0|         54.0|        -35.0|         36.0|\n",
            "+------+-------------+-------------+-------------+-------------+\n",
            "\n"
          ]
        }
      ],
      "source": [
        "# loading data as parquet\n",
        "pre_data_players = spark.read.parquet(\"/content/drive/MyDrive/Colab Notebooks/FootballDataAnalysis/data/Milan-Cagliari/parquet/frames_milan_cagliari.parquet\").drop('index')\n",
        "\n",
        "pre_pre_df = spark.read.csv('/content/drive/MyDrive/Colab Notebooks/FootballDataAnalysis/data/Milan-Cagliari/parquet/' + 'pitch_control_' + name_path + '.csv',header='True')\n",
        "pre_pre_df = pre_pre_df.withColumn('x', pre_pre_df['x'].cast(DoubleType())).withColumn('y', pre_pre_df['y'].cast(DoubleType())).withColumn('target_y', pre_pre_df['target_y'].cast(DoubleType())).withColumn('target_x', pre_pre_df['target_x'].cast(DoubleType()))\n",
        "\n",
        "pre_pre_df.where(pre_pre_df['target_x'] > -999).where(pre_pre_df['target_y'] < 9999).groupBy('time').agg(func.min('target_x'),func.max('target_x'),func.min('target_y'),func.max('target_y')).show()"
      ]
    },
    {
      "cell_type": "code",
      "execution_count": null,
      "metadata": {
        "id": "fY8iLNseCjQJ"
      },
      "outputs": [],
      "source": [
        "#create parameters input boxes (Databricks)\n",
        "\n",
        "if opponent == 'milan':\n",
        "  opponent_f = team_a\n",
        "else:\n",
        "  opponent_f = opponent"
      ]
    },
    {
      "cell_type": "code",
      "execution_count": null,
      "metadata": {
        "id": "5NJz5il_CjQK"
      },
      "outputs": [],
      "source": [
        "from pyspark.sql import functions as func\n",
        "\n",
        "pre_data_players = pre_data_players.withColumnRenamed('team_name','team').withColumnRenamed('position','role')\n",
        "\n",
        "min_half_time, max_half_time = pre_data_players.where(pre_data_players['half'] == half).groupBy('half').agg(func.min('time'),func.max('time')).collect()[0][1:]\n",
        "\n",
        "if half_split == '1':\n",
        "  data_players = pre_data_players.where((pre_data_players['time'] > min_half_time) & (pre_data_players['time'] <= min_half_time+float((max_half_time-min_half_time)/2.0)))\n",
        "  \n",
        "elif half_split == '2':\n",
        "  data_players = pre_data_players.where((pre_data_players['time'] > min_half_time+float((max_half_time-min_half_time)/2.0)) & (pre_data_players['time'] < max_half_time))\n"
      ]
    },
    {
      "cell_type": "code",
      "source": [
        "data_players.groupBy('time').count().show()"
      ],
      "metadata": {
        "colab": {
          "base_uri": "https://localhost:8080/"
        },
        "id": "u9GZS_Z2qjh6",
        "outputId": "3640589e-6b6a-4f07-90f9-03ef30073785"
      },
      "execution_count": null,
      "outputs": [
        {
          "output_type": "stream",
          "name": "stdout",
          "text": [
            "+------+-----+\n",
            "|  time|count|\n",
            "+------+-----+\n",
            "|5601.6|   23|\n",
            "|5603.2|   23|\n",
            "|5617.4|   23|\n",
            "|4238.2|   23|\n",
            "|4247.6|   23|\n",
            "|4262.6|   23|\n",
            "|4271.0|   23|\n",
            "|4298.7|   23|\n",
            "|4320.6|   23|\n",
            "|4361.6|   23|\n",
            "|4393.0|   23|\n",
            "|4446.0|   23|\n",
            "|4491.3|   23|\n",
            "|4542.6|   23|\n",
            "|4550.9|   23|\n",
            "|4560.5|   23|\n",
            "|4566.2|   23|\n",
            "|4580.1|   23|\n",
            "|4618.0|   23|\n",
            "|4625.7|   23|\n",
            "+------+-----+\n",
            "only showing top 20 rows\n",
            "\n"
          ]
        }
      ]
    },
    {
      "cell_type": "code",
      "execution_count": null,
      "metadata": {
        "id": "eovICDbyCjQL",
        "colab": {
          "base_uri": "https://localhost:8080/"
        },
        "outputId": "686292ca-0713-437c-9ebb-21fef369c906"
      },
      "outputs": [
        {
          "output_type": "execute_result",
          "data": {
            "text/plain": [
              "('p129487', 'p213535', -35.384379295644386)"
            ]
          },
          "metadata": {},
          "execution_count": 436
        }
      ],
      "source": [
        "from operator import itemgetter\n",
        "from pyspark.sql import functions as func\n",
        "from pyspark.sql.functions import lit\n",
        "\n",
        "import itertools \n",
        "import bisect\n",
        "import numpy as np\n",
        "from pyspark.sql.types import DoubleType\n",
        "import pandas as pd\n",
        "\n",
        "team_a_lower = team_a.lower()\n",
        "granularity = 0.5\n",
        "max_ball_distance = 70.0\n",
        "max_meters_distance_player_can_receive_ball = 30.0\n",
        "opponent_lower = opponent.lower()\n",
        "\n",
        "team_a_goalies = data_players.where(data_players['team'] == team_a.title()).where(data_players['role'] == 'Goalkeeper').select('player_id').distinct().collect()[0]['player_id']\n",
        "opponent_goalies = data_players.where(data_players['team'] == opponent.title()).where(data_players['role'] == 'Goalkeeper').select('player_id').distinct().collect()[0]['player_id']\n",
        "\n",
        "goalie_x = data_players.where(data_players['team'] == team_a.title()).where(data_players['role'] == 'Goalkeeper').groupBy('role').avg('x').rdd.max()[1]\n",
        "\n",
        "team_a_goalies,opponent_goalies,goalie_x"
      ]
    },
    {
      "cell_type": "code",
      "execution_count": null,
      "metadata": {
        "id": "29gYo_oACjQM",
        "colab": {
          "base_uri": "https://localhost:8080/"
        },
        "outputId": "a0f27d4f-c694-44ad-a412-70dddb5ce2a5"
      },
      "outputs": [
        {
          "output_type": "execute_result",
          "data": {
            "text/plain": [
              "('p129487', 'left_to_right')"
            ]
          },
          "metadata": {},
          "execution_count": 437
        }
      ],
      "source": [
        "min_x = data_players.select('x').rdd.min()[0]\n",
        "max_x = data_players.select('x').rdd.max()[0]\n",
        "min_y = data_players.select('y').rdd.min()[0]\n",
        "max_y = data_players.select('y').rdd.max()[0]\n",
        "\n",
        "x_lines = list(np.arange(int(min_x)-1,int(max_x)+1,float(max_x-min_x)/6.0))\n",
        "y_lines = list(np.arange(int(min_y)-1,int(max_y)+1,float(max_y-min_y)/4.0))\n",
        "\n",
        "mid_x, mid_y = x_lines[3], float(y_lines[2])\n",
        "\n",
        "if float(np.abs(goalie_x - max_x)) < float(np.abs(goalie_x - min_x)):\n",
        "  verse = 'right_to_left'\n",
        "  opponent_verse = 'left_to_right'\n",
        "else:\n",
        "  verse = 'left_to_right'\n",
        "  opponent_verse = 'right_to_left'\n",
        "\n",
        "team_a_goalies,verse"
      ]
    },
    {
      "cell_type": "code",
      "execution_count": null,
      "metadata": {
        "id": "YjorMQkpCjQN"
      },
      "outputs": [],
      "source": [
        "pre_pre_df = pre_pre_df.withColumn('time', pre_pre_df['time'].cast(DoubleType()))"
      ]
    },
    {
      "cell_type": "code",
      "execution_count": null,
      "metadata": {
        "id": "ByKtT31eCjQO",
        "colab": {
          "base_uri": "https://localhost:8080/"
        },
        "outputId": "11e047d6-8599-4722-9581-9698616c20cf"
      },
      "outputs": [
        {
          "output_type": "execute_result",
          "data": {
            "text/plain": [
              "[4315.0]"
            ]
          },
          "metadata": {},
          "execution_count": 439
        }
      ],
      "source": [
        "possess = pre_pre_df.where(pre_pre_df['target_x'] < -950).select('player_id','team','time','x','y').distinct().withColumnRenamed('player_id','player_in_possess').withColumnRenamed('team','team_in_possess')\n",
        "\n",
        "timings = sorted(possess.select('time').rdd.map(lambda a : a[0]).collect())\n",
        "timings"
      ]
    },
    {
      "cell_type": "code",
      "execution_count": null,
      "metadata": {
        "id": "7Ej-AX39CjQO"
      },
      "outputs": [],
      "source": [
        "df = pre_pre_df.where(pre_pre_df['target_x'] > -999).distinct()"
      ]
    },
    {
      "cell_type": "code",
      "execution_count": null,
      "metadata": {
        "id": "ON6rkzu8CjQP"
      },
      "outputs": [],
      "source": [
        "#offside_players = pre_df.where(pre_df['team'] == team_a.capitalize()).select('player_id','time','offside_flag').distinct()"
      ]
    },
    {
      "cell_type": "code",
      "execution_count": null,
      "metadata": {
        "id": "sY__v4U0CjQP",
        "colab": {
          "base_uri": "https://localhost:8080/",
          "height": 35
        },
        "outputId": "c837e9e6-30bb-4d41-a65e-48bad76dc182"
      },
      "outputs": [
        {
          "output_type": "execute_result",
          "data": {
            "text/plain": [
              "'left_to_right'"
            ],
            "application/vnd.google.colaboratory.intrinsic+json": {
              "type": "string"
            }
          },
          "metadata": {},
          "execution_count": 442
        }
      ],
      "source": [
        "verse"
      ]
    },
    {
      "cell_type": "code",
      "execution_count": null,
      "metadata": {
        "id": "tZtdedLoCjQQ",
        "colab": {
          "base_uri": "https://localhost:8080/"
        },
        "outputId": "8bdf035a-2baa-4680-fe12-aa92ad7fb34e"
      },
      "outputs": [
        {
          "output_type": "execute_result",
          "data": {
            "text/plain": [
              "('left_to_right', [59.0, 0.0])"
            ]
          },
          "metadata": {},
          "execution_count": 443
        }
      ],
      "source": [
        "df_locs = df.select('player_id','time','team','x','y').distinct()\n",
        "\n",
        "if verse == 'right_to_left':\n",
        "  opponent_goal_line = [min_x+5.0, 0.0]  \n",
        "  team_a_goal_line = [max_x-5.0, 0.0]\n",
        "else:\n",
        "  opponent_goal_line = [max_x-5.0, 0.0]\n",
        "  team_a_goal_line = [min_x+5.0, 0.0]\n",
        "  \n",
        "df_locs = df_locs.withColumn('distance_from_opponent_goal_line', 0.25*func.sqrt((df_locs['x'] - opponent_goal_line[0])**2 + (df_locs['y'] - opponent_goal_line[1])**2) + 0.75*func.sqrt((df_locs['x'] - opponent_goal_line[0])**2))\n",
        "df_locs = df_locs.withColumn('distance_from_team_goal_line', 0.25*func.sqrt((df_locs['x'] - team_a_goal_line[0])**2 + (df_locs['y'] - team_a_goal_line[1])**2) + 0.75*func.sqrt((df_locs['x'] - team_a_goal_line[0])**2))\n",
        "\n",
        "panda_locs = df_locs.toPandas()\n",
        "\n",
        "verse,opponent_goal_line"
      ]
    },
    {
      "cell_type": "code",
      "execution_count": null,
      "metadata": {
        "id": "IeSfIMV1CjQQ"
      },
      "outputs": [],
      "source": [
        "x_ranges = list(np.arange(min_x,max_x,3.0))\n",
        "y_ranges = list(np.arange(min_y,max_y,3.0))"
      ]
    },
    {
      "cell_type": "code",
      "execution_count": null,
      "metadata": {
        "id": "kdSTFNcoCjQQ",
        "colab": {
          "base_uri": "https://localhost:8080/"
        },
        "outputId": "e1d5fab3-89a4-432d-ee18-fca8f0c01067"
      },
      "outputs": [
        {
          "output_type": "execute_result",
          "data": {
            "text/plain": [
              "([-60.20000076293945,\n",
              "  -57.20000076293945,\n",
              "  -54.20000076293945,\n",
              "  -51.20000076293945,\n",
              "  -48.20000076293945,\n",
              "  -45.20000076293945,\n",
              "  -42.20000076293945,\n",
              "  -39.20000076293945,\n",
              "  -36.20000076293945,\n",
              "  -33.20000076293945,\n",
              "  -30.200000762939453,\n",
              "  -27.200000762939453,\n",
              "  -24.200000762939453,\n",
              "  -21.200000762939453,\n",
              "  -18.200000762939453,\n",
              "  -15.200000762939453,\n",
              "  -12.200000762939453,\n",
              "  -9.200000762939453,\n",
              "  -6.200000762939453,\n",
              "  -3.200000762939453,\n",
              "  -0.20000076293945312,\n",
              "  2.799999237060547,\n",
              "  5.799999237060547,\n",
              "  8.799999237060547,\n",
              "  11.799999237060547,\n",
              "  14.799999237060547,\n",
              "  17.799999237060547,\n",
              "  20.799999237060547,\n",
              "  23.799999237060547,\n",
              "  26.799999237060547,\n",
              "  29.799999237060547,\n",
              "  32.79999923706055,\n",
              "  35.79999923706055,\n",
              "  38.79999923706055,\n",
              "  41.79999923706055,\n",
              "  44.79999923706055,\n",
              "  47.79999923706055,\n",
              "  50.79999923706055,\n",
              "  53.79999923706055,\n",
              "  56.79999923706055,\n",
              "  59.79999923706055,\n",
              "  62.79999923706055],\n",
              " [-49.29999923706055,\n",
              "  -46.29999923706055,\n",
              "  -43.29999923706055,\n",
              "  -40.29999923706055,\n",
              "  -37.29999923706055,\n",
              "  -34.29999923706055,\n",
              "  -31.299999237060547,\n",
              "  -28.299999237060547,\n",
              "  -25.299999237060547,\n",
              "  -22.299999237060547,\n",
              "  -19.299999237060547,\n",
              "  -16.299999237060547,\n",
              "  -13.299999237060547,\n",
              "  -10.299999237060547,\n",
              "  -7.299999237060547,\n",
              "  -4.299999237060547,\n",
              "  -1.2999992370605469,\n",
              "  1.7000007629394531,\n",
              "  4.700000762939453,\n",
              "  7.700000762939453,\n",
              "  10.700000762939453,\n",
              "  13.700000762939453,\n",
              "  16.700000762939453,\n",
              "  19.700000762939453,\n",
              "  22.700000762939453,\n",
              "  25.700000762939453,\n",
              "  28.700000762939453,\n",
              "  31.700000762939453,\n",
              "  34.70000076293945])"
            ]
          },
          "metadata": {},
          "execution_count": 445
        }
      ],
      "source": [
        "x_ranges, y_ranges"
      ]
    },
    {
      "cell_type": "code",
      "execution_count": null,
      "metadata": {
        "id": "_BOBeC8SCjQR",
        "colab": {
          "base_uri": "https://localhost:8080/"
        },
        "outputId": "4194b78c-b4e1-4b82-f3bc-d9a0d233491b"
      },
      "outputs": [
        {
          "output_type": "execute_result",
          "data": {
            "text/plain": [
              "([0,\n",
              "  1,\n",
              "  2,\n",
              "  3,\n",
              "  4,\n",
              "  9,\n",
              "  11,\n",
              "  13,\n",
              "  15,\n",
              "  17,\n",
              "  19,\n",
              "  20,\n",
              "  22,\n",
              "  30.952380952380953,\n",
              "  33.333333333333336,\n",
              "  35.714285714285715,\n",
              "  38.095238095238095,\n",
              "  40.476190476190474,\n",
              "  42.857142857142854,\n",
              "  45.23809523809524,\n",
              "  47.61904761904762,\n",
              "  50.0,\n",
              "  52.38095238095238,\n",
              "  54.76190476190476,\n",
              "  57.14285714285714,\n",
              "  59.523809523809526,\n",
              "  61.904761904761905,\n",
              "  64.28571428571429,\n",
              "  66.66666666666667,\n",
              "  69.04761904761905,\n",
              "  71.42857142857143,\n",
              "  73.80952380952381,\n",
              "  76.19047619047619,\n",
              "  78.57142857142857,\n",
              "  80.95238095238095,\n",
              "  83.33333333333333,\n",
              "  85.71428571428571,\n",
              "  88.09523809523809,\n",
              "  90.47619047619048,\n",
              "  92.85714285714286,\n",
              "  95.23809523809524,\n",
              "  97.61904761904762],\n",
              " [57.15517011182062,\n",
              "  51.12068735319993,\n",
              "  45.086204594579236,\n",
              "  39.051721835958546,\n",
              "  33.01723907733785,\n",
              "  26.98275631871718,\n",
              "  20.94827356009648,\n",
              "  14.913790801475798,\n",
              "  8.8793080428551,\n",
              "  2.8448252842344175,\n",
              "  -3.189657474386266,\n",
              "  -9.224140233006963,\n",
              "  -15.258622991627647,\n",
              "  -21.293105750248344,\n",
              "  -27.32758850886904,\n",
              "  -33.36207126748974,\n",
              "  -39.39655402611044,\n",
              "  -45.43103678473108,\n",
              "  -51.465519543351775,\n",
              "  -57.50000230197247,\n",
              "  -63.53448506059317,\n",
              "  -69.56896781921387,\n",
              "  -75.60345057783454,\n",
              "  -81.63793333645523,\n",
              "  -87.67241609507593,\n",
              "  -93.70689885369663,\n",
              "  -99.7413816123173,\n",
              "  -105.775864370938,\n",
              "  -111.81034712955866])"
            ]
          },
          "metadata": {},
          "execution_count": 446
        }
      ],
      "source": [
        "def x_area_handling(x):\n",
        "  \n",
        "  if x >= 30:\n",
        "    return x\n",
        "  elif x < 30 and x >= 10:\n",
        "    return int(0.8*float(x))\n",
        "  elif x < 10 and x >= -20:\n",
        "    return int(0.5*float(x))\n",
        "  elif x < -20:\n",
        "    return 10\n",
        "\n",
        "x_single_area_prob = 100.0/float(len(x_ranges))\n",
        "y_single_area_prob = 100.0/float(len(y_ranges))\n",
        "\n",
        "x_ranges_value_right_to_left = list(map(lambda d : x_area_handling(float(x_single_area_prob)*(len(x_ranges)-x_ranges.index(d))), x_ranges))\n",
        "x_ranges_value_left_to_right = list(map(lambda d : x_area_handling(float(x_single_area_prob)*(x_ranges.index(d))), x_ranges))\n",
        "y_ranges_value = list(map(lambda d : 100-1.75*(float(y_single_area_prob)*float(np.abs((mid_y-y_ranges.index(d))))), y_ranges))\n",
        "                      \n",
        "if verse == 'left_to_right':\n",
        "  x_ranges_value = x_ranges_value_left_to_right\n",
        "  opp_x_ranges_value = x_ranges_value_right_to_left\n",
        "elif verse == 'right_to_left':\n",
        "  x_ranges_value = x_ranges_value_right_to_left\n",
        "  opp_x_ranges_value = x_ranges_value_left_to_right\n",
        "  \n",
        "x_ranges_value,y_ranges_value"
      ]
    },
    {
      "cell_type": "code",
      "execution_count": null,
      "metadata": {
        "id": "ROktgYr_CjQR",
        "colab": {
          "base_uri": "https://localhost:8080/"
        },
        "outputId": "d7be7f52-36d7-4ad0-b5be-b27b36ddf823"
      },
      "outputs": [
        {
          "output_type": "stream",
          "name": "stdout",
          "text": [
            "+--------+--------+------+------------------+---------------+\n",
            "|target_x|target_y|  time|       probability|opponents_count|\n",
            "+--------+--------+------+------------------+---------------+\n",
            "|    17.0|    29.0|4315.0|57.971887157093406|             -1|\n",
            "|    21.0|   -17.0|4315.0|63.175744206576454|             -1|\n",
            "|    35.0|    36.0|4315.0|63.394528650866064|             -1|\n",
            "|    48.0|     8.0|4315.0|54.120299248096224|              0|\n",
            "|    45.0|    20.0|4315.0| 58.33878557297363|              0|\n",
            "|   -39.0|     7.0|4315.0|             100.0|              0|\n",
            "|    -7.0|   -24.0|4315.0| 63.62808998150003|             -1|\n",
            "|    49.0|   -25.0|4315.0| 65.09099107915893|              0|\n",
            "|    48.0|   -23.0|4315.0|             100.0|              0|\n",
            "|    45.0|    18.0|4315.0|52.522875343125875|              0|\n",
            "|    53.0|     2.0|4315.0|             100.0|              0|\n",
            "|   -12.0|     0.0|4315.0| 64.15895440209394|              0|\n",
            "|   -33.0|    27.0|4315.0|             100.0|              0|\n",
            "|    -6.0|   -15.0|4315.0| 55.42307847001133|             -1|\n",
            "|    21.0|   -12.0|4315.0|             100.0|              0|\n",
            "|    -8.0|     6.0|4315.0| 56.31825128940989|              0|\n",
            "|    39.0|   -12.0|4315.0|  46.8697427820784|              0|\n",
            "|    20.0|     5.0|4315.0|             100.0|              0|\n",
            "|    50.0|     0.0|4315.0|             100.0|              0|\n",
            "|    40.0|    -4.0|4315.0| 64.75893755797169|             -1|\n",
            "+--------+--------+------+------------------+---------------+\n",
            "only showing top 20 rows\n",
            "\n"
          ]
        }
      ],
      "source": [
        "def probabilityPlusMinus(x):\n",
        "  \n",
        "  if x[6] == team_a.title():\n",
        "    return list(x[:3])+[-float(x[3])]+list(x[4:])+[opponent_verse]\n",
        "  else:\n",
        "    return list(x)+[verse]\n",
        "  \n",
        "def opponentCount(x):\n",
        "  \n",
        "  try:\n",
        "    team_1 = float(x[3])\n",
        "  except:\n",
        "    team_1 = 0.0\n",
        "\n",
        "  try:\n",
        "    team_2 = float(x[5])\n",
        "  except:\n",
        "    team_2 = 0.0\n",
        "\n",
        "  try:\n",
        "    opp_1 = int(x[4])\n",
        "  except:\n",
        "    opp_1 = 0\n",
        "\n",
        "  try:\n",
        "    opp_2 = int(x[6])\n",
        "  except:\n",
        "    opp_2 = 0\n",
        "\n",
        "  if team_1 > team_2:\n",
        "    return [x[0],x[1],x[2],x[3],-opp_2]\n",
        "  else:\n",
        "    return [x[0],x[1],x[2],x[5],-opp_1]\n",
        "\n",
        "df = df.withColumn('probability', df['probability'].cast(DoubleType()))\n",
        "\n",
        "pre_max_pitch_pivot_gr = df.where(df['team'] != '').groupBy('target_x','target_y','time').pivot('team').agg(func.max('probability'),func.count('player_id'))\n",
        "\n",
        "max_pitch_pivot = spark.createDataFrame(pre_max_pitch_pivot_gr.rdd.map(lambda a : opponentCount(a)),['target_x','target_y','time','probability','opponents_count'])\n",
        "\n",
        "max_pitch_pivot.show()"
      ]
    },
    {
      "cell_type": "code",
      "execution_count": null,
      "metadata": {
        "id": "9Cq2jv1-CjQR"
      },
      "outputs": [],
      "source": [
        "max_player = df.select('target_x','target_y','time','player_id','team','probability','distance_from_target','x','y','slope_fuzzy_compare','ball_distance')"
      ]
    },
    {
      "cell_type": "code",
      "execution_count": null,
      "metadata": {
        "id": "qRNemCvyCjQS",
        "colab": {
          "base_uri": "https://localhost:8080/"
        },
        "outputId": "67e04a76-0789-432a-f67a-4e63457dc39e"
      },
      "outputs": [
        {
          "output_type": "stream",
          "name": "stdout",
          "text": [
            "+--------+--------+------+------------------+---------------+---------+--------+--------------------+------------------+-------------------+-------------------+------------------+-------------+\n",
            "|target_x|target_y|  time|       probability|opponents_count|player_id|    team|distance_from_target|                 x|                  y|slope_fuzzy_compare|     ball_distance|        verse|\n",
            "+--------+--------+------+------------------+---------------+---------+--------+--------------------+------------------+-------------------+-------------------+------------------+-------------+\n",
            "|    35.0|    36.0|4315.0|63.394528650866064|             -1|  Dalbert|Cagliari|  17.577687702584534| 32.42937088012695| 18.611297607421875|                3.0|16.574581114380802|left_to_right|\n",
            "|    48.0|     8.0|4315.0|54.120299248096224|              0|  Carboni|Cagliari|   9.143655016386232|38.900001525878906| 7.1075568199157715|                8.0| 39.77402009070472|left_to_right|\n",
            "|    45.0|    20.0|4315.0| 58.33878557297363|              0|  Dalbert|Cagliari|  12.647102862100569| 32.42937088012695| 18.611297607421875|                6.0|30.300308612418682|left_to_right|\n",
            "|    -7.0|   -24.0|4315.0| 63.62808998150003|             -1|Pavoletti|Cagliari|  13.033757078011577|0.7168816924095154|-13.496259689331055|                2.0| 63.95120483585147|left_to_right|\n",
            "|    49.0|   -25.0|4315.0| 65.09099107915893|              0|    Godin|Cagliari|   13.63687515567608|44.627525329589844|-12.083118438720703|                5.0|  67.0097649424149|left_to_right|\n",
            "|    48.0|   -23.0|4315.0|             100.0|              0|    Godin|Cagliari|  11.425930527775757|44.627525329589844|-12.083118438720703|                5.0| 64.77379564512465|left_to_right|\n",
            "|    45.0|    18.0|4315.0|52.522875343125875|              0|  Carboni|Cagliari|  12.484202009565653|38.900001525878906| 7.1075568199157715|                6.0|31.316652077914423|left_to_right|\n",
            "|    53.0|     2.0|4315.0|             100.0|              0|Radunovic|Cagliari|   6.851919093555038| 47.80747985839844|-2.4706296920776367|                4.0| 47.51888740553346|left_to_right|\n",
            "|    -6.0|   -15.0|4315.0| 55.42307847001133|             -1|Pavoletti|Cagliari|   6.883148595792252|0.7168816924095154|-13.496259689331055|                0.0|55.362339372817836|left_to_right|\n",
            "|    21.0|   -12.0|4315.0|             100.0|              0|    Marin|Cagliari|   1.801534186057221| 21.59626007080078|-10.300000190734863|                3.0|46.724004834657144|left_to_right|\n",
            "|    39.0|   -12.0|4315.0|  46.8697427820784|              0|    Godin|Cagliari|   5.628139124971117|44.627525329589844|-12.083118438720703|                0.0| 50.96913406944505|left_to_right|\n",
            "|    50.0|     0.0|4315.0|             100.0|              0|Radunovic|Cagliari|   3.303203845769161| 47.80747985839844|-2.4706296920776367|                3.0| 46.84601002882844|left_to_right|\n",
            "|    32.0|   -12.0|4315.0|             100.0|              0|   Nandez|Cagliari|  2.0236851159273135|31.888702392578125|-14.020622253417969|                5.0|48.575432347937614|left_to_right|\n",
            "|    54.0|   -17.0|4315.0|             100.0|              0|    Godin|Cagliari|  10.583903142750707|44.627525329589844|-12.083118438720703|                7.0| 62.68981269865451|left_to_right|\n",
            "|    53.0|    -3.0|4315.0|             100.0|              0|Radunovic|Cagliari|   5.219434676652993| 47.80747985839844|-2.4706296920776367|                6.0|51.084289646260984|left_to_right|\n",
            "|    54.0|    12.0|4315.0| 53.55897156594926|              0|Radunovic|Cagliari|  15.739962814104103| 47.80747985839844|-2.4706296920776367|                3.0|42.130329733496346|left_to_right|\n",
            "|    40.0|    27.0|4315.0|             100.0|              0|  Dalbert|Cagliari|   11.29976783398295| 32.42937088012695| 18.611297607421875|                4.0| 22.84129414554187|left_to_right|\n",
            "|    48.0|    10.0|4315.0|  63.4229976655988|              0|  Carboni|Cagliari|   9.548622925795216|38.900001525878906| 7.1075568199157715|                8.0| 38.46230204777731|left_to_right|\n",
            "|     0.0|   -14.0|4315.0| 67.38184244496172|             -1|Pavoletti|Cagliari|  0.8761698816466911|0.7168816924095154|-13.496259689331055|                1.0|52.047253752243186|left_to_right|\n",
            "|    -9.0|   -27.0|4315.0| 63.54788257208991|             -1|Pavoletti|Cagliari|   16.63636956196479|0.7168816924095154|-13.496259689331055|                2.0| 67.50268582063254|left_to_right|\n",
            "+--------+--------+------+------------------+---------------+---------+--------+--------------------+------------------+-------------------+-------------------+------------------+-------------+\n",
            "only showing top 20 rows\n",
            "\n"
          ]
        }
      ],
      "source": [
        "max_pitch_pivot_j = max_pitch_pivot.join(max_player, ['target_x','target_y','time','probability'])\n",
        "\n",
        "max_pitch_pivot_jj = spark.createDataFrame(max_pitch_pivot_j.rdd.map(lambda f : probabilityPlusMinus(f)),max_pitch_pivot_j.columns+['verse'])\n",
        "\n",
        "pre_max_pitch_pivot_jjj = max_pitch_pivot_jj.where(max_pitch_pivot_jj['team'] == opponent.capitalize())\n",
        "\n",
        "pre_max_pitch_pivot_jjj.show()"
      ]
    },
    {
      "cell_type": "code",
      "execution_count": null,
      "metadata": {
        "id": "_FultEdHCjQS",
        "colab": {
          "base_uri": "https://localhost:8080/"
        },
        "outputId": "48401d07-e804-44ed-ad3e-79d937192b52"
      },
      "outputs": [
        {
          "output_type": "stream",
          "name": "stdout",
          "text": [
            "+---------+--------+------------------+\n",
            "|player_id|    team|  avg(probability)|\n",
            "+---------+--------+------------------+\n",
            "| Florenzi|   Milan|-53.90035435104492|\n",
            "|   Deiola|Cagliari|46.397150313647835|\n",
            "|    Kjaer|   Milan|-71.98029489568307|\n",
            "| Calabria|   Milan|-88.25131046358727|\n",
            "|    Marin|Cagliari| 56.39003581379009|\n",
            "|Strootman|Cagliari| 60.46467379297676|\n",
            "|   Giroud|   Milan| -73.6283640939823|\n",
            "|    Zappa|Cagliari|55.023978631277124|\n",
            "|     Diaz|   Milan|-43.93988742990383|\n",
            "|    Rebic|   Milan|-70.23229383205116|\n",
            "| Bennacer|   Milan|-72.97034582147239|\n",
            "|Pavoletti|Cagliari| 66.79955822292766|\n",
            "|  Carboni|Cagliari| 76.96023260944897|\n",
            "|   Krunic|   Milan|-65.01865090837212|\n",
            "|    Godin|Cagliari| 84.43579298814518|\n",
            "|   Tomori|   Milan|-55.08529392808189|\n",
            "|  Dalbert|Cagliari| 77.76126696407854|\n",
            "|  Maignan|   Milan|-95.76869437192407|\n",
            "|   Nandez|Cagliari| 63.40997697131176|\n",
            "|Radunovic|Cagliari| 83.57079808946607|\n",
            "+---------+--------+------------------+\n",
            "only showing top 20 rows\n",
            "\n"
          ]
        }
      ],
      "source": [
        "max_pitch_pivot_jj.groupBy('player_id','team').avg('probability').show()"
      ]
    },
    {
      "cell_type": "code",
      "execution_count": null,
      "metadata": {
        "id": "wkw-O-duCjQS"
      },
      "outputs": [],
      "source": [
        "pd_probs = pre_max_pitch_pivot_jjj.toPandas()"
      ]
    },
    {
      "cell_type": "code",
      "execution_count": null,
      "metadata": {
        "id": "-xCfuM9dCjQS",
        "colab": {
          "base_uri": "https://localhost:8080/"
        },
        "outputId": "a9d39f48-3717-4d60-aaed-6ecee4f5049b"
      },
      "outputs": [
        {
          "output_type": "stream",
          "name": "stdout",
          "text": [
            "+---------+------+---------------------+------------------+\n",
            "|player_id|  time|probability_twentieth|distance_twentieth|\n",
            "+---------+------+---------------------+------------------+\n",
            "|   Deiola|4315.0|    33.03402394160351|             100.0|\n",
            "|  Dalbert|4315.0|                100.0|              null|\n",
            "|    Zappa|4315.0|    56.27228870597062|             100.0|\n",
            "|    Godin|4315.0|                100.0|              null|\n",
            "|   Nandez|4315.0|    44.13238787497912|             100.0|\n",
            "|Radunovic|4315.0|                100.0|              null|\n",
            "|Pavoletti|4315.0|                100.0|              null|\n",
            "|    Marin|4315.0|   43.667234253131184|             100.0|\n",
            "|  Carboni|4315.0|                100.0|              null|\n",
            "|Strootman|4315.0|   55.735133150829576|             100.0|\n",
            "+---------+------+---------------------+------------------+\n",
            "\n"
          ]
        }
      ],
      "source": [
        "def findBestMaxObs(x,panda,max_obs):\n",
        "  \n",
        "  probs = panda[panda['player_id'] == x[0]][panda['time'] == x[1]][['probability','distance_from_target']].values.tolist()\n",
        "  \n",
        "  try:\n",
        "    first_twenty_probs = sorted(list(map(lambda a : a[0],probs)), reverse = True)[:max_obs]\n",
        "    prob_twentieth = first_twenty_probs[-1]\n",
        "    distance_twentieth = 100.0\n",
        "\n",
        "    if float(prob_twentieth) == 100.0:\n",
        "      first_twenty_distances = sorted(list(map(lambda g : g[1], list(filter(lambda a : a[0] == 100.0,probs)))))[:max_obs]\n",
        "      distance_twentieth = first_twenty_distances[-1]\n",
        "\n",
        "    return [prob_twentieth,distance_twentieth]\n",
        "  except:\n",
        "    return [0.0,0.0]\n",
        "\n",
        "players_times_values = spark.createDataFrame(df.where(df['team'] == opponent.title()).select('player_id','time').distinct().rdd.map(lambda a : list(a)+findBestMaxObs(a,pd_probs,60)),['player_id','time','probability_twentieth','distance_twentieth'])\n",
        "\n",
        "players_times_values.show()"
      ]
    },
    {
      "cell_type": "code",
      "execution_count": null,
      "metadata": {
        "id": "PFvXlvMKCjQT"
      },
      "outputs": [],
      "source": [
        "pd_to_filter = players_times_values.toPandas()"
      ]
    },
    {
      "cell_type": "code",
      "execution_count": null,
      "metadata": {
        "id": "E3WbwAh7QVMP",
        "colab": {
          "base_uri": "https://localhost:8080/"
        },
        "outputId": "73b9d71e-1301-4d9f-dca5-b0cff7329dcb"
      },
      "outputs": [
        {
          "output_type": "execute_result",
          "data": {
            "text/plain": [
              "DataFrame[target_x: double, target_y: double, time: double, probability: double, opponents_count: bigint, player_id: string, team: string, distance_from_target: string, x: double, y: double, slope_fuzzy_compare: string, ball_distance: string, verse: string]"
            ]
          },
          "metadata": {},
          "execution_count": 454
        }
      ],
      "source": [
        "pre_max_pitch_pivot_jjj"
      ]
    },
    {
      "cell_type": "code",
      "execution_count": null,
      "metadata": {
        "id": "AJKxOnNkCjQT"
      },
      "outputs": [],
      "source": [
        "def obsToFilter(x, panda):\n",
        "  \n",
        "  prob_filter, distance_filter = panda[panda['player_id'] == x[5]][panda['time'] == x[2]][['probability_twentieth','distance_twentieth']].values.tolist()[0]\n",
        "  \n",
        "  flag = ''\n",
        "  \n",
        "  if (float(x[3]) < prob_filter) or (float(x[7]) > distance_filter):\n",
        "    flag = 'out'\n",
        "  \n",
        "  return flag\n",
        "  \n",
        "max_pitch_pivot_jjj_pre_filt = spark.createDataFrame(pre_max_pitch_pivot_jjj.rdd.map(lambda a : list(a)+[obsToFilter(a, pd_to_filter)]), pre_max_pitch_pivot_jjj.columns+['obs_flag'])\n",
        "\n",
        "max_pitch_pivot_jjj = max_pitch_pivot_jjj_pre_filt.where(max_pitch_pivot_jjj_pre_filt['obs_flag'] == '').where(max_pitch_pivot_jjj_pre_filt['probability'] > 0).drop('obs_flag')"
      ]
    },
    {
      "cell_type": "code",
      "execution_count": null,
      "metadata": {
        "id": "r4bbo3PxFgfr",
        "colab": {
          "base_uri": "https://localhost:8080/"
        },
        "outputId": "79fc3c4f-7d5e-43bd-f7ba-8d03afa0c4ca"
      },
      "outputs": [
        {
          "output_type": "stream",
          "name": "stdout",
          "text": [
            "+--------+--------+------+-----------------+---------------+---------+--------+--------------------+------------------+-------------------+-------------------+------------------+-------------+\n",
            "|target_x|target_y|  time|      probability|opponents_count|player_id|    team|distance_from_target|                 x|                  y|slope_fuzzy_compare|     ball_distance|        verse|\n",
            "+--------+--------+------+-----------------+---------------+---------+--------+--------------------+------------------+-------------------+-------------------+------------------+-------------+\n",
            "|    48.0|   -23.0|4315.0|            100.0|              0|    Godin|Cagliari|  11.425930527775757|44.627525329589844|-12.083118438720703|                5.0| 64.77379564512465|left_to_right|\n",
            "|    53.0|     2.0|4315.0|            100.0|              0|Radunovic|Cagliari|   6.851919093555038| 47.80747985839844|-2.4706296920776367|                4.0| 47.51888740553346|left_to_right|\n",
            "|    21.0|   -12.0|4315.0|            100.0|              0|    Marin|Cagliari|   1.801534186057221| 21.59626007080078|-10.300000190734863|                3.0|46.724004834657144|left_to_right|\n",
            "|    50.0|     0.0|4315.0|            100.0|              0|Radunovic|Cagliari|   3.303203845769161| 47.80747985839844|-2.4706296920776367|                3.0| 46.84601002882844|left_to_right|\n",
            "|    32.0|   -12.0|4315.0|            100.0|              0|   Nandez|Cagliari|  2.0236851159273135|31.888702392578125|-14.020622253417969|                5.0|48.575432347937614|left_to_right|\n",
            "|    54.0|   -17.0|4315.0|            100.0|              0|    Godin|Cagliari|  10.583903142750707|44.627525329589844|-12.083118438720703|                7.0| 62.68981269865451|left_to_right|\n",
            "|    53.0|    -3.0|4315.0|            100.0|              0|Radunovic|Cagliari|   5.219434676652993| 47.80747985839844|-2.4706296920776367|                6.0|51.084289646260984|left_to_right|\n",
            "|    40.0|    27.0|4315.0|            100.0|              0|  Dalbert|Cagliari|   11.29976783398295| 32.42937088012695| 18.611297607421875|                4.0| 22.84129414554187|left_to_right|\n",
            "|    42.0|    12.0|4315.0|            100.0|              0|  Carboni|Cagliari|   5.791890089591289|38.900001525878906| 7.1075568199157715|                6.0| 32.65707708067466|left_to_right|\n",
            "|    32.0|     2.0|4315.0|38.97763088630393|             -2|   Deiola|Cagliari|  3.4080994259676363|28.696260452270508| 2.8369269371032715|                7.0| 35.34408946711977|left_to_right|\n",
            "|    50.0|     1.0|4315.0|            100.0|              0|Radunovic|Cagliari|   4.105169305992074| 47.80747985839844|-2.4706296920776367|                3.0| 46.11113377418116|left_to_right|\n",
            "|    49.0|   -16.0|4315.0|            100.0|              0|    Godin|Cagliari|  5.8703062874494165|44.627525329589844|-12.083118438720703|                7.0| 59.13967042951558|left_to_right|\n",
            "|    36.0|   -17.0|4315.0|            100.0|              0|    Zappa|Cagliari|  1.9244248924553276|  34.2480354309082|-17.796260833740234|                6.0| 54.54624291546013|left_to_right|\n",
            "|    39.0|   -24.0|4315.0|59.53724773188473|             -1|    Zappa|Cagliari|   7.814572727212231|  34.2480354309082|-17.796260833740234|                6.0|62.141746032413934|left_to_right|\n",
            "|    50.0|   -19.0|4315.0|            100.0|              0|    Godin|Cagliari|     8.7582381000384|44.627525329589844|-12.083118438720703|                6.0|62.229226345453725|left_to_right|\n",
            "|    51.0|    34.0|4315.0|            100.0|              0|  Dalbert|Cagliari|  24.118051895524573| 32.42937088012695| 18.611297607421875|                5.0|32.526615785822486|left_to_right|\n",
            "|    39.0|    22.0|4315.0|            100.0|              0|  Dalbert|Cagliari|   7.393001483591651| 32.42937088012695| 18.611297607421875|                5.0|  24.1090171231945|left_to_right|\n",
            "|    40.0|    12.0|4315.0|            100.0|              0|  Carboni|Cagliari|   5.014578438255943|38.900001525878906| 7.1075568199157715|                5.0|31.247474833226544|left_to_right|\n",
            "|    46.0|    -1.0|4315.0|            100.0|              0|Radunovic|Cagliari|   2.330179205498238| 47.80747985839844|-2.4706296920776367|                1.0|45.041099601383614|left_to_right|\n",
            "|    24.0|    11.0|4315.0|            100.0|              0|Strootman|Cagliari|  1.9365474708144244|23.375560760498047|  9.166890144348145|                5.0| 24.29149400785778|left_to_right|\n",
            "+--------+--------+------+-----------------+---------------+---------+--------+--------------------+------------------+-------------------+-------------------+------------------+-------------+\n",
            "only showing top 20 rows\n",
            "\n"
          ]
        }
      ],
      "source": [
        "max_pitch_pivot_jjj.show()"
      ]
    },
    {
      "cell_type": "code",
      "execution_count": null,
      "metadata": {
        "id": "0D9bVk4sCjQT"
      },
      "outputs": [],
      "source": [
        "#display(max_pitch_pivot_jjj.where(max_pitch_pivot_jjj['target_x'] == 42.0).where(max_pitch_pivot_jjj['target_y'] == 5.0).where(max_pitch_pivot_jjj['time'] == 1135.0))"
      ]
    },
    {
      "cell_type": "code",
      "execution_count": null,
      "metadata": {
        "id": "4FkbduxKCjQT"
      },
      "outputs": [],
      "source": [
        "from pyspark.sql.functions import lit\n",
        "\n",
        "def ifHigherThanLimit(a,limit,maxMinFlag): \n",
        "  if maxMinFlag == 'max':\n",
        "    return float(np.min([limit,a]))\n",
        "  elif maxMinFlag == 'min':\n",
        "    return float(np.max([limit,a]))\n",
        "\n",
        "def addFakeProb(team):\n",
        "  \n",
        "  if team == opponent.title():\n",
        "    return 150.0\n",
        "  else:\n",
        "    return -150.0\n",
        "\n",
        "  \n",
        "### PITCH ###\n",
        "pitch_pivot = max_pitch_pivot_jj.select('target_x','target_y','time','probability','player_id','team')\n",
        "pitch_pivot = pitch_pivot.withColumn('type',lit('pitch'))\n",
        "pitch_pivot = pitch_pivot.withColumnRenamed('target_x','x').withColumnRenamed('target_y','y')\n",
        "\n",
        "### PLAYERS ###\n",
        "players_locs = spark.createDataFrame(data_players.select('player_id','team','time','x','y').withColumn('type',lit('player')).distinct().rdd.map(lambda a : list(a)+[addFakeProb(a[1])]), ['player_id','team','time','x','y','type','probability'])\n",
        "players_locs = players_locs.where(players_locs['time'].isin(timings))\n",
        "\n",
        "### BALL ###\n",
        "ball = players_locs.where(players_locs['player_id'] == 'ball').orderBy('time')\n",
        "ball_locs = ball.withColumn('probability',lit(200.0)).withColumn('type',lit('ball')).select('x','y','time','probability','player_id','team','type')\n",
        "pd_ball = ball.toPandas()"
      ]
    },
    {
      "cell_type": "code",
      "source": [
        "players_ids = spark.read.csv(\"/content/drive/MyDrive/Colab Notebooks/FootballDataAnalysis/data/OPTA/opta_seriea_players.csv\", header='True')\n",
        "players_ids.show()"
      ],
      "metadata": {
        "id": "ji-tS24hB_-d",
        "colab": {
          "base_uri": "https://localhost:8080/"
        },
        "outputId": "e74f8abd-818a-4198-b872-1c77d6191d21"
      },
      "execution_count": null,
      "outputs": [
        {
          "output_type": "stream",
          "name": "stdout",
          "text": [
            "+---------+------------------+-----------+----------+-----------+----------+--------------------+----------+--------------+--------------------+----------+------------------+------+------+-------+----------+-----------------+--------------+\n",
            "|player_id|     real_position|    country|birth_date| first_name| last_name|        italian_name|known_name|competition_id|                name|  position|real_position_side|weight|height|team_id|jersey_num|first_nationality|preferred_foot|\n",
            "+---------+------------------+-----------+----------+-----------+----------+--------------------+----------+--------------+--------------------+----------+------------------+------+------+-------+----------+-----------------+--------------+\n",
            "|  p225479|           Striker|     Serbia|2000-01-28|      Dusan|  Vlahovic|      dusan vlahovic|      null|            21|      Dusan Vlahovic|   Forward|           Unknown|    75|   190|   t128|         7|           Serbia|          Left|\n",
            "|   p44898|        Goalkeeper|    Romania|1986-02-09|    Ciprian|Tatarusanu|  ciprian tatarusanu|      null|            21|  Ciprian Tatarusanu|Goalkeeper|           Unknown|    90|   198|   t120|         1|          Romania|         Right|\n",
            "|   p94924|            Winger|      Spain|1994-03-13|     Gerard|  Deulofeu|     gerard deulofeu|      null|            21|     Gerard Deulofeu|   Forward|              Left|    73|   177|   t136|        10|            Spain|         Right|\n",
            "|  p177901|         Full Back|    Germany|1994-07-05|      Robin|    Gosens|        robin gosens|      null|            21|        Robin Gosens|  Defender|              Left|    76|   183|   t127|        18|          Germany|          Left|\n",
            "|   p17985|  Central Defender|      Italy|1986-02-05|     Andrea|  Masiello|     andrea masiello|      null|            21|     Andrea Masiello|  Defender|      Centre/Right|    75|   185|   t990|         5|            Italy|         Right|\n",
            "|  p195896|Central Midfielder|      Italy|1999-02-18|    Filippo|  Melegoni|    filippo melegoni|      null|            21|    Filippo Melegoni|Midfielder|            Centre|    74|   186|   t990|        10|            Italy|         Right|\n",
            "|  p244290|            Winger|      Italy|2000-08-24|    Emanuel|   Vignato|     emanuel vignato|      null|            21|     Emanuel Vignato|Midfielder|             Right|    70|   175|   t123|        55|            Italy|         Right|\n",
            "|  p215983|  Central Defender|      Italy|1999-04-23|       Luca|   Ranieri|        luca ranieri|      null|            21|        Luca Ranieri|  Defender|           Unknown|    73|   187|  t1025|        19|            Italy|          Left|\n",
            "|  p204631|  Central Defender|    Croatia|1998-01-24|     Martin|     Erlic|        martin erlic|      null|            21|        Martin Erlic|  Defender|            Centre|    78|   192|  t2036|        28|          Croatia|         Right|\n",
            "|  p195899|           Striker|      Italy|1999-01-01|   Gianluca|  Scamacca|   gianluca scamacca|      null|            21|   Gianluca Scamacca|   Forward|            Centre|    85|   196|  t2182|        91|            Italy|          Both|\n",
            "|  p223540|        Goalkeeper|      Italy|1999-05-20|    Giacomo|  Satalino|    giacomo satalino|      null|            21|    Giacomo Satalino|Goalkeeper|           Unknown|    75|   188|  t2182|        24|            Italy|         Right|\n",
            "|  p201333|  Central Defender|      Italy|1998-03-26|   Riccardo| Marchizza|  riccardo marchizza|      null|            21|  Riccardo Marchizza|  Defender|            Centre|    80|   185|   t695|         3|            Italy|          Left|\n",
            "|   p76100|           Striker|      Italy|1991-06-26|      Diego|Falcinelli|    diego falcinelli|      null|            21|    Diego Falcinelli|   Forward|            Centre|    76|   186|   t123|        91|            Italy|          Left|\n",
            "|  p247359|  Central Defender|      Italy|1999-06-06| Alessandro|Buongiorno|alessandro buongi...|      null|            21|Alessandro Buongi...|  Defender|            Centre|    80|   191|   t135|        99|            Italy|          null|\n",
            "|  p186703|         Full Back|    Nigeria|1995-12-16|    Tyronne|    Ebuehi|      tyronne ebuehi|      null|            21|      Tyronne Ebuehi|  Defender|             Right|    76|   187|   t137|        22|      Netherlands|         Right|\n",
            "|  p246875|            Winger|     Norway|1998-02-17|     Dennis|   Johnsen|      dennis johnsen|      null|            21|      Dennis Johnsen|   Forward|        Left/Right|    73|   185|   t137|        17|           Norway|         Right|\n",
            "|  p148435|           Unknown|   Suriname|1993-06-12| Ridgeciano|      Haps|     ridgeciano haps|      null|            21|     Ridgeciano Haps|  Defender|           Unknown|    74|   175|   t137|        55|      Netherlands|          Left|\n",
            "|   p92371|  Central Defender|      Spain|1993-08-31|      Pablo|      Marí|          pablo mari|      null|            21|          Pablo Marí|  Defender|            Centre|    87|   193|   t136|        22|            Spain|          Left|\n",
            "|  p235865|Central Midfielder|Switzerland|1997-01-06|     Michel| Aebischer|    michel aebischer|      null|            21|    Michel Aebischer|Midfielder|            Centre|    74|   182|   t123|        20|      Switzerland|          null|\n",
            "|  p115816|           Striker|   Cameroon|1993-05-01|Jean-Pierre|     Nsame|   jean-pierre nsame|      null|            21|   Jean-Pierre Nsame|   Forward|            Centre|    88|   188|   t137|         9|         Cameroon|          null|\n",
            "+---------+------------------+-----------+----------+-----------+----------+--------------------+----------+--------------+--------------------+----------+------------------+------+------+-------+----------+-----------------+--------------+\n",
            "only showing top 20 rows\n",
            "\n"
          ]
        }
      ]
    },
    {
      "cell_type": "code",
      "source": [
        "player_idddsss = spark.read.parquet(\"/content/drive/MyDrive/Colab Notebooks/FootballDataAnalysis/data/Milan-Cagliari/parquet/frames_milan_cagliari.parquet\").drop('index')\n",
        "\n",
        "pre_player_zones = players_locs.join(player_idddsss.select('player_id','player').distinct(), ['player_id']).drop('player_id')\n",
        "pre_player_zones = pre_player_zones.withColumnRenamed('player','player_id').withColumn('verse', lit(verse))\n",
        "pd_zones = pre_player_zones.toPandas()\n",
        "\n",
        "pre_player_zones.show(66)"
      ],
      "metadata": {
        "id": "_PTnZWt4kuI9",
        "colab": {
          "base_uri": "https://localhost:8080/"
        },
        "outputId": "9e8205ad-4d34-407f-8fa6-669bd34a78cf"
      },
      "execution_count": null,
      "outputs": [
        {
          "output_type": "stream",
          "name": "stdout",
          "text": [
            "+--------+------+-------------------+-------------------+------+-----------+----------+-------------+\n",
            "|    team|  time|                  x|                  y|  type|probability| player_id|        verse|\n",
            "+--------+------+-------------------+-------------------+------+-----------+----------+-------------+\n",
            "|Cagliari|4315.0| 23.375560760498047|  9.166890144348145|player|      150.0| Strootman|left_to_right|\n",
            "|Cagliari|4315.0|  32.42937088012695| 18.611297607421875|player|      150.0|   Dalbert|left_to_right|\n",
            "|Cagliari|4315.0| 0.7168816924095154|-13.496259689331055|player|      150.0| Pavoletti|left_to_right|\n",
            "|Cagliari|4315.0| 38.900001525878906| 7.1075568199157715|player|      150.0|   Carboni|left_to_right|\n",
            "|   Milan|4315.0| 28.276214599609375|  4.420045375823975|player|     -150.0|      Diaz|left_to_right|\n",
            "|   Milan|4315.0| 18.100000381469727| -8.296259880065918|player|     -150.0|    Krunic|left_to_right|\n",
            "|Cagliari|4315.0|  47.80747985839844|-2.4706296920776367|player|      150.0| Radunovic|left_to_right|\n",
            "|Cagliari|4315.0| 44.627525329589844|-12.083118438720703|player|      150.0|     Godin|left_to_right|\n",
            "|Cagliari|4315.0|  21.59626007080078|-10.300000190734863|player|      150.0|     Marin|left_to_right|\n",
            "|   Milan|4315.0| 37.159332275390625|0.02378525584936142|player|     -150.0|    Giroud|left_to_right|\n",
            "|Cagliari|4315.0|                3.5|                3.0|player|      150.0|Joao Pedro|left_to_right|\n",
            "|Cagliari|4315.0| 28.696260452270508| 2.8369269371032715|player|      150.0|    Deiola|left_to_right|\n",
            "|   Milan|4315.0| 18.296260833740234|   5.25933313369751|player|     -150.0|  Bennacer|left_to_right|\n",
            "|   Milan|4315.0| 1.5630731582641602|0.41248849034309387|player|     -150.0|     Kjaer|left_to_right|\n",
            "|   Milan|4315.0| 29.255592346191406| 17.071821212768555|player|     -150.0|  Florenzi|left_to_right|\n",
            "|   Milan|4315.0|   32.8164176940918|-18.948036193847656|player|     -150.0| Hernandez|left_to_right|\n",
            "|   Milan|4315.0|0.18870322406291962|-10.231342315673828|player|     -150.0|    Tomori|left_to_right|\n",
            "|   Milan|4315.0|  2.070629835128784|  6.931342124938965|player|     -150.0|  Calabria|left_to_right|\n",
            "|Cagliari|4315.0| 31.888702392578125|-14.020622253417969|player|      150.0|    Nandez|left_to_right|\n",
            "|   Milan|4315.0| 25.248035430908203| -16.67621421813965|player|     -150.0|     Rebic|left_to_right|\n",
            "|Cagliari|4315.0|   34.2480354309082|-17.796260833740234|player|      150.0|     Zappa|left_to_right|\n",
            "|   Milan|4315.0|-22.629369735717773| -1.100000023841858|player|     -150.0|   Maignan|left_to_right|\n",
            "+--------+------+-------------------+-------------------+------+-----------+----------+-------------+\n",
            "\n"
          ]
        }
      ]
    },
    {
      "cell_type": "code",
      "source": [
        "def defineLato(x):\n",
        "  \n",
        "  y_value = x[3]\n",
        "\n",
        "  if verse == 'left_to_right':\n",
        "\n",
        "    if y_value > 16:\n",
        "      side = 'Destra'\n",
        "    elif y_value < -16:\n",
        "      side = 'Sinistra'\n",
        "    else:\n",
        "      side = 'Centrale'\n",
        "  \n",
        "  else:\n",
        "    if y_value < -16:\n",
        "      side = 'Destra'\n",
        "    elif y_value > 16:\n",
        "      side = 'Sinistra'\n",
        "    else:\n",
        "      side = 'Centrale'\n",
        "\n",
        "  return side\n",
        "\n",
        "player_zones = spark.createDataFrame(pre_player_zones.rdd.map(lambda a : list(a)+[defineLato(a)]), pre_player_zones.columns+['lato'])\n",
        "\n",
        "player_zones.show(50)"
      ],
      "metadata": {
        "id": "bD7gGyvWz9zy",
        "colab": {
          "base_uri": "https://localhost:8080/"
        },
        "outputId": "fd691b59-6479-4fbc-f23e-07fe2333d769"
      },
      "execution_count": null,
      "outputs": [
        {
          "output_type": "stream",
          "name": "stdout",
          "text": [
            "+--------+------+-------------------+-------------------+------+-----------+----------+-------------+--------+\n",
            "|    team|  time|                  x|                  y|  type|probability| player_id|        verse|    lato|\n",
            "+--------+------+-------------------+-------------------+------+-----------+----------+-------------+--------+\n",
            "|Cagliari|4315.0| 23.375560760498047|  9.166890144348145|player|      150.0| Strootman|left_to_right|Centrale|\n",
            "|Cagliari|4315.0|  32.42937088012695| 18.611297607421875|player|      150.0|   Dalbert|left_to_right|  Destra|\n",
            "|Cagliari|4315.0| 0.7168816924095154|-13.496259689331055|player|      150.0| Pavoletti|left_to_right|Centrale|\n",
            "|Cagliari|4315.0| 38.900001525878906| 7.1075568199157715|player|      150.0|   Carboni|left_to_right|Centrale|\n",
            "|   Milan|4315.0| 28.276214599609375|  4.420045375823975|player|     -150.0|      Diaz|left_to_right|Centrale|\n",
            "|   Milan|4315.0| 18.100000381469727| -8.296259880065918|player|     -150.0|    Krunic|left_to_right|Centrale|\n",
            "|Cagliari|4315.0|  47.80747985839844|-2.4706296920776367|player|      150.0| Radunovic|left_to_right|Centrale|\n",
            "|Cagliari|4315.0| 44.627525329589844|-12.083118438720703|player|      150.0|     Godin|left_to_right|Centrale|\n",
            "|Cagliari|4315.0|  21.59626007080078|-10.300000190734863|player|      150.0|     Marin|left_to_right|Centrale|\n",
            "|   Milan|4315.0| 37.159332275390625|0.02378525584936142|player|     -150.0|    Giroud|left_to_right|Centrale|\n",
            "|Cagliari|4315.0|                3.5|                3.0|player|      150.0|Joao Pedro|left_to_right|Centrale|\n",
            "|Cagliari|4315.0| 28.696260452270508| 2.8369269371032715|player|      150.0|    Deiola|left_to_right|Centrale|\n",
            "|   Milan|4315.0| 18.296260833740234|   5.25933313369751|player|     -150.0|  Bennacer|left_to_right|Centrale|\n",
            "|   Milan|4315.0| 1.5630731582641602|0.41248849034309387|player|     -150.0|     Kjaer|left_to_right|Centrale|\n",
            "|   Milan|4315.0| 29.255592346191406| 17.071821212768555|player|     -150.0|  Florenzi|left_to_right|  Destra|\n",
            "|   Milan|4315.0|   32.8164176940918|-18.948036193847656|player|     -150.0| Hernandez|left_to_right|Sinistra|\n",
            "|   Milan|4315.0|0.18870322406291962|-10.231342315673828|player|     -150.0|    Tomori|left_to_right|Centrale|\n",
            "|   Milan|4315.0|  2.070629835128784|  6.931342124938965|player|     -150.0|  Calabria|left_to_right|Centrale|\n",
            "|Cagliari|4315.0| 31.888702392578125|-14.020622253417969|player|      150.0|    Nandez|left_to_right|Centrale|\n",
            "|   Milan|4315.0| 25.248035430908203| -16.67621421813965|player|     -150.0|     Rebic|left_to_right|Sinistra|\n",
            "|Cagliari|4315.0|   34.2480354309082|-17.796260833740234|player|      150.0|     Zappa|left_to_right|Sinistra|\n",
            "|   Milan|4315.0|-22.629369735717773| -1.100000023841858|player|     -150.0|   Maignan|left_to_right|Centrale|\n",
            "+--------+------+-------------------+-------------------+------+-----------+----------+-------------+--------+\n",
            "\n"
          ]
        }
      ]
    },
    {
      "cell_type": "code",
      "source": [
        "timings_list = timings#list(map(lambda a : a[0], possess.select('time').distinct().collect()))\n",
        "timings_list"
      ],
      "metadata": {
        "id": "2ugVSPwiaT-v",
        "colab": {
          "base_uri": "https://localhost:8080/"
        },
        "outputId": "0e1b4776-d974-4b27-c4a1-0e76228aff70"
      },
      "execution_count": null,
      "outputs": [
        {
          "output_type": "execute_result",
          "data": {
            "text/plain": [
              "[4315.0]"
            ]
          },
          "metadata": {},
          "execution_count": 462
        }
      ]
    },
    {
      "cell_type": "code",
      "source": [
        "player_zones.where(player_zones['team'] == team_a.title()).show(60)"
      ],
      "metadata": {
        "colab": {
          "base_uri": "https://localhost:8080/"
        },
        "id": "AUd0IhQBblDQ",
        "outputId": "a4362938-dcc0-453a-8658-d23900bd6f86"
      },
      "execution_count": null,
      "outputs": [
        {
          "output_type": "stream",
          "name": "stdout",
          "text": [
            "+-----+------+-------------------+-------------------+------+-----------+---------+-------------+--------+\n",
            "| team|  time|                  x|                  y|  type|probability|player_id|        verse|    lato|\n",
            "+-----+------+-------------------+-------------------+------+-----------+---------+-------------+--------+\n",
            "|Milan|4315.0| 28.276214599609375|  4.420045375823975|player|     -150.0|     Diaz|left_to_right|Centrale|\n",
            "|Milan|4315.0| 18.100000381469727| -8.296259880065918|player|     -150.0|   Krunic|left_to_right|Centrale|\n",
            "|Milan|4315.0| 37.159332275390625|0.02378525584936142|player|     -150.0|   Giroud|left_to_right|Centrale|\n",
            "|Milan|4315.0| 18.296260833740234|   5.25933313369751|player|     -150.0| Bennacer|left_to_right|Centrale|\n",
            "|Milan|4315.0| 1.5630731582641602|0.41248849034309387|player|     -150.0|    Kjaer|left_to_right|Centrale|\n",
            "|Milan|4315.0| 29.255592346191406| 17.071821212768555|player|     -150.0| Florenzi|left_to_right|  Destra|\n",
            "|Milan|4315.0|   32.8164176940918|-18.948036193847656|player|     -150.0|Hernandez|left_to_right|Sinistra|\n",
            "|Milan|4315.0|0.18870322406291962|-10.231342315673828|player|     -150.0|   Tomori|left_to_right|Centrale|\n",
            "|Milan|4315.0|  2.070629835128784|  6.931342124938965|player|     -150.0| Calabria|left_to_right|Centrale|\n",
            "|Milan|4315.0| 25.248035430908203| -16.67621421813965|player|     -150.0|    Rebic|left_to_right|Sinistra|\n",
            "|Milan|4315.0|-22.629369735717773| -1.100000023841858|player|     -150.0|  Maignan|left_to_right|Centrale|\n",
            "+-----+------+-------------------+-------------------+------+-----------+---------+-------------+--------+\n",
            "\n"
          ]
        }
      ]
    },
    {
      "cell_type": "code",
      "source": [
        "from pyspark.ml.feature import VectorAssembler\n",
        "from pyspark.ml.clustering import KMeans\n",
        "\n",
        "def findTimeRoles(time_,player_zones_df,var):\n",
        "  \n",
        "  player_zones_t = player_zones_df.where(player_zones_df['time'] == time_).where((player_zones_df['player_id'].isin(['Maignan','Radunovic','Audero']))==False)\n",
        "  vecAssembler = VectorAssembler(inputCols=[var], outputCol=\"features\")\n",
        "  new_df_t = vecAssembler.transform(player_zones_t)\n",
        "\n",
        "  kmeans_t = KMeans(k=3, seed=1)  # 3 clusters here\n",
        "  model_t = kmeans_t.fit(new_df_t.select('features'))\n",
        "  \n",
        "  transformed_t = model_t.transform(new_df_t)\n",
        "\n",
        "  return transformed_t\n",
        "\n",
        "player_zones_f_team = findTimeRoles(timings_list[0],player_zones.where(player_zones['team'] == team_a.title()),'x').drop('features').withColumnRenamed('prediction','prediction_x')\n",
        "player_zones_ff_team = findTimeRoles(timings_list[0],player_zones_f_team.where(player_zones_f_team['team'] == team_a.title()),'y').drop('features').withColumnRenamed('prediction','prediction_y')\n",
        "\n",
        "#player_zones_f_opp = findTimeRoles(timings_list[0],player_zones.where(player_zones['team'] == opponent.title()),'x').drop('features').withColumnRenamed('prediction','prediction_x')\n",
        "#player_zones_ff_opp = findTimeRoles(timings_list[0],player_zones_f_opp.where(player_zones_f_opp['team'] == opponent.title()),'y').drop('features').withColumnRenamed('prediction','prediction_y')\n",
        "\n",
        "for j in timings_list[1:]:\n",
        "  player_zones_fff_team = findTimeRoles(j,player_zones.where(player_zones['team'] == team_a.title()),'x').drop('features').withColumnRenamed('prediction','prediction_x')\n",
        "  player_zones_fff_team_2 = findTimeRoles(j,player_zones_fff_team.where(player_zones_fff_team['team'] == team_a.title()),'y').drop('features').withColumnRenamed('prediction','prediction_y')\n",
        "  player_zones_ff_team = player_zones_ff_team.union(player_zones_fff_team_2)\n",
        "  #player_zones_fff_opp = findTimeRoles(j,player_zones.where(player_zones['team'] == opponent.title()),'x').drop('features').withColumnRenamed('prediction','prediction_x')\n",
        "  #player_zones_fff_opp_2 = findTimeRoles(j,player_zones_fff_opp.where(player_zones_fff_opp['team'] == opponent.title()),'y').drop('features').withColumnRenamed('prediction','prediction_y')\n",
        "  #player_zones_ff_opp = player_zones_ff_opp.union(player_zones_fff_opp_2)"
      ],
      "metadata": {
        "id": "EmzqfJci9due"
      },
      "execution_count": null,
      "outputs": []
    },
    {
      "cell_type": "code",
      "source": [
        "player_zones_f = player_zones_ff_team#.union(player_zones_ff_opp)"
      ],
      "metadata": {
        "id": "iVp27dkZfv_O"
      },
      "execution_count": null,
      "outputs": []
    },
    {
      "cell_type": "code",
      "source": [
        "player_zones_f.where(player_zones_f['team'] == team_a.title()).where(player_zones_f['time'] == 289).orderBy('time','prediction_x','prediction_y').show(70)"
      ],
      "metadata": {
        "id": "XwoZVuEuDw9o",
        "colab": {
          "base_uri": "https://localhost:8080/"
        },
        "outputId": "43ccd84d-a2a8-4a28-fd6c-1adfd3e7ed71"
      },
      "execution_count": null,
      "outputs": [
        {
          "output_type": "stream",
          "name": "stdout",
          "text": [
            "+----+----+---+---+----+-----------+---------+-----+----+------------+------------+\n",
            "|team|time|  x|  y|type|probability|player_id|verse|lato|prediction_x|prediction_y|\n",
            "+----+----+---+---+----+-----------+---------+-----+----+------------+------------+\n",
            "+----+----+---+---+----+-----------+---------+-----+----+------------+------------+\n",
            "\n"
          ]
        }
      ]
    },
    {
      "cell_type": "code",
      "source": [
        "player_zones_team = player_zones_f.where(player_zones_f['team'] == team_a.title())"
      ],
      "metadata": {
        "id": "IXaFy7ZKnIWD"
      },
      "execution_count": null,
      "outputs": []
    },
    {
      "cell_type": "code",
      "source": [
        "avg_lines_side_team = player_zones_team.groupBy('time','prediction_x','prediction_y','verse').agg(func.avg('x'),func.avg('y'))\n",
        "\n",
        "pd_avg_lines_side_team = avg_lines_side_team.toPandas()"
      ],
      "metadata": {
        "id": "BMzYI1vRKbMV"
      },
      "execution_count": null,
      "outputs": []
    },
    {
      "cell_type": "code",
      "source": [
        "import itertools\n",
        "\n",
        "def defineLinesFromAvg(time_comp,pd_avg_lines_side_team):\n",
        "\n",
        "  lines_per_time = []\n",
        "\n",
        "  panda_gr_x = pd_avg_lines_side_team[pd_avg_lines_side_team['time']== time_comp].groupby(by='prediction_x').mean('avg(x)').sort_values(by = 'avg(x)')\n",
        "  lines_x = list(panda_gr_x.index)\n",
        "  avg_x = panda_gr_x['avg(x)'].values.tolist()\n",
        "  panda_gr_y = pd_avg_lines_side_team[pd_avg_lines_side_team['time']== time_comp].groupby(by='prediction_y').mean('avg(y)').sort_values(by = 'avg(y)')\n",
        "  lines_y = list(panda_gr_y.index)\n",
        "  avg_y = panda_gr_y['avg(y)'].values.tolist()\n",
        "\n",
        "  if verse == 'left_to_right':\n",
        "    translate_x = {'0':'Linea Difensiva','1':'Seconda Linea','2':'Terza Linea'}\n",
        "    translate_y = {'0':'Sinistra','1':'Centrale','2':'Destra'}\n",
        "  else:\n",
        "    translate_x = {'2':'Linea Difensiva','1':'Seconda Linea','0':'Terza Linea'}\n",
        "    translate_y = {'0':'Destra','1':'Centrale','2':'Sinistra'}\n",
        "\n",
        "  for k in lines_y:\n",
        "    for j in lines_x: \n",
        "      lines_per_time.append([time_comp, j, k, avg_x[lines_x.index(j)], translate_x[str(lines_x.index(j))],avg_y[lines_y.index(k)], translate_y[str(lines_y.index(k))]])\n",
        "    \n",
        "  return lines_per_time"
      ],
      "metadata": {
        "id": "xpz2l7c1NHLL"
      },
      "execution_count": null,
      "outputs": []
    },
    {
      "cell_type": "code",
      "source": [
        "sparkContext=spark.sparkContext\n",
        "timings_rdd = sparkContext.parallelize(timings)"
      ],
      "metadata": {
        "id": "u2jRLsXJey3X"
      },
      "execution_count": null,
      "outputs": []
    },
    {
      "cell_type": "code",
      "source": [
        "lines_definition_per_time = spark.createDataFrame(timings_rdd.flatMap(lambda c : defineLinesFromAvg(c,pd_avg_lines_side_team)), ['time','prediction_x','prediction_y','avg_x','linea','avg_y','lato_new'])"
      ],
      "metadata": {
        "id": "K7PSCqFtVrhh"
      },
      "execution_count": null,
      "outputs": []
    },
    {
      "cell_type": "code",
      "source": [
        "pre_player_zones_team_final = player_zones_team.drop('lato').join(lines_definition_per_time,['time','prediction_x','prediction_y'])\n",
        "pre_player_zones_team_final = pre_player_zones_team_final.withColumnRenamed('linea','linea_di_pressione')\n",
        "player_zones_team_final = pre_player_zones_team_final.withColumnRenamed('lato_new','lato').select('time','linea_di_pressione','lato','avg_x','avg_y').distinct()"
      ],
      "metadata": {
        "id": "vfRgUl6cWwqy"
      },
      "execution_count": null,
      "outputs": []
    },
    {
      "cell_type": "code",
      "source": [
        "pre_player_zones_team_final.show()"
      ],
      "metadata": {
        "colab": {
          "base_uri": "https://localhost:8080/"
        },
        "id": "wDwl98wmw9uw",
        "outputId": "f0433322-b2b7-4f19-b52b-f99de488afcb"
      },
      "execution_count": null,
      "outputs": [
        {
          "output_type": "stream",
          "name": "stdout",
          "text": [
            "+------+------------+------------+-----+-------------------+-------------------+------+-----------+---------+-------------+-----------------+------------------+-------------------+--------+\n",
            "|  time|prediction_x|prediction_y| team|                  x|                  y|  type|probability|player_id|        verse|            avg_x|linea_di_pressione|              avg_y|lato_new|\n",
            "+------+------------+------------+-----+-------------------+-------------------+------+-----------+---------+-------------+-----------------+------------------+-------------------+--------+\n",
            "|4315.0|           0|           2|Milan| 29.255592346191406| 17.071821212768555|player|     -150.0| Florenzi|left_to_right|30.33519744873047|       Terza Linea| 17.071821212768555|  Destra|\n",
            "|4315.0|           0|           0|Milan| 28.276214599609375|  4.420045375823975|player|     -150.0|     Diaz|left_to_right|30.33519744873047|       Terza Linea| 3.7177212523917356|Centrale|\n",
            "|4315.0|           0|           0|Milan| 37.159332275390625|0.02378525584936142|player|     -150.0|   Giroud|left_to_right|30.33519744873047|       Terza Linea| 3.7177212523917356|Centrale|\n",
            "|4315.0|           2|           0|Milan| 18.296260833740234|   5.25933313369751|player|     -150.0| Bennacer|left_to_right|18.19813060760498|     Seconda Linea| 3.7177212523917356|Centrale|\n",
            "|4315.0|           1|           0|Milan| 1.5630731582641602|0.41248849034309387|player|     -150.0|    Kjaer|left_to_right|1.002777360379696|   Linea Difensiva| 3.7177212523917356|Centrale|\n",
            "|4315.0|           1|           0|Milan|  2.070629835128784|  6.931342124938965|player|     -150.0| Calabria|left_to_right|1.002777360379696|   Linea Difensiva| 3.7177212523917356|Centrale|\n",
            "|4315.0|           1|           1|Milan|0.18870322406291962|-10.231342315673828|player|     -150.0|   Tomori|left_to_right|1.002777360379696|   Linea Difensiva|-12.113242467244467|Sinistra|\n",
            "|4315.0|           2|           1|Milan| 18.100000381469727| -8.296259880065918|player|     -150.0|   Krunic|left_to_right|18.19813060760498|     Seconda Linea|-12.113242467244467|Sinistra|\n",
            "|4315.0|           0|           1|Milan|   32.8164176940918|-18.948036193847656|player|     -150.0|Hernandez|left_to_right|30.33519744873047|       Terza Linea|-12.113242467244467|Sinistra|\n",
            "|4315.0|           0|           1|Milan| 25.248035430908203| -16.67621421813965|player|     -150.0|    Rebic|left_to_right|30.33519744873047|       Terza Linea|-12.113242467244467|Sinistra|\n",
            "+------+------------+------------+-----+-------------------+-------------------+------+-----------+---------+-------------+-----------------+------------------+-------------------+--------+\n",
            "\n"
          ]
        }
      ]
    },
    {
      "cell_type": "code",
      "source": [
        "all_team_lines_and_side = pre_player_zones_team_final.toPandas()"
      ],
      "metadata": {
        "id": "ah09cl-jkkYP"
      },
      "execution_count": null,
      "outputs": []
    },
    {
      "cell_type": "code",
      "source": [
        "pd_avg_lines_pivot = player_zones_team_final.toPandas()"
      ],
      "metadata": {
        "id": "rq2z6nkILpal"
      },
      "execution_count": null,
      "outputs": []
    },
    {
      "cell_type": "code",
      "source": [
        "'''\n",
        "def func_y_value(y):\n",
        "  \n",
        "  if y > 11:\n",
        "    return 'Sinistra'\n",
        "  elif y < -11:\n",
        "    return 'Destra'\n",
        "  else:\n",
        "    return 'Centrale'\n",
        "  \n",
        "def defineLine(t,pre_panda,verse_t,translate_dict,asse,index):\n",
        "  \n",
        "  if asse == 'x':\n",
        "    var = 'prediction_y'\n",
        "  else:\n",
        "    var = 'prediction_x'\n",
        "\n",
        "  out = []\n",
        "\n",
        "  for i in [0,1,2]:\n",
        "    try:\n",
        "      pre_panda_f = pre_panda[pre_panda['time'] == t][pre_panda[var] == i].values.tolist()\n",
        "      \n",
        "      if verse_t == 'right_to_left':\n",
        "        pre_panda_f_sort = sorted(pre_panda_f, key = itemgetter(index), reverse = True)\n",
        "      else:\n",
        "        pre_panda_f_sort = sorted(pre_panda_f, key = itemgetter(index))\n",
        "      \n",
        "      if asse == 'x':\n",
        "        pre_panda_f_sort_defined = list(map(lambda c : list(c)+[translate_dict[str(pre_panda_f_sort.index(c))]],pre_panda_f_sort))\n",
        "      else:\n",
        "        pre_panda_f_sort_defined = list(map(lambda c : list(c)+[func_y_value(c[index])],pre_panda_f_sort))\n",
        "\n",
        "      out = out + pre_panda_f_sort_defined\n",
        "    except:\n",
        "      pass\n",
        "\n",
        "  \n",
        "  return out\n",
        "\n",
        "translate_x = {'0':'Linea Difensiva','1':'Seconda Linea', '2': 'Terza Linea'}\n",
        "translate_y = {'0':'Sinistra','1':'Centrale', '2': 'Destra'}\n",
        "\n",
        "x_index = avg_lines_side_team.columns.index('avg(x)')\n",
        "y_index = avg_lines_side_team.columns.index('avg(y)')\n",
        "\n",
        "df_avg_lines_x = spark.createDataFrame(timings_rdd.flatMap(lambda a : defineLine(a,pd_avg_lines_side_team,verse,translate_x,'x',x_index)),['time','cluster_x','cluster_y','verse','avg_x','avg_y','linea_di_pressione'])\n",
        "df_avg_lines_y = spark.createDataFrame(timings_rdd.flatMap(lambda b : defineLine(b,pd_avg_lines_side_team,verse,translate_y,'y',y_index)),['time','cluster_x','cluster_y','verse','avg_x','avg_y','lato'])\n",
        "\n",
        "df_avg_lines = df_avg_lines_x.join(df_avg_lines_y.drop('avg_x').drop('avg_y').drop('verse'), ['time','cluster_x','cluster_y'])\n",
        "\n",
        "df_avg_lines = df_avg_lines.withColumn('avg_y',df_avg_lines['avg_y'].cast(DoubleType())).withColumn('avg_x',df_avg_lines['avg_x'].cast(DoubleType())).orderBy('time','linea_di_pressione','lato')\n",
        "df_avg_lines = df_avg_lines.withColumn('linea_lato', concat(col('linea_di_pressione'),lit(' '),col('lato')))\n",
        "df_avg_lines_pivot = df_avg_lines.groupBy('time','verse','lato','linea_di_pressione').agg(func.avg('avg_x'),func.avg('avg_y')).withColumnRenamed('avg(avg_x)','avg_x').withColumnRenamed('avg(avg_y)','avg_y')\n",
        "\n",
        "df_avg_lines_pivot.show()\n",
        "\n",
        "pd_avg_lines_pivot = df_avg_lines_pivot.toPandas()\n",
        "'''"
      ],
      "metadata": {
        "id": "VPBhrR7roV7A",
        "colab": {
          "base_uri": "https://localhost:8080/",
          "height": 143
        },
        "outputId": "dcb4f526-674d-4587-952b-59480bfc3083"
      },
      "execution_count": null,
      "outputs": [
        {
          "output_type": "execute_result",
          "data": {
            "text/plain": [
              "\"\\ndef func_y_value(y):\\n  \\n  if y > 11:\\n    return 'Sinistra'\\n  elif y < -11:\\n    return 'Destra'\\n  else:\\n    return 'Centrale'\\n  \\ndef defineLine(t,pre_panda,verse_t,translate_dict,asse,index):\\n  \\n  if asse == 'x':\\n    var = 'prediction_y'\\n  else:\\n    var = 'prediction_x'\\n\\n  out = []\\n\\n  for i in [0,1,2]:\\n    try:\\n      pre_panda_f = pre_panda[pre_panda['time'] == t][pre_panda[var] == i].values.tolist()\\n      \\n      if verse_t == 'right_to_left':\\n        pre_panda_f_sort = sorted(pre_panda_f, key = itemgetter(index), reverse = True)\\n      else:\\n        pre_panda_f_sort = sorted(pre_panda_f, key = itemgetter(index))\\n      \\n      if asse == 'x':\\n        pre_panda_f_sort_defined = list(map(lambda c : list(c)+[translate_dict[str(pre_panda_f_sort.index(c))]],pre_panda_f_sort))\\n      else:\\n        pre_panda_f_sort_defined = list(map(lambda c : list(c)+[func_y_value(c[index])],pre_panda_f_sort))\\n\\n      out = out + pre_panda_f_sort_defined\\n    except:\\n      pass\\n\\n  \\n  return out\\n\\ntranslate_x = {'0':'Linea Difensiva','1':'Seconda Linea', '2': 'Terza Linea'}\\ntranslate_y = {'0':'Sinistra','1':'Centrale', '2': 'Destra'}\\n\\nx_index = avg_lines_side_team.columns.index('avg(x)')\\ny_index = avg_lines_side_team.columns.index('avg(y)')\\n\\ndf_avg_lines_x = spark.createDataFrame(timings_rdd.flatMap(lambda a : defineLine(a,pd_avg_lines_side_team,verse,translate_x,'x',x_index)),['time','cluster_x','cluster_y','verse','avg_x','avg_y','linea_di_pressione'])\\ndf_avg_lines_y = spark.createDataFrame(timings_rdd.flatMap(lambda b : defineLine(b,pd_avg_lines_side_team,verse,translate_y,'y',y_index)),['time','cluster_x','cluster_y','verse','avg_x','avg_y','lato'])\\n\\ndf_avg_lines = df_avg_lines_x.join(df_avg_lines_y.drop('avg_x').drop('avg_y').drop('verse'), ['time','cluster_x','cluster_y'])\\n\\ndf_avg_lines = df_avg_lines.withColumn('avg_y',df_avg_lines['avg_y'].cast(DoubleType())).withColumn('avg_x',df_avg_lines['avg_x'].cast(DoubleType())).orderBy('time','linea_di_pressione','lato')\\ndf_avg_lines = df_avg_lines.withColumn('linea_lato', concat(col('linea_di_pressione'),lit(' '),col('lato')))\\ndf_avg_lines_pivot = df_avg_lines.groupBy('time','verse','lato','linea_di_pressione').agg(func.avg('avg_x'),func.avg('avg_y')).withColumnRenamed('avg(avg_x)','avg_x').withColumnRenamed('avg(avg_y)','avg_y')\\n\\ndf_avg_lines_pivot.show()\\n\\npd_avg_lines_pivot = df_avg_lines_pivot.toPandas()\\n\""
            ],
            "application/vnd.google.colaboratory.intrinsic+json": {
              "type": "string"
            }
          },
          "metadata": {},
          "execution_count": 476
        }
      ]
    },
    {
      "cell_type": "code",
      "source": [
        "pd_player_zones = player_zones.toPandas()"
      ],
      "metadata": {
        "id": "b0LEdGc9pPrU"
      },
      "execution_count": null,
      "outputs": []
    },
    {
      "cell_type": "code",
      "source": [
        "player_index = player_zones.columns.index('player_id')\n",
        "x_index = player_zones.columns.index('x')\n",
        "y_index = player_zones.columns.index('y')\n",
        "team_index = player_zones.columns.index('team')\n",
        "verse_index = player_zones.columns.index('verse') \n",
        "time_index = player_zones.columns.index('time') \n",
        "\n",
        "player_zones.columns, team_index"
      ],
      "metadata": {
        "id": "tpqHMrcgGXwM",
        "colab": {
          "base_uri": "https://localhost:8080/"
        },
        "outputId": "4cc6d5ba-1014-4d21-a466-102a68de1522"
      },
      "execution_count": null,
      "outputs": [
        {
          "output_type": "execute_result",
          "data": {
            "text/plain": [
              "(['team',\n",
              "  'time',\n",
              "  'x',\n",
              "  'y',\n",
              "  'type',\n",
              "  'probability',\n",
              "  'player_id',\n",
              "  'verse',\n",
              "  'lato'],\n",
              " 0)"
            ]
          },
          "metadata": {},
          "execution_count": 478
        }
      ]
    },
    {
      "cell_type": "code",
      "source": [
        "from numpy.core.function_base import geomspace\n",
        "def definePositionBetweenLines(x):\n",
        "  \n",
        "  player = x[player_index]\n",
        "  x_value = x[x_index]\n",
        "  y_value = x[y_index]\n",
        "  team = x[team_index]\n",
        "  verse = x[verse_index]\n",
        "  time = x[time_index]\n",
        "\n",
        "  pd_time = pd_avg_lines_pivot[pd_avg_lines_pivot['time'] == time]\n",
        "  pd_player_time = pd_player_zones[pd_player_zones['time'] == time][pd_player_zones['team'] == team_a.title()][pd_player_zones['player_id'] != 'Maignan']\n",
        "\n",
        "  #terza_linea = float(x[-1])\n",
        "  \n",
        "  if verse == 'right_to_left': \n",
        "    destra = -33.0\n",
        "    sinistra = 33.0\n",
        "    terza_linea = -52.0\n",
        "  else:\n",
        "    destra = 33.0\n",
        "    sinistra = -33.0\n",
        "    terza_linea = 52.0\n",
        "\n",
        "  centrale = float(np.mean(pd_time[pd_time['lato'] == 'Centrale']['avg_y'].values.tolist()))\n",
        "  if len(pd_time[pd_time['lato'] == 'Destra']) > 0:\n",
        "    destra = float(np.mean(pd_time[pd_time['lato'] == 'Destra']['avg_y'].values.tolist()))\n",
        "  if len(pd_time[pd_time['lato'] == 'Sinistra']) > 0:\n",
        "    sinistra = float(np.mean(pd_time[pd_time['lato'] == 'Sinistra']['avg_y'].values.tolist()))\n",
        "  \n",
        "  linea_difensiva = float(np.mean(pd_time[pd_time['linea_di_pressione'] == 'Linea Difensiva']['avg_x'].values.tolist()))\n",
        "  seconda_linea = float(np.mean(pd_time[pd_time['linea_di_pressione'] == 'Seconda Linea']['avg_x'].values.tolist()))\n",
        "  if len(pd_time[pd_time['linea_di_pressione'] == 'Terza Linea']) > 0:\n",
        "    terza_linea = float(np.mean(pd_time[pd_time['linea_di_pressione'] == 'Terza Linea']['avg_x'].values.tolist()))\n",
        "  else:\n",
        "    if verse == 'right_to_left':\n",
        "      most_advanced_player_x = float(np.min(pd_player_time['x'].values.tolist()))\n",
        "    else:\n",
        "      most_advanced_player_x = float(np.max(pd_player_time['x'].values.tolist()))\n",
        "    \n",
        "    terza_linea = most_advanced_player_x\n",
        "  \n",
        "  list_lines = list(map(lambda a : float(np.round(a,1)), [linea_difensiva, seconda_linea,terza_linea]))\n",
        "  list_lines_lato = list(map(lambda a : float(np.round(a,1)), [centrale,destra,sinistra]))\n",
        " \n",
        "  if team == opponent.title():\n",
        "\n",
        "    if verse == 'right_to_left':\n",
        "      \n",
        "      if x_value >= seconda_linea and x_value <= linea_difensiva:\n",
        "        destro = float(np.mean(pd_time[pd_time['linea_di_pressione'].isin(['Linea Difensiva','Seconda Linea'])][pd_time['lato'] == 'Destra']['avg_y'].values.tolist()))\n",
        "        sinistro = float(np.mean(pd_time[pd_time['linea_di_pressione'].isin(['Linea Difensiva','Seconda Linea'])][pd_time['lato'] == 'Sinistra']['avg_y'].values.tolist()))\n",
        "        centrale = float(np.mean(pd_time[pd_time['linea_di_pressione'].isin(['Linea Difensiva','Seconda Linea'])][pd_time['lato'] == 'Centrale']['avg_y'].values.tolist()))\n",
        "\n",
        "        posizione = 'Tra le linee'\n",
        "\n",
        "      elif x_value > linea_difensiva:\n",
        "        destro = float(np.mean(pd_time[pd_time['linea_di_pressione'].isin(['Linea Difensiva'])][pd_time['lato'] == 'Destra']['avg_y'].values.tolist()))\n",
        "        sinistro = float(np.mean(pd_time[pd_time['linea_di_pressione'].isin(['Linea Difensiva'])][pd_time['lato'] == 'Sinistra']['avg_y'].values.tolist()))\n",
        "        centrale = float(np.mean(pd_time[pd_time['linea_di_pressione'].isin(['Linea Difensiva'])][pd_time['lato'] == 'Centrale']['avg_y'].values.tolist()))\n",
        "       \n",
        "        posizione = 'Profondità'\n",
        "      \n",
        "      elif x_value > seconda_linea-3.0 and x_value < seconda_linea:\n",
        "        destro = float(np.mean(pd_time[pd_time['linea_di_pressione'].isin(['Linea Difensiva','Seconda Linea'])][pd_time['lato'] == 'Destra']['avg_y'].values.tolist()))\n",
        "        sinistro = float(np.mean(pd_time[pd_time['linea_di_pressione'].isin(['Linea Difensiva','Seconda Linea'])][pd_time['lato'] == 'Sinistra']['avg_y'].values.tolist()))\n",
        "        centrale = float(np.mean(pd_time[pd_time['linea_di_pressione'].isin(['Linea Difensiva','Seconda Linea'])][pd_time['lato'] == 'Centrale']['avg_y'].values.tolist()))\n",
        "\n",
        "        posizione = 'Possibile Inserimento'\n",
        "\n",
        "      else:\n",
        "        posizione = ''\n",
        "      \n",
        "      try:\n",
        "        if y_value < destro:\n",
        "          lato = 'Ampiezza Destra'\n",
        "        elif y_value > sinistro:\n",
        "          lato =  'Ampiezza Sinistra'\n",
        "        elif y_value <= sinistro and y_value > centrale:\n",
        "          lato =  'Centro-Sinistra'\n",
        "        elif y_value >= destro and y_value <= centrale:\n",
        "          lato =  'Centro-Destra'\n",
        "        else:\n",
        "          lato = ''\n",
        "      except:\n",
        "        lato = ''\n",
        "        \n",
        "    else:\n",
        "        \n",
        "      if x_value < seconda_linea and x_value > linea_difensiva:\n",
        "        destro = float(np.mean(pd_time[pd_time['linea_di_pressione'].isin(['Linea Difensiva','Seconda Linea'])][pd_time['lato'] == 'Destra']['avg_y'].values.tolist()))\n",
        "        sinistro = float(np.mean(pd_time[pd_time['linea_di_pressione'].isin(['Linea Difensiva','Seconda Linea'])][pd_time['lato'] == 'Sinistra']['avg_y'].values.tolist()))\n",
        "        centrale = float(np.mean(pd_time[pd_time['linea_di_pressione'].isin(['Linea Difensiva','Seconda Linea'])][pd_time['lato'] == 'Centrale']['avg_y'].values.tolist()))\n",
        "\n",
        "        posizione = 'Tra le Linee'\n",
        "      elif x_value < linea_difensiva:\n",
        "        destro = float(np.mean(pd_time[pd_time['linea_di_pressione'].isin(['Linea Difensiva'])][pd_time['lato'] == 'Destra']['avg_y'].values.tolist()))\n",
        "        sinistro = float(np.mean(pd_time[pd_time['linea_di_pressione'].isin(['Linea Difensiva'])][pd_time['lato'] == 'Sinistra']['avg_y'].values.tolist()))\n",
        "        centrale = float(np.mean(pd_time[pd_time['linea_di_pressione'].isin(['Linea Difensiva'])][pd_time['lato'] == 'Centrale']['avg_y'].values.tolist()))\n",
        "       \n",
        "        posizione = 'Profondità'\n",
        "\n",
        "      elif x_value < seconda_linea-3.0 and x_value > seconda_linea:\n",
        "        destro = float(np.mean(pd_time[pd_time['linea_di_pressione'].isin(['Linea Difensiva','Seconda Linea'])][pd_time['lato'] == 'Destra']['avg_y'].values.tolist()))\n",
        "        sinistro = float(np.mean(pd_time[pd_time['linea_di_pressione'].isin(['Linea Difensiva','Seconda Linea'])][pd_time['lato'] == 'Sinistra']['avg_y'].values.tolist()))\n",
        "        centrale = float(np.mean(pd_time[pd_time['linea_di_pressione'].isin(['Linea Difensiva','Seconda Linea'])][pd_time['lato'] == 'Centrale']['avg_y'].values.tolist()))\n",
        "\n",
        "        posizione = 'Possibile Inserimento'\n",
        "\n",
        "      else:\n",
        "        posizione = ''\n",
        "\n",
        "      try:\n",
        "        if y_value > destro:\n",
        "          lato = 'Ampiezza Destra'\n",
        "        elif y_value < sinistro:\n",
        "          lato =  'Ampiezza Sinistra'\n",
        "        elif y_value >= sinistro and y_value < centrale:\n",
        "          lato =  'Centro-Sinistra'\n",
        "        elif y_value <= destro and y_value >= centrale:\n",
        "          lato =  'Centro-Destra'\n",
        "        else:\n",
        "          lato = ''\n",
        "      except:\n",
        "        lato = ''\n",
        "\n",
        "  else:\n",
        "    if player != 'Maignan':\n",
        "      posizione,lato = all_team_lines_and_side[all_team_lines_and_side['player_id'] == player][all_team_lines_and_side['time'] == time][['linea_di_pressione','lato_new']].values.tolist()[0]\n",
        "    else:\n",
        "      posizione = ''\n",
        "      lato = ''\n",
        "  \n",
        "\n",
        "  out = list(x)+[posizione,lato,list_lines,list_lines_lato]\n",
        "  return out\n",
        "  \n",
        "positioned_players_ = spark.createDataFrame(player_zones.rdd.map(lambda a : definePositionBetweenLines(a)), player_zones.columns+['posizione_x','lato_new','values_x','values_y'])\n",
        "positioned_players_.where(positioned_players_['time'].isin([1386,40])).orderBy(['time','team','posizione_x','lato']).show(50)"
      ],
      "metadata": {
        "id": "6HDbVrJxtDZ1",
        "colab": {
          "base_uri": "https://localhost:8080/"
        },
        "outputId": "e5e667ba-93ab-43bf-850e-f7b773e774d2"
      },
      "execution_count": null,
      "outputs": [
        {
          "output_type": "stream",
          "name": "stdout",
          "text": [
            "+----+----+---+---+----+-----------+---------+-----+----+-----------+--------+--------+--------+\n",
            "|team|time|  x|  y|type|probability|player_id|verse|lato|posizione_x|lato_new|values_x|values_y|\n",
            "+----+----+---+---+----+-----------+---------+-----+----+-----------+--------+--------+--------+\n",
            "+----+----+---+---+----+-----------+---------+-----+----+-----------+--------+--------+--------+\n",
            "\n"
          ]
        }
      ]
    },
    {
      "cell_type": "code",
      "source": [
        "positioned_players_r = positioned_players_.drop('lato_new').drop('values_x').drop('values_y')\n",
        "positioned_players_rr = positioned_players_r#.withColumnRenamed('lato_new','lato')"
      ],
      "metadata": {
        "id": "SM3BNUiJvxCJ"
      },
      "execution_count": null,
      "outputs": []
    },
    {
      "cell_type": "code",
      "source": [
        "positioned_players_out = positioned_players_rr.drop('type')"
      ],
      "metadata": {
        "id": "DUHmv4r9U7yN"
      },
      "execution_count": null,
      "outputs": []
    },
    {
      "cell_type": "code",
      "source": [
        "positioned_players_out.where(positioned_players_out['time'] == 1386).orderBy('time','team','posizione_x','lato').show(22)"
      ],
      "metadata": {
        "colab": {
          "base_uri": "https://localhost:8080/"
        },
        "id": "FIGnXqE14xiY",
        "outputId": "bc33c871-78fe-4c41-d980-a95204adcda7"
      },
      "execution_count": null,
      "outputs": [
        {
          "output_type": "stream",
          "name": "stdout",
          "text": [
            "+----+----+---+---+-----------+---------+-----+----+-----------+\n",
            "|team|time|  x|  y|probability|player_id|verse|lato|posizione_x|\n",
            "+----+----+---+---+-----------+---------+-----+----+-----------+\n",
            "+----+----+---+---+-----------+---------+-----+----+-----------+\n",
            "\n"
          ]
        }
      ]
    },
    {
      "cell_type": "code",
      "source": [
        "def addNegativeProb(x):\n",
        "\n",
        "  team = x[team_index] \n",
        "  probability = x[prob_index]\n",
        "\n",
        "  if team == team_a.title(): \n",
        "    new_prob = -float(probability) \n",
        "  else: \n",
        "    new_prob = float(probability)\n",
        "\n",
        "  y = list(x[:prob_index])+[new_prob]+list(x[1+prob_index:])\n",
        "\n",
        "  return y\n",
        "\n",
        "pitch_pivot_union = pitch_pivot.distinct()\n",
        "\n",
        "team_index, prob_index = pitch_pivot_union.columns.index('team'), pitch_pivot_union.columns.index('probability')\n",
        "\n",
        "pitch_pivot_union = spark.createDataFrame(pitch_pivot_union.rdd.map(lambda y : addNegativeProb(y)), pitch_pivot_union.columns)\n",
        "\n",
        "for i in players_locs.columns: \n",
        "  if 'class' in str(i): \n",
        "    pitch_pivot_union = pitch_pivot_union.withColumn(str(i), lit(''))\n",
        "\n",
        "out = pitch_pivot_union.union(players_locs.select(pitch_pivot_union.columns)).union(ball_locs.select(pitch_pivot_union.columns)).withColumnRenamed('player_id','player')  "
      ],
      "metadata": {
        "id": "q909SEBccdgC"
      },
      "execution_count": null,
      "outputs": []
    },
    {
      "cell_type": "code",
      "execution_count": null,
      "metadata": {
        "id": "V_TccW8BCjQU"
      },
      "outputs": [],
      "source": [
        "pd_pitch = max_pitch_pivot_jj.toPandas()"
      ]
    },
    {
      "cell_type": "code",
      "execution_count": null,
      "metadata": {
        "id": "BK11EmyUwBEj"
      },
      "outputs": [],
      "source": [
        "panda_possess = possess.toPandas()\n",
        "panda_possess_x_y = out.where(out.team != team_a.title()).where(out.team != opponent.title()).toPandas()"
      ]
    },
    {
      "cell_type": "code",
      "execution_count": null,
      "metadata": {
        "id": "2DW1BSf2CjQU"
      },
      "outputs": [],
      "source": [
        "from bisect import bisect\n",
        "from pyspark.sql.window import Window\n",
        "\n",
        "def areaDanger(d,x_ranges,y_ranges):\n",
        "  \n",
        "  if d[verse_index] == 'left_to_right':\n",
        "    x_values = x_ranges_value_right_to_left\n",
        "  else:\n",
        "    x_values = x_ranges_value_left_to_right\n",
        "  \n",
        "  try:\n",
        "    x_value = x_values[bisect(x_ranges,d[x_index])]\n",
        "  except:\n",
        "    try:\n",
        "      x_value = x_values[bisect(x_ranges,d[x_index])-1]\n",
        "    except:\n",
        "      x_value = x_values[bisect(x_ranges,d[x_index])+1]\n",
        "      \n",
        "  try:\n",
        "    y_value = y_ranges_value[bisect(y_ranges,d[y_index])]\n",
        "  except:\n",
        "    try:\n",
        "      y_value = y_ranges_value[bisect(y_ranges,d[y_index])-1]\n",
        "    except:\n",
        "      y_value = y_ranges_value[bisect(y_ranges,d[y_index])+1]\n",
        "  \n",
        "  if x_value < 50:\n",
        "    y_value = 10\n",
        "  \n",
        "  return [bisect(x_ranges,d[x_index]),bisect(y_ranges,d[y_index]),float(np.round(x_value,0)),float(np.round(y_value,0)),float(np.round(x_value+y_value,0))]\n",
        " \n",
        "def findOpponentsOvercomeByThePass(x,panda,panda_possess,panda_possess_bis,pd_pitch):\n",
        "  \n",
        "  player_x = x[x_index]\n",
        "  player_y = x[y_index]\n",
        "  verse = x[verse_index]\n",
        "  time_ = x[time_index]\n",
        "  \n",
        "  player_possess = panda_possess[panda_possess['time'] == time_]['player_in_possess'].values.tolist()[0]\n",
        "  possess_x,possess_y = panda_possess_bis[panda_possess_bis['time'] == time_][['x','y']].values.tolist()[0]\n",
        "  \n",
        "  sit_x = player_x\n",
        "  sit_y = player_y\n",
        "\n",
        "  x_advancement_flag = float(np.sign(team_a_goal_line[0] - player_x))\n",
        "\n",
        "  values_x = [sit_x-(x_advancement_flag*10),sit_x+(x_advancement_flag*10)]\n",
        "\n",
        "  back_min_x,ahead_max_x = float(np.min(values_x)),float(np.max(values_x))\n",
        "\n",
        "  up_y = sit_y+10\n",
        "  down_y = sit_y-10\n",
        "\n",
        "  quarters_control_percentages = []\n",
        "\n",
        "  close_opponents_panda = panda[panda['team'] == team_a.title()][panda['time'] == time_][panda['x'] > player_x-4.0][panda['x'] < player_x+4.0][panda['y'] > player_y-4.0][panda['x'] < player_y+4.0]\n",
        "  close_opponents = len(close_opponents_panda)\n",
        "  opponents_x_y = panda[panda['team'] == team_a.title()][panda['time'] == time_][panda['player_id'] != team_a_goalies][['x','y']].values.tolist()\n",
        "  \n",
        "  #player_distance_from_goal_line = float(np.sqrt((player_x - team_a_goal_line[0])**2 + (player_y - team_a_goal_line[1])**2))\n",
        "  #possess_distance_from_goal_line = float(np.sqrt((possess_x - team_a_goal_line[0])**2 + (possess_y - team_a_goal_line[1])**2))\n",
        "\n",
        "  if verse == 'left_to_right':\n",
        "    player_x_distance_from_goal_line = float(player_x - team_a_goal_line[0])\n",
        "    possess_x_distance_from_goal_line = float(possess_x - team_a_goal_line[0])\n",
        "  else:\n",
        "    player_x_distance_from_goal_line = -float(player_x - team_a_goal_line[0])\n",
        "    possess_x_distance_from_goal_line = -float(possess_x - team_a_goal_line[0])\n",
        "  \n",
        "  team_advancement_x = possess_x_distance_from_goal_line - player_x_distance_from_goal_line\n",
        "  ball_distance = float(np.sqrt((player_x-possess_x)**2+(player_y-possess_y)**2))\n",
        "\n",
        "  #opponents_distances_to_goal_line = []\n",
        "  opponents_distances_to_goal_line_x = []\n",
        "\n",
        "  for j in opponents_x_y:\n",
        "    if verse == 'left_to_right':\n",
        "      dist = -float(team_a_goal_line[0]-j[0])\n",
        "    else:\n",
        "      dist = float(team_a_goal_line[0]-j[0])\n",
        "\n",
        "    #opponents_distances_to_goal_line.append(float(np.sqrt((team_a_goal_line[0]-j[0])**2+(team_a_goal_line[1]-j[1])**2)))\n",
        "    opponents_distances_to_goal_line_x.append(dist)\n",
        "    \n",
        "  #opponents_from_goal_line = len(list(filter(lambda a : a < player_distance_from_goal_line-1.0, opponents_distances_to_goal_line)))\n",
        "  #opponents_from_possess_to_goal_line = len(list(filter(lambda a : a < possess_distance_from_goal_line-1.0, opponents_distances_to_goal_line)))\n",
        "\n",
        "  opponents_from_goal_line_x = len(list(filter(lambda a : a < player_x_distance_from_goal_line-4.0, opponents_distances_to_goal_line_x)))\n",
        "  opponents_from_possess_to_goal_line_x = len(list(filter(lambda a : a < possess_x_distance_from_goal_line-1.0, opponents_distances_to_goal_line_x)))\n",
        "\n",
        "  #opponents_cut = opponents_from_possess_to_goal_line-opponents_from_goal_line\n",
        "  opponents_cut_x = opponents_from_possess_to_goal_line_x-opponents_from_goal_line_x\n",
        "\n",
        "  #return [closest_opponent_distance,opponents_from_goal_line,close_opponents,player_distance_from_goal_line,opponents_cut]\n",
        "  return [opponents_from_possess_to_goal_line_x,close_opponents,player_x_distance_from_goal_line,opponents_cut_x,team_advancement_x,ball_distance]\n",
        "  \n",
        "pre_kpis = max_pitch_pivot_jjj.where((max_pitch_pivot_jjj['player_id'].isin([team_a_goalies])) == False).select('player_id','team','verse','time','x','y').distinct()\n",
        "\n",
        "verse_index = pre_kpis.columns.index('verse')\n",
        "time_index = pre_kpis.columns.index('time')\n",
        "y_index = pre_kpis.columns.index('y')\n",
        "x_index = pre_kpis.columns.index('x')\n",
        "\n",
        "pre_kpis = pre_kpis.withColumn('x', pre_kpis['x'].cast(DoubleType())).withColumn('y', pre_kpis['y'].cast(DoubleType()))\n",
        "\n",
        "ppp_area_targets = spark.createDataFrame(pre_kpis.rdd.map(lambda g : list(g)+areaDanger(g,x_ranges,y_ranges)+findOpponentsOvercomeByThePass(g,panda_locs,panda_possess,panda_possess_x_y,pd_pitch)), pre_kpis.columns+['x_area','y_area','x_value','y_value','area_value','possess_opponents_from_goal_line','close_opponents','player_distance_from_goal_line','opponents_cut','team_advancement','ball_distance'])\n"
      ]
    },
    {
      "cell_type": "code",
      "execution_count": null,
      "metadata": {
        "id": "ooJCkCrwytZL",
        "colab": {
          "base_uri": "https://localhost:8080/"
        },
        "outputId": "c2bf1235-afad-4eb5-b533-f5c43b83cb33"
      },
      "outputs": [
        {
          "output_type": "stream",
          "name": "stdout",
          "text": [
            "+---------+------+--------+----------+------------------+--------------------------------+------------------+-------------------+---------------+------------------------------+-------------+------------------+-------------+\n",
            "|player_id|  time|    team|area_value|     ball_distance|possess_opponents_from_goal_line|                 x|                  y|close_opponents|player_distance_from_goal_line|opponents_cut|  team_advancement|        verse|\n",
            "+---------+------+--------+----------+------------------+--------------------------------+------------------+-------------------+---------------+------------------------------+-------------+------------------+-------------+\n",
            "|   Nandez|4315.0|Cagliari|      30.0|53.469718261046346|                              11|31.888702392578125|-14.020622253417969|              0|             87.08870315551758|            4|23.311298370361328|left_to_right|\n",
            "|    Godin|4315.0|Cagliari|      23.0| 47.37781679830757|                              11|44.627525329589844|-12.083118438720703|              0|              99.8275260925293|            0| 10.57247543334961|left_to_right|\n",
            "|Strootman|4315.0|Cagliari|      43.0| 40.42839191030465|                              11|23.375560760498047|  9.166890144348145|              0|              78.5755615234375|            5|31.824440002441406|left_to_right|\n",
            "|  Dalbert|4315.0|Cagliari|      30.0|27.539089305896134|                              11| 32.42937088012695| 18.611297607421875|              0|              87.6293716430664|            3|  22.7706298828125|left_to_right|\n",
            "|    Zappa|4315.0|Cagliari|      29.0|  55.9661199425458|                              11|  34.2480354309082|-17.796260833740234|              0|             89.44803619384766|            2| 20.95196533203125|left_to_right|\n",
            "|   Deiola|4315.0|Cagliari|      32.0|40.985703512128126|                              11|28.696260452270508| 2.8369269371032715|              0|             83.89626121520996|            5|26.503740310668945|left_to_right|\n",
            "|  Carboni|4315.0|Cagliari|      25.0| 31.53223559444926|                              11|38.900001525878906| 7.1075568199157715|              0|             94.10000228881836|            1|16.299999237060547|left_to_right|\n",
            "|Pavoletti|4315.0|Cagliari|      35.0|  72.3451038759053|                              11|0.7168816924095154|-13.496259689331055|              0|             55.91688245534897|           10| 54.48311907052994|left_to_right|\n",
            "|    Marin|4315.0|Cagliari|      43.0| 55.68277354751384|                              11| 21.59626007080078|-10.300000190734863|              0|             76.79626083374023|            7| 33.60374069213867|left_to_right|\n",
            "|Radunovic|4315.0|Cagliari|      19.0| 37.31032309957184|                              11| 47.80747985839844|-2.4706296920776367|              0|            103.00748062133789|            0| 7.392520904541016|left_to_right|\n",
            "+---------+------+--------+----------+------------------+--------------------------------+------------------+-------------------+---------------+------------------------------+-------------+------------------+-------------+\n",
            "\n"
          ]
        }
      ],
      "source": [
        "area_targets_advance_pre_final = ppp_area_targets.select('player_id','time','team','area_value','ball_distance','possess_opponents_from_goal_line','x','y','close_opponents','player_distance_from_goal_line','opponents_cut','team_advancement','verse').distinct()\n",
        "\n",
        "area_targets_advance_pre_final.show()"
      ]
    },
    {
      "cell_type": "code",
      "source": [
        "def singlePointOpponents(x,y,panda_locs,opponent,time_,meters_to_intercept,possess_x,possess_y,fromPossessOrToGoal):\n",
        "  \n",
        "  distance = distance = float(np.sqrt(((x-possess_x)**2)+((y-possess_y)**2)))\n",
        "  \n",
        "  if fromPossessOrToGoal != 'possess':\n",
        "    opponent_meters_run = 3.0*(float(distance)/8.0)\n",
        "  else:\n",
        "    opponent_meters_run = 2.0*(float(distance)/20.0)\n",
        "  \n",
        "  opps =  panda_locs[panda_locs['team'] == team_a.title()][panda_locs['player_id'] != 'Maignan'] #automatizzare -> team_a_goalies è in codice (p123...)\n",
        "  on_trajectory = opps[opps['time'] == time_][opps['x'] > x-meters_to_intercept-opponent_meters_run][opps['x'] < x+meters_to_intercept+opponent_meters_run][opps['y'] > y-meters_to_intercept-opponent_meters_run][opps['y'] < y+meters_to_intercept+opponent_meters_run]['player_id'].values.tolist()\n",
        " \n",
        "  return on_trajectory\n",
        "\n",
        "def interceptionOpponentsFix(player,time_,target_x,target_y,verse,panda,panda_possess,panda_possess_x_y,fromPossessOrToGoal):\n",
        "  \n",
        "  if fromPossessOrToGoal == 'possess':\n",
        "    player_possess = panda_possess[panda_possess['time'] == time_]['player_in_possess'].values.tolist()[0]\n",
        "    possess_x,possess_y = panda_possess_x_y[panda_possess_x_y['time'] == time_][['x','y']].values.tolist()[0]\n",
        "  else:\n",
        "    player_possess = panda_possess[panda_possess['time'] == time_]['player_in_possess'].values.tolist()[0][0]\n",
        "    possess_x,possess_y = team_a_goal_line[0], team_a_goal_line[1]\n",
        "  \n",
        "  distance = float(np.sqrt(((target_x-possess_x)**2)+((target_y-possess_y)**2)))\n",
        "\n",
        "  m = (possess_y-target_y)/(possess_x-target_x)\n",
        "\n",
        "  b = (possess_x*target_y - target_x*possess_y)/(possess_x-target_x)\n",
        "\n",
        "  if possess_x > target_x:\n",
        "    xs = sorted(list(np.arange(target_x,possess_x,float(possess_x-target_x)/distance)), reverse = True)\n",
        "  else:\n",
        "    xs = list(np.arange(possess_x,target_x,float(target_x-possess_x)/distance))\n",
        "\n",
        "  pre_trajectory = list(map(lambda xx: [float(xx),float((m*xx)+b)], xs))\n",
        "\n",
        "  if fromPossessOrToGoal == 'possess':\n",
        "    trajectory = pre_trajectory[:10]\n",
        "    end_trajectory = pre_trajectory[-10:]\n",
        "    interception_opponents = list(itertools.chain.from_iterable(list(map(lambda d : singlePointOpponents(d[0],d[1],panda,opponent,time_,2.0,possess_x,possess_y,fromPossessOrToGoal), trajectory))))\n",
        "    interception_opponents_no_duplicates = len(list(dict.fromkeys(interception_opponents)))\n",
        "  else:\n",
        "    trajectory = pre_trajectory[:10]\n",
        "    interception_opponents = list(itertools.chain.from_iterable(list(map(lambda d : singlePointOpponents(d[0],d[1],panda,opponent,time_,2.0,target_x,target_y,fromPossessOrToGoal), trajectory))))\n",
        "    interception_opponents_no_duplicates = len(list(interception_opponents))\n",
        "\n",
        "  if str(player) == str(player_possess):\n",
        "    possessFlag = \"Sul portatore\"\n",
        "  else:\n",
        "    possessFlag = \"\"\n",
        "  \n",
        "  pre_interception_opponents = [interception_opponents_no_duplicates]\n",
        "  \n",
        "  if fromPossessOrToGoal == 'possess':\n",
        "    close_opponents_distances = []\n",
        "    if verse == 'right_to_left':\n",
        "      opps_data = panda[panda['time'] == time_][panda['team'] == team_a.title()][panda['x'] > target_x-2.0][['player_id','x','y']].values.tolist()\n",
        "    else:\n",
        "      opps_data = panda[panda['time'] == time_][panda['team'] == team_a.title()][panda['x'] < target_x+2.0][['player_id','x','y']].values.tolist()\n",
        "  \n",
        "    for j in opps_data:\n",
        "     close_opponents_distances.append([j[0],float(np.sqrt((j[1]-target_x)**2+(j[2]-target_y)**2))])\n",
        "    \n",
        "    closest_opponent_player, closest_opponent_distance = sorted(close_opponents_distances, key=itemgetter(1))[0]\n",
        "  \n",
        "    aa_interception_opponents = pre_interception_opponents+[possess_x,possess_y,possessFlag,closest_opponent_distance,closest_opponent_player,' '.join(list(dict.fromkeys(interception_opponents)))]\n",
        "  else:\n",
        "    aa_interception_opponents = pre_interception_opponents+[' '.join(list(dict.fromkeys(list(map(lambda a : str(a[:3]),interception_opponents)))))]\n",
        "  \n",
        "  return aa_interception_opponents"
      ],
      "metadata": {
        "id": "IMEXKrFkESQe"
      },
      "execution_count": null,
      "outputs": []
    },
    {
      "cell_type": "code",
      "execution_count": null,
      "metadata": {
        "id": "tuslijapCjQV"
      },
      "outputs": [],
      "source": [
        "def singlePointOpponents(x,y,panda_locs,opponent,time_,meters_to_intercept,possess_x,possess_y,fromPossessOrToGoal):\n",
        "  \n",
        "  distance = distance = float(np.sqrt(((x-possess_x)**2)+((y-possess_y)**2)))\n",
        "  \n",
        "  if fromPossessOrToGoal != 'possess':\n",
        "    opponent_meters_run = 3.5*(float(distance)/8.0)\n",
        "  else:\n",
        "    opponent_meters_run = 2.0*(float(distance)/20.0)\n",
        "  opps =  panda_locs[panda_locs['team'] == team_a.title()][panda_locs['player_id'] != 'Maignan'] #automatizzare -> team_a_goalies è in codice (p123...)\n",
        "  on_trajectory = opps[opps['time'] == time_][opps['x'] > x-meters_to_intercept-opponent_meters_run][opps['x'] < x+meters_to_intercept+opponent_meters_run][opps['y'] > y-meters_to_intercept-opponent_meters_run][opps['y'] < y+meters_to_intercept+opponent_meters_run]['player_id'].values.tolist()\n",
        " \n",
        "  return on_trajectory\n",
        "\n",
        "\n",
        "def interceptionOpponentsFix(player,time_,target_x,target_y,verse,panda,panda_possess,panda_possess_x_y,fromPossessOrToGoal):\n",
        "  \n",
        "  if fromPossessOrToGoal == 'possess':\n",
        "    player_possess = panda_possess[panda_possess['time'] == time_]['player_in_possess'].values.tolist()[0]\n",
        "    possess_x,possess_y = panda_possess_x_y[panda_possess_x_y['time'] == time_][['x','y']].values.tolist()[0]\n",
        "  else:\n",
        "    player_possess = panda_possess[panda_possess['time'] == time_]['player_in_possess'].values.tolist()[0][0]\n",
        "    possess_x,possess_y = team_a_goal_line[0], team_a_goal_line[1]\n",
        "  \n",
        "  distance = float(np.sqrt(((target_x-possess_x)**2)+((target_y-possess_y)**2)))\n",
        "\n",
        "  m = (possess_y-target_y)/(possess_x-target_x)\n",
        "\n",
        "  b = (possess_x*target_y - target_x*possess_y)/(possess_x-target_x)\n",
        "\n",
        "  if possess_x > target_x:\n",
        "    xs = sorted(list(np.arange(target_x,possess_x,float(possess_x-target_x)/distance)), reverse = True)\n",
        "  else:\n",
        "    xs = list(np.arange(possess_x,target_x,float(target_x-possess_x)/distance))\n",
        "\n",
        "  pre_trajectory = list(map(lambda xx: [float(xx),float((m*xx)+b)], xs))\n",
        "\n",
        "  if fromPossessOrToGoal == 'possess':\n",
        "    trajectory = pre_trajectory[:10]\n",
        "    end_trajectory = pre_trajectory[-10:]\n",
        "    interception_opponents = list(itertools.chain.from_iterable(list(map(lambda d : singlePointOpponents(d[0],d[1],panda,opponent,time_,2.0,possess_x,possess_y,fromPossessOrToGoal), trajectory))))\n",
        "    interception_opponents_no_duplicates_value = len(list(interception_opponents))\n",
        "    interception_opponents_no_duplicates_players = len(list(dict.fromkeys(interception_opponents)))\n",
        "    end_interception_opponents = list(itertools.chain.from_iterable(list(map(lambda d : singlePointOpponents(d[0],d[1],panda,opponent,time_,2.0,possess_x,possess_y,fromPossessOrToGoal), end_trajectory))))\n",
        "    end_interception_opponents_no_duplicates_value = len(list(end_interception_opponents))\n",
        "    end_interception_opponents_no_duplicates_players = len(list(dict.fromkeys(end_interception_opponents)))\n",
        "  else:\n",
        "    trajectory = pre_trajectory[:10]\n",
        "    interception_opponents = list(itertools.chain.from_iterable(list(map(lambda d : singlePointOpponents(d[0],d[1],panda,opponent,time_,2.0,target_x,target_y,fromPossessOrToGoal), trajectory))))\n",
        "    interception_opponents_no_duplicates_value = len(list(interception_opponents))\n",
        "    interception_opponents_no_duplicates_players = len(list(dict.fromkeys(interception_opponents)))\n",
        "    end_interception_opponents_no_duplicates_value = 0\n",
        "    end_interception_opponents_no_duplicates_players = ''\n",
        "  if str(player) == str(player_possess):\n",
        "    possessFlag = \"Sul portatore\"\n",
        "  else:\n",
        "    possessFlag = \"\"\n",
        "  \n",
        "  pre_interception_opponents = [interception_opponents_no_duplicates_value,interception_opponents_no_duplicates_players,end_interception_opponents_no_duplicates_value,end_interception_opponents_no_duplicates_players]\n",
        "  \n",
        "  if fromPossessOrToGoal == 'possess':\n",
        "    close_opponents_distances = []\n",
        "    if verse == 'right_to_left':\n",
        "      opps_data = panda[panda['time'] == time_][panda['team'] == team_a.title()][panda['x'] > target_x-2.0][['player_id','x','y']].values.tolist()\n",
        "    else:\n",
        "      opps_data = panda[panda['time'] == time_][panda['team'] == team_a.title()][panda['x'] < target_x+2.0][['player_id','x','y']].values.tolist()\n",
        "  \n",
        "    for j in opps_data:\n",
        "     close_opponents_distances.append([j[0],float(np.sqrt((j[1]-target_x)**2+(j[2]-target_y)**2))])\n",
        "    \n",
        "    closest_opponent_player, closest_opponent_distance = sorted(close_opponents_distances, key=itemgetter(1))[0]\n",
        "  \n",
        "    aa_interception_opponents = pre_interception_opponents+[possess_x,possess_y,possessFlag,closest_opponent_distance,closest_opponent_player]\n",
        "  else:\n",
        "    aa_interception_opponents = pre_interception_opponents\n",
        "  \n",
        "  return aa_interception_opponents"
      ]
    },
    {
      "cell_type": "code",
      "source": [
        "interception_opps = spark.createDataFrame(area_targets_advance_pre_final.select('player_id','time','x','y','verse').distinct().rdd.map(lambda g : list(g)+list(interceptionOpponentsFix(g[0],g[1],g[2],g[3],g[4],panda_locs,panda_possess,panda_possess_x_y,'possess'))+list(interceptionOpponentsFix(g[0],g[1],g[2],g[3],g[4],panda_locs,panda_possess,panda_possess_x_y,'goal'))), ['player_id','time','x','y','verse','interception_opponents_value','interception_opponents_players','schermo_opponents_value','schermo_opponents_players','possess_goal_x','possess_goal_y','tipo_di_marcatura','closest_opponent_distance','closest_opponent_player','interception_players','opponents_to_goal_line','to_goal_line_players'])"
      ],
      "metadata": {
        "id": "F3QwhgGuqMAN"
      },
      "execution_count": null,
      "outputs": []
    },
    {
      "cell_type": "code",
      "source": [
        "interception_opps.where(interception_opps['time'] == 1386).show()"
      ],
      "metadata": {
        "id": "s-2TEzt6vNK0",
        "colab": {
          "base_uri": "https://localhost:8080/"
        },
        "outputId": "7a92769d-b964-4f08-cfbe-3e81a1c97aee"
      },
      "execution_count": null,
      "outputs": [
        {
          "output_type": "stream",
          "name": "stdout",
          "text": [
            "+---------+----+---+---+-----+----------------------------+------------------------------+-----------------------+-------------------------+--------------+--------------+-----------------+-------------------------+-----------------------+--------------------+----------------------+--------------------+---+\n",
            "|player_id|time|  x|  y|verse|interception_opponents_value|interception_opponents_players|schermo_opponents_value|schermo_opponents_players|possess_goal_x|possess_goal_y|tipo_di_marcatura|closest_opponent_distance|closest_opponent_player|interception_players|opponents_to_goal_line|to_goal_line_players|_18|\n",
            "+---------+----+---+---+-----+----------------------------+------------------------------+-----------------------+-------------------------+--------------+--------------+-----------------+-------------------------+-----------------------+--------------------+----------------------+--------------------+---+\n",
            "+---------+----+---+---+-----+----------------------------+------------------------------+-----------------------+-------------------------+--------------+--------------+-----------------+-------------------------+-----------------------+--------------------+----------------------+--------------------+---+\n",
            "\n"
          ]
        }
      ]
    },
    {
      "cell_type": "code",
      "source": [
        "#count e probability\n",
        "\n",
        "count_and_probs = pitch_pivot_union.groupBy('time','player_id').agg(func.count('time'),func.avg('probability')).withColumnRenamed('count(time)','Area (Mq)').withColumnRenamed('avg(probability)','Probabilità di Ricezione')\n",
        "count_and_probs.where(count_and_probs['time'].isin([289,1386])).orderBy('time').show(50)"
      ],
      "metadata": {
        "id": "ruIEEpk7t2Xz",
        "colab": {
          "base_uri": "https://localhost:8080/"
        },
        "outputId": "c6bab2cb-d683-4453-e627-cf71a38e065e"
      },
      "execution_count": null,
      "outputs": [
        {
          "output_type": "stream",
          "name": "stdout",
          "text": [
            "+----+---------+---------+------------------------+\n",
            "|time|player_id|Area (Mq)|Probabilità di Ricezione|\n",
            "+----+---------+---------+------------------------+\n",
            "+----+---------+---------+------------------------+\n",
            "\n"
          ]
        }
      ]
    },
    {
      "cell_type": "code",
      "source": [
        "duelli = positioned_players_out.join(count_and_probs,['time','player_id'])"
      ],
      "metadata": {
        "id": "vooIQzZAYVI5"
      },
      "execution_count": null,
      "outputs": []
    },
    {
      "cell_type": "code",
      "source": [
        "duelli.where(duelli['time'] == 1386).orderBy('team','posizione_x','lato').show()"
      ],
      "metadata": {
        "colab": {
          "base_uri": "https://localhost:8080/"
        },
        "id": "HnN-gmte1V23",
        "outputId": "f7dde4e5-e35c-456d-a23f-abdac8c62e00"
      },
      "execution_count": null,
      "outputs": [
        {
          "output_type": "stream",
          "name": "stdout",
          "text": [
            "+----+---------+----+---+---+-----------+-----+----+-----------+---------+------------------------+\n",
            "|time|player_id|team|  x|  y|probability|verse|lato|posizione_x|Area (Mq)|Probabilità di Ricezione|\n",
            "+----+---------+----+---+---+-----------+-----+----+-----------+---------+------------------------+\n",
            "+----+---------+----+---+---+-----------+-----+----+-----------+---------+------------------------+\n",
            "\n"
          ]
        }
      ]
    },
    {
      "cell_type": "code",
      "source": [
        "kpis = interception_opps.join(count_and_probs, ['time','player_id'])\n",
        "kpis.show()"
      ],
      "metadata": {
        "id": "1afmVO_iYa2-",
        "colab": {
          "base_uri": "https://localhost:8080/"
        },
        "outputId": "6ddd4c57-1ea9-4682-8856-f678cdccda5e"
      },
      "execution_count": null,
      "outputs": [
        {
          "output_type": "stream",
          "name": "stdout",
          "text": [
            "+------+---------+------------------+-------------------+-------------+----------------------------+------------------------------+-----------------------+-------------------------+-----------------+------------------+-----------------+-------------------------+-----------------------+--------------------+----------------------+--------------------+---+---------+------------------------+\n",
            "|  time|player_id|                 x|                  y|        verse|interception_opponents_value|interception_opponents_players|schermo_opponents_value|schermo_opponents_players|   possess_goal_x|    possess_goal_y|tipo_di_marcatura|closest_opponent_distance|closest_opponent_player|interception_players|opponents_to_goal_line|to_goal_line_players|_18|Area (Mq)|Probabilità di Ricezione|\n",
            "+------+---------+------------------+-------------------+-------------+----------------------------+------------------------------+-----------------------+-------------------------+-----------------+------------------+-----------------+-------------------------+-----------------------+--------------------+----------------------+--------------------+---+---------+------------------------+\n",
            "|4315.0|   Deiola|28.696260452270508| 2.8369269371032715|left_to_right|                           0|                             0|                      8|                        1|55.20000076293945|34.099998474121094|                 |       1.6378957565594017|                   Diaz|                   0|                     0|                   0|   |       73|       46.39715031364782|\n",
            "|4315.0|  Dalbert| 32.42937088012695| 18.611297607421875|left_to_right|                           0|                             0|                      2|                        1|55.20000076293945|34.099998474121094|                 |       3.5274435150920356|               Florenzi|                   0|                     0|                   0|   |      549|       77.76126696407856|\n",
            "|4315.0|Strootman|23.375560760498047|  9.166890144348145|left_to_right|                           0|                             0|                     10|                        3|55.20000076293945|34.099998474121094|                 |        6.408454535802438|               Bennacer|                   0|                     0|                   0|   |      121|       60.46467379297673|\n",
            "|4315.0|    Marin| 21.59626007080078|-10.300000190734863|left_to_right|                           0|                             0|                      8|                        2|55.20000076293945|34.099998474121094|                 |        4.029740320149794|                 Krunic|                   0|                     0|                   0|   |       88|       56.39003581379007|\n",
            "|4315.0|Pavoletti|0.7168816924095154|-13.496259689331055|left_to_right|                           0|                             0|                     11|                        2|55.20000076293945|34.099998474121094|                 |        3.307364199968573|                 Tomori|                   0|                     0|                   0|   |      528|       66.79955822292764|\n",
            "|4315.0|    Godin|44.627525329589844|-12.083118438720703|left_to_right|                           0|                             0|                      0|                        0|55.20000076293945|34.099998474121094|                 |       13.661235645503577|              Hernandez|                   0|                     0|                   0|   |      268|       84.43579298814518|\n",
            "|4315.0|   Nandez|31.888702392578125|-14.020622253417969|left_to_right|                           0|                             0|                      6|                        3|55.20000076293945|34.099998474121094|                 |        5.013986818989797|              Hernandez|                   0|                     0|                   0|   |       86|       63.40997697131176|\n",
            "|4315.0|    Zappa|  34.2480354309082|-17.796260833740234|left_to_right|                           0|                             0|                      7|                        1|55.20000076293945|34.099998474121094|                 |       1.8374209709584546|              Hernandez|                   0|                     0|                   0|   |      167|       55.02397863127716|\n",
            "|4315.0|  Carboni|38.900001525878906| 7.1075568199157715|left_to_right|                           0|                             0|                      0|                        0|55.20000076293945|34.099998474121094|                 |        7.294501286001073|                 Giroud|                   0|                     0|                   0|   |      251|       76.96023260944895|\n",
            "|4315.0|Radunovic| 47.80747985839844|-2.4706296920776367|left_to_right|                           0|                             0|                      0|                        0|55.20000076293945|34.099998474121094|                 |       10.936414077839078|                 Giroud|                   0|                     0|                   0|   |      197|       83.57079808946607|\n",
            "+------+---------+------------------+-------------------+-------------+----------------------------+------------------------------+-----------------------+-------------------------+-----------------+------------------+-----------------+-------------------------+-----------------------+--------------------+----------------------+--------------------+---+---------+------------------------+\n",
            "\n"
          ]
        }
      ]
    },
    {
      "cell_type": "code",
      "source": [
        "kpis_out = area_targets_advance_pre_final.drop('x').drop('y').join(kpis.drop('verse'),['time','player_id'])\n",
        "kpis_outtt = kpis_out.drop('_18')#.join(timed_roles, ['time','player_id'])\n",
        "\n",
        "kpis_outtt.show()"
      ],
      "metadata": {
        "id": "jD9fROBcaEhf",
        "colab": {
          "base_uri": "https://localhost:8080/"
        },
        "outputId": "9e9ce3ad-9cb2-4fa0-d269-c07285420916"
      },
      "execution_count": null,
      "outputs": [
        {
          "output_type": "stream",
          "name": "stdout",
          "text": [
            "+------+---------+--------+----------+------------------+--------------------------------+---------------+------------------------------+-------------+------------------+-------------+------------------+-------------------+----------------------------+------------------------------+-----------------------+-------------------------+-----------------+------------------+-----------------+-------------------------+-----------------------+--------------------+----------------------+--------------------+---------+------------------------+\n",
            "|  time|player_id|    team|area_value|     ball_distance|possess_opponents_from_goal_line|close_opponents|player_distance_from_goal_line|opponents_cut|  team_advancement|        verse|                 x|                  y|interception_opponents_value|interception_opponents_players|schermo_opponents_value|schermo_opponents_players|   possess_goal_x|    possess_goal_y|tipo_di_marcatura|closest_opponent_distance|closest_opponent_player|interception_players|opponents_to_goal_line|to_goal_line_players|Area (Mq)|Probabilità di Ricezione|\n",
            "+------+---------+--------+----------+------------------+--------------------------------+---------------+------------------------------+-------------+------------------+-------------+------------------+-------------------+----------------------------+------------------------------+-----------------------+-------------------------+-----------------+------------------+-----------------+-------------------------+-----------------------+--------------------+----------------------+--------------------+---------+------------------------+\n",
            "|4315.0|   Deiola|Cagliari|      32.0|40.985703512128126|                              11|              0|             83.89626121520996|            5|26.503740310668945|left_to_right|28.696260452270508| 2.8369269371032715|                           0|                             0|                      8|                        1|55.20000076293945|34.099998474121094|                 |       1.6378957565594017|                   Diaz|                   0|                     0|                   0|       73|       46.39715031364782|\n",
            "|4315.0|  Dalbert|Cagliari|      30.0|27.539089305896134|                              11|              0|              87.6293716430664|            3|  22.7706298828125|left_to_right| 32.42937088012695| 18.611297607421875|                           0|                             0|                      2|                        1|55.20000076293945|34.099998474121094|                 |       3.5274435150920356|               Florenzi|                   0|                     0|                   0|      549|       77.76126696407856|\n",
            "|4315.0|Strootman|Cagliari|      43.0| 40.42839191030465|                              11|              0|              78.5755615234375|            5|31.824440002441406|left_to_right|23.375560760498047|  9.166890144348145|                           0|                             0|                     10|                        3|55.20000076293945|34.099998474121094|                 |        6.408454535802438|               Bennacer|                   0|                     0|                   0|      121|       60.46467379297673|\n",
            "|4315.0|    Marin|Cagliari|      43.0| 55.68277354751384|                              11|              0|             76.79626083374023|            7| 33.60374069213867|left_to_right| 21.59626007080078|-10.300000190734863|                           0|                             0|                      8|                        2|55.20000076293945|34.099998474121094|                 |        4.029740320149794|                 Krunic|                   0|                     0|                   0|       88|       56.39003581379007|\n",
            "|4315.0|Pavoletti|Cagliari|      35.0|  72.3451038759053|                              11|              0|             55.91688245534897|           10| 54.48311907052994|left_to_right|0.7168816924095154|-13.496259689331055|                           0|                             0|                     11|                        2|55.20000076293945|34.099998474121094|                 |        3.307364199968573|                 Tomori|                   0|                     0|                   0|      528|       66.79955822292764|\n",
            "|4315.0|    Godin|Cagliari|      23.0| 47.37781679830757|                              11|              0|              99.8275260925293|            0| 10.57247543334961|left_to_right|44.627525329589844|-12.083118438720703|                           0|                             0|                      0|                        0|55.20000076293945|34.099998474121094|                 |       13.661235645503577|              Hernandez|                   0|                     0|                   0|      268|       84.43579298814518|\n",
            "|4315.0|   Nandez|Cagliari|      30.0|53.469718261046346|                              11|              0|             87.08870315551758|            4|23.311298370361328|left_to_right|31.888702392578125|-14.020622253417969|                           0|                             0|                      6|                        3|55.20000076293945|34.099998474121094|                 |        5.013986818989797|              Hernandez|                   0|                     0|                   0|       86|       63.40997697131176|\n",
            "|4315.0|    Zappa|Cagliari|      29.0|  55.9661199425458|                              11|              0|             89.44803619384766|            2| 20.95196533203125|left_to_right|  34.2480354309082|-17.796260833740234|                           0|                             0|                      7|                        1|55.20000076293945|34.099998474121094|                 |       1.8374209709584546|              Hernandez|                   0|                     0|                   0|      167|       55.02397863127716|\n",
            "|4315.0|  Carboni|Cagliari|      25.0| 31.53223559444926|                              11|              0|             94.10000228881836|            1|16.299999237060547|left_to_right|38.900001525878906| 7.1075568199157715|                           0|                             0|                      0|                        0|55.20000076293945|34.099998474121094|                 |        7.294501286001073|                 Giroud|                   0|                     0|                   0|      251|       76.96023260944895|\n",
            "|4315.0|Radunovic|Cagliari|      19.0| 37.31032309957184|                              11|              0|            103.00748062133789|            0| 7.392520904541016|left_to_right| 47.80747985839844|-2.4706296920776367|                           0|                             0|                      0|                        0|55.20000076293945|34.099998474121094|                 |       10.936414077839078|                 Giroud|                   0|                     0|                   0|      197|       83.57079808946607|\n",
            "+------+---------+--------+----------+------------------+--------------------------------+---------------+------------------------------+-------------+------------------+-------------+------------------+-------------------+----------------------------+------------------------------+-----------------------+-------------------------+-----------------+------------------+-----------------+-------------------------+-----------------------+--------------------+----------------------+--------------------+---------+------------------------+\n",
            "\n"
          ]
        }
      ]
    },
    {
      "cell_type": "code",
      "execution_count": null,
      "metadata": {
        "id": "e9nx2-hqCjQW",
        "colab": {
          "base_uri": "https://localhost:8080/",
          "height": 143
        },
        "outputId": "ec681176-1846-4ce8-9de2-8b4ce6047865"
      },
      "outputs": [
        {
          "output_type": "execute_result",
          "data": {
            "text/plain": [
              "\"\\n# area_value\\narea_targets_advance_pre_final_area_value = area_targets_advance_pre_final.groupBy('player_id','time').agg(func.avg('area_value'),func.max('area_value')).withColumnRenamed('avg(area_value)','avg_area_value').withColumnRenamed('max(area_value)','max').withColumn('kpi', lit('area_value')).fillna(0.0)\\narea_targets_advance_pre_final_area_value = area_targets_advance_pre_final_area_value.withColumn('area_value_index', (0.45*area_targets_advance_pre_final_area_value['avg_area_value']+0.55*area_targets_advance_pre_final_area_value['max'])).select('player_id','time','avg_area_value','area_value_index')\\n# opponents_cut\\narea_targets_advance_pre_final_opponents_cut = area_targets_advance_pre_final.groupBy('player_id','time').agg(func.avg('opponents_cut'),func.max('opponents_cut')).withColumnRenamed('avg(opponents_cut)','avg_opponents_cut').withColumnRenamed('max(opponents_cut)','max').withColumn('kpi', lit('opponents_cut')).fillna(0.0)\\narea_targets_advance_pre_final_opponents_cut = area_targets_advance_pre_final_opponents_cut.withColumn('opponents_cut_index', (0.45*area_targets_advance_pre_final_opponents_cut['avg_opponents_cut']+0.55*area_targets_advance_pre_final_opponents_cut['max'])).select('player_id','time','avg_opponents_cut','opponents_cut_index')\\n\\n# percentage_zone_in_control\\n#area_targets_advance_pre_final_percentage_zone_in_control = area_targets_advance_pre_final.groupBy('player_id','time').agg(func.avg('percentage_zone_in_control'),func.max('percentage_zone_in_control')).withColumnRenamed('avg(percentage_zone_in_control)','avg').withColumnRenamed('max(percentage_zone_in_control)','max').withColumn('kpi', lit('percentage_zone_in_control'))\\n#area_targets_advance_pre_final_percentage_zone_in_control = area_targets_advance_pre_final_percentage_zone_in_control.withColumn('percentage_zone_in_control_index', func.log((1+(0.45*area_targets_advance_pre_final_percentage_zone_in_control['avg']+0.55*area_targets_advance_pre_final_percentage_zone_in_control['max']))/area_targets_advance_pre_final_percentage_zone_in_control['avg'])).select('player_id','time','percentage_zone_in_control_index')\\n\\n# team_advancement\\narea_targets_advance_pre_final_team_advancement = area_targets_advance_pre_final.groupBy('player_id','time').agg(func.avg('team_advancement'),func.max('team_advancement')).withColumnRenamed('avg(team_advancement)','avg_team_advancement').withColumnRenamed('max(team_advancement)','max').withColumn('kpi', lit('team_advancement')).fillna(0.0)\\narea_targets_advance_pre_final_team_advancement = area_targets_advance_pre_final_team_advancement.withColumn('team_advancement_index', (0.45*area_targets_advance_pre_final_team_advancement['avg_team_advancement']+0.55*area_targets_advance_pre_final_team_advancement['max'])).select('player_id','time','avg_team_advancement','team_advancement_index')\\n# distance_from_target\\narea_targets_advance_pre_final_distance_from_target = area_targets_advance_pre_final.groupBy('player_id','time').agg(func.avg('distance_from_target'),func.max('distance_from_target')).withColumnRenamed('avg(distance_from_target)','avg_distance_from_target').withColumnRenamed('max(distance_from_target)','max').withColumn('kpi', lit('distance_from_target')).fillna(0.0)\\narea_targets_advance_pre_final_distance_from_target = area_targets_advance_pre_final_distance_from_target.withColumn('distance_from_target_index', (0.45*area_targets_advance_pre_final_distance_from_target['avg_distance_from_target']+0.55*area_targets_advance_pre_final_distance_from_target['max'])).select('player_id','time','distance_from_target_index')\\n# probability\\narea_targets_advance_pre_final_probability = area_targets_advance_pre_final.groupBy('player_id','time').agg(func.avg('probability'),func.max('probability')).withColumnRenamed('avg(probability)','avg_probability').withColumnRenamed('max(probability)','max').withColumn('kpi', lit('probability')).fillna(0.0)\\narea_targets_advance_pre_final_probability = area_targets_advance_pre_final_probability.withColumn('probability_index', (0.45*area_targets_advance_pre_final_probability['avg_probability']+0.55*area_targets_advance_pre_final_probability['max'])).select('player_id','time','avg_probability','probability_index')\\n# ball_distance\\narea_targets_advance_pre_final_ball_distance = area_targets_advance_pre_final.groupBy('player_id','time').agg(func.avg('ball_distance'),func.max('ball_distance')).withColumnRenamed('avg(ball_distance)','avg_ball_distance').withColumnRenamed('max(ball_distance)','max').withColumn('kpi', lit('ball_distance')).fillna(0.0)\\narea_targets_advance_pre_final_ball_distance = area_targets_advance_pre_final_ball_distance.withColumn('ball_distance_index', (0.45*area_targets_advance_pre_final_ball_distance['avg_ball_distance']+0.55*area_targets_advance_pre_final_ball_distance['max'])).select('player_id','time','avg_ball_distance','ball_distance_index')\\n\\ncount = area_targets_advance_pre_final.groupBy('player_id','time').count()\\n\\nkpis = area_targets_advance_pre_final_area_value.join(count,['player_id','time']).join(area_targets_advance_pre_final_opponents_cut, ['player_id','time']).join(area_targets_advance_pre_final_team_advancement, ['player_id','time']).join(area_targets_advance_pre_final_distance_from_target, ['player_id','time']).join(area_targets_advance_pre_final_probability, ['player_id','time']).join(area_targets_advance_pre_final_ball_distance, ['player_id','time'])\\n\""
            ],
            "application/vnd.google.colaboratory.intrinsic+json": {
              "type": "string"
            }
          },
          "metadata": {},
          "execution_count": 497
        }
      ],
      "source": [
        "'''\n",
        "# area_value\n",
        "area_targets_advance_pre_final_area_value = area_targets_advance_pre_final.groupBy('player_id','time').agg(func.avg('area_value'),func.max('area_value')).withColumnRenamed('avg(area_value)','avg_area_value').withColumnRenamed('max(area_value)','max').withColumn('kpi', lit('area_value')).fillna(0.0)\n",
        "area_targets_advance_pre_final_area_value = area_targets_advance_pre_final_area_value.withColumn('area_value_index', (0.45*area_targets_advance_pre_final_area_value['avg_area_value']+0.55*area_targets_advance_pre_final_area_value['max'])).select('player_id','time','avg_area_value','area_value_index')\n",
        "# opponents_cut\n",
        "area_targets_advance_pre_final_opponents_cut = area_targets_advance_pre_final.groupBy('player_id','time').agg(func.avg('opponents_cut'),func.max('opponents_cut')).withColumnRenamed('avg(opponents_cut)','avg_opponents_cut').withColumnRenamed('max(opponents_cut)','max').withColumn('kpi', lit('opponents_cut')).fillna(0.0)\n",
        "area_targets_advance_pre_final_opponents_cut = area_targets_advance_pre_final_opponents_cut.withColumn('opponents_cut_index', (0.45*area_targets_advance_pre_final_opponents_cut['avg_opponents_cut']+0.55*area_targets_advance_pre_final_opponents_cut['max'])).select('player_id','time','avg_opponents_cut','opponents_cut_index')\n",
        "\n",
        "# percentage_zone_in_control\n",
        "#area_targets_advance_pre_final_percentage_zone_in_control = area_targets_advance_pre_final.groupBy('player_id','time').agg(func.avg('percentage_zone_in_control'),func.max('percentage_zone_in_control')).withColumnRenamed('avg(percentage_zone_in_control)','avg').withColumnRenamed('max(percentage_zone_in_control)','max').withColumn('kpi', lit('percentage_zone_in_control'))\n",
        "#area_targets_advance_pre_final_percentage_zone_in_control = area_targets_advance_pre_final_percentage_zone_in_control.withColumn('percentage_zone_in_control_index', func.log((1+(0.45*area_targets_advance_pre_final_percentage_zone_in_control['avg']+0.55*area_targets_advance_pre_final_percentage_zone_in_control['max']))/area_targets_advance_pre_final_percentage_zone_in_control['avg'])).select('player_id','time','percentage_zone_in_control_index')\n",
        "\n",
        "# team_advancement\n",
        "area_targets_advance_pre_final_team_advancement = area_targets_advance_pre_final.groupBy('player_id','time').agg(func.avg('team_advancement'),func.max('team_advancement')).withColumnRenamed('avg(team_advancement)','avg_team_advancement').withColumnRenamed('max(team_advancement)','max').withColumn('kpi', lit('team_advancement')).fillna(0.0)\n",
        "area_targets_advance_pre_final_team_advancement = area_targets_advance_pre_final_team_advancement.withColumn('team_advancement_index', (0.45*area_targets_advance_pre_final_team_advancement['avg_team_advancement']+0.55*area_targets_advance_pre_final_team_advancement['max'])).select('player_id','time','avg_team_advancement','team_advancement_index')\n",
        "# distance_from_target\n",
        "area_targets_advance_pre_final_distance_from_target = area_targets_advance_pre_final.groupBy('player_id','time').agg(func.avg('distance_from_target'),func.max('distance_from_target')).withColumnRenamed('avg(distance_from_target)','avg_distance_from_target').withColumnRenamed('max(distance_from_target)','max').withColumn('kpi', lit('distance_from_target')).fillna(0.0)\n",
        "area_targets_advance_pre_final_distance_from_target = area_targets_advance_pre_final_distance_from_target.withColumn('distance_from_target_index', (0.45*area_targets_advance_pre_final_distance_from_target['avg_distance_from_target']+0.55*area_targets_advance_pre_final_distance_from_target['max'])).select('player_id','time','distance_from_target_index')\n",
        "# probability\n",
        "area_targets_advance_pre_final_probability = area_targets_advance_pre_final.groupBy('player_id','time').agg(func.avg('probability'),func.max('probability')).withColumnRenamed('avg(probability)','avg_probability').withColumnRenamed('max(probability)','max').withColumn('kpi', lit('probability')).fillna(0.0)\n",
        "area_targets_advance_pre_final_probability = area_targets_advance_pre_final_probability.withColumn('probability_index', (0.45*area_targets_advance_pre_final_probability['avg_probability']+0.55*area_targets_advance_pre_final_probability['max'])).select('player_id','time','avg_probability','probability_index')\n",
        "# ball_distance\n",
        "area_targets_advance_pre_final_ball_distance = area_targets_advance_pre_final.groupBy('player_id','time').agg(func.avg('ball_distance'),func.max('ball_distance')).withColumnRenamed('avg(ball_distance)','avg_ball_distance').withColumnRenamed('max(ball_distance)','max').withColumn('kpi', lit('ball_distance')).fillna(0.0)\n",
        "area_targets_advance_pre_final_ball_distance = area_targets_advance_pre_final_ball_distance.withColumn('ball_distance_index', (0.45*area_targets_advance_pre_final_ball_distance['avg_ball_distance']+0.55*area_targets_advance_pre_final_ball_distance['max'])).select('player_id','time','avg_ball_distance','ball_distance_index')\n",
        "\n",
        "count = area_targets_advance_pre_final.groupBy('player_id','time').count()\n",
        "\n",
        "kpis = area_targets_advance_pre_final_area_value.join(count,['player_id','time']).join(area_targets_advance_pre_final_opponents_cut, ['player_id','time']).join(area_targets_advance_pre_final_team_advancement, ['player_id','time']).join(area_targets_advance_pre_final_distance_from_target, ['player_id','time']).join(area_targets_advance_pre_final_probability, ['player_id','time']).join(area_targets_advance_pre_final_ball_distance, ['player_id','time'])\n",
        "'''"
      ]
    },
    {
      "cell_type": "code",
      "source": [
        "duelli_path = 'duelli_'+name_path\n",
        "duelli_path"
      ],
      "metadata": {
        "colab": {
          "base_uri": "https://localhost:8080/",
          "height": 35
        },
        "id": "t_z1YlJXYpCC",
        "outputId": "09df4248-6423-4514-8a33-a7a6cbf4e53e"
      },
      "execution_count": null,
      "outputs": [
        {
          "output_type": "execute_result",
          "data": {
            "text/plain": [
              "'duelli_milan_cagliari_second_half_2_all'"
            ],
            "application/vnd.google.colaboratory.intrinsic+json": {
              "type": "string"
            }
          },
          "metadata": {},
          "execution_count": 498
        }
      ]
    },
    {
      "cell_type": "code",
      "source": [
        "temp_path = \"/content/drive/MyDrive/Colab Notebooks/FootballDataAnalysis/data/Milan-Cagliari/parquet/__temp\"\n",
        "target_path = \"/content/drive/MyDrive/Colab Notebooks/FootballDataAnalysis/data/Milan-Cagliari/parquet/\"+duelli_path+\".csv\"\n",
        "\n",
        "duelli.coalesce(1).write.mode(\"overwrite\").option('delimiter',',').option('header','true').csv(temp_path)\n",
        "\n",
        "Path = spark.sparkContext._gateway.jvm.org.apache.hadoop.fs.Path\n",
        "\n",
        "# get the part file generated by spark write\n",
        "fs = Path(temp_path).getFileSystem(spark.sparkContext._jsc.hadoopConfiguration())\n",
        "csv_part_file = fs.globStatus(Path(temp_path + \"/part*\"))[0].getPath()\n",
        "\n",
        "# move and rename the file\n",
        "fs.rename(csv_part_file, Path(target_path))\n",
        "fs.delete(Path(temp_path), True)"
      ],
      "metadata": {
        "colab": {
          "base_uri": "https://localhost:8080/"
        },
        "id": "9OXu9xXfYtyK",
        "outputId": "92d95aff-4b9b-4375-f0e8-b37eb901bd84"
      },
      "execution_count": null,
      "outputs": [
        {
          "output_type": "execute_result",
          "data": {
            "text/plain": [
              "True"
            ]
          },
          "metadata": {},
          "execution_count": 499
        }
      ]
    },
    {
      "cell_type": "code",
      "execution_count": null,
      "metadata": {
        "colab": {
          "base_uri": "https://localhost:8080/",
          "height": 35
        },
        "id": "ooozrx1deQv9",
        "outputId": "a8ff7dfa-f73a-4529-bf11-44c140fe832d"
      },
      "outputs": [
        {
          "output_type": "execute_result",
          "data": {
            "text/plain": [
              "'pitch_control_2_milan_cagliari_second_half_2_all'"
            ],
            "application/vnd.google.colaboratory.intrinsic+json": {
              "type": "string"
            }
          },
          "metadata": {},
          "execution_count": 500
        }
      ],
      "source": [
        "new_path = 'pitch_control_2_'+name_path\n",
        "new_path"
      ]
    },
    {
      "cell_type": "code",
      "execution_count": null,
      "metadata": {
        "id": "Ch0NDnUUeQEv"
      },
      "outputs": [],
      "source": [
        "temp_path = \"/content/drive/MyDrive/Colab Notebooks/FootballDataAnalysis/data/Milan-Cagliari/parquet/__temp\"\n",
        "target_path = \"/content/drive/MyDrive/Colab Notebooks/FootballDataAnalysis/data/Milan-Cagliari/parquet/\"+new_path+\".csv\"\n",
        "\n",
        "out.coalesce(1).write.mode(\"overwrite\").option('delimiter',',').option('header','true').csv(temp_path)\n",
        "\n",
        "Path = spark.sparkContext._gateway.jvm.org.apache.hadoop.fs.Path\n",
        "\n",
        "# get the part file generated by spark write\n",
        "fs = Path(temp_path).getFileSystem(spark.sparkContext._jsc.hadoopConfiguration())\n",
        "csv_part_file = fs.globStatus(Path(temp_path + \"/part*\"))[0].getPath()\n",
        "\n",
        "# move and rename the file\n",
        "fs.rename(csv_part_file, Path(target_path))\n",
        "fs.delete(Path(temp_path), True)"
      ]
    },
    {
      "cell_type": "code",
      "execution_count": null,
      "metadata": {
        "id": "aWGo6qN7vpto"
      },
      "outputs": [],
      "source": [
        "new_path_k = 'kpis_new_'+name_path\n",
        "new_path_k"
      ]
    },
    {
      "cell_type": "code",
      "execution_count": null,
      "metadata": {
        "id": "fFFPRFUEvkuI"
      },
      "outputs": [],
      "source": [
        "temp_path = \"/content/drive/MyDrive/Colab Notebooks/FootballDataAnalysis/data/Milan-Cagliari/parquet/__temp_k\"\n",
        "target_path = \"/content/drive/MyDrive/Colab Notebooks/FootballDataAnalysis/data/Milan-Cagliari/parquet/\"+new_path_k+\".csv\"\n",
        "\n",
        "kpis_out.coalesce(1).write.mode(\"overwrite\").option('delimiter',',').option('header','true').csv(temp_path)\n",
        "\n",
        "Path = spark.sparkContext._gateway.jvm.org.apache.hadoop.fs.Path\n",
        "\n",
        "# get the part file generated by spark write\n",
        "fs = Path(temp_path).getFileSystem(spark.sparkContext._jsc.hadoopConfiguration())\n",
        "csv_part_file = fs.globStatus(Path(temp_path + \"/part*\"))[0].getPath()\n",
        "\n",
        "# move and rename the file\n",
        "fs.rename(csv_part_file, Path(target_path))\n",
        "fs.delete(Path(temp_path), True)"
      ]
    }
  ],
  "metadata": {
    "application/vnd.databricks.v1+notebook": {
      "dashboards": [],
      "language": "python",
      "notebookMetadata": {
        "pythonIndentUnit": 2
      },
      "notebookName": "pitch control acm_marcature2",
      "notebookOrigID": 2181076884138504,
      "widgets": {
        "half": {
          "currentValue": "second half",
          "nuid": "9100d9ab-5d86-465a-b50c-ec6757f5f609",
          "widgetInfo": {
            "defaultValue": "",
            "label": "half",
            "name": "half",
            "options": {
              "validationRegex": null,
              "widgetType": "text"
            },
            "widgetType": "text"
          }
        },
        "half_split": {
          "currentValue": "2",
          "nuid": "11e656a7-c134-42c7-b645-826188b251ec",
          "widgetInfo": {
            "defaultValue": "",
            "label": "half_split",
            "name": "half_split",
            "options": {
              "validationRegex": null,
              "widgetType": "text"
            },
            "widgetType": "text"
          }
        },
        "opponent": {
          "currentValue": "milan",
          "nuid": "15d4b4b6-3324-49c0-b37c-a3371f3ba3af",
          "widgetInfo": {
            "defaultValue": "",
            "label": "opponent",
            "name": "opponent",
            "options": {
              "validationRegex": null,
              "widgetType": "text"
            },
            "widgetType": "text"
          }
        },
        "player_in_possess": {
          "currentValue": "all",
          "nuid": "df09226f-9c1e-4c8d-b251-952429737c66",
          "widgetInfo": {
            "defaultValue": "",
            "label": "player_in_possess",
            "name": "player_in_possess",
            "options": {
              "validationRegex": null,
              "widgetType": "text"
            },
            "widgetType": "text"
          }
        },
        "team": {
          "currentValue": "cagliari",
          "nuid": "152ca9c4-2757-43d1-8484-46be149a2b90",
          "widgetInfo": {
            "defaultValue": "team",
            "label": null,
            "name": "team",
            "options": {
              "validationRegex": null,
              "widgetType": "text"
            },
            "widgetType": "text"
          }
        }
      }
    },
    "colab": {
      "collapsed_sections": [],
      "name": "pitch control acm_marcature2.ipynb",
      "provenance": [],
      "include_colab_link": true
    },
    "kernelspec": {
      "display_name": "Python 3",
      "language": "python",
      "name": "python3"
    },
    "language_info": {
      "codemirror_mode": {
        "name": "ipython",
        "version": 3
      },
      "file_extension": ".py",
      "mimetype": "text/x-python",
      "name": "python",
      "nbconvert_exporter": "python",
      "pygments_lexer": "ipython3",
      "version": "3.7.6"
    },
    "name": "test_competitive_prob",
    "notebookId": 4095711113381694
  },
  "nbformat": 4,
  "nbformat_minor": 0
}