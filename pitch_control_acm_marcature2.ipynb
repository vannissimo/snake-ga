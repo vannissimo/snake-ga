{
  "cells": [
    {
      "cell_type": "markdown",
      "metadata": {
        "id": "view-in-github",
        "colab_type": "text"
      },
      "source": [
        "<a href=\"https://colab.research.google.com/github/vannissimo/snake-ga/blob/master/pitch_control_acm_marcature2.ipynb\" target=\"_parent\"><img src=\"https://colab.research.google.com/assets/colab-badge.svg\" alt=\"Open In Colab\"/></a>"
      ]
    },
    {
      "cell_type": "code",
      "execution_count": 1,
      "metadata": {
        "id": "Lw4VKDKaCnnl"
      },
      "outputs": [],
      "source": [
        "!apt-get install openjdk-8-jdk-headless -qq > /dev/null\n",
        "!wget -q https://archive.apache.org/dist/spark/spark-3.0.0/spark-3.0.0-bin-hadoop3.2.tgz\n",
        "!tar xf spark-3.0.0-bin-hadoop3.2.tgz"
      ]
    },
    {
      "cell_type": "code",
      "execution_count": 2,
      "metadata": {
        "id": "UTeHfSUNCph1"
      },
      "outputs": [],
      "source": [
        "import os\n",
        "os.environ[\"JAVA_HOME\"] = \"/usr/lib/jvm/java-8-openjdk-amd64\"\n",
        "os.environ[\"SPARK_HOME\"] = \"/content/spark-3.0.0-bin-hadoop3.2\"\n",
        "# install findspark using pip\n",
        "!pip install -q findspark"
      ]
    },
    {
      "cell_type": "code",
      "execution_count": 3,
      "metadata": {
        "id": "k2k4Rs0iCq9Z"
      },
      "outputs": [],
      "source": [
        "import findspark\n",
        "findspark.init()"
      ]
    },
    {
      "cell_type": "code",
      "execution_count": 4,
      "metadata": {
        "id": "JWfLHgTiCs2U"
      },
      "outputs": [],
      "source": [
        "from pyspark.sql import SparkSession\n",
        "\n",
        "spark = SparkSession.builder\\\n",
        "        .master(\"local\")\\\n",
        "        .appName(\"Colab\")\\\n",
        "        .config('spark.ui.port', '4050')\\\n",
        "        .getOrCreate()"
      ]
    },
    {
      "cell_type": "code",
      "execution_count": 5,
      "metadata": {
        "id": "x1a3p6LcCjQG"
      },
      "outputs": [],
      "source": [
        "import numpy as np\n",
        "from bisect import bisect\n",
        "from pyspark.sql import functions as func\n",
        "from pyspark.sql.types import IntegerType, DoubleType\n",
        "from pyspark.sql.functions import concat,col,lit,desc\n",
        "from operator import itemgetter\n",
        "import itertools \n",
        "from bisect import bisect\n",
        "import pandas as pd"
      ]
    },
    {
      "cell_type": "code",
      "execution_count": 6,
      "metadata": {
        "colab": {
          "base_uri": "https://localhost:8080/",
          "height": 35
        },
        "id": "QrtWUrK8DM79",
        "outputId": "f99337b1-d874-4bc4-e658-4960078b323f"
      },
      "outputs": [
        {
          "output_type": "execute_result",
          "data": {
            "text/plain": [
              "'milan_cagliari_first_half_1_all'"
            ],
            "application/vnd.google.colaboratory.intrinsic+json": {
              "type": "string"
            }
          },
          "metadata": {},
          "execution_count": 6
        }
      ],
      "source": [
        "team = team_a = 'milan'\n",
        "opponent = 'cagliari'\n",
        "half = 'first half'\n",
        "half_split = '1'\n",
        "player_in_possess = 'all'\n",
        "secondi_di_differenza_giocatori_eventi = {'cagliari':-2}\n",
        "\n",
        "name_path = team +\"_\"+str(opponent)+\"_\"+str(half).replace(' ','_')+\"_\"+str(half_split)+\"_\"+player_in_possess\n",
        "\n",
        "name_path"
      ]
    },
    {
      "cell_type": "code",
      "execution_count": 7,
      "metadata": {
        "colab": {
          "base_uri": "https://localhost:8080/"
        },
        "id": "rNAybDY3Dufi",
        "outputId": "113ddaf8-f980-445c-95da-1957f8344673"
      },
      "outputs": [
        {
          "output_type": "stream",
          "name": "stdout",
          "text": [
            "Drive already mounted at /content/drive; to attempt to forcibly remount, call drive.mount(\"/content/drive\", force_remount=True).\n"
          ]
        }
      ],
      "source": [
        "# mount your drive\n",
        "from google.colab import drive\n",
        "drive.mount('/content/drive')"
      ]
    },
    {
      "cell_type": "code",
      "execution_count": 8,
      "metadata": {
        "colab": {
          "base_uri": "https://localhost:8080/"
        },
        "id": "62TEo9I-C4fN",
        "outputId": "860c246c-34c4-4750-f3eb-8e82a319fc7d"
      },
      "outputs": [
        {
          "output_type": "stream",
          "name": "stdout",
          "text": [
            "+------+-------------+-------------+-------------+-------------+\n",
            "|  time|min(target_x)|max(target_x)|min(target_y)|max(target_y)|\n",
            "+------+-------------+-------------+-------------+-------------+\n",
            "| 919.0|        -55.0|         54.0|        -35.0|         36.0|\n",
            "|1362.0|        -55.0|         51.0|        -37.0|         36.0|\n",
            "| 383.0|        -55.0|         27.0|        -37.0|         36.0|\n",
            "| 609.0|        -55.0|         30.0|        -37.0|         36.0|\n",
            "|1386.0|        -55.0|         54.0|        -37.0|         36.0|\n",
            "|1198.0|        -55.0|         22.0|        -37.0|         36.0|\n",
            "|1188.0|        -55.0|         35.0|        -37.0|         36.0|\n",
            "| 138.0|        -55.0|         43.0|        -37.0|         36.0|\n",
            "| 401.0|        -55.0|         23.0|        -37.0|         36.0|\n",
            "| 289.0|        -55.0|         45.0|        -37.0|         36.0|\n",
            "|  40.0|        -55.0|         45.0|        -30.0|         36.0|\n",
            "+------+-------------+-------------+-------------+-------------+\n",
            "\n"
          ]
        }
      ],
      "source": [
        "# loading data as parquet\n",
        "pre_data_players = spark.read.parquet(\"/content/drive/MyDrive/Colab Notebooks/FootballDataAnalysis/data/Milan-Cagliari/parquet/frames_milan_cagliari.parquet\").drop('index')\n",
        "\n",
        "pre_pre_df = spark.read.csv('/content/drive/MyDrive/Colab Notebooks/FootballDataAnalysis/data/Milan-Cagliari/parquet/' + 'pitch_control_' + name_path + '.csv',header='True')\n",
        "pre_pre_df = pre_pre_df.withColumn('x', pre_pre_df['x'].cast(DoubleType())).withColumn('y', pre_pre_df['y'].cast(DoubleType())).withColumn('target_y', pre_pre_df['target_y'].cast(DoubleType())).withColumn('target_x', pre_pre_df['target_x'].cast(DoubleType()))\n",
        "\n",
        "pre_pre_df.where(pre_pre_df['target_x'] > -999).where(pre_pre_df['target_y'] < 9999).groupBy('time').agg(func.min('target_x'),func.max('target_x'),func.min('target_y'),func.max('target_y')).show()"
      ]
    },
    {
      "cell_type": "code",
      "source": [
        "pre_data_players.show(3)"
      ],
      "metadata": {
        "id": "Z3ijITxime44",
        "colab": {
          "base_uri": "https://localhost:8080/"
        },
        "outputId": "1304644d-c2b0-48d1-a574-8d664aa2c5c5"
      },
      "execution_count": 9,
      "outputs": [
        {
          "output_type": "stream",
          "name": "stdout",
          "text": [
            "+---------+----------+---------+------+----------+-----------+-------+---------+---------+--------------------+----------+-------------+\n",
            "|      Vel|         x|        y|  Time|    player|       half|team_id|team_name|player_id|        italian_name|  position|real_position|\n",
            "+---------+----------+---------+------+----------+-----------+-------+---------+---------+--------------------+----------+-------------+\n",
            "|      0.0|       0.9|     33.2|5594.5|Castillejo|second half|   t120|    Milan|  p193449|samuel castillejo...|Midfielder|       Winger|\n",
            "| 2.022165|0.83794284|     32.8|5594.7|Castillejo|second half|   t120|    Milan|  p193449|samuel castillejo...|Midfielder|       Winger|\n",
            "|2.2488973|       0.8|32.578335|5594.8|Castillejo|second half|   t120|    Milan|  p193449|samuel castillejo...|Midfielder|       Winger|\n",
            "+---------+----------+---------+------+----------+-----------+-------+---------+---------+--------------------+----------+-------------+\n",
            "only showing top 3 rows\n",
            "\n"
          ]
        }
      ]
    },
    {
      "cell_type": "code",
      "execution_count": 10,
      "metadata": {
        "id": "fY8iLNseCjQJ"
      },
      "outputs": [],
      "source": [
        "#create parameters input boxes (Databricks)\n",
        "\n",
        "if opponent == 'milan':\n",
        "  opponent_f = team_a\n",
        "else:\n",
        "  opponent_f = opponent"
      ]
    },
    {
      "cell_type": "code",
      "execution_count": 11,
      "metadata": {
        "id": "5NJz5il_CjQK"
      },
      "outputs": [],
      "source": [
        "from pyspark.sql import functions as func\n",
        "\n",
        "pre_data_players = pre_data_players.withColumnRenamed('team_name','team').withColumnRenamed('position','role')\n",
        "\n",
        "min_half_time, max_half_time = pre_data_players.where(pre_data_players['half'] == half).groupBy('half').agg(func.min('time'),func.max('time')).collect()[0][1:]\n",
        "\n",
        "if half_split == '1':\n",
        "  data_players = pre_data_players.where((pre_data_players['time'] > min_half_time) & (pre_data_players['time'] <= min_half_time+float((max_half_time-min_half_time)/2.0)))\n",
        "  \n",
        "elif half_split == '2':\n",
        "  data_players = pre_data_players.where((pre_data_players['time'] > min_half_time+float((max_half_time-min_half_time)/2.0)) & (pre_data_players['time'] < max_half_time))\n"
      ]
    },
    {
      "cell_type": "code",
      "execution_count": 12,
      "metadata": {
        "colab": {
          "base_uri": "https://localhost:8080/"
        },
        "id": "eovICDbyCjQL",
        "outputId": "e91d627d-bb8f-4174-96ed-9fc3efab742d"
      },
      "outputs": [
        {
          "output_type": "execute_result",
          "data": {
            "text/plain": [
              "('p129487', 'p213535', 33.22888834675131)"
            ]
          },
          "metadata": {},
          "execution_count": 12
        }
      ],
      "source": [
        "from operator import itemgetter\n",
        "from pyspark.sql import functions as func\n",
        "from pyspark.sql.functions import lit\n",
        "\n",
        "import itertools \n",
        "import bisect\n",
        "import numpy as np\n",
        "from pyspark.sql.types import DoubleType\n",
        "import pandas as pd\n",
        "\n",
        "team_a_lower = team_a.lower()\n",
        "granularity = 0.5\n",
        "max_ball_distance = 70.0\n",
        "max_meters_distance_player_can_receive_ball = 30.0\n",
        "opponent_lower = opponent.lower()\n",
        "\n",
        "team_a_goalies = data_players.where(data_players['team'] == team_a.title()).where(data_players['role'] == 'Goalkeeper').select('player_id').distinct().collect()[0]['player_id']\n",
        "opponent_goalies = data_players.where(data_players['team'] == opponent.title()).where(data_players['role'] == 'Goalkeeper').select('player_id').distinct().collect()[0]['player_id']\n",
        "\n",
        "goalie_x = data_players.where(data_players['team'] == team_a.title()).where(data_players['role'] == 'Goalkeeper').groupBy('role').avg('x').rdd.max()[1]\n",
        "\n",
        "team_a_goalies,opponent_goalies,goalie_x"
      ]
    },
    {
      "cell_type": "code",
      "execution_count": 13,
      "metadata": {
        "colab": {
          "base_uri": "https://localhost:8080/"
        },
        "id": "29gYo_oACjQM",
        "outputId": "a9629618-febd-4d27-8299-c9a49ef4e215"
      },
      "outputs": [
        {
          "output_type": "execute_result",
          "data": {
            "text/plain": [
              "('p129487', 'right_to_left')"
            ]
          },
          "metadata": {},
          "execution_count": 13
        }
      ],
      "source": [
        "min_x = data_players.select('x').rdd.min()[0]\n",
        "max_x = data_players.select('x').rdd.max()[0]\n",
        "min_y = data_players.select('y').rdd.min()[0]\n",
        "max_y = data_players.select('y').rdd.max()[0]\n",
        "\n",
        "x_lines = list(np.arange(int(min_x)-1,int(max_x)+1,float(max_x-min_x)/6.0))\n",
        "y_lines = list(np.arange(int(min_y)-1,int(max_y)+1,float(max_y-min_y)/4.0))\n",
        "\n",
        "mid_x, mid_y = x_lines[3], float(y_lines[2])\n",
        "\n",
        "if float(np.abs(goalie_x - max_x)) < float(np.abs(goalie_x - min_x)):\n",
        "  verse = 'right_to_left'\n",
        "  opponent_verse = 'left_to_right'\n",
        "else:\n",
        "  verse = 'left_to_right'\n",
        "  opponent_verse = 'right_to_left'\n",
        "\n",
        "team_a_goalies,verse"
      ]
    },
    {
      "cell_type": "code",
      "execution_count": 14,
      "metadata": {
        "id": "YjorMQkpCjQN"
      },
      "outputs": [],
      "source": [
        "pre_pre_df = pre_pre_df.withColumn('time', pre_pre_df['time'].cast(DoubleType()))"
      ]
    },
    {
      "cell_type": "code",
      "execution_count": 15,
      "metadata": {
        "colab": {
          "base_uri": "https://localhost:8080/"
        },
        "id": "ByKtT31eCjQO",
        "outputId": "377f8548-9a5e-4b1e-abe2-1f3427405930"
      },
      "outputs": [
        {
          "output_type": "execute_result",
          "data": {
            "text/plain": [
              "[40.0,\n",
              " 138.0,\n",
              " 289.0,\n",
              " 383.0,\n",
              " 401.0,\n",
              " 609.0,\n",
              " 919.0,\n",
              " 1188.0,\n",
              " 1198.0,\n",
              " 1362.0,\n",
              " 1386.0]"
            ]
          },
          "metadata": {},
          "execution_count": 15
        }
      ],
      "source": [
        "possess = pre_pre_df.where(pre_pre_df['target_x'] < -950).select('player_id','team','time','x','y').distinct().withColumnRenamed('player_id','player_in_possess').withColumnRenamed('team','team_in_possess')\n",
        "\n",
        "timings = sorted(possess.select('time').rdd.map(lambda a : a[0]).collect())\n",
        "timings"
      ]
    },
    {
      "cell_type": "code",
      "execution_count": 16,
      "metadata": {
        "id": "7Ej-AX39CjQO"
      },
      "outputs": [],
      "source": [
        "pre_pre_df = pre_pre_df.where(pre_pre_df['target_x'] > -999)\n",
        "df = pre_pre_df.distinct()"
      ]
    },
    {
      "cell_type": "code",
      "source": [
        "pre_pre_df.groupBy('team').count().show()"
      ],
      "metadata": {
        "colab": {
          "base_uri": "https://localhost:8080/"
        },
        "id": "H8cxNhaNamBc",
        "outputId": "54403571-c0ef-4731-a15f-989961175572"
      },
      "execution_count": 17,
      "outputs": [
        {
          "output_type": "stream",
          "name": "stdout",
          "text": [
            "+--------+-----+\n",
            "|    team|count|\n",
            "+--------+-----+\n",
            "|    null|    1|\n",
            "|   Milan|57611|\n",
            "|Cagliari|47977|\n",
            "+--------+-----+\n",
            "\n"
          ]
        }
      ]
    },
    {
      "cell_type": "code",
      "execution_count": 18,
      "metadata": {
        "id": "ON6rkzu8CjQP"
      },
      "outputs": [],
      "source": [
        "#offside_players = pre_df.where(pre_df['team'] == team_a.capitalize()).select('player_id','time','offside_flag').distinct()"
      ]
    },
    {
      "cell_type": "code",
      "execution_count": 19,
      "metadata": {
        "colab": {
          "base_uri": "https://localhost:8080/",
          "height": 35
        },
        "id": "sY__v4U0CjQP",
        "outputId": "98d6b1c3-c688-468c-a4a9-01d804cfc33f"
      },
      "outputs": [
        {
          "output_type": "execute_result",
          "data": {
            "text/plain": [
              "'right_to_left'"
            ],
            "application/vnd.google.colaboratory.intrinsic+json": {
              "type": "string"
            }
          },
          "metadata": {},
          "execution_count": 19
        }
      ],
      "source": [
        "verse"
      ]
    },
    {
      "cell_type": "code",
      "execution_count": 20,
      "metadata": {
        "colab": {
          "base_uri": "https://localhost:8080/"
        },
        "id": "tZtdedLoCjQQ",
        "outputId": "c6d0346f-0374-4404-9908-3d379958f93c"
      },
      "outputs": [
        {
          "output_type": "execute_result",
          "data": {
            "text/plain": [
              "('right_to_left', [-51.5, -7.98222541809082])"
            ]
          },
          "metadata": {},
          "execution_count": 20
        }
      ],
      "source": [
        "df_locs = df.select('player_id','time','team','x','y').distinct()\n",
        "\n",
        "if verse == 'right_to_left':\n",
        "  opponent_goal_line = [min_x+5.0, float(max_y+min_y)/2.0]  \n",
        "  team_a_goal_line = [max_x-5.0, float(max_y+min_y)/2.0]\n",
        "else:\n",
        "  opponent_goal_line = [max_x-5.0, float(max_y+min_y)/2.0]\n",
        "  team_a_goal_line = [min_x+5.0, float(max_y+min_y)/2.0]  \n",
        "  \n",
        "df_locs = df_locs.withColumn('distance_from_opponent_goal_line', 0.25*func.sqrt((df_locs['x'] - opponent_goal_line[0])**2 + (df_locs['y'] - opponent_goal_line[1])**2) + 0.75*func.sqrt((df_locs['x'] - opponent_goal_line[0])**2))\n",
        "df_locs = df_locs.withColumn('distance_from_team_goal_line', 0.25*func.sqrt((df_locs['x'] - team_a_goal_line[0])**2 + (df_locs['y'] - team_a_goal_line[1])**2) + 0.75*func.sqrt((df_locs['x'] - team_a_goal_line[0])**2))\n",
        "\n",
        "panda_locs = df_locs.toPandas()\n",
        "\n",
        "verse,opponent_goal_line"
      ]
    },
    {
      "cell_type": "code",
      "execution_count": 21,
      "metadata": {
        "id": "NI_mwxGTCjQQ"
      },
      "outputs": [],
      "source": [
        "panda_possess = possess.toPandas()"
      ]
    },
    {
      "cell_type": "code",
      "execution_count": 22,
      "metadata": {
        "id": "IeSfIMV1CjQQ"
      },
      "outputs": [],
      "source": [
        "x_ranges = list(np.arange(min_x,max_x,3.0))\n",
        "y_ranges = list(np.arange(min_y,max_y,3.0))"
      ]
    },
    {
      "cell_type": "code",
      "execution_count": 23,
      "metadata": {
        "colab": {
          "base_uri": "https://localhost:8080/"
        },
        "id": "kdSTFNcoCjQQ",
        "outputId": "f42f9d2f-7d47-4902-cb11-5935e185b0f8"
      },
      "outputs": [
        {
          "output_type": "execute_result",
          "data": {
            "text/plain": [
              "([-56.5,\n",
              "  -53.5,\n",
              "  -50.5,\n",
              "  -47.5,\n",
              "  -44.5,\n",
              "  -41.5,\n",
              "  -38.5,\n",
              "  -35.5,\n",
              "  -32.5,\n",
              "  -29.5,\n",
              "  -26.5,\n",
              "  -23.5,\n",
              "  -20.5,\n",
              "  -17.5,\n",
              "  -14.5,\n",
              "  -11.5,\n",
              "  -8.5,\n",
              "  -5.5,\n",
              "  -2.5,\n",
              "  0.5,\n",
              "  3.5,\n",
              "  6.5,\n",
              "  9.5,\n",
              "  12.5,\n",
              "  15.5,\n",
              "  18.5,\n",
              "  21.5,\n",
              "  24.5,\n",
              "  27.5,\n",
              "  30.5,\n",
              "  33.5,\n",
              "  36.5,\n",
              "  39.5,\n",
              "  42.5,\n",
              "  45.5,\n",
              "  48.5,\n",
              "  51.5,\n",
              "  54.5,\n",
              "  57.5,\n",
              "  60.5],\n",
              " [-55.0,\n",
              "  -52.0,\n",
              "  -49.0,\n",
              "  -46.0,\n",
              "  -43.0,\n",
              "  -40.0,\n",
              "  -37.0,\n",
              "  -34.0,\n",
              "  -31.0,\n",
              "  -28.0,\n",
              "  -25.0,\n",
              "  -22.0,\n",
              "  -19.0,\n",
              "  -16.0,\n",
              "  -13.0,\n",
              "  -10.0,\n",
              "  -7.0,\n",
              "  -4.0,\n",
              "  -1.0,\n",
              "  2.0,\n",
              "  5.0,\n",
              "  8.0,\n",
              "  11.0,\n",
              "  14.0,\n",
              "  17.0,\n",
              "  20.0,\n",
              "  23.0,\n",
              "  26.0,\n",
              "  29.0,\n",
              "  32.0,\n",
              "  35.0,\n",
              "  38.0])"
            ]
          },
          "metadata": {},
          "execution_count": 23
        }
      ],
      "source": [
        "x_ranges, y_ranges"
      ]
    },
    {
      "cell_type": "code",
      "execution_count": 24,
      "metadata": {
        "colab": {
          "base_uri": "https://localhost:8080/"
        },
        "id": "_BOBeC8SCjQR",
        "outputId": "fc004f28-0d76-4c43-e657-180a358e895d"
      },
      "outputs": [
        {
          "output_type": "execute_result",
          "data": {
            "text/plain": [
              "([100.0,\n",
              "  97.5,\n",
              "  95.0,\n",
              "  92.5,\n",
              "  90.0,\n",
              "  87.5,\n",
              "  85.0,\n",
              "  82.5,\n",
              "  80.0,\n",
              "  77.5,\n",
              "  75.0,\n",
              "  72.5,\n",
              "  70.0,\n",
              "  67.5,\n",
              "  65.0,\n",
              "  62.5,\n",
              "  60.0,\n",
              "  57.5,\n",
              "  55.0,\n",
              "  52.5,\n",
              "  50.0,\n",
              "  47.5,\n",
              "  45.0,\n",
              "  42.5,\n",
              "  40.0,\n",
              "  37.5,\n",
              "  35.0,\n",
              "  32.5,\n",
              "  30.0,\n",
              "  22,\n",
              "  20,\n",
              "  18,\n",
              "  16,\n",
              "  14,\n",
              "  12,\n",
              "  10,\n",
              "  8,\n",
              "  3,\n",
              "  2,\n",
              "  1],\n",
              " [50.878454744815826,\n",
              "  45.409704744815826,\n",
              "  39.940954744815826,\n",
              "  34.472204744815826,\n",
              "  29.003454744815826,\n",
              "  23.534704744815826,\n",
              "  18.065954744815826,\n",
              "  12.597204744815826,\n",
              "  7.128454744815826,\n",
              "  1.6597047448158264,\n",
              "  -3.8090452551841736,\n",
              "  -9.277795255184174,\n",
              "  -14.746545255184174,\n",
              "  -20.215295255184174,\n",
              "  -25.684045255184174,\n",
              "  -31.152795255184174,\n",
              "  -36.621545255184174,\n",
              "  -42.090295255184174,\n",
              "  -47.559045255184174,\n",
              "  -53.027795255184174,\n",
              "  -58.496545255184174,\n",
              "  -63.965295255184174,\n",
              "  -69.43404525518417,\n",
              "  -74.90279525518417,\n",
              "  -80.37154525518417,\n",
              "  -85.84029525518417,\n",
              "  -91.30904525518417,\n",
              "  -96.77779525518417,\n",
              "  -102.24654525518417,\n",
              "  -107.71529525518417,\n",
              "  -113.18404525518417,\n",
              "  -118.65279525518417])"
            ]
          },
          "metadata": {},
          "execution_count": 24
        }
      ],
      "source": [
        "def x_area_handling(x):\n",
        "  \n",
        "  if x >= 30:\n",
        "    return x\n",
        "  elif x < 30 and x >= 10:\n",
        "    return int(0.8*float(x))\n",
        "  elif x < 10 and x >= -20:\n",
        "    return int(0.5*float(x))\n",
        "  elif x < -20:\n",
        "    return 10\n",
        "\n",
        "x_single_area_prob = 100.0/float(len(x_ranges))\n",
        "y_single_area_prob = 100.0/float(len(y_ranges))\n",
        "\n",
        "x_ranges_value_right_to_left = list(map(lambda d : x_area_handling(float(x_single_area_prob)*(len(x_ranges)-x_ranges.index(d))), x_ranges))\n",
        "x_ranges_value_left_to_right = list(map(lambda d : x_area_handling(float(x_single_area_prob)*(x_ranges.index(d))), x_ranges))\n",
        "y_ranges_value = list(map(lambda d : 100-1.75*(float(y_single_area_prob)*float(np.abs((mid_y-y_ranges.index(d))))), y_ranges))\n",
        "                      \n",
        "if verse == 'left_to_right':\n",
        "  x_ranges_value = x_ranges_value_left_to_right\n",
        "  opp_x_ranges_value = x_ranges_value_right_to_left\n",
        "elif verse == 'right_to_left':\n",
        "  x_ranges_value = x_ranges_value_right_to_left\n",
        "  opp_x_ranges_value = x_ranges_value_left_to_right\n",
        "  \n",
        "x_ranges_value,y_ranges_value"
      ]
    },
    {
      "cell_type": "code",
      "execution_count": 53,
      "metadata": {
        "colab": {
          "base_uri": "https://localhost:8080/"
        },
        "id": "ROktgYr_CjQR",
        "outputId": "0c0b6ac0-daef-4cf7-a31d-4780d4230c5d"
      },
      "outputs": [
        {
          "output_type": "stream",
          "name": "stdout",
          "text": [
            "+--------+--------+------+------------------+---------------+\n",
            "|target_x|target_y|  time|       probability|opponents_count|\n",
            "+--------+--------+------+------------------+---------------+\n",
            "|   -21.0|    15.0|1188.0|             100.0|              0|\n",
            "|    35.0|    -5.0|1362.0|             100.0|              0|\n",
            "|   -40.0|    14.0|1362.0|             100.0|              0|\n",
            "|   -50.0|    14.0|1386.0|             100.0|              0|\n",
            "|   -55.0|    -2.0| 289.0|             100.0|              0|\n",
            "|    43.0|   -10.0| 919.0|             100.0|              0|\n",
            "|   -34.0|    25.0| 289.0|58.961500173406854|             -1|\n",
            "|   -48.0|    -3.0| 609.0|             100.0|              0|\n",
            "|    27.0|     8.0| 289.0|             100.0|              0|\n",
            "|   -43.0|    -2.0| 383.0| 57.51929834242605|             -1|\n",
            "|   -43.0|   -28.0| 289.0|54.795003931509854|             -1|\n",
            "|   -14.0|   -18.0|  40.0|             100.0|              0|\n",
            "|   -38.0|    34.0|  40.0|             100.0|              0|\n",
            "|    26.0|    18.0| 383.0|             100.0|              0|\n",
            "|   -42.0|     2.0|  40.0|             100.0|              0|\n",
            "|   -20.0|    26.0| 138.0|             100.0|              0|\n",
            "|   -54.0|    14.0|1188.0|             100.0|              0|\n",
            "|    -2.0|   -18.0| 609.0|             100.0|              0|\n",
            "|    14.0|     8.0|1386.0|             100.0|              0|\n",
            "|   -39.0|   -30.0| 401.0|  46.2240465325934|             -2|\n",
            "+--------+--------+------+------------------+---------------+\n",
            "only showing top 20 rows\n",
            "\n"
          ]
        }
      ],
      "source": [
        "def probabilityPlusMinus(x):\n",
        "  \n",
        "  if x[6] == opponent.title():\n",
        "    return list(x[:3])+[-float(x[3])]+list(x[4:])+[opponent_verse]\n",
        "  else:\n",
        "    return list(x)+[verse]\n",
        "  \n",
        "def opponentCount(x):\n",
        "  \n",
        "  try:\n",
        "    team_1 = float(x[3])\n",
        "  except:\n",
        "    team_1 = 0.0\n",
        "\n",
        "  try:\n",
        "    team_2 = float(x[5])\n",
        "  except:\n",
        "    team_2 = 0.0\n",
        "\n",
        "  try:\n",
        "    opp_1 = int(x[4])\n",
        "  except:\n",
        "    opp_1 = 0\n",
        "\n",
        "  try:\n",
        "    opp_2 = int(x[6])\n",
        "  except:\n",
        "    opp_2 = 0\n",
        "\n",
        "  if team_1 > team_2:\n",
        "    return [x[0],x[1],x[2],x[3],-opp_2]\n",
        "  else:\n",
        "    return [x[0],x[1],x[2],x[5],-opp_1]\n",
        "\n",
        "df = df.withColumn('probability', df['probability'].cast(DoubleType()))\n",
        "\n",
        "pre_max_pitch_pivot_gr = df.where(df['team'] != '').groupBy('target_x','target_y','time').pivot('team').agg(func.max('probability'),func.count('player_id'))\n",
        "\n",
        "max_pitch_pivot = spark.createDataFrame(pre_max_pitch_pivot_gr.rdd.map(lambda a : opponentCount(a)),['target_x','target_y','time','probability','opponents_count'])\n",
        "\n",
        "max_pitch_pivot.show()"
      ]
    },
    {
      "cell_type": "code",
      "execution_count": 54,
      "metadata": {
        "id": "9Cq2jv1-CjQR"
      },
      "outputs": [],
      "source": [
        "max_player = df.select('target_x','target_y','time','player_id','team','probability','distance_from_target','x','y','slope_fuzzy_compare','ball_distance')"
      ]
    },
    {
      "cell_type": "code",
      "execution_count": 56,
      "metadata": {
        "id": "qRNemCvyCjQS",
        "colab": {
          "base_uri": "https://localhost:8080/"
        },
        "outputId": "37bb4146-5297-40c0-ed3b-7b2b4920d8bc"
      },
      "outputs": [
        {
          "output_type": "stream",
          "name": "stdout",
          "text": [
            "+--------+--------+------+-------------------+---------------+----------+--------+--------------------+-------------------+-------------------+-------------------+------------------+-------------+\n",
            "|target_x|target_y|  time|        probability|opponents_count| player_id|    team|distance_from_target|                  x|                  y|slope_fuzzy_compare|     ball_distance|        verse|\n",
            "+--------+--------+------+-------------------+---------------+----------+--------+--------------------+-------------------+-------------------+-------------------+------------------+-------------+\n",
            "|   -40.0|    14.0|1362.0|             -100.0|              0| Radunovic|Cagliari|  11.148897425654473|-42.400001525878906| 3.1124885082244873|                3.0|36.645869481600556|left_to_right|\n",
            "|   -50.0|    14.0|1386.0|             -100.0|              0| Radunovic|Cagliari|  17.801311065594803|-38.920509338378906|0.06688971072435379|                5.0| 37.07748181097742|left_to_right|\n",
            "|   -55.0|    -2.0| 289.0|             -100.0|              0| Radunovic|Cagliari|   5.815178972233107| -49.18496322631836| -1.959333062171936|                2.0|41.813956648814184|left_to_right|\n",
            "|   -34.0|    25.0| 289.0|-58.961500173406854|             -1|    Nandez|Cagliari|   15.77314043749003|-28.576213836669922| 10.188703536987305|                5.0| 9.522557212905172|left_to_right|\n",
            "|   -48.0|    -3.0| 609.0|             -100.0|              0| Radunovic|Cagliari|   7.151348057096459| -50.68496322631836|  3.628178596496582|                8.0|30.113657845759477|left_to_right|\n",
            "|   -43.0|    -2.0| 383.0| -57.51929834242605|             -1|     Godin|Cagliari|  1.0471891656610002|-44.011295318603516|-1.7281785011291504|                5.0|30.585844461376716|left_to_right|\n",
            "|   -43.0|   -28.0| 289.0|-54.795003931509854|             -1|   Dalbert|Cagliari|  17.208172388826785| -26.84494972229004| -22.07247543334961|                8.0| 57.74834066900488|left_to_right|\n",
            "|   -14.0|   -18.0|  40.0|             -100.0|              0|   Dalbert|Cagliari|   21.70819863040104|-0.8481471538543701|-0.7293701767921448|                3.0|16.516581014648647|left_to_right|\n",
            "|   -38.0|    34.0|  40.0|             -100.0|              0| Radunovic|Cagliari|  28.702017471599945|-39.316226959228516|  5.328178405761719|                5.0| 66.55594202069479|left_to_right|\n",
            "|   -42.0|     2.0|  40.0|             -100.0|              0| Radunovic|Cagliari|   4.275442577669642|-39.316226959228516|  5.328178405761719|                2.0| 37.62548919039821|left_to_right|\n",
            "|   -20.0|    26.0| 138.0|             -100.0|              0|    Nandez|Cagliari|   8.343571901005973|-26.520511627197266| 20.794414520263672|                4.0|16.600336474140786|left_to_right|\n",
            "|   -54.0|    14.0|1188.0|             -100.0|              0| Radunovic|Cagliari|  14.635267269922037|-49.276214599609375|0.14803625643253326|                6.0| 22.34327084753943|left_to_right|\n",
            "|   -39.0|   -30.0| 401.0|  -46.2240465325934|             -2|   Dalbert|Cagliari|   6.316237421850645|-33.607479095458984| -26.71129608154297|                1.0|61.953275401287335|left_to_right|\n",
            "|   -25.0|    -1.0|1386.0| -54.66441305025811|              0| Radunovic|Cagliari|  13.961333528525985|-38.920509338378906|0.06688971072435379|                5.0|16.432275112653507|left_to_right|\n",
            "|   -15.0|    22.0|  40.0|-34.752958340107206|             -1|    Deiola|Cagliari|   9.839585653575433| -5.711296558380127|  18.75385856628418|                1.0|53.854966578952514|left_to_right|\n",
            "|   -53.0|    14.0| 401.0|             -100.0|              0| Radunovic|Cagliari|  16.492344324632523| -49.69059753417969| -2.156895637512207|                6.0|18.832321655313756|left_to_right|\n",
            "|    -8.0|    -6.0| 289.0| -64.23080985192017|             -1| Pavoletti|Cagliari|   2.336226318990893| -5.666889667510986| -6.120621681213379|                0.0|36.736670399945396|left_to_right|\n",
            "|   -10.0|   -25.0|  40.0|             -100.0|              0|   Dalbert|Cagliari|  25.938771800775193|-0.8481471538543701|-0.7293701767921448|                4.0|15.338234985561085|left_to_right|\n",
            "|    -1.0|   -15.0| 289.0| -46.22949199476287|             -1|Joao Pedro|Cagliari|   7.590775747657951| -6.599999904632568|-20.124439239501953|                7.0| 47.97998447609354|left_to_right|\n",
            "|   -16.0|   -14.0|1386.0|             -100.0|              0|     Godin|Cagliari|   9.139435946119177|-11.922593116760254|-5.8205108642578125|                2.0|24.507705943384906|left_to_right|\n",
            "+--------+--------+------+-------------------+---------------+----------+--------+--------------------+-------------------+-------------------+-------------------+------------------+-------------+\n",
            "only showing top 20 rows\n",
            "\n"
          ]
        }
      ],
      "source": [
        "max_pitch_pivot_j = max_pitch_pivot.join(max_player, ['target_x','target_y','time','probability'])\n",
        "\n",
        "max_pitch_pivot_jj = spark.createDataFrame(max_pitch_pivot_j.rdd.map(lambda f : probabilityPlusMinus(f)),max_pitch_pivot_j.columns+['verse'])\n",
        "\n",
        "pre_max_pitch_pivot_jjj = max_pitch_pivot_jj.where(max_pitch_pivot_jj['team'] == opponent.capitalize())\n",
        "\n",
        "pre_max_pitch_pivot_jjj.show()"
      ]
    },
    {
      "cell_type": "code",
      "execution_count": 57,
      "metadata": {
        "colab": {
          "base_uri": "https://localhost:8080/"
        },
        "id": "_FultEdHCjQS",
        "outputId": "2f80fb05-8c7b-4033-f04f-4caee8f083a8"
      },
      "outputs": [
        {
          "output_type": "stream",
          "name": "stdout",
          "text": [
            "+------------+--------+-------------------+\n",
            "|   player_id|    team|   avg(probability)|\n",
            "+------------+--------+-------------------+\n",
            "|      Deiola|Cagliari| -58.36165706554735|\n",
            "|       Kjaer|   Milan|  84.27528108246118|\n",
            "|    Calabria|   Milan|  76.35664046939465|\n",
            "|       Marin|Cagliari| -65.17654706164488|\n",
            "|   Strootman|Cagliari|-53.804130769211284|\n",
            "|      Giroud|   Milan|  46.97687786910945|\n",
            "|        Diaz|   Milan|  60.05566957626454|\n",
            "|        Leao|   Milan|  60.47050201840573|\n",
            "|   Pavoletti|Cagliari| -66.07690771291229|\n",
            "|     Carboni|Cagliari| -70.10097504890899|\n",
            "|      Krunic|   Milan|  63.11642807985858|\n",
            "|      Tonali|   Milan|   66.4154104679352|\n",
            "|       Godin|Cagliari| -67.04006366585699|\n",
            "|      Tomori|   Milan|  80.25961145599501|\n",
            "|  Joao Pedro|Cagliari| -71.61207529430531|\n",
            "|Saelemaekers|   Milan|  67.69994393799074|\n",
            "|     Dalbert|Cagliari| -83.00680359403158|\n",
            "|  Ceppitelli|Cagliari| -50.03262053312109|\n",
            "|     Maignan|   Milan|  95.18536110229726|\n",
            "|      Nandez|Cagliari| -79.82523311683364|\n",
            "+------------+--------+-------------------+\n",
            "only showing top 20 rows\n",
            "\n"
          ]
        }
      ],
      "source": [
        "max_pitch_pivot_jj.groupBy('player_id','team').avg('probability').show()"
      ]
    },
    {
      "cell_type": "code",
      "execution_count": 58,
      "metadata": {
        "id": "wkw-O-duCjQS"
      },
      "outputs": [],
      "source": [
        "pd_probs = pre_max_pitch_pivot_jjj.toPandas()"
      ]
    },
    {
      "cell_type": "code",
      "execution_count": 59,
      "metadata": {
        "colab": {
          "base_uri": "https://localhost:8080/"
        },
        "id": "-xCfuM9dCjQS",
        "outputId": "4f70df1a-bc0b-4a5b-a88c-01880656713a"
      },
      "outputs": [
        {
          "output_type": "stream",
          "name": "stdout",
          "text": [
            "+----------+------+---------------------+------------------+\n",
            "| player_id|  time|probability_twentieth|distance_twentieth|\n",
            "+----------+------+---------------------+------------------+\n",
            "| Pavoletti| 919.0|   -66.31318955891913|             100.0|\n",
            "|   Carboni|1188.0|   -42.78363803363206|             100.0|\n",
            "| Radunovic| 919.0|   -53.81953513499719|             100.0|\n",
            "|    Deiola| 289.0|               -100.0|             100.0|\n",
            "| Strootman| 383.0|  -37.003529119643865|             100.0|\n",
            "|   Carboni| 289.0|               -100.0|             100.0|\n",
            "|   Carboni| 138.0|               -100.0|             100.0|\n",
            "|   Dalbert| 383.0|  -52.339009366953135|             100.0|\n",
            "|    Deiola|1362.0|  -45.678376099534795|             100.0|\n",
            "|Ceppitelli|1188.0|  -36.853391542485355|             100.0|\n",
            "|     Godin| 138.0|               -100.0|             100.0|\n",
            "|    Deiola|1188.0|    -62.1592515499886|             100.0|\n",
            "| Radunovic| 289.0|   -44.34850262780635|             100.0|\n",
            "|     Godin|1198.0|   -42.70729793818287|             100.0|\n",
            "|     Godin|1188.0|   -65.58873503656677|             100.0|\n",
            "|Joao Pedro|1188.0|               -100.0|             100.0|\n",
            "|    Nandez|  40.0|                  0.0|               0.0|\n",
            "| Radunovic|1188.0|   -41.79787474947558|             100.0|\n",
            "|   Carboni| 383.0|   -62.32124603849245|             100.0|\n",
            "| Strootman|  40.0|  -62.935692789037454|             100.0|\n",
            "+----------+------+---------------------+------------------+\n",
            "only showing top 20 rows\n",
            "\n"
          ]
        }
      ],
      "source": [
        "def findBestMaxObs(x,panda,max_obs):\n",
        "  \n",
        "  probs = panda[panda['player_id'] == x[0]][panda['time'] == x[1]][['probability','distance_from_target']].values.tolist()\n",
        "  \n",
        "  try:\n",
        "    first_twenty_probs = sorted(list(map(lambda a : a[0],probs)), reverse = True)[:max_obs]\n",
        "    prob_twentieth = first_twenty_probs[-1]\n",
        "    distance_twentieth = 100.0\n",
        "\n",
        "    if float(prob_twentieth) == 100.0:\n",
        "      first_twenty_distances = sorted(list(map(lambda g : g[1], list(filter(lambda a : a[0] == 100.0,probs)))))[:max_obs]\n",
        "      distance_twentieth = first_twenty_distances[-1]\n",
        "\n",
        "    return [prob_twentieth,distance_twentieth]\n",
        "  except:\n",
        "    return [0.0,0.0]\n",
        "\n",
        "players_times_values = spark.createDataFrame(df.where(df['team'] == opponent.title()).select('player_id','time').distinct().rdd.map(lambda a : list(a)+findBestMaxObs(a,pd_probs,60)),['player_id','time','probability_twentieth','distance_twentieth'])\n",
        "\n",
        "players_times_values.show()"
      ]
    },
    {
      "cell_type": "code",
      "execution_count": 60,
      "metadata": {
        "id": "PFvXlvMKCjQT"
      },
      "outputs": [],
      "source": [
        "pd_to_filter = players_times_values.toPandas()"
      ]
    },
    {
      "cell_type": "code",
      "source": [
        "pre_max_pitch_pivot_jjj"
      ],
      "metadata": {
        "colab": {
          "base_uri": "https://localhost:8080/"
        },
        "id": "E3WbwAh7QVMP",
        "outputId": "cbb8cd52-0b33-458b-f26c-607d42c1a0b4"
      },
      "execution_count": 61,
      "outputs": [
        {
          "output_type": "execute_result",
          "data": {
            "text/plain": [
              "DataFrame[target_x: double, target_y: double, time: double, probability: double, opponents_count: bigint, player_id: string, team: string, distance_from_target: string, x: double, y: double, slope_fuzzy_compare: string, ball_distance: string, verse: string]"
            ]
          },
          "metadata": {},
          "execution_count": 61
        }
      ]
    },
    {
      "cell_type": "code",
      "execution_count": 62,
      "metadata": {
        "id": "AJKxOnNkCjQT"
      },
      "outputs": [],
      "source": [
        "def obsToFilter(x, panda):\n",
        "  \n",
        "  prob_filter, distance_filter = panda[panda['player_id'] == x[5]][panda['time'] == x[2]][['probability_twentieth','distance_twentieth']].values.tolist()[0]\n",
        "  \n",
        "  flag = ''\n",
        "  \n",
        "  if (float(x[3]) < prob_filter) or (float(x[7]) > distance_filter):\n",
        "    flag = 'out'\n",
        "  \n",
        "  return flag\n",
        "  \n",
        "max_pitch_pivot_jjj_pre_filt = spark.createDataFrame(pre_max_pitch_pivot_jjj.rdd.map(lambda a : list(a)+[obsToFilter(a, pd_to_filter)]), pre_max_pitch_pivot_jjj.columns+['obs_flag'])\n",
        "\n",
        "max_pitch_pivot_jjj = max_pitch_pivot_jjj_pre_filt.where(max_pitch_pivot_jjj_pre_filt['obs_flag'] == '').where(max_pitch_pivot_jjj_pre_filt['probability'] > 0).drop('obs_flag')"
      ]
    },
    {
      "cell_type": "code",
      "source": [
        "max_pitch_pivot_jjj.show()"
      ],
      "metadata": {
        "colab": {
          "base_uri": "https://localhost:8080/"
        },
        "id": "r4bbo3PxFgfr",
        "outputId": "8252b4a0-4a18-4b19-ed58-8fc6ea794b48"
      },
      "execution_count": 63,
      "outputs": [
        {
          "output_type": "stream",
          "name": "stdout",
          "text": [
            "+--------+--------+----+-----------+---------------+---------+----+--------------------+---+---+-------------------+-------------+-----+\n",
            "|target_x|target_y|time|probability|opponents_count|player_id|team|distance_from_target|  x|  y|slope_fuzzy_compare|ball_distance|verse|\n",
            "+--------+--------+----+-----------+---------------+---------+----+--------------------+---+---+-------------------+-------------+-----+\n",
            "+--------+--------+----+-----------+---------------+---------+----+--------------------+---+---+-------------------+-------------+-----+\n",
            "\n"
          ]
        }
      ]
    },
    {
      "cell_type": "code",
      "execution_count": null,
      "metadata": {
        "id": "0D9bVk4sCjQT"
      },
      "outputs": [],
      "source": [
        "#display(max_pitch_pivot_jjj.where(max_pitch_pivot_jjj['target_x'] == 42.0).where(max_pitch_pivot_jjj['target_y'] == 5.0).where(max_pitch_pivot_jjj['time'] == 1135.0))"
      ]
    },
    {
      "cell_type": "code",
      "execution_count": 64,
      "metadata": {
        "id": "4FkbduxKCjQT"
      },
      "outputs": [],
      "source": [
        "from pyspark.sql.functions import lit\n",
        "\n",
        "def ifHigherThanLimit(a,limit,maxMinFlag): \n",
        "  if maxMinFlag == 'max':\n",
        "    return float(np.min([limit,a]))\n",
        "  elif maxMinFlag == 'min':\n",
        "    return float(np.max([limit,a]))\n",
        "\n",
        "def addFakeProb(team):\n",
        "  \n",
        "  if team == opponent.title():\n",
        "    return 150.0\n",
        "  else:\n",
        "    return -150.0\n",
        "\n",
        "  \n",
        "### PITCH ###\n",
        "pitch_pivot = max_pitch_pivot_jj.select('target_x','target_y','time','probability','player_id','team')\n",
        "pitch_pivot = pitch_pivot.withColumn('type',lit('pitch'))\n",
        "pitch_pivot = pitch_pivot.withColumnRenamed('target_x','x').withColumnRenamed('target_y','y')\n",
        "\n",
        "### PLAYERS ###\n",
        "players_locs = spark.createDataFrame(data_players.select('player_id','team','time','x','y').withColumn('type',lit('player')).distinct().rdd.map(lambda a : list(a)+[addFakeProb(a[1])]), ['player_id','team','time','x','y','type','probability'])\n",
        "players_locs = players_locs.where(players_locs['time'].isin(timings))\n",
        "\n",
        "### BALL ###\n",
        "ball = pre_pre_df.where(pre_pre_df['target_x'] == -999).orderBy('time')\n",
        "ball_locs = ball.withColumn('probability',lit(200.0)).withColumn('type',lit('ball')).select('x','y','time','probability','player_id','team','type')\n",
        "pd_ball = ball.toPandas()"
      ]
    },
    {
      "cell_type": "code",
      "execution_count": 65,
      "metadata": {
        "id": "xYo5BQZXCjQU",
        "outputId": "da7d46b0-fd5a-495c-e4ec-d00877613051",
        "colab": {
          "base_uri": "https://localhost:8080/"
        }
      },
      "outputs": [
        {
          "output_type": "stream",
          "name": "stdout",
          "text": [
            "+---+---+----+-----------+---------+----+----+\n",
            "|  x|  y|time|probability|player_id|team|type|\n",
            "+---+---+----+-----------+---------+----+----+\n",
            "+---+---+----+-----------+---------+----+----+\n",
            "\n"
          ]
        }
      ],
      "source": [
        "ball_locs.show()"
      ]
    },
    {
      "cell_type": "code",
      "execution_count": 66,
      "metadata": {
        "id": "jeFOMNH1CjQU"
      },
      "outputs": [],
      "source": [
        "def addNegativeProb(x):\n",
        "  \n",
        "  team = x[team_index]\n",
        "  probability = x[prob_index]\n",
        "  \n",
        "  if team == team_a.title():\n",
        "    new_prob = -float(probability)\n",
        "  else:\n",
        "    new_prob = float(probability)\n",
        "    \n",
        "  y = list(x[:prob_index])+[new_prob]+list(x[1+prob_index:])\n",
        "  \n",
        "  return y\n",
        "  \n",
        "pitch_pivot_union = pitch_pivot.distinct()\n",
        "\n",
        "team_index, prob_index = pitch_pivot_union.columns.index('team'),pitch_pivot_union.columns.index('probability')\n",
        "\n",
        "pitch_pivot_union = spark.createDataFrame(pitch_pivot_union.rdd.map(lambda y : addNegativeProb(y)), pitch_pivot_union.columns)\n",
        "\n",
        "for i in players_locs.columns:\n",
        "  if 'class' in str(i):\n",
        "    pitch_pivot_union = pitch_pivot_union.withColumn(str(i), lit(''))\n",
        "    \n",
        "out = pitch_pivot_union.union(players_locs.select(pitch_pivot_union.columns)).union(ball_locs.select(pitch_pivot_union.columns)).withColumnRenamed('player_id','player')"
      ]
    },
    {
      "cell_type": "code",
      "execution_count": 67,
      "metadata": {
        "colab": {
          "base_uri": "https://localhost:8080/"
        },
        "id": "KnNxUJN1CjQU",
        "outputId": "05ac5a5a-c589-4b61-e454-7eae410e7936"
      },
      "outputs": [
        {
          "output_type": "execute_result",
          "data": {
            "text/plain": [
              "65157"
            ]
          },
          "metadata": {},
          "execution_count": 67
        }
      ],
      "source": [
        "out.count()"
      ]
    },
    {
      "cell_type": "code",
      "execution_count": 69,
      "metadata": {
        "colab": {
          "base_uri": "https://localhost:8080/",
          "height": 35
        },
        "id": "USgNuMmXMZ_-",
        "outputId": "4ae09bb9-007f-49b0-83ad-f9a0f902ecc1"
      },
      "outputs": [
        {
          "output_type": "execute_result",
          "data": {
            "text/plain": [
              "'pitch_control_2_milan_cagliari_first_half_1_all'"
            ],
            "application/vnd.google.colaboratory.intrinsic+json": {
              "type": "string"
            }
          },
          "metadata": {},
          "execution_count": 69
        }
      ],
      "source": [
        "new_path = 'pitch_control_2_'+name_path\n",
        "new_path"
      ]
    },
    {
      "cell_type": "code",
      "execution_count": 70,
      "metadata": {
        "id": "VWwokJs3CjQU"
      },
      "outputs": [],
      "source": [
        "out.coalesce(1).write.option('delimiter',',').option('header','true').csv('/content/drive/MyDrive/Colab Notebooks/FootballDataAnalysis/data/Milan-Cagliari/parquet/'+new_path+'.csv', mode='overwrite')"
      ]
    },
    {
      "cell_type": "code",
      "execution_count": 47,
      "metadata": {
        "id": "V_TccW8BCjQU"
      },
      "outputs": [],
      "source": [
        "pd_pitch = max_pitch_pivot_jj.toPandas()"
      ]
    },
    {
      "cell_type": "code",
      "execution_count": null,
      "metadata": {
        "id": "2DW1BSf2CjQU"
      },
      "outputs": [],
      "source": [
        "from bisect import bisect\n",
        "from pyspark.sql.window import Window\n",
        "\n",
        "def areaDanger(d,x_ranges,y_ranges):\n",
        "  \n",
        "  if d[-1] == 'right_to_left':\n",
        "    x_values = x_ranges_value_right_to_left\n",
        "  else:\n",
        "    x_values = x_ranges_value_left_to_right\n",
        "  \n",
        "  try:\n",
        "    x_value = x_values[bisect(x_ranges,d[0])]\n",
        "  except:\n",
        "    try:\n",
        "      x_value = x_values[bisect(x_ranges,d[0])-1]\n",
        "    except:\n",
        "      x_value = x_values[bisect(x_ranges,d[0])+1]\n",
        "      \n",
        "  try:\n",
        "    y_value = y_ranges_value[bisect(y_ranges,d[1])]\n",
        "  except:\n",
        "    try:\n",
        "      y_value = y_ranges_value[bisect(y_ranges,d[1])-1]\n",
        "    except:\n",
        "      y_value = y_ranges_value[bisect(y_ranges,d[1])+1]\n",
        "  \n",
        "  if x_value < 50:\n",
        "    y_value = 10\n",
        "  \n",
        "  return [bisect(x_ranges,d[0]),bisect(y_ranges,d[1]),float(np.round(x_value,0)),float(np.round(y_value,0)),float(np.round(x_value+y_value,0))]\n",
        " \n",
        "def findOpponentsOvercomeByThePass(x,panda,panda_possess,pd_pitch):\n",
        "  \n",
        "  player_x = x[x_index]\n",
        "  player_y = x[y_index]\n",
        "  verse = x[verse_index]\n",
        "  time_ = x[time_index]\n",
        "  target_x = x[target_x_index]\n",
        "  target_y = x[target_y_index]\n",
        "  \n",
        "  player_possess,possess_x,possess_y = panda_possess[panda_possess['time'] == time_][['player_in_possess','x','y']].values.tolist()[0]\n",
        "  \n",
        "  sit_x = 0.25*player_x+0.75*target_x\n",
        "  sit_y = 0.25*player_y+0.75*target_y\n",
        "\n",
        "  x_advancement_flag = float(np.sign(team_a_goal_line[0] - target_x))\n",
        "\n",
        "  values_x = [sit_x-(x_advancement_flag*10),sit_x+(x_advancement_flag*10)]\n",
        "\n",
        "  back_min_x,ahead_max_x = float(np.min(values_x)),float(np.max(values_x))\n",
        "\n",
        "  up_y = sit_y+10\n",
        "  down_y = sit_y-10\n",
        "\n",
        "  quarters_control_percentages = []\n",
        "\n",
        "  close_opponents_panda = panda[panda['team'] == team_a.title()][panda['time'] == time_][panda['x'] > player_x-4.0][panda['x'] < player_x+4.0][panda['y'] > player_y-4.0][panda['x'] < player_y+4.0]\n",
        "  close_opponents = len(close_opponents_panda)\n",
        "  opponents_x_y = panda[panda['team'] == team_a.title()][panda['time'] == time_][panda['player_id'] != team_a_goalies][['x','y']].values.tolist()\n",
        "  \n",
        "  close_opponents_distances = []\n",
        "  for j in opponents_x_y:\n",
        "    close_opponents_distances.append(float(np.sqrt((player_x-j[0])**2+(player_y-j[1])**2)))\n",
        "     \n",
        "  closest_opponent_distance = sorted(close_opponents_distances)[0]\n",
        "  player_distance_from_goal_line = float(np.sqrt((player_x - opponent_goal_line[0])**2 + (player_y - opponent_goal_line[1])**2))\n",
        "  \n",
        "  opponents_distances_to_goal_line = []\n",
        "  for j in opponents_x_y:\n",
        "    opponents_distances_to_goal_line.append(float(np.sqrt((opponent_goal_line[0]-j[0])**2+(opponent_goal_line[1]-j[1])**2)))\n",
        "    \n",
        "  opponents_from_goal_line = len(list(filter(lambda a : a < player_distance_from_goal_line-1.0, opponents_distances_to_goal_line)))\n",
        "    \n",
        "  return [closest_opponent_distance,opponents_from_goal_line,close_opponents,player_distance_from_goal_line]\n",
        "  \n",
        "verse_index = max_pitch_pivot_jjj.columns.index('verse')\n",
        "time_index = max_pitch_pivot_jjj.columns.index('time')\n",
        "target_x_index = max_pitch_pivot_jjj.columns.index('target_x')\n",
        "target_y_index = max_pitch_pivot_jjj.columns.index('target_y')\n",
        "y_index = max_pitch_pivot_jjj.columns.index('y')\n",
        "x_index = max_pitch_pivot_jjj.columns.index('x')\n",
        "\n",
        "max_pitch_pivot_jjj = max_pitch_pivot_jjj.withColumn('target_x', max_pitch_pivot_jjj['target_x'].cast(DoubleType())).withColumn('target_y', max_pitch_pivot_jjj['target_y'].cast(DoubleType())).withColumn('x', max_pitch_pivot_jjj['x'].cast(DoubleType())).withColumn('y', max_pitch_pivot_jjj['y'].cast(DoubleType()))\n",
        "\n",
        "#ppp_area_targets = spark.createDataFrame(max_pitch_pivot_jjj.where((max_pitch_pivot_jjj['player_id'].isin([team_a_goalies])) == False).rdd.map(lambda g : list(g)+areaDanger(g,x_ranges,y_ranges)+findOpponentsOvercomeByThePass(g,panda_locs,panda_possess,pd_pitch)), max_pitch_pivot_jjj.columns+['x_area','y_area','x_value','y_value','area_value','closest_opponent_distance','opponents_from_goal_line','close_opponents','player_distance_from_goal_line'])\n",
        "\n",
        "#area_targets_advance_pre_final = ppp_area_targets.select('target_x','target_y','player_id','time','area_value','ball_distance','closest_opponent_distance','opponents_from_goal_line','distance_from_target','x','y','probability','close_opponents','player_distance_from_goal_line','slope_fuzzy_compare').distinct()\n",
        "\n",
        "max_pitch_pivot_jjj.show()\n"
      ]
    },
    {
      "cell_type": "code",
      "execution_count": null,
      "metadata": {
        "id": "OUBVgLSpCjQV"
      },
      "outputs": [],
      "source": [
        "display(area_targets_advance_pre_final.where(area_targets_advance_pre_final['time'] == 3981))"
      ]
    },
    {
      "cell_type": "code",
      "execution_count": null,
      "metadata": {
        "id": "tuslijapCjQV"
      },
      "outputs": [],
      "source": [
        "def singlePointOpponents(x,y,panda_locs,opponent,time_,meters_to_intercept,possess_x,possess_y):\n",
        "  \n",
        "  distance = distance = float(np.sqrt(((x-possess_x)**2)+((y-possess_y)**2)))\n",
        "  \n",
        "  opponent_meters_run = 3*(float(distance)/18.0)\n",
        "  opps =  panda_locs[panda_locs['team'] == opponent.title()][panda_locs['time'] == time_][panda_locs['x'] > x-meters_to_intercept-opponent_meters_run][panda_locs['x'] < x+meters_to_intercept+opponent_meters_run][panda_locs['y'] > y-meters_to_intercept-opponent_meters_run][panda_locs['y'] < y+meters_to_intercept+opponent_meters_run]['player_id'].values.tolist()\n",
        "  \n",
        "  try:\n",
        "    return opps[0]\n",
        "  except:\n",
        "    return []\n",
        "  \n",
        "def interceptionOpponents(player,time_,target_x,target_y,x,y,panda,panda_possess):\n",
        "  \n",
        "  player_possess,possess_x,possess_y = panda_possess[panda_possess['time'] == time_][['player_in_possess','x','y']].values.tolist()[0]\n",
        "\n",
        "  interception_opponents = []\n",
        "  interception_opponents_count = len(interception_opponents)\n",
        "  \n",
        "  if str(player) == str(player_possess):\n",
        "    pass\n",
        "    \n",
        "  else:\n",
        "    distance = float(np.sqrt(((target_x-possess_x)**2)+((target_y-possess_y)**2)))\n",
        "\n",
        "    m = (possess_y-target_y)/(possess_x-target_x)\n",
        "\n",
        "    b = (possess_x*target_y - target_x*possess_y)/(possess_x-target_x)\n",
        "\n",
        "    if possess_x > target_x:\n",
        "      xs = sorted(list(np.arange(target_x,possess_x,float(possess_x-target_x)/distance)), reverse = True)\n",
        "    else:\n",
        "      xs = list(np.arange(possess_x,target_x,float(target_x-possess_x)/distance))\n",
        "\n",
        "    pre_trajectory = list(map(lambda xx: [float(xx),float((m*xx)+b)], xs))\n",
        "\n",
        "    if distance > 25:\n",
        "      trajectory = [pre_trajectory[2],pre_trajectory[3],pre_trajectory[4],pre_trajectory[5],pre_trajectory[6],pre_trajectory[-6],pre_trajectory[-5],pre_trajectory[-4],pre_trajectory[-3],pre_trajectory[-2],pre_trajectory[-1]]\n",
        "    else:\n",
        "      trajectory = pre_trajectory[2:]\n",
        "\n",
        "    interception_opponents = list(filter(lambda a : a!= [], list(map(lambda d : singlePointOpponents(d[0],d[1],panda,opponent,time_,1.0,possess_x,possess_y), trajectory))))\n",
        "    interception_opponents_count = len(list(dict.fromkeys(interception_opponents)))\n",
        "    \n",
        "  return [interception_opponents_count]\n",
        "\n",
        "\n",
        "player_index = area_targets_advance_pre_final.columns.index('player_id')\n",
        "time_index = area_targets_advance_pre_final.columns.index('time')\n",
        "target_x_index = area_targets_advance_pre_final.columns.index('target_x')\n",
        "target_y_index = area_targets_advance_pre_final.columns.index('target_y')\n",
        "x_index = area_targets_advance_pre_final.columns.index('x')\n",
        "y_index = area_targets_advance_pre_final.columns.index('y')\n",
        "\n",
        "area_targets_advance_pre_final_intercept = sqlContext.createDataFrame(area_targets_advance_pre_final.rdd.map(lambda g : list(g)+interceptionOpponents(g[player_index],g[time_index],g[target_x_index],g[target_y_index],g[x_index],g[y_index],panda_locs,panda_possess)), area_targets_advance_pre_final.columns+['interception_opponents'])\n"
      ]
    },
    {
      "cell_type": "code",
      "execution_count": null,
      "metadata": {
        "id": "TrZn5SU-CjQW"
      },
      "outputs": [],
      "source": [
        "spark.conf.set(\"spark.sql.legacy.allowCreatingManagedTableUsingNonemptyLocation\",\"true\")\n",
        "\n",
        "out.write.saveAsTable(\"pitch_control_2_\"+str(team_a_lower)+\"_\"+str(opponent_lower)+\"_\"+str(half).replace(' ','_')+str(half_split)+\"_\"+str(player_in_possess), mode = 'overwrite') "
      ]
    },
    {
      "cell_type": "code",
      "execution_count": null,
      "metadata": {
        "id": "-IIbL8YXCjQW"
      },
      "outputs": [],
      "source": [
        "spark.conf.set(\"spark.sql.legacy.allowCreatingManagedTableUsingNonemptyLocation\",\"true\")\n",
        "\n",
        "area_targets_advance_pre_final_intercept.write.saveAsTable(\"kpis_marcature_\"+str(team_a_lower)+\"_\"+str(opponent_lower)+\"_\"+str(half).replace(' ','_')+str(half_split)+\"_\"+str(player_in_possess), mode = 'overwrite') "
      ]
    },
    {
      "cell_type": "code",
      "execution_count": null,
      "metadata": {
        "id": "xgMFQsoOCjQW"
      },
      "outputs": [],
      "source": [
        "str(half).replace(' ','_')+str(half_split)"
      ]
    },
    {
      "cell_type": "code",
      "execution_count": null,
      "metadata": {
        "id": "e9nx2-hqCjQW"
      },
      "outputs": [],
      "source": [
        "'''\n",
        "# area_value\n",
        "area_targets_advance_pre_final_area_value = area_targets_advance_pre_final.groupBy('player_id','time').agg(func.avg('area_value'),func.max('area_value')).withColumnRenamed('avg(area_value)','avg').withColumnRenamed('max(area_value)','max').withColumn('kpi', lit('area_value'))\n",
        "area_targets_advance_pre_final_area_value = area_targets_advance_pre_final_area_value.withColumn('area_value_index', func.log((1+(0.45*area_targets_advance_pre_final_area_value['avg']+0.55*area_targets_advance_pre_final_area_value['max']))/area_targets_advance_pre_final_area_value['avg'])).select('player_id','time','area_value_index')\n",
        "# opponents_cut\n",
        "area_targets_advance_pre_final_opponents_cut = area_targets_advance_pre_final.groupBy('player_id','time').agg(func.avg('opponents_cut'),func.max('opponents_cut')).withColumnRenamed('avg(opponents_cut)','avg').withColumnRenamed('max(opponents_cut)','max').withColumn('kpi', lit('opponents_cut'))\n",
        "area_targets_advance_pre_final_opponents_cut = area_targets_advance_pre_final_opponents_cut.withColumn('opponents_cut_index', func.log((1+(0.45*area_targets_advance_pre_final_opponents_cut['avg']+0.55*area_targets_advance_pre_final_opponents_cut['max']))/area_targets_advance_pre_final_opponents_cut['avg'])).select('player_id','time','opponents_cut_index')\n",
        "# percentage_zone_in_control\n",
        "area_targets_advance_pre_final_percentage_zone_in_control = area_targets_advance_pre_final.groupBy('player_id','time').agg(func.avg('percentage_zone_in_control'),func.max('percentage_zone_in_control')).withColumnRenamed('avg(percentage_zone_in_control)','avg').withColumnRenamed('max(percentage_zone_in_control)','max').withColumn('kpi', lit('percentage_zone_in_control'))\n",
        "area_targets_advance_pre_final_percentage_zone_in_control = area_targets_advance_pre_final_percentage_zone_in_control.withColumn('percentage_zone_in_control_index', func.log((1+(0.45*area_targets_advance_pre_final_percentage_zone_in_control['avg']+0.55*area_targets_advance_pre_final_percentage_zone_in_control['max']))/area_targets_advance_pre_final_percentage_zone_in_control['avg'])).select('player_id','time','percentage_zone_in_control_index')\n",
        "# team_advancement\n",
        "area_targets_advance_pre_final_team_advancement = area_targets_advance_pre_final.groupBy('player_id','time').agg(func.avg('team_advancement'),func.max('team_advancement')).withColumnRenamed('avg(team_advancement)','avg').withColumnRenamed('max(team_advancement)','max').withColumn('kpi', lit('team_advancement'))\n",
        "area_targets_advance_pre_final_team_advancement = area_targets_advance_pre_final_team_advancement.withColumn('team_advancement_index', func.log((1+(0.45*area_targets_advance_pre_final_team_advancement['avg']+0.55*area_targets_advance_pre_final_team_advancement['max']))/area_targets_advance_pre_final_team_advancement['avg'])).select('player_id','time','team_advancement_index')\n",
        "# distance_from_target\n",
        "area_targets_advance_pre_final_distance_from_target = area_targets_advance_pre_final.groupBy('player_id','time').agg(func.avg('distance_from_target'),func.max('distance_from_target')).withColumnRenamed('avg(distance_from_target)','avg').withColumnRenamed('max(distance_from_target)','max').withColumn('kpi', lit('distance_from_target'))\n",
        "area_targets_advance_pre_final_distance_from_target = area_targets_advance_pre_final_distance_from_target.withColumn('distance_from_target_index', func.log((1+(0.45*area_targets_advance_pre_final_distance_from_target['avg']+0.55*area_targets_advance_pre_final_distance_from_target['max']))/area_targets_advance_pre_final_distance_from_target['avg'])).select('player_id','time','distance_from_target_index')\n",
        "# probability\n",
        "area_targets_advance_pre_final_probability = area_targets_advance_pre_final.groupBy('player_id','time').agg(func.avg('probability'),func.max('probability')).withColumnRenamed('avg(probability)','avg').withColumnRenamed('max(probability)','max').withColumn('kpi', lit('probability'))\n",
        "area_targets_advance_pre_final_probability = area_targets_advance_pre_final_probability.withColumn('probability_index', func.log((1+(0.45*area_targets_advance_pre_final_probability['avg']+0.55*area_targets_advance_pre_final_probability['max']))/area_targets_advance_pre_final_probability['avg'])).select('player_id','time','probability_index')\n",
        "# ball_distance\n",
        "area_targets_advance_pre_final_ball_distance = area_targets_advance_pre_final.groupBy('player_id','time').agg(func.avg('ball_distance'),func.max('ball_distance')).withColumnRenamed('avg(ball_distance)','avg').withColumnRenamed('max(ball_distance)','max').withColumn('kpi', lit('ball_distance'))\n",
        "area_targets_advance_pre_final_ball_distance = area_targets_advance_pre_final_ball_distance.withColumn('ball_distance_index', func.log((1+(0.45*area_targets_advance_pre_final_ball_distance['avg']+0.55*area_targets_advance_pre_final_ball_distance['max']))/area_targets_advance_pre_final_ball_distance['avg'])).select('player_id','time','ball_distance_index')\n",
        "\n",
        "kpis = area_targets_advance_pre_final_area_value.join(area_targets_advance_pre_final_opponents_cut, ['player_id','time']).join(area_targets_advance_pre_final_percentage_zone_in_control, ['player_id','time']).join(area_targets_advance_pre_final_team_advancement, ['player_id','time']).join(area_targets_advance_pre_final_distance_from_target, ['player_id','time']).join(area_targets_advance_pre_final_probability, ['player_id','time']).join(area_targets_advance_pre_final_ball_distance, ['player_id','time'])\n",
        "'''"
      ]
    }
  ],
  "metadata": {
    "application/vnd.databricks.v1+notebook": {
      "dashboards": [],
      "language": "python",
      "notebookMetadata": {
        "pythonIndentUnit": 2
      },
      "notebookName": "pitch control acm_marcature2",
      "notebookOrigID": 2181076884138504,
      "widgets": {
        "half": {
          "currentValue": "second half",
          "nuid": "9100d9ab-5d86-465a-b50c-ec6757f5f609",
          "widgetInfo": {
            "defaultValue": "",
            "label": "half",
            "name": "half",
            "options": {
              "validationRegex": null,
              "widgetType": "text"
            },
            "widgetType": "text"
          }
        },
        "half_split": {
          "currentValue": "2",
          "nuid": "11e656a7-c134-42c7-b645-826188b251ec",
          "widgetInfo": {
            "defaultValue": "",
            "label": "half_split",
            "name": "half_split",
            "options": {
              "validationRegex": null,
              "widgetType": "text"
            },
            "widgetType": "text"
          }
        },
        "opponent": {
          "currentValue": "milan",
          "nuid": "15d4b4b6-3324-49c0-b37c-a3371f3ba3af",
          "widgetInfo": {
            "defaultValue": "",
            "label": "opponent",
            "name": "opponent",
            "options": {
              "validationRegex": null,
              "widgetType": "text"
            },
            "widgetType": "text"
          }
        },
        "player_in_possess": {
          "currentValue": "all",
          "nuid": "df09226f-9c1e-4c8d-b251-952429737c66",
          "widgetInfo": {
            "defaultValue": "",
            "label": "player_in_possess",
            "name": "player_in_possess",
            "options": {
              "validationRegex": null,
              "widgetType": "text"
            },
            "widgetType": "text"
          }
        },
        "team": {
          "currentValue": "cagliari",
          "nuid": "152ca9c4-2757-43d1-8484-46be149a2b90",
          "widgetInfo": {
            "defaultValue": "team",
            "label": null,
            "name": "team",
            "options": {
              "validationRegex": null,
              "widgetType": "text"
            },
            "widgetType": "text"
          }
        }
      }
    },
    "colab": {
      "name": "pitch control acm_marcature2.ipynb",
      "provenance": [],
      "collapsed_sections": [],
      "include_colab_link": true
    },
    "kernelspec": {
      "display_name": "Python 3",
      "language": "python",
      "name": "python3"
    },
    "language_info": {
      "codemirror_mode": {
        "name": "ipython",
        "version": 3
      },
      "file_extension": ".py",
      "mimetype": "text/x-python",
      "name": "python",
      "nbconvert_exporter": "python",
      "pygments_lexer": "ipython3",
      "version": "3.7.6"
    },
    "name": "test_competitive_prob",
    "notebookId": 4095711113381694
  },
  "nbformat": 4,
  "nbformat_minor": 0
}